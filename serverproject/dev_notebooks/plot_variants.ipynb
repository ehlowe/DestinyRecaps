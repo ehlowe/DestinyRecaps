{
 "cells": [
  {
   "cell_type": "code",
   "execution_count": 1,
   "metadata": {},
   "outputs": [
    {
     "name": "stdout",
     "output_type": "stream",
     "text": [
      "d:\\DestinyFolder\\DestinyRecaps\\DestinyRecapsApi\\serverproject\n"
     ]
    }
   ],
   "source": [
    "# DIRECTORY SET\n",
    "import os\n",
    "import sys\n",
    "from pathlib import Path\n",
    "base_dir=Path(os.getcwd()).parent\n",
    "os.chdir(base_dir)\n",
    "print(os.getcwd())\n",
    "\n",
    "# Load dotenv\n",
    "import dotenv\n",
    "dotenv.load_dotenv()\n",
    "\n",
    "# DJANGO SETUP\n",
    "import django\n",
    "sys.path.append(os.path.abspath(''))\n",
    "os.environ.setdefault(\"DJANGO_SETTINGS_MODULE\", \"serverproject.settings\")\n",
    "django.setup()\n",
    "\n",
    "# Import async modules\n",
    "import asyncio\n",
    "from asgiref.sync import sync_to_async\n",
    "\n",
    "# Import display modules\n",
    "from IPython.display import display, Markdown\n",
    "\n",
    "# Import other modules\n",
    "import faiss\n",
    "\n",
    "# import reloading\n",
    "from importlib import reload"
   ]
  },
  {
   "cell_type": "code",
   "execution_count": 2,
   "metadata": {},
   "outputs": [],
   "source": [
    "%load_ext autoreload\n",
    "%autoreload 2\n",
    "\n",
    "from destinyapp.models import StreamRecapData\n",
    "\n",
    "from core import services\n",
    "from core import utils"
   ]
  },
  {
   "cell_type": "code",
   "execution_count": null,
   "metadata": {},
   "outputs": [],
   "source": [
    "video_id=\"n4L4Z0Kx004\"\n",
    "cost=0.0"
   ]
  },
  {
   "cell_type": "code",
   "execution_count": null,
   "metadata": {},
   "outputs": [],
   "source": [
    "stream_recap_data=await utils.get_recap_data(video_id)"
   ]
  },
  {
   "cell_type": "code",
   "execution_count": null,
   "metadata": {},
   "outputs": [],
   "source": [
    "annotated_results, major_topics, minor_topics, temp_cost = await services.stream_plot.generate_data(stream_recap_data)"
   ]
  },
  {
   "cell_type": "code",
   "execution_count": null,
   "metadata": {},
   "outputs": [],
   "source": [
    "system_prompt=\"\"\"Take the annotated segments from the user and break down the segments into a few major topics and minor topics. Format the response as follows:\n",
    "\n",
    "Main Topics:\n",
    "Category: 'Category' | Context: context\n",
    "...\n",
    "\n",
    "Minor topics:\n",
    "- 'minor topic'\n",
    "...\n",
    "\n",
    "\"\"\"\n",
    "\n",
    "user_prompt=\"Here are all the annotationed segments:\\n\"+annotations_segemnts_str\n",
    "\n",
    "prompt=[{\"role\":\"system\", \"content\":system_prompt}, {\"role\":\"user\", \"content\":user_prompt}]"
   ]
  },
  {
   "cell_type": "code",
   "execution_count": null,
   "metadata": {},
   "outputs": [],
   "source": [
    "annotations_segemnts_str=\"\"\n",
    "\n",
    "for i, annoation_result in enumerate(annotated_results):\n",
    "    annotations_segemnts_str+=\"Segment: \"+str(i)+\": \"+annoation_result[\"annotation\"]+\"\\n\"\n",
    "len(annotations_segemnts_str)"
   ]
  },
  {
   "cell_type": "code",
   "execution_count": null,
   "metadata": {},
   "outputs": [],
   "source": [
    "topic_annotations_str2, cost=await utils.async_response_handler(\n",
    "    prompt,\n",
    "    utils.ModelNameEnum.claude_3_5_sonnet\n",
    ")"
   ]
  },
  {
   "cell_type": "code",
   "execution_count": null,
   "metadata": {},
   "outputs": [],
   "source": [
    "print(topic_annotations_str2)\n"
   ]
  },
  {
   "cell_type": "code",
   "execution_count": null,
   "metadata": {},
   "outputs": [],
   "source": [
    "plot_object, annotated_results, plot_segments, category_locations = await services.stream_plot.process_data(stream_recap_data,  annotated_results, major_topics, minor_topics, video_id)"
   ]
  },
  {
   "cell_type": "code",
   "execution_count": null,
   "metadata": {},
   "outputs": [],
   "source": [
    "plot_object, temp_cost=await services.stream_plot.annotate_extra(video_id, stream_recap_data, plot_object)  "
   ]
  },
  {
   "cell_type": "markdown",
   "metadata": {},
   "source": [
    "# Data Gen Variant part"
   ]
  },
  {
   "cell_type": "code",
   "execution_count": 3,
   "metadata": {},
   "outputs": [],
   "source": [
    "from core.services.stream_plot import data_gen\n",
    "video_id=\"n4L4Z0Kx004\"\n",
    "stream_recap_data=await utils.get_recap_data(video_id)"
   ]
  },
  {
   "cell_type": "code",
   "execution_count": 4,
   "metadata": {},
   "outputs": [
    {
     "name": "stdout",
     "output_type": "stream",
     "text": [
      "Cost:  0.004821000000000001\n",
      "Cost:  0.021945\n",
      "Cost:  0.027003\n",
      "Cost:  0.027963000000000002\n",
      "Cost:  0.028983000000000002\n",
      "Cost:  0.030279\n",
      "Cost:  0.030786\n",
      "Cost:  0.028053\n",
      "Cost:  0.030447000000000002\n",
      "Results:  20\n",
      "Results:  20\n",
      "Results:  20\n",
      "Results:  20\n",
      "Results:  20\n",
      "Results:  20\n",
      "Results:  20\n",
      "Results:  16\n"
     ]
    }
   ],
   "source": [
    "cost=0\n",
    "text_chunks_no_overlap = await data_gen.create_text_chunks(stream_recap_data.transcript, 0)\n",
    "\n",
    "text_chunk_batches = await data_gen.generate_text_chunk_batches(text_chunks_no_overlap)\n",
    "\n",
    "topic_annotations_str, temp_cost = await data_gen.annotate_major_minor_topics(stream_recap_data.recap)\n",
    "cost+=temp_cost\n",
    "major_topics, minor_topics = data_gen.process_topic_annotations_str(topic_annotations_str)\n",
    "\n",
    "responses, annotated_results, temp_cost = await data_gen.annotate_all_batches_no_recap(text_chunk_batches)\n",
    "cost+=temp_cost"
   ]
  },
  {
   "cell_type": "code",
   "execution_count": 5,
   "metadata": {},
   "outputs": [],
   "source": [
    "annotated_results_str=\"\"\n",
    "for ar in annotated_results:\n",
    "    annotated_results_str+=ar[\"category\"]+\": \"+ar[\"annotation\"]+\"\\n\"\n",
    "\n",
    "annotations_segments_str=\"\"\n",
    "for i, annotation_result in enumerate(annotated_results):\n",
    "    annotations_segments_str+=\"Segment: \"+str(i)+\": \"+annotation_result[\"annotation\"]+\"\\n\""
   ]
  },
  {
   "cell_type": "code",
   "execution_count": 6,
   "metadata": {},
   "outputs": [],
   "source": [
    "system_prompt=\"\"\"Take the annotated segments from the user and break down the segments into a few major topics and minor topics. These should be specific and explicit. Format the response as follows:\n",
    "\n",
    "Main Topics:\n",
    "Category: 'Category' | Context: context\n",
    "...\n",
    "\n",
    "Minor topics:\n",
    "- 'minor topic'\n",
    "...\n",
    "\n",
    "The context should be 1 detailed sentence.\n",
    "\"\"\"\n",
    "\n",
    "user_prompt=\"Here are all the annotationed segments:\\n\"+annotated_results_str#annotations_segments_str\n",
    "\n",
    "prompt=[{\"role\":\"system\", \"content\":system_prompt}, {\"role\":\"user\", \"content\":user_prompt}]\n",
    "\n",
    "topic_annotations_str, temp_cost=await utils.async_response_handler(\n",
    "    prompt,\n",
    "    utils.ModelNameEnum.claude_3_5_sonnet\n",
    ")"
   ]
  },
  {
   "cell_type": "code",
   "execution_count": null,
   "metadata": {},
   "outputs": [],
   "source": [
    "system_prompt=\"\"\"Take the annotated segments from the user and break down the segments into a few major topics and minor topics. These should be specific and explicit. Format the response as follows:\n",
    "\n",
    "Main Topics:\n",
    "Category: 'Category' | Context: context\n",
    "...\n",
    "\n",
    "Minor topics:\n",
    "- 'minor topic'\n",
    "...\n",
    "\n",
    "The context should be 1 detailed sentence.\n",
    "\"\"\"\n",
    "\n",
    "user_prompt=\"Here are all the annotationed segments:\\n\"+annotated_results_str#annotations_segments_str\n",
    "\n",
    "prompt=[{\"role\":\"system\", \"content\":system_prompt}, {\"role\":\"user\", \"content\":user_prompt}]\n",
    "\n",
    "topic_annotations_str, temp_cost=await utils.async_response_handler(\n",
    "    prompt,\n",
    "    utils.ModelNameEnum.claude_3_5_sonnet\n",
    ")"
   ]
  },
  {
   "cell_type": "code",
   "execution_count": 7,
   "metadata": {},
   "outputs": [
    {
     "name": "stdout",
     "output_type": "stream",
     "text": [
      "Main Topics:\n",
      "Category: Mental Health | Context: Dr. Alok Kanojia, a psychiatrist, discusses various mental health topics including stress management, ADHD, work-life balance, and self-improvement strategies.\n",
      "\n",
      "Category: Personal Development | Context: The conversation explores topics such as decision-making, self-worth, motivation, and developing self-compassion through various psychological and practical approaches.\n",
      "\n",
      "Category: Neuroscience | Context: The discussion delves into brain health, the impact of lifestyle on cognitive function, and the neurological basis of emotions and social connections.\n",
      "\n",
      "Category: Work-Life Balance | Context: The conversation addresses the challenges of managing stress, workaholic tendencies, and finding balance between productivity and relaxation, especially for entrepreneurs and individuals with ADHD.\n",
      "\n",
      "Minor topics:\n",
      "- Crisis support resources\n",
      "- Humor and social dynamics\n",
      "- Parental influence on behavior\n",
      "- Genetic factors in personality traits\n",
      "- Breathing exercises and meditation techniques\n",
      "- Laziness and productivity\n",
      "- Evolutionary perspectives on behavior\n",
      "- Emotional regulation\n",
      "- Transcendent compassion\n",
      "- ADHD management strategies\n",
      "- Social belonging and identity\n",
      "- Benefits of solitude\n"
     ]
    }
   ],
   "source": [
    "print(topic_annotations_str)"
   ]
  },
  {
   "cell_type": "code",
   "execution_count": 8,
   "metadata": {},
   "outputs": [
    {
     "name": "stdout",
     "output_type": "stream",
     "text": [
      "0.23028\n"
     ]
    }
   ],
   "source": [
    "print(cost)"
   ]
  },
  {
   "cell_type": "code",
   "execution_count": 9,
   "metadata": {},
   "outputs": [
    {
     "name": "stdout",
     "output_type": "stream",
     "text": [
      "['Mental Health', 'Personal Development', 'Neuroscience', 'Work-Life Balance']\n",
      "['- Crisis support resources', 'Humor and social dynamics', 'Parental influence on behavior', 'Genetic factors in personality traits', 'Breathing exercises and meditation techniques', 'Laziness and productivity', 'Evolutionary perspectives on behavior', 'Emotional regulation', 'Transcendent compassion', 'ADHD management strategies', 'Social belonging and identity', 'Benefits of solitude']\n"
     ]
    }
   ],
   "source": [
    "temp_annotation_list=topic_annotations_str.split(\"Category: \")\n",
    "major_topics=[]\n",
    "for temp_annotation in temp_annotation_list:\n",
    "    if \" | Context:\" in temp_annotation:\n",
    "        major_topic=temp_annotation.split(\" | Context:\")[0].strip()\n",
    "        # get rid of ' if it starts and ends with that\n",
    "        if major_topic[0]==\"'\" and major_topic[-1]==\"'\":\n",
    "            major_topic=major_topic[1:-1]\n",
    "\n",
    "        major_topics.append(major_topic)\n",
    "\n",
    "minor_topics=[]\n",
    "if \"Minor Topics:\" in topic_annotations_str:\n",
    "    temp_minor_topics=topic_annotations_str.split(\"Minor Topics:\\n\")[-1].split(\"\\n- \")\n",
    "elif \"Minor topics:\" in topic_annotations_str:\n",
    "    temp_minor_topics=topic_annotations_str.split(\"Minor topics:\\n\")[-1].split(\"\\n- \")\n",
    "for i in range(len(temp_minor_topics)):\n",
    "    minor_topic=temp_minor_topics[i].strip()\n",
    "    if minor_topic!=\"\":\n",
    "        minor_topics.append(minor_topic)\n",
    "\n",
    "print(major_topics)\n",
    "print(minor_topics)"
   ]
  },
  {
   "cell_type": "code",
   "execution_count": 10,
   "metadata": {},
   "outputs": [
    {
     "name": "stdout",
     "output_type": "stream",
     "text": [
      "Cost:  0.023292\n",
      "Cost:  0.027387\n",
      "Cost:  0.031020000000000002\n",
      "Cost:  0.030237\n",
      "Cost:  0.033393000000000006\n",
      "Cost:  0.034212\n",
      "Cost:  0.036552\n",
      "Cost:  0.036291000000000004\n",
      "Results:  20\n",
      "Results:  20\n",
      "Results:  20\n",
      "Results:  20\n",
      "Results:  20\n",
      "Results:  20\n",
      "Results:  20\n",
      "Results:  16\n"
     ]
    }
   ],
   "source": [
    "# run it back with new topics\n",
    "text_chunks_no_overlap = await data_gen.create_text_chunks(stream_recap_data.transcript, 0)\n",
    "\n",
    "text_chunk_batches = await data_gen.generate_text_chunk_batches(text_chunks_no_overlap)\n",
    "\n",
    "# topic_annotations_str, temp_cost = await data_gen.annotate_major_minor_topics(stream_recap_data.recap)\n",
    "# cost+=temp_cost\n",
    "# major_topics, minor_topics = data_gen.process_topic_annotations_str(topic_annotations_str)\n",
    "\n",
    "responses, annotated_results, temp_cost = await data_gen.annotate_all_batches(text_chunk_batches, topic_annotations_str)\n",
    "cost+=temp_cost"
   ]
  },
  {
   "cell_type": "markdown",
   "metadata": {},
   "source": [
    "# Proceeding to plot"
   ]
  },
  {
   "cell_type": "code",
   "execution_count": 11,
   "metadata": {},
   "outputs": [],
   "source": [
    "plot_object, annotated_results, plot_segments, category_locations = await services.stream_plot.process_data(stream_recap_data,  annotated_results, major_topics, minor_topics, video_id)"
   ]
  },
  {
   "cell_type": "code",
   "execution_count": null,
   "metadata": {},
   "outputs": [],
   "source": [
    "plot_object, temp_cost=await services.stream_plot.annotate_extra(video_id, stream_recap_data, plot_object)  "
   ]
  },
  {
   "cell_type": "code",
   "execution_count": 12,
   "metadata": {},
   "outputs": [],
   "source": [
    "# save plot object to the database\n",
    "from dataclasses import dataclass, asdict, is_dataclass\n",
    "stream_recap_data.plot_object=asdict(plot_object)\n",
    "await sync_to_async(stream_recap_data.save)()"
   ]
  },
  {
   "cell_type": "code",
   "execution_count": null,
   "metadata": {},
   "outputs": [],
   "source": [
    "plot_object.abstractions"
   ]
  }
 ],
 "metadata": {
  "kernelspec": {
   "display_name": "env",
   "language": "python",
   "name": "python3"
  },
  "language_info": {
   "codemirror_mode": {
    "name": "ipython",
    "version": 3
   },
   "file_extension": ".py",
   "mimetype": "text/x-python",
   "name": "python",
   "nbconvert_exporter": "python",
   "pygments_lexer": "ipython3",
   "version": "3.11.3"
  }
 },
 "nbformat": 4,
 "nbformat_minor": 2
}
