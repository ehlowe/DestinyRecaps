{
 "cells": [
  {
   "cell_type": "code",
   "execution_count": 1,
   "metadata": {},
   "outputs": [
    {
     "name": "stdout",
     "output_type": "stream",
     "text": [
      "d:\\DestinyFolder\\DestinyRecaps\\DestinyRecapsApi\\serverproject\n"
     ]
    }
   ],
   "source": [
    "# DIRECTORY SET\n",
    "import os\n",
    "import sys\n",
    "from pathlib import Path\n",
    "base_dir=Path(os.getcwd()).parent\n",
    "os.chdir(base_dir)\n",
    "print(os.getcwd())\n",
    "\n",
    "# Load dotenv\n",
    "import dotenv\n",
    "dotenv.load_dotenv()\n",
    "\n",
    "# DJANGO SETUP\n",
    "import django\n",
    "sys.path.append(os.path.abspath(''))\n",
    "os.environ.setdefault(\"DJANGO_SETTINGS_MODULE\", \"serverproject.settings\")\n",
    "django.setup()\n",
    "\n",
    "# Import async modules\n",
    "import asyncio\n",
    "from asgiref.sync import sync_to_async\n",
    "\n",
    "# Import display modules\n",
    "from IPython.display import display, Markdown\n",
    "\n",
    "# Import other modules\n",
    "import faiss\n",
    "\n",
    "# import reloading\n",
    "from importlib import reload"
   ]
  },
  {
   "cell_type": "code",
   "execution_count": 2,
   "metadata": {},
   "outputs": [],
   "source": [
    "%load_ext autoreload\n",
    "%autoreload 2\n",
    "\n",
    "from destinyapp.models import StreamRecapData\n",
    "\n",
    "from core import services\n",
    "from core import utils\n",
    "from core import controller"
   ]
  },
  {
   "cell_type": "code",
   "execution_count": 10,
   "metadata": {},
   "outputs": [],
   "source": [
    "video_id=\"CXdbjh1yzt0\"\n",
    "stream_recap_data_control=await utils.get_recap_data(video_id)"
   ]
  },
  {
   "cell_type": "code",
   "execution_count": 6,
   "metadata": {},
   "outputs": [],
   "source": [
    "video_id=\"fTcS6FFa4PA\"\n",
    "stream_recap_data=await utils.get_recap_data(video_id)"
   ]
  },
  {
   "cell_type": "code",
   "execution_count": null,
   "metadata": {},
   "outputs": [],
   "source": [
    "controller.StreamPlotController"
   ]
  },
  {
   "cell_type": "code",
   "execution_count": 14,
   "metadata": {},
   "outputs": [
    {
     "data": {
      "text/plain": [
       "{'minor topics': {'width': 0.3299149487242309,\n",
       "  'color': 'yellow',\n",
       "  'x': 0.3047034953233754,\n",
       "  'y': 0.55,\n",
       "  'size': 0.1948764464499544,\n",
       "  'recap': 'Destiny shares his investment status, likening it to Super Saiyan transformations. He defends Crowdstrike and Nvidia, critiques AMD chips, and seeks advice on the 9950X. The conversation shifts to tech advancements, medication preferences, and frustrations with outdated hardware, gaming setbacks, and inefficient real-world tasks like banking and car maintenance.'},\n",
       " 'Sound physics deep dive': {'width': 0.12754191312869695,\n",
       "  'color': 'purple',\n",
       "  'x': 0.6746545305496431,\n",
       "  'y': 0.55,\n",
       "  'size': 0.15142602134480038,\n",
       "  'recap': \"The video dives into sound physics, exploring sound illusions and perception. It compares two sounds, A and B, despite identical frequencies, highlighting overtones and timbre's role. The discussion also covers pipe instruments, emphasizing how material affects timbre and the impact of low frequencies, like those from a 64-foot pipe organ.\"},\n",
       " 'non categorized': {'width': 0.26897903468552037,\n",
       "  'color': 'black',\n",
       "  'x': None,\n",
       "  'y': None,\n",
       "  'size': None,\n",
       "  'recap': 'The speaker covers various topics, including ADHD challenges, stimulant medications, and personal experiences with motivation. They also discuss shoe classifications, U.S. government structures, military strategies, and economic theories. The conversation blends humor with serious reflections on political ideologies, military history, and current events, showcasing a chaotic yet insightful dialogue.'},\n",
       " 'Political predictions analysis': {'width': 0.04371565573483602,\n",
       "  'color': 'orange',\n",
       "  'x': 0.1109082892018539,\n",
       "  'y': 0.7,\n",
       "  'size': 0.1218165784037078,\n",
       "  'recap': 'The analysis covers the U.S. executive branch\\'s structure, emphasizing cabinet roles and the vice president\\'s evolving influence. It critiques political figures and campaigns, highlighting grassroots reform efforts like \"Roadmap 2028.\" The discussion also touches on economic policies, election integrity, and the need for narrative coherence in political messaging.'},\n",
       " 'January 6th documentary insights': {'width': 0.17717265758986386,\n",
       "  'color': 'green',\n",
       "  'x': 0.8679081174583668,\n",
       "  'y': 0.7,\n",
       "  'size': 0.16418376508326624,\n",
       "  'recap': \"The documentary explores the January 6th events, focusing on Trump's inaction and the influence of Mark Meadows. It critiques Trump's delay in responding, highlights false claims of election fraud, and emphasizes emotional storytelling. Key elements include video evidence, the timeline of events, and the significance of Pence's narrative in the political landscape.\"},\n",
       " 'Economic policy critique': {'width': 0.05267579013685206,\n",
       "  'color': 'blue',\n",
       "  'x': 0.5005416192127977,\n",
       "  'y': 0.7,\n",
       "  'size': 0.12590241393950957,\n",
       "  'recap': \"The speaker critiques economic policies, emphasizing Christian nationalism and Project 2025's conservative agenda. They express concerns over Biden and Harris's management, questioning their effectiveness against inflation. The critique extends to military aid spending, price controls, and the influence of the Heritage Foundation, highlighting potential risks of government intervention in the economy.\"}}"
      ]
     },
     "execution_count": 14,
     "metadata": {},
     "output_type": "execute_result"
    }
   ],
   "source": [
    "stream_recap_data_control.plot_object[\"abstractions\"]"
   ]
  },
  {
   "cell_type": "code",
   "execution_count": 15,
   "metadata": {},
   "outputs": [
    {
     "data": {
      "text/plain": [
       "{'non categorized': {'width': 44.04065040650406,\n",
       "  'color': 'black',\n",
       "  'x': None,\n",
       "  'y': None,\n",
       "  'size': None,\n",
       "  'recap': \"The discussion covers various contentious topics, including drug addiction, systemic racism, and political discourse. Participants engage in heated debates, questioning each other's integrity and motivations. Destiny emphasizes the importance of context in discussions, while also reflecting on personal experiences and societal implications, showcasing the complexity of modern conversations.\"},\n",
       " 'Political Discourse and Rhetoric': {'width': 57.439024390243915,\n",
       "  'color': 'blue',\n",
       "  'x': 0.5848029511600893,\n",
       "  'y': 0.55,\n",
       "  'size': 1.5957707529866636,\n",
       "  'recap': \"The discussion revolves around political discourse, focusing on critiques of debate prompts regarding democracy and Trump. Participants express frustration over miscommunication and differing interpretations. Destiny challenges extreme claims about democracy's threat, while others emphasize accountability in political rhetoric. The conversation highlights the complexities of engaging with diverse viewpoints.\"},\n",
       " \"Democracy's Future\": {'width': 14.772357723577235,\n",
       "  'color': 'green',\n",
       "  'x': 0.10034792351737531,\n",
       "  'y': 0.55,\n",
       "  'size': 0.8486964998899692,\n",
       "  'recap': \"The discussion critically examines the future of democracy, particularly in light of Trump's actions and rhetoric. Participants debate the legitimacy of differing interpretations of democracy, historical context, and the implications of potential threats. Tensions rise as they confront issues of election integrity, voter fraud claims, and the role of elected officials in upholding democratic norms.\"},\n",
       " 'Epistemology and Truth': {'width': 33.47154471544715,\n",
       "  'color': 'orange',\n",
       "  'x': 0.15580687406455873,\n",
       "  'y': 0.7,\n",
       "  'size': 1.2370919533977782,\n",
       "  'recap': 'The discussion explores the complexities of truth and epistemology, emphasizing the subjective nature of understanding. Participants debate the interplay between objective facts and personal interpretation, critiquing the oversimplification of concepts like democracy and gender. They highlight the importance of context, social constructs, and the implications of selective truth in shaping perceptions.'},\n",
       " 'minor topics': {'width': 7.113821138211382,\n",
       "  'color': 'yellow',\n",
       "  'x': 0.3567174748345404,\n",
       "  'y': 0.7,\n",
       "  'size': 0.6134349496690812,\n",
       "  'recap': 'The discussion covers two minor topics: Alvin Bragg\\'s politically charged statements and the \"Battle of the Bastards\" episode from Game of Thrones. Bragg\\'s claims are debated for their accuracy, while the show\\'s character arcs and writing quality are critiqued. Destiny highlights ongoing threats in the series, expressing frustration over losses.'},\n",
       " 'Gender and Sex Terminology': {'width': 18.536585365853657,\n",
       "  'color': 'purple',\n",
       "  'x': 0.865794401090706,\n",
       "  'y': 0.7,\n",
       "  'size': 0.9410826990679504,\n",
       "  'recap': 'A heated debate on gender and sex terminology unfolded, focusing on the definition of \"woman.\" Destiny argued for a nominalist view, emphasizing identity over biological definitions. The discussion highlighted the complexity of gender constructs, societal perceptions, and the evolution of language, challenging rigid definitions and advocating for broader interpretations beyond biology.'},\n",
       " 'Political Extremism and Violence': {'width': 6.788617886178861,\n",
       "  'color': 'red',\n",
       "  'x': 0.649450237263996,\n",
       "  'y': 0.55,\n",
       "  'size': 0.6010995254720104,\n",
       "  'recap': \"The speaker critiques a Supreme Court ruling favoring Trump, arguing it undermines accountability. They discuss election monitoring by Trump supporters, condemning intimidation at polling places. Rusty Bowers' testimony highlights election obstruction. The conversation also contrasts political violence, with claims of bias in condemning right-wing versus left-wing actions, and critiques figures like Candice Owens.\"}}"
      ]
     },
     "execution_count": 15,
     "metadata": {},
     "output_type": "execute_result"
    }
   ],
   "source": [
    "stream_recap_data.plot_object[\"abstractions\"]"
   ]
  },
  {
   "cell_type": "markdown",
   "metadata": {},
   "source": [
    "# Redo to see if it gets the same results"
   ]
  },
  {
   "cell_type": "code",
   "execution_count": 28,
   "metadata": {},
   "outputs": [
    {
     "name": "stdout",
     "output_type": "stream",
     "text": [
      "Cost:  0.006567\n",
      "Cost:  0.0020815\n",
      "Cost:  0.002211\n",
      "Cost:  0.0025345000000000003\n",
      "Cost:  0.00235\n",
      "Cost:  0.00245025\n",
      "Cost:  0.002461\n",
      "Cost:  0.0025035\n",
      "Cost:  0.00248125\n",
      "Cost:  0.0025434999999999998\n",
      "Cost:  0.002545\n",
      "Cost:  0.00299425\n",
      "Cost:  0.00228775\n",
      "Cost:  0.00223225\n",
      "Cost:  0.0024575\n",
      "Cost:  0.002731\n",
      "Cost:  0.0027357500000000003\n",
      "Cost:  0.00256525\n",
      "Cost:  0.002495\n",
      "Results:  20\n",
      "Results:  20\n",
      "Results:  20\n",
      "Results:  20\n",
      "Results:  20\n",
      "Results:  20\n",
      "Results:  20\n",
      "Results:  20\n",
      "Results:  20\n",
      "Results:  20\n",
      "Results:  20\n",
      "Results:  20\n",
      "Results:  20\n",
      "Results:  20\n",
      "Results:  19 Text Chunks:  20  Returning blank equal to text chunks length\n",
      "Results:  20\n",
      "Results:  20\n",
      "Results:  18\n",
      "Counters:  [132, 62]\n"
     ]
    }
   ],
   "source": [
    "cost=0\n",
    "annotated_results, major_topics, minor_topics, temp_cost = await services.stream_plot.generate_data(stream_recap_data)\n",
    "cost+=temp_cost\n",
    "\n",
    "plot_object, annotated_results, plot_segments, category_locations = await services.stream_plot.process_data(stream_recap_data,  annotated_results, major_topics, minor_topics, video_id)\n",
    "\n",
    "plot_object, temp_cost=await services.stream_plot.annotate_extra(video_id, stream_recap_data, plot_object)  \n",
    "cost+=temp_cost"
   ]
  },
  {
   "cell_type": "code",
   "execution_count": 30,
   "metadata": {},
   "outputs": [],
   "source": [
    "# save plot object to the database\n",
    "from dataclasses import asdict\n",
    "stream_recap_data.plot_object=asdict(plot_object)\n",
    "await sync_to_async(stream_recap_data.save)()"
   ]
  },
  {
   "cell_type": "code",
   "execution_count": 18,
   "metadata": {},
   "outputs": [
    {
     "name": "stdout",
     "output_type": "stream",
     "text": [
      "{'non categorized': Abstraction(width=39.86991869918698, color='black', x=None, y=None, size=None, recap='The discussion covers various contentious topics, including drug addiction, political debates, and gaming. Participants engage in heated exchanges about systemic racism, legal cases against Trump, and the complexities of abortion views. They also reflect on historical narratives, gaming strategies, and the importance of critical thinking in understanding truth and context.'), 'Political Discourse and Rhetoric': Abstraction(width=57.056910569105696, color='blue', x=0.3658934681493389, y=0.7, size=1.5907204978963607, recap='A heated political discourse unfolded, focusing on critiques within debates, particularly regarding Trump and democracy. Participants grappled with miscommunication, the integrity of claims, and the implications of rhetoric. Destiny challenged interpretations, emphasizing the need for clarity and accountability, while discussions on election integrity and the role of political figures intensified.'), \"Democracy's Future\": Abstraction(width=19.016260162601625, color='green', x=0.07002257181054805, y=0.55, size=0.9521527426454985, recap='The discussion revolves around the future of democracy, particularly in relation to Trump and his actions. Participants debate the legitimacy of differing interpretations of democracy, referencing historical threats like the Civil War. They also address election integrity, voter fraud claims, and the implications of political appointments, highlighting the fragility and complexity of democratic processes.'), 'Epistemology and Truth': Abstraction(width=27.658536585365848, color='orange', x=0.7516018319770801, y=0.55, size=1.1318276776233995, recap='The discussion explores the complexities of truth and epistemology, emphasizing the futility of correcting misinformation and the importance of context in legal interpretations. Destiny critiques the nature of perception, arguing that truth is shaped by interactions rather than inherent properties, while also addressing the implications of selective truths in political discourse.'), 'Political Extremism and Violence': Abstraction(width=10.02439024390244, color='red', x=0.5933868252282857, y=0.55, size=0.7132263495434296, recap=\"A heated debate emerged over political motivations behind felony charges against Trump. E claimed charges were politically driven, while Destiny questioned this logic. Discussions included Trump's legal immunity, electoral integrity, and the extremism of both political sides. The conversation also critiqued Candace Owens' influence and the challenges of engaging her audience.\"), 'minor topics': Abstraction(width=4.829268292682927, color='yellow', x=0.3097559622099688, y=0.7, size=0.5195119244199378, recap='The discussion covers two minor topics: democracy in the U.S. and the \"Battle of the Bastards\" episode from Game of Thrones. Participants debate subjective versus objective views on democracy, election legitimacy, and appointed officials. They also critique the battle\\'s execution and character development, particularly Jon Snow\\'s transformation post-season four.'), 'Gender and Sex Terminology': Abstraction(width=15.61788617886179, color='purple', x=0.7771446606226753, y=0.7, size=0.8703894275320689, recap='Destiny argues that a woman is defined by self-identification, challenging rigid definitions like \"adult human female.\" The discussion critiques conservative views, emphasizing gender as a social construct influenced by societal roles, not just biology. Participants explore the implications of these definitions on identity, societal norms, and medical decisions regarding gender.')}\n"
     ]
    }
   ],
   "source": [
    "print(plot_object.abstractions)"
   ]
  },
  {
   "cell_type": "code",
   "execution_count": 21,
   "metadata": {},
   "outputs": [
    {
     "data": {
      "text/plain": [
       "{'start_offset': 114, 'net_duration': 28571}"
      ]
     },
     "execution_count": 21,
     "metadata": {},
     "output_type": "execute_result"
    }
   ],
   "source": [
    "stream_recap_data_control.plot_object[\"time_normalization\"]"
   ]
  },
  {
   "cell_type": "code",
   "execution_count": 19,
   "metadata": {},
   "outputs": [
    {
     "data": {
      "text/plain": [
       "TimeNormalization(start_offset=22, net_duration=123)"
      ]
     },
     "execution_count": 19,
     "metadata": {},
     "output_type": "execute_result"
    }
   ],
   "source": [
    "plot_object.time_normalization"
   ]
  },
  {
   "cell_type": "code",
   "execution_count": 23,
   "metadata": {},
   "outputs": [
    {
     "data": {
      "text/plain": [
       "123"
      ]
     },
     "execution_count": 23,
     "metadata": {},
     "output_type": "execute_result"
    }
   ],
   "source": [
    "plot_object.segments[-1].end_time-plot_object.segments[0].start_time"
   ]
  },
  {
   "cell_type": "code",
   "execution_count": 26,
   "metadata": {},
   "outputs": [
    {
     "name": "stdout",
     "output_type": "stream",
     "text": [
      "21332 22\n"
     ]
    }
   ],
   "source": [
    "all_end_times=max([segment.end_time for segment in plot_object.segments])\n",
    "earliest_time=min([segment.start_time for segment in plot_object.segments])\n",
    "print(all_end_times, earliest_time)\n",
    "    "
   ]
  },
  {
   "cell_type": "code",
   "execution_count": 25,
   "metadata": {},
   "outputs": [
    {
     "data": {
      "text/plain": [
       "Segment(category='non categorized', color='black', start_time=21332, end_time=145, width=0.0, x=87.1260162601626, texts=[\"in the. Do you know what StarCraft is? \\n\\nD: Yes. \\n\\nDestiny: In StarCraft, there's a unit called Dark Templar. And it sounded like you named it after that unit, but you didn't. You just. I understand. I'm sorry. \\n\\nD: No, no. And I called her dark templar because she's engaging in the dark side of things. O what other reason? \\n\\nDestiny: C because she's black. \\n\\nD: Autistic. Only an autistic person would make that connection, surely. \\n\\nDestiny: Oh, shit. Okay. \\n\\nD: U okay. Appreciate the conversation. \\nI am not a Nazi, for what it's worth. And I feel like having to say that makes you. \\n\\nDestiny: You're good. All right. \\n\\nD: Less believable. But. But no. Appreciate it. \\n\\nDestiny: Yeah, anytime. \\nHave fun. Be carefulreciate it. Stay safe. Bye. \\n\\nD: Go. Spe peace. \\n\\nDestiny: Wow. Wowers. What a wowzers combo. That was cute. Okay. All right, listen. Tomorrow I'm gonna wake up early. It's gonna be a whole new day. It's gonna be amazing. I promise. \\nLove you all very much. Stay safe. Be careful\", '. \\n\\n'], annotations=['The conversation briefly veers into a discussion about League of Legends and StarCraft references, which does not appear to be directly relevant to the main topic.', 'The conversation concludes with Destiny and the other person parting ways.'], href='https://youtu.be/CXdbjh1yzt0?t=21332', recap=\"Destiny and D discuss StarCraft, specifically the Dark Templar unit. D clarifies the name's origin, linking it to a dark theme rather than race. Destiny acknowledges the misunderstanding. D asserts they aren't a Nazi, and they both express appreciation for the conversation. Destiny ends with positive remarks for the next day.\")"
      ]
     },
     "execution_count": 25,
     "metadata": {},
     "output_type": "execute_result"
    }
   ],
   "source": [
    "plot_object.segments[-1]"
   ]
  }
 ],
 "metadata": {
  "kernelspec": {
   "display_name": "env",
   "language": "python",
   "name": "python3"
  },
  "language_info": {
   "codemirror_mode": {
    "name": "ipython",
    "version": 3
   },
   "file_extension": ".py",
   "mimetype": "text/x-python",
   "name": "python",
   "nbconvert_exporter": "python",
   "pygments_lexer": "ipython3",
   "version": "3.11.3"
  }
 },
 "nbformat": 4,
 "nbformat_minor": 2
}
