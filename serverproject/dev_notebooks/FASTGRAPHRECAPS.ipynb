{
 "cells": [
  {
   "cell_type": "code",
   "execution_count": 3,
   "metadata": {},
   "outputs": [
    {
     "name": "stdout",
     "output_type": "stream",
     "text": [
      "d:\\DestinyFolder\\DestinyRecaps\\DestinyRecapsApi\n"
     ]
    }
   ],
   "source": [
    "# DIRECTORY SET\n",
    "import os\n",
    "import sys\n",
    "from pathlib import Path\n",
    "base_dir=Path(os.getcwd()).parent\n",
    "# os.chdir(os.path.join(base_dir, 'serverproject'))\n",
    "os.chdir(base_dir)\n",
    "print(os.getcwd())\n",
    "\n",
    "# Load dotenv\n",
    "import dotenv\n",
    "dotenv.load_dotenv()\n",
    "\n",
    "# DJANGO SETUP\n",
    "import django\n",
    "sys.path.append(os.path.abspath(''))\n",
    "os.environ.setdefault(\"DJANGO_SETTINGS_MODULE\", \"serverproject.settings\")\n",
    "django.setup()\n",
    "\n",
    "# Import async modules\n",
    "import asyncio\n",
    "from asgiref.sync import sync_to_async\n",
    "\n",
    "# Import display modules\n",
    "from IPython.display import display, Markdown\n",
    "\n",
    "# Import other modules\n",
    "import faiss\n",
    "\n",
    "# import reloading\n",
    "from importlib import reload"
   ]
  },
  {
   "cell_type": "code",
   "execution_count": 4,
   "metadata": {},
   "outputs": [
    {
     "name": "stdout",
     "output_type": "stream",
     "text": [
      "annotations :  0.0010106563568115234\n"
     ]
    }
   ],
   "source": [
    "times=[]\n",
    "import time\n",
    "t_topics=time.time()\n",
    "times.append({\"topics\":t_topics})\n",
    "t_annotations=time.time()\n",
    "times.append({\"annotations\":t_annotations})\n",
    "\n",
    "for i in range(1,len(times)):\n",
    "    print(list(times[i].keys())[0], \": \", list(times[i].values())[0]-list(times[i-1].values())[0])"
   ]
  },
  {
   "cell_type": "code",
   "execution_count": 5,
   "metadata": {},
   "outputs": [],
   "source": [
    "%load_ext autoreload\n",
    "%autoreload 2\n",
    "\n",
    "from destinyapp.models import StreamRecapData, FastRecapData\n",
    "\n",
    "from core import services\n",
    "from core import utils\n",
    "from core import controller"
   ]
  },
  {
   "cell_type": "code",
   "execution_count": 6,
   "metadata": {},
   "outputs": [],
   "source": [
    "video_id=\"9KENE2wOphQ_no_recap\"\n",
    "cost=0"
   ]
  },
  {
   "cell_type": "code",
   "execution_count": 7,
   "metadata": {},
   "outputs": [],
   "source": [
    "import json\n",
    "from youtube_transcript_api import YouTubeTranscriptApi\n",
    "\n",
    "if not os.path.exists(\"raw_transcript.json\"):\n",
    "# if True:\n",
    "    raw_transcript=YouTubeTranscriptApi.get_transcript(video_id)\n",
    "    with open(\"raw_transcript.json\", \"w\") as f:\n",
    "        json.dump(raw_transcript, f)\n",
    "else:\n",
    "    with open(\"raw_transcript.json\", \"r\") as f:\n",
    "        raw_transcript=json.load(f)"
   ]
  },
  {
   "cell_type": "code",
   "execution_count": 8,
   "metadata": {},
   "outputs": [],
   "source": [
    "transcript, linked_transcript=services.fast.transcript_processing.process_yt_transcript(raw_transcript, video_id)"
   ]
  },
  {
   "cell_type": "code",
   "execution_count": 10,
   "metadata": {},
   "outputs": [
    {
     "name": "stdout",
     "output_type": "stream",
     "text": [
      "313391\n"
     ]
    }
   ],
   "source": [
    "print(len(transcript))"
   ]
  },
  {
   "cell_type": "code",
   "execution_count": 15,
   "metadata": {},
   "outputs": [
    {
     "data": {
      "text/plain": [
       "70061"
      ]
     },
     "execution_count": 15,
     "metadata": {},
     "output_type": "execute_result"
    }
   ],
   "source": [
    "import tiktoken\n",
    "enc = tiktoken.get_encoding(\"cl100k_base\")\n",
    "len(enc.encode(transcript))"
   ]
  },
  {
   "cell_type": "code",
   "execution_count": 16,
   "metadata": {},
   "outputs": [
    {
     "data": {
      "text/plain": [
       "9.0"
      ]
     },
     "execution_count": 16,
     "metadata": {},
     "output_type": "execute_result"
    }
   ],
   "source": [
    "(120/70)*5.25"
   ]
  },
  {
   "cell_type": "code",
   "execution_count": 59,
   "metadata": {},
   "outputs": [],
   "source": [
    "# summarize the transcript\n",
    "transcript_summary_prompt=[{\"role\":\"system\", \"content\":\"Your job is to write a very detailed summary of a transcript of a video, go through each major topic that is discussed\"}, {\"role\":\"user\", \"content\":transcript}]\n",
    "transcript_summary, temp_cost = await utils.async_response_handler(transcript_summary_prompt, utils.ModelNameEnum.llama_3_1_8B_instant)"
   ]
  },
  {
   "cell_type": "code",
   "execution_count": 46,
   "metadata": {},
   "outputs": [
    {
     "name": "stdout",
     "output_type": "stream",
     "text": [
      "The conversation involves a discussion among individuals on a video stream about various political and social issues, including the concept of court packing, the legitimacy of the Supreme Court, and the potential implications of President Trump's behavior on the Constitution.\n",
      "\n",
      "The discussion begins with a description of the current situation of the Supreme Court, noting that it has been packed with conservative justices, which has led to a significant shift in the Court's ideology. The panelists discuss the potential consequences of this shift, including the ability of the Court to impose its will on the other branches of government.\n",
      "\n",
      "Destiny, one of the panelists, argues that the Supreme Court is no longer functioning as a legitimate institution, and that the Republican Party has been using it to advance their own interests. He suggests that the answer to this problem is to pack the Court with more justices who will defend the rule of law and the Constitution.\n",
      "\n",
      "Lact toid, another panelist, disagrees with Destiny's proposal, arguing that it is not a solution to the problem at hand and may actually make things worse. He suggests that the real problem is the way in which the Republican Party has used the Court to advance their own interests, and that this is what needs to be addressed.\n",
      "\n",
      "The conversation then turns to a discussion of the concept of \"tit for tat\" and how it can be used to describe the aggressive behavior of the Republican Party towards the Democratic Party. Destiny argues that if the Democrats were to pack the Court, it would be a legitimate response to the Republican Party's behavior.\n",
      "\n",
      "The panelists also discuss the potential consequences of a Democratic president packing the Court, including the possibility that it could lead to a civil war. Lact toid argues that this is a possibility, while Destiny suggests that it is unlikely.\n",
      "\n",
      "The conversation then turns to a discussion of the concept of the filibuster and how it can be used to block the appointment of judges. Lact toid argues that the Democrats have a right to use this tool to protect the country from the Republican Party's actions. Destiny disagrees, suggesting that the Democrats have a responsibility to work with the Republicans to find common ground.\n",
      "\n",
      "The panelists also discuss the potential consequences of a Republican administration packing the Court with conservative justices. Destiny argues that this would be a significant threat to the country and the Constitution, while Lact toid suggests that it is a possibility that needs to be taken seriously.\n",
      "\n",
      "The conversation then turns to a discussion of the concept of the \"Rule of Law\" and how it can be used to describe the relationship between the Court and the other branches of government. Lact toid argues that the Court is no longer functioning as an institution that upholds the Rule of Law, while Destiny suggests that it is still possible for the Court to do so if it is packed with more justices who will defend the Constitution.\n",
      "\n",
      "The panelists also discuss the potential consequences of a Democratic administration packing the Court with liberal justices. Lact toid argues that this would be a legitimate response to the Republican Party's actions, while Destiny suggests that it is a possibility that needs to be taken seriously.\n",
      "\n",
      "The conversation then turns to a discussion of the concept of \"Originalism\" and how it can be used to describe the approach to law that is taken by some justices on the Court. Lact toid argues that this approach is flawed and that it needs to be challenged, while Destiny suggests that it is a legitimate approach to law.\n",
      "\n",
      "The panelists also discuss the potential consequences of a Republican administration trying to pack the Court with conservative justices. Destiny argues that this would be a significant threat to the country and the Constitution, while Lact toid suggests that it is a possibility that needs to be taken seriously.\n",
      "\n",
      "The conversation then turns to a discussion of the concept of \"Constitutional interpretation\" and how it can be used to describe the process of interpreting the Constitution. Lact toid argues that the Court is no longer functioning as an institution that upholds the Constitution, while Destiny suggests that it is still possible for the Court to do so if it is packed with more justices who will defend the Constitution.\n",
      "\n",
      "The panelists also discuss the potential consequences of a Democratic administration packing the Court with liberal justices. Lact toid argues that this would be a legitimate response to the Republican Party's actions, while Destiny suggests that it is a possibility that needs to be taken seriously.\n",
      "\n",
      "The conversation then turns to a discussion of the concept of \"Judicial Power\" and how it can be used to describe the authority of the Court to interpret the Constitution. Lact toid argues that the Court's exercise of judicial power is not unlimited and that it needs to be checked, while Destiny suggests that the Court's exercise of judicial power is essential to the functioning of the government.\n",
      "\n",
      "The panelists also discuss the potential consequences of a Republican administration trying to pack the Court with conservative justices. Destiny argues that this would be a significant threat to the country and the Constitution, while Lact toid suggests that it is a possibility that needs to be taken seriously.\n",
      "\n",
      "The conversation then turns to a discussion of the concept of \"Executive Power\" and how it can be used to describe the authority of the President to enforce the law. Lact toid argues that the President's exercise of executive power is not unlimited and that it needs to be checked, while Destiny suggests that the President's exercise of executive power is essential to the functioning of the government.\n",
      "\n",
      "The panelists also discuss the potential consequences of a Democratic administration packing the Court with liberal justices. Lact toid argues that this would be a legitimate response to the Republican Party's actions, while Destiny suggests that it is a possibility that needs to be taken seriously.\n",
      "\n",
      "The conversation then turns to a discussion of the concept of \"Checks and Balances\" and how it can be used to describe the relationship between the different branches of government. Lact toid argues that the system of checks and balances needs to be reformed in order to prevent the kinds of abuses of power that have occurred in the past, while Destiny suggests that the system of checks and balances is functioning properly and that no reforms are needed.\n",
      "\n",
      "The panelists also discuss the potential consequences of a Republican administration trying to pack the Court with conservative justices. Destiny argues that this would be a significant threat to the country and the Constitution, while Lact toid suggests that it is a possibility that needs to be taken seriously.\n",
      "\n",
      "The conversation then turns to a discussion of the concept of \"Limited Government\" and how it can be used to describe the relationship between the government and the people. Lact toid argues that the system of limited government is functioning properly and that the government needs to take a more active role in regulating the economy and providing social services, while Destiny suggests that the system of limited government is essential to the functioning of the government and that the government needs to be more restrained in its actions.\n",
      "\n",
      "The panelists also discuss the potential consequences of a Democratic administration packing the Court with liberal justices. Lact toid argues that this would be a legitimate response to the Republican Party's actions, while Destiny suggests that it is a possibility that needs to be taken seriously.\n",
      "\n",
      "The conversation then turns to a discussion of the concept of \"Individual Rights\" and how it can be used to describe the relationship between the government and the individual. Lact toid argues that the government needs to take more action to protect individual rights and that the Court needs to do more to ensure that individuals have access to justice, while Destiny suggests that the government needs to be more restrained in its actions and that the Court needs to be more protective of individual rights.\n",
      "\n",
      "The panelists also discuss the potential consequences of a Republican administration trying to pack the Court with conservative justices. Destiny argues that this would be a significant threat to the country and the Constitution, while Lact toid suggests that it is a possibility that needs to be taken seriously.\n",
      "\n",
      "The conversation then turns to a discussion of the concept of \"National Security\" and how it can be used to describe the relationship between the government and the country's security. Lact toid argues that the government needs to take more action to ensure national security and that the Court needs to do more to ensure that the government has the powers it needs to keep the country safe, while Destiny suggests that the government needs to be more restrained in its actions and that the Court needs to be more protective of individual rights.\n",
      "\n",
      "The panelists also discuss the potential consequences of a Democratic administration packing the Court with liberal justices. Lact toid argues that this would be a legitimate response to the Republican Party's actions, while Destiny suggests that it is a possibility that needs to be taken seriously.\n",
      "\n",
      "The conversation then turns to a discussion of the concept of \"Federalism\" and how it can be used to describe the relationship between the federal government and the states. Lact toid argues that the system of federalism is functioning properly and that the federal government needs to take a more active role in regulating the economy and providing social services, while Destiny suggests that the system of federalism is essential to the functioning of the government and that the federal government needs to be more restrained in its actions.\n",
      "\n",
      "The panelists also discuss the potential consequences of a Republican administration trying to pack the Court with conservative justices. Destiny argues that this would be a significant threat to the country and the Constitution, while Lact toid suggests that it is a possibility that needs to be taken seriously.\n",
      "\n",
      "Finally, the conversation turns to a discussion of the concept of \"Constitutional Separation of Powers\" and how it can be used to describe the relationship between the different branches of government. Lact toid argues that the system of separation of powers is functioning properly and that the branches of government need to work together to ensure that the country is governed in a fair and just manner, while Destiny suggests that the system of separation of powers needs to be reformed in order to prevent the kinds of abuses of power that have occurred in the past.\n",
      "\n",
      "The conversation then ends with a discussion of the potential consequences of a Democratic administration packing the Court with liberal justices. Lact toid argues that this would be a legitimate response to the Republican Party's actions, while Destiny suggests that it is a possibility that needs to be taken seriously.\n",
      "\n",
      "The conversation highlights the importance of the Supreme Court and the potential consequences of various outcomes, including the packing of the Court with liberal justices. The discussion also highlights the potential consequences of a Republican administration trying to pack the Court with conservative justices, including the possibility of a significant shift in the Court's ideology.\n",
      "\n",
      "Overall, the conversation provides a nuanced and detailed discussion of the complex issues related to the Supreme Court and its role in the American government. It offers a range of perspectives and opinions on the potential consequences of various outcomes, including the packing of the Court with liberal justices and the implications of a Republican administration trying to pack the Court with conservative justices.\n"
     ]
    }
   ],
   "source": [
    "print(transcript_summary)"
   ]
  },
  {
   "cell_type": "code",
   "execution_count": 44,
   "metadata": {},
   "outputs": [
    {
     "name": "stdout",
     "output_type": "stream",
     "text": [
      "11965\n"
     ]
    }
   ],
   "source": [
    "print(len(transcript_summary))"
   ]
  },
  {
   "cell_type": "code",
   "execution_count": 24,
   "metadata": {},
   "outputs": [
    {
     "data": {
      "text/plain": [
       "313391"
      ]
     },
     "execution_count": 24,
     "metadata": {},
     "output_type": "execute_result"
    }
   ],
   "source": [
    "len(transcript)"
   ]
  },
  {
   "cell_type": "code",
   "execution_count": 54,
   "metadata": {},
   "outputs": [],
   "source": [
    "topics_str, major_topics, temp_cost=await services.fast.data_gen.create_topics(transcript_summary, model_name=utils.ModelNameEnum.gpt_4o_mini)"
   ]
  },
  {
   "cell_type": "code",
   "execution_count": 55,
   "metadata": {},
   "outputs": [
    {
     "data": {
      "text/plain": [
       "[\"Supreme Court's current situation\",\n",
       " 'Court packing',\n",
       " 'Legitimacy of the Supreme Court',\n",
       " 'Political behavior and party influence',\n",
       " 'Judicial interpretation and Originalism',\n",
       " 'Rule of Law and Judicial Power']"
      ]
     },
     "execution_count": 55,
     "metadata": {},
     "output_type": "execute_result"
    }
   ],
   "source": [
    "major_topics"
   ]
  },
  {
   "cell_type": "code",
   "execution_count": 74,
   "metadata": {},
   "outputs": [
    {
     "name": "stdout",
     "output_type": "stream",
     "text": [
      "Cost:  0.00074235\n",
      "Cost:  0.0010152\n",
      "Cost:  0.0010605\n",
      "Cost:  0.0010573499999999999\n",
      "Cost:  0.0010267499999999999\n",
      "Cost:  0.00103815\n",
      "Cost:  0.00104865\n",
      "Cost:  0.0010462499999999999\n",
      "Cost:  0.00104535\n",
      "Cost:  0.0011334\n",
      "Cost:  0.0010782\n",
      "Cost:  0.00108705\n",
      "Cost:  0.00111675\n",
      "Cost:  0.00113175\n",
      "Cost:  0.00113715\n",
      "Cost:  0.0011104499999999998\n",
      "Results:  20\n",
      "Results:  20\n",
      "Results:  20\n",
      "Results:  20\n",
      "Results:  20\n",
      "Results:  20\n",
      "Results:  20\n",
      "Results:  20\n",
      "Results:  20\n",
      "Results:  20\n",
      "Results:  20\n",
      "Results:  20\n",
      "Results:  20\n",
      "Results:  20\n",
      "Results:  20\n",
      "Results:  14\n"
     ]
    }
   ],
   "source": [
    "text_chunks_no_overlap = await services.stream_plot.data_gen.create_text_chunks(transcript, 0)\n",
    "text_chunk_batches = await services.stream_plot.data_gen.generate_text_chunk_batches(text_chunks_no_overlap)\n",
    "# responses, annotated_results, temp_cost = await services.fast.data_gen.annotate_all_batches(text_chunk_batches, topics_str)\n",
    "responses, annotated_results, temp_cost = await services.fast.data_gen.annotate_all_batches_no_recap(text_chunk_batches)"
   ]
  },
  {
   "cell_type": "code",
   "execution_count": 76,
   "metadata": {},
   "outputs": [
    {
     "name": "stdout",
     "output_type": "stream",
     "text": [
      "253\n"
     ]
    }
   ],
   "source": [
    "major_topics=set()\n",
    "for ar in annotated_results:\n",
    "    major_topics.add(ar[\"category\"])\n",
    "major_topics=list(major_topics)\n",
    "print(len(major_topics))\n"
   ]
  },
  {
   "cell_type": "code",
   "execution_count": 94,
   "metadata": {},
   "outputs": [
    {
     "name": "stdout",
     "output_type": "stream",
     "text": [
      "252\n",
      "Media Landscape Changes\n",
      "Politics and Communication\n",
      "Skills for Political Success\n",
      "Tech Setup and Equipment Discussion\n",
      "Champion Mindset Discussion\n",
      "Podcast Setup Quality Discussion\n",
      "Global Conflicts and Leadership\n",
      "Public Speaking Challenges\n",
      "Political Leadership Critique\n",
      "Winning and Losing Mindset\n",
      "Graphics Card Recommendations\n",
      "Qualities of Successful Politicians\n",
      "Political Debate Discussion\n",
      "International Relations Discussion\n",
      "Medical Marijuana and Political Conversation\n",
      "Audio Quality Comparison\n",
      "Geopolitical Analysis\n",
      "Negotiation Strategies\n",
      "Casual Chat and Tech Discussion\n",
      "Voting Rights and Regulations\n",
      "Geopolitical Strategy\n",
      "Military Strategy Analysis\n",
      "Graphics Card Power Consumption\n",
      "Immigration Solutions\n",
      "Election and Economic Discussion\n",
      "Crime and Immigration\n",
      "Graphics Card Specifications\n",
      "Military and Foreign Policy\n",
      "Communication in Politics\n",
      "Technology and Politics Discussion\n",
      "Social Media and Communication\n",
      "Drug Use and Perception\n",
      "Media and Political Relationships\n",
      "Political Communication and Relationships\n",
      "Drug Policy Discussion\n",
      "Border Policy Discussion\n",
      "Personal Experience with Military Families\n",
      "Political Critique and Leadership\n",
      "Social Media and Public Perception\n",
      "Political Discourse and Labels\n",
      "Immigration Policy Analysis\n",
      "Political Critique and Discourse\n",
      "Publicity Accusations and Family Defense\n",
      "Political Strategy and Perception\n",
      "International Relations and Leadership Reflection\n",
      "Political Accusations and Personal Reflection\n",
      "Economic Policy Critique\n",
      "Political Perception and Policy Discussion\n",
      "Media Representation and Family Support\n",
      "Military and Political Critique\n",
      "Personal Reflection\n",
      "Character Assessment\n",
      "Cultural Commentary\n",
      "Political Ethics\n",
      "Political Unity and Respect\n",
      "Policy Discussion\n",
      "Political Critique\n",
      "Political History\n",
      "Political Landscape Analysis\n",
      "Social Commentary\n",
      "Political Negotiation Analogy\n",
      "Media Commentary\n",
      "Judicial Legitimacy and Court Packing\n",
      "Supreme Court Composition and Politics\n",
      "Political Dynamics in Supreme Court Nominations\n",
      "Constitutional Powers and Senate Action\n",
      "Political Commentary\n",
      "Supreme Court Appointments\n",
      "Political Strategy and Reform\n",
      "Election Importance and Consequences\n",
      "Legal Opinion\n",
      "Bipartisan Solutions Discussion\n",
      "Future Political Scenarios\n",
      "Judicial Philosophy and Decisions\n",
      "Judicial Response Strategies\n",
      "Power Dynamics in Politics\n",
      "Constitutional Checks and Balances\n",
      "Media Representation and Personal Experience\n",
      "Abortion Rights and Constitutional Interpretation\n",
      "Constitutional Interpretation\n",
      "Political Strategy and Consequences\n",
      "Supreme Court Procedures\n",
      "Legal Analysis of Supreme Court Rulings\n",
      "Political Discussion\n",
      "Senate Functionality and Reform\n",
      "Historical Context of Judicial Decisions\n",
      "Historical Accountability Discussion\n",
      "Senate Procedural Rules Discussion\n",
      "Historical Legal Precedents\n",
      "Legislative vs. Constitutional Authority\n",
      "Public Influence on Politics\n",
      "Supreme Court Future Outlook\n",
      "Senate Procedures Analysis\n",
      "Judicial Process Reform\n",
      "Political Humor\n",
      "Civil Liability Discussion\n",
      "Procedural Rules for Supreme Court Nominations\n",
      "Court Packing as a Political Tool\n",
      "Legal Implications Discussion\n",
      "Constitutional Powers Discussion\n",
      "Immigration Policy Discussion\n",
      "Presidential Accountability Discussion\n",
      "Presidential Immunity Discussion\n",
      "Constitutional Theory Discussion\n",
      "Judicial Legitimacy Debate\n",
      "Humor in Discussion\n",
      "Supreme Court Legitimacy Debate\n",
      "Judicial Authority Discussion\n",
      "Political Dynamics Discussion\n",
      "Audience Engagement Discussion\n",
      "Political Analysis\n",
      "Immunity and Accountability Discussion\n",
      "Political Reprisals Discussion\n",
      "Court Packing Debate\n",
      "Constitutional Law Discussion\n",
      "Criminal Justice Discussion\n",
      "Public Perception of Court Packing\n",
      "Judicial Nominations Discussion\n",
      "Fairness in Judicial Processes\n",
      "Court Legitimacy Discussion\n",
      "Constitutional Debate and Judicial Effects\n",
      "Geographical Navigation\n",
      "Court Packing Discussion\n",
      "Political Maneuvering and Judicial Appointments\n",
      "Rule of Law Discussion\n",
      "Historical Context of Judicial Actions\n",
      "Court Packing and Partisanship\n",
      "Legal and Constitutional Debate\n",
      "Messaging and Public Perception\n",
      "Likelihood of Political Actions and Consequences\n",
      "Partisan Politics and Judicial Influence\n",
      "Presidential Powers Discussion\n",
      "Constitutional Implications of Senate Actions\n",
      "Judicial Reform and Legislative Power\n",
      "Political History and Judicial Nominations\n",
      "Court Packing and Judicial Integrity\n",
      "Constitutional Integrity and Severity of Breaches\n",
      "Constitutional Powers and Limitations\n",
      "Retaliation and Political Ethics\n",
      "Public Opinion on Judicial Balance\n",
      "Historical Context Discussion\n",
      "Military Authority and Congressional Power\n",
      "Fairness and Cheating in Politics\n",
      "Principles of Constitutional Integrity\n",
      "Norms and Court Integrity\n",
      "Judicial Appointments and Political Perspectives\n",
      "Legality of Judicial Expansion\n",
      "Political Norms and Consequences\n",
      "Morality and Constitutional Law\n",
      "Personal Political Affiliation\n",
      "Political Process Respect\n",
      "Judicial Integrity and Political Threats\n",
      "Legal vs. Political Perspectives on Court Packing\n",
      "Judicial Interpretation and Political Questions\n",
      "Partisan Politics and Judicial Appointments\n",
      "Judicial Politics Discussion\n",
      "Government Powers and Structure\n",
      "International Law Discussion\n",
      "Establishment of Norms\n",
      "Technical Issues Discussion\n",
      "Moral Philosophy in Political Contexts\n",
      "Event Planning\n",
      "Legal Framework and Military Orders\n",
      "Consequences of Judicial Actions\n",
      "Biden's Judicial Record\n",
      "Constitutional Powers and Presidential Actions\n",
      "Political Tactics and Damage Assessment\n",
      "Judicial Remedies and Legislative Actions\n",
      "Accusations of Dishonesty\n",
      "Context of Biden's Statements\n",
      "Election Integrity Discussion\n",
      "Political Maneuvering and Future Implications\n",
      "Partisan Responses and Court Packing\n",
      "Historical Precedents and Presidential Powers\n",
      "Political Accountability Discussion\n",
      "Judicial Compliance and Norms\n",
      "Judicial Authority and Constitutional Debate\n",
      "Supreme Court Dynamics and Political Power\n",
      "Public Distrust and Political Narratives\n",
      "Political Hypocrisy Discussion\n",
      "Constitutionality and Judicial Philosophy\n",
      "Court Packing and Political Actions\n",
      "Supreme Court Norms and Partisanship\n",
      "Biden's Supreme Court Statements\n",
      "Judicial History Discussion\n",
      "Foreign Policy Analysis\n",
      "Cultural Observation\n",
      "Judicial Integrity and Political Actions\n",
      "Judicial Power and Executive Authority\n",
      "Remedies and Partisan Actions\n",
      "Political Frustration\n",
      "Consequences of Judicial Appointments\n",
      "Norm Violations Discussion\n",
      "Norms in Politics\n",
      "Political Context Discussion\n",
      "Political Actions and Court Nominations\n",
      "Republican Accountability Discussion\n",
      "Court Remedies Discussion\n",
      "Comparison Debate\n",
      "Future Political Actions and Court Integrity\n",
      "Political Compromise Discussion\n",
      "Relevance of Biden's Statements\n",
      "Presidential Power vs. Judicial Power\n",
      "Critique of Republican Actions\n",
      "Political Negotiation Commentary\n",
      "Judicial Intervention and Court Packing Distinctions\n",
      "Comparison of Actions\n",
      "Court Packing and Constitutional Debate\n",
      "Judicial Philosophy Discussion\n",
      "Public Safety Discussion\n",
      "Compromise in Politics\n",
      "Political Opinions and Nuclear Option\n",
      "Political Strategy Discussion\n",
      "Conditions for Court Remedies\n",
      "Supreme Court Justice Decisions\n",
      "Political Threat Assessment\n",
      "Judicial Appointments Discussion\n",
      "Nonsensical Dialogue\n",
      "Panel Discussion Dynamics\n",
      "Political Negotiation Discussion\n",
      "Congressional Dynamics Discussion\n",
      "Legal Discussion on Supreme Court Seats\n",
      "Judicial Corruption Discussion\n",
      "Constitutional Debate\n",
      "Senate Procedures and Judicial Nominations\n",
      "Implications of McConnell's Actions\n",
      "Political Ethics Discussion\n",
      "International Political Commentary\n",
      "Political Norms and Institutional Trust\n",
      "Public Perception and Judicial Legitimacy\n",
      "Political Norms and Accountability\n",
      "Political Strategy Critique\n",
      "Panel Reflection\n",
      "Political Debate\n",
      "Immigration Compromise Discussion\n",
      "Debate Conclusion\n",
      "Legal System Discussion\n",
      "Geopolitical Discussion\n",
      "Judicial System Discussion\n",
      "Filibuster and Democracy\n",
      "Executive Power Discussion\n",
      "Judicial Legitimacy Discussion\n",
      "Judicial Appointments Debate\n",
      "Judicial Nominations and Filibuster\n",
      "Political Strategy Analysis\n",
      "Political Tactics Discussion\n",
      "Political Reform Commentary\n",
      "Political Influence Discussion\n",
      "Republican Motivations Discussion\n",
      "Political Weaponization Discussion\n",
      "Economic Understanding Critique\n",
      "Stream of Consciousness\n"
     ]
    }
   ],
   "source": [
    "annotated_segments, category_locations = await services.stream_plot.data_processing.create_segments(linked_transcript, annotated_results, major_topics, transcript)\n",
    "# annotated_segments[-1][\"category\"]=\"non categorized\"\n",
    "plot_segments=await services.stream_plot.data_processing.annotated_to_plot_segments(annotated_segments)\n",
    "plot_object=await services.stream_plot.data_processing.create_plot_object(plot_segments, category_locations, video_id)"
   ]
  },
  {
   "cell_type": "code",
   "execution_count": 95,
   "metadata": {},
   "outputs": [],
   "source": [
    "plot_object, temp_cost=await services.stream_plot.extra_annotations.recap_segments(plot_object)"
   ]
  },
  {
   "cell_type": "code",
   "execution_count": 96,
   "metadata": {},
   "outputs": [],
   "source": [
    "plot_object, temp_cost=await services.stream_plot.extra_annotations.recap_abstractions(plot_object)"
   ]
  },
  {
   "cell_type": "code",
   "execution_count": 97,
   "metadata": {},
   "outputs": [],
   "source": [
    "data_grabbber=await sync_to_async(FastRecapData.objects.filter)(video_id=video_id)\n",
    "fast_recap_data=await sync_to_async(data_grabbber.first)()\n",
    "if not fast_recap_data:\n",
    "    print(\"NOT FOUND\")\n",
    "    fast_recap_data=FastRecapData(video_id=video_id)\n",
    "\n",
    "from dataclasses import asdict\n",
    "fast_recap_data.plot_object=asdict(plot_object)\n",
    "await sync_to_async(fast_recap_data.save)()"
   ]
  },
  {
   "cell_type": "markdown",
   "metadata": {},
   "source": [
    "# full execution"
   ]
  },
  {
   "cell_type": "code",
   "execution_count": null,
   "metadata": {},
   "outputs": [],
   "source": [
    "video_id=\"zKeMP1rnKUI\"\n",
    "cost=0"
   ]
  },
  {
   "cell_type": "code",
   "execution_count": null,
   "metadata": {},
   "outputs": [],
   "source": [
    "# Make transcript\n",
    "# if not os.path.exists(\"raw_transcript.json\"):\n",
    "#     raw_transcript=YouTubeTranscriptApi.get_transcript(video_id)\n",
    "#     with open(\"raw_transcript.json\", \"w\") as f:\n",
    "#         json.dump(raw_transcript, f)\n",
    "# else:\n",
    "#     with open(\"raw_transcript.json\", \"r\") as f:\n",
    "#         raw_transcript=json.load(f)\n",
    "\n",
    "import json\n",
    "from youtube_transcript_api import YouTubeTranscriptApi\n",
    "from dataclasses import asdict\n",
    "\n",
    "raw_transcript=YouTubeTranscriptApi.get_transcript(video_id)\n",
    "transcript, linked_transcript=services.fast.transcript_processing.process_yt_transcript(raw_transcript, video_id)\n",
    "\n",
    "\n",
    "# Make Topics\n",
    "topic_sys_prompt=\"\"\"You will be given an entire transcript and your job is to come up with the categories discussed during the transcript.\n",
    "\n",
    "Step 1: You will start by listing as many topic categories as you can in chronological order from the transcript. This may be 20 or so.\n",
    "\n",
    "Step 2: Boil down the categories to the top 8-12 categories.\n",
    "\n",
    "Step 3: Boil down to the top categories for which to make a content graph.\n",
    "\n",
    "\n",
    "When formatting these steps, please use the following format:\n",
    "\n",
    "Step 1:\n",
    "1. Topic 1\n",
    "2. Topic 2\n",
    "...\n",
    "20. Topic 20\n",
    "\n",
    "Step 2:\n",
    "1. Topic 1\n",
    "2. Topic 2\n",
    "...\n",
    "\n",
    "Step 3:\n",
    "1. Topic 1\n",
    "2. Topic 2\n",
    "...\n",
    "\n",
    "\"\"\"\n",
    "user_prompt=\"Here is the transcript: \"+transcript\n",
    "\n",
    "full_topic_gen_prompt=[{\"role\":\"system\", \"content\":topic_sys_prompt}, {\"role\":\"user\", \"content\":user_prompt}]\n",
    "topics_response, temp_cost = await utils.async_response_handler(full_topic_gen_prompt, utils.ModelNameEnum.gpt_4o_mini)\n",
    "cost+=temp_cost\n",
    "\n",
    "\n",
    "# Process Topics\n",
    "topics_str=topics_response.split(\"Step 3:\")[-1]\n",
    "major_topics_raw=topics_str.split(\"\\n\")\n",
    "major_topics=[]\n",
    "for t in major_topics_raw:\n",
    "    t=t.strip()\n",
    "    if (t==\"\") or not t[0].isdigit():\n",
    "        continue\n",
    "    else:\n",
    "        major_topics.append(t[2:].strip())\n",
    "\n",
    "\n",
    "\n",
    "# Annotate Text batches\n",
    "text_chunks_no_overlap = await services.stream_plot.data_gen.create_text_chunks(transcript, 0)\n",
    "text_chunk_batches = await services.stream_plot.data_gen.generate_text_chunk_batches(text_chunks_no_overlap)\n",
    "responses, annotated_results, temp_cost = await services.fast.data_gen.annotate_all_batches(text_chunk_batches, topics_str)\n",
    "cost+=temp_cost\n",
    "\n",
    "\n",
    "# Create Plot\n",
    "annotated_segments, category_locations = await services.stream_plot.data_processing.create_segments(linked_transcript, annotated_results, major_topics, transcript)\n",
    "plot_segments=await services.stream_plot.data_processing.annotated_to_plot_segments(annotated_segments)\n",
    "plot_object=await services.stream_plot.data_processing.create_plot_object(plot_segments, category_locations, video_id)"
   ]
  },
  {
   "cell_type": "code",
   "execution_count": null,
   "metadata": {},
   "outputs": [],
   "source": [
    "len(user_prompt)"
   ]
  },
  {
   "cell_type": "code",
   "execution_count": null,
   "metadata": {},
   "outputs": [],
   "source": [
    "# save plot\n",
    "# get existing data if it exists\n",
    "data_grabbber=await sync_to_async(StreamRecapData.objects.filter)(video_id=video_id)\n",
    "stream_recap_data=await sync_to_async(data_grabbber.first)()\n",
    "if not stream_recap_data:\n",
    "    print(\"NOT FOUND\")\n",
    "    stream_recap_data=StreamRecapData(video_id=video_id)\n",
    "\n",
    "from dataclasses import asdict\n",
    "stream_recap_data.plot_object=asdict(plot_object)\n",
    "await sync_to_async(stream_recap_data.save)()"
   ]
  },
  {
   "cell_type": "code",
   "execution_count": null,
   "metadata": {},
   "outputs": [],
   "source": [
    "fast_recap_data=FastRecapData(video_id=video_id, plot_object=asdict(plot_object))"
   ]
  },
  {
   "cell_type": "code",
   "execution_count": null,
   "metadata": {},
   "outputs": [],
   "source": [
    "serializer=utils.database_operations.FastRecapSerializer(data=fast_recap_data)"
   ]
  },
  {
   "cell_type": "code",
   "execution_count": null,
   "metadata": {},
   "outputs": [],
   "source": [
    "serialized_data = await sync_to_async(lambda: utils.database_operations.FastRecapSerializer(fast_recap_data).data)()"
   ]
  },
  {
   "cell_type": "code",
   "execution_count": null,
   "metadata": {},
   "outputs": [],
   "source": [
    "serialized_data"
   ]
  },
  {
   "cell_type": "code",
   "execution_count": null,
   "metadata": {},
   "outputs": [],
   "source": [
    "await sync_to_async(serializer.is_valid)(raise_exception=True)"
   ]
  },
  {
   "cell_type": "code",
   "execution_count": null,
   "metadata": {},
   "outputs": [],
   "source": [
    "# print why the asdict(plot_object) is failing to pass as json\n",
    "json_test_data=asdict(plot_object)\n",
    "\n",
    "def find_invalid_json(data):\n",
    "    if isinstance(data, dict):\n",
    "        for key, value in data.items():\n",
    "            try:\n",
    "                json.dumps({key: value})\n",
    "            except json.JSONDecodeError:\n",
    "                print(f\"Invalid JSON at key: {key}\")\n",
    "                print(f\"Value: {value}\")\n",
    "            find_invalid_json(value)\n",
    "    elif isinstance(data, list):\n",
    "        for item in data:\n",
    "            find_invalid_json(item)\n",
    "\n",
    "find_invalid_json(json_test_data)\n"
   ]
  },
  {
   "cell_type": "code",
   "execution_count": null,
   "metadata": {},
   "outputs": [],
   "source": [
    "major_topics"
   ]
  },
  {
   "cell_type": "code",
   "execution_count": null,
   "metadata": {},
   "outputs": [],
   "source": [
    "plot_object.abstractions"
   ]
  },
  {
   "cell_type": "code",
   "execution_count": null,
   "metadata": {},
   "outputs": [],
   "source": [
    "str(asdict(plot_object))[4171:]"
   ]
  },
  {
   "cell_type": "code",
   "execution_count": null,
   "metadata": {},
   "outputs": [],
   "source": [
    "print(\"http://localhost:5173/stream_plot?video_id=\"+video_id)"
   ]
  },
  {
   "cell_type": "code",
   "execution_count": null,
   "metadata": {},
   "outputs": [],
   "source": [
    "# check if asdict(plot_object) is a valid json\n",
    "json.dumps(asdict(plot_object))"
   ]
  },
  {
   "cell_type": "code",
   "execution_count": null,
   "metadata": {},
   "outputs": [],
   "source": [
    "stream_recap_data.plot_object=asdict(plot_object)\n"
   ]
  },
  {
   "cell_type": "code",
   "execution_count": null,
   "metadata": {},
   "outputs": [],
   "source": [
    "print(asdict(plot_object))"
   ]
  }
 ],
 "metadata": {
  "kernelspec": {
   "display_name": "env",
   "language": "python",
   "name": "python3"
  },
  "language_info": {
   "codemirror_mode": {
    "name": "ipython",
    "version": 3
   },
   "file_extension": ".py",
   "mimetype": "text/x-python",
   "name": "python",
   "nbconvert_exporter": "python",
   "pygments_lexer": "ipython3",
   "version": "3.11.3"
  }
 },
 "nbformat": 4,
 "nbformat_minor": 2
}
