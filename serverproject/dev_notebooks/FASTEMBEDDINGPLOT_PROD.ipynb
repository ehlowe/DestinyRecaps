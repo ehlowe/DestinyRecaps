{
 "cells": [
  {
   "cell_type": "code",
   "execution_count": 1,
   "metadata": {},
   "outputs": [
    {
     "name": "stdout",
     "output_type": "stream",
     "text": [
      "d:\\DestinyFolder\\DestinyRecaps\\DestinyRecapsApi\\serverproject\n"
     ]
    }
   ],
   "source": [
    "# DIRECTORY SET\n",
    "import os\n",
    "import sys\n",
    "from pathlib import Path\n",
    "base_dir=Path(os.getcwd()).parent\n",
    "# os.chdir(os.path.join(base_dir, 'serverproject'))\n",
    "os.chdir(base_dir)\n",
    "print(os.getcwd())\n",
    "\n",
    "# Load dotenv\n",
    "import dotenv\n",
    "dotenv.load_dotenv()\n",
    "\n",
    "# DJANGO SETUP\n",
    "import django\n",
    "sys.path.append(os.path.abspath(''))\n",
    "os.environ.setdefault(\"DJANGO_SETTINGS_MODULE\", \"serverproject.settings\")\n",
    "django.setup()\n",
    "\n",
    "# Import async modules\n",
    "import asyncio\n",
    "from asgiref.sync import sync_to_async\n",
    "\n",
    "# Import display modules\n",
    "from IPython.display import display, Markdown\n",
    "\n",
    "# Import other modules\n",
    "import faiss\n",
    "\n",
    "# import reloading\n",
    "from importlib import reload"
   ]
  },
  {
   "cell_type": "code",
   "execution_count": 2,
   "metadata": {},
   "outputs": [],
   "source": [
    "%load_ext autoreload\n",
    "%autoreload 2\n",
    "\n",
    "from destinyapp.models import StreamRecapData, FastRecapData\n",
    "\n",
    "from core import services\n",
    "from core import utils\n",
    "from core import controller"
   ]
  },
  {
   "cell_type": "markdown",
   "metadata": {},
   "source": [
    "# Fetch Underlying Data"
   ]
  },
  {
   "cell_type": "code",
   "execution_count": 3,
   "metadata": {},
   "outputs": [],
   "source": [
    "video_id=\"9KENE2wOphQ_no_recap\"\n",
    "data_grabbber=await sync_to_async(FastRecapData.objects.filter)(video_id=video_id)\n",
    "fast_recap_data=await sync_to_async(data_grabbber.first)()"
   ]
  },
  {
   "cell_type": "code",
   "execution_count": 4,
   "metadata": {},
   "outputs": [],
   "source": [
    "async def fetch_embedding(chunk):\n",
    "    model=\"text-embedding-3-large\"\n",
    "    fails=0\n",
    "    while fails<5:\n",
    "        try:\n",
    "            return await utils.async_openai_client.embeddings.create(input=chunk, model=model)\n",
    "        except Exception as e:\n",
    "            fails+=1\n",
    "            print(\"Emedding Fail Retrying:\",e)\n",
    "            await asyncio.sleep(10+(fails*2))\n",
    "    return None\n"
   ]
  },
  {
   "cell_type": "markdown",
   "metadata": {},
   "source": [
    "# Make Embeddings"
   ]
  },
  {
   "cell_type": "code",
   "execution_count": 44,
   "metadata": {},
   "outputs": [],
   "source": [
    "# RECAPS\n",
    "all_embedding_responses=[]\n",
    "tasks=[]\n",
    "for segment in fast_recap_data.plot_object[\"segments\"]:\n",
    "    tasks.append(fetch_embedding(segment[\"recap\"]))\n",
    "all_embedding_responses=await asyncio.gather(*tasks)\n",
    "all_embeddings=[response.data[0].embedding for response in all_embedding_responses]\n",
    "\n",
    "# # ANNOTATIONS\n",
    "# all_embedding_responses=[]\n",
    "# tasks=[]\n",
    "# for segment in fast_recap_data.plot_object[\"segments\"]:\n",
    "#     annotations_str=\" \".join(segment[\"annotations\"])\n",
    "#     tasks.append(fetch_embedding(annotations_str))\n",
    "# all_embedding_responses=await asyncio.gather(*tasks)\n",
    "# all_embeddings=[response.data[0].embedding for response in all_embedding_responses]\n",
    "\n",
    "\n",
    "# # RAW TEXT\n",
    "# all_embedding_responses=[]\n",
    "# tasks=[]\n",
    "# for segment in fast_recap_data.plot_object[\"segments\"]:\n",
    "#     annotations_str=\" \".join(segment[\"texts\"])\n",
    "#     tasks.append(fetch_embedding(annotations_str))\n",
    "# all_embedding_responses=await asyncio.gather(*tasks)\n",
    "# all_embeddings=[response.data[0].embedding for response in all_embedding_responses]"
   ]
  },
  {
   "cell_type": "code",
   "execution_count": 6,
   "metadata": {},
   "outputs": [],
   "source": [
    "import numpy as np\n",
    "import matplotlib.pyplot as plt\n",
    "from sklearn.cluster import KMeans\n",
    "from sklearn.metrics import pairwise_distances"
   ]
  },
  {
   "cell_type": "code",
   "execution_count": 31,
   "metadata": {},
   "outputs": [],
   "source": [
    "def value_labels(cluster_labels, k=5):\n",
    "    prev_v=None\n",
    "    count=0\n",
    "    for i in range(len(cluster_labels)):\n",
    "        if prev_v!=cluster_labels[i]:\n",
    "            count+=1\n",
    "        prev_v=cluster_labels[i]\n",
    "\n",
    "    return count/(k**0.25)"
   ]
  },
  {
   "cell_type": "code",
   "execution_count": 45,
   "metadata": {},
   "outputs": [],
   "source": [
    "def cluster_generate(all_embeddings, k, filter_window=5):\n",
    "    embeddings_array = np.array(all_embeddings)\n",
    "\n",
    "    # Calculate the pairwise distances between the embeddings\n",
    "    kmeans = KMeans(n_clusters=k, random_state=42)\n",
    "    cluster_labels = kmeans.fit_predict(embeddings_array)\n",
    "\n",
    "    cluster_labels2=cluster_labels.copy()\n",
    "\n",
    "    if filter_window>1:\n",
    "        last_x_clusters=[None]*(5-int(filter_window/2))+list(cluster_labels2[:int(filter_window/2)])\n",
    "        # last_x_clusters=[None]*filter_window\n",
    "        for i in range(len(cluster_labels)):\n",
    "            # get the number in last_3_clusters that dominates, in otherwards get the item with the max quantity\n",
    "            last_x_clusters.pop(0)\n",
    "            last_x_clusters.append(cluster_labels[i+int(filter_window/2)] if len(cluster_labels) > (i+int(filter_window/2)) else None)\n",
    "            max_quantity_item=max(set(last_x_clusters), key=last_x_clusters.count)\n",
    "            if max_quantity_item:\n",
    "                cluster_labels2[i]=max_quantity_item\n",
    "        cluster_labels=cluster_labels2\n",
    "    return cluster_labels"
   ]
  },
  {
   "cell_type": "code",
   "execution_count": 46,
   "metadata": {},
   "outputs": [
    {
     "name": "stdout",
     "output_type": "stream",
     "text": [
      "K:  4 24.74873734152916\n",
      "K:  5 25.41213158910404\n",
      "K:  6 31.30821210806735\n",
      "Lowest K: 4 Lowest Value: 24.74873734152916\n"
     ]
    }
   ],
   "source": [
    "lowest_k=None\n",
    "lowest_value=None\n",
    "filter_window=3\n",
    "for k in range(4,7):\n",
    "    cluster_labels=cluster_generate(all_embeddings, k, filter_window)\n",
    "\n",
    "    cluster_value=value_labels(cluster_labels, k)\n",
    "    print(\"K: \",k, cluster_value)\n",
    "    if lowest_value is None or cluster_value<lowest_value:\n",
    "        lowest_value=cluster_value\n",
    "        lowest_k=k\n",
    "\n",
    "print(\"Lowest K:\",lowest_k, \"Lowest Value:\",lowest_value)\n",
    "k=lowest_k\n",
    "cluster_labels=cluster_generate(all_embeddings, k, filter_window)"
   ]
  },
  {
   "cell_type": "markdown",
   "metadata": {},
   "source": [
    "# Plot if desired"
   ]
  },
  {
   "cell_type": "code",
   "execution_count": 47,
   "metadata": {},
   "outputs": [
    {
     "data": {
      "image/png": "[encoded data removed]",
      "text/plain": [
       "<Figure size 1500x600 with 1 Axes>"
      ]
     },
     "metadata": {},
     "output_type": "display_data"
    }
   ],
   "source": [
    "# 2. Calculate distances from each embedding to its cluster center\n",
    "kmeans = KMeans(n_clusters=k, random_state=42)\n",
    "cluster_labels = kmeans.fit_predict(all_embeddings)\n",
    "distances_to_center = pairwise_distances(all_embeddings, kmeans.cluster_centers_[cluster_labels])\n",
    "distances_to_center = distances_to_center[np.arange(len(all_embeddings)), 0]\n",
    "\n",
    "# 3. Create the bar plot\n",
    "plt.figure(figsize=(15, 6))\n",
    "bars = plt.bar(range(len(distances_to_center)), distances_to_center, width=1.0)\n",
    "\n",
    "# 4. Color the bars according to their cluster\n",
    "colors = plt.cm.rainbow(np.linspace(0, 1, k))\n",
    "for i, bar in enumerate(bars):\n",
    "    bar.set_color(colors[cluster_labels[i]])\n",
    "\n",
    "# 5. Customize the plot\n",
    "plt.xlabel('Embedding Index (Transcript Progress)')\n",
    "plt.ylabel('Distance to Cluster Center')\n",
    "plt.title('Clustered Bar Plot of Embeddings: Distance to Cluster Center')\n",
    "\n",
    "# Add a color legend\n",
    "handles = [plt.Rectangle((0,0),1,1, color=colors[i]) for i in range(k)]\n",
    "plt.legend(handles, [f'Cluster {i+1}' for i in range(k)])\n",
    "\n",
    "# 6. Add vertical lines to separate every 50 bars (adjust as needed)\n",
    "for i in range(50, len(distances_to_center), 50):\n",
    "    plt.axvline(x=i, color='gray', linestyle='--', alpha=0.5)\n",
    "\n",
    "plt.tight_layout()\n",
    "plt.show()"
   ]
  },
  {
   "cell_type": "code",
   "execution_count": 52,
   "metadata": {},
   "outputs": [
    {
     "data": {
      "text/plain": [
       "array([3, 3, 1, 2, 1, 1, 1, 1, 1, 1, 1, 1, 1, 1, 1])"
      ]
     },
     "execution_count": 52,
     "metadata": {},
     "output_type": "execute_result"
    }
   ],
   "source": [
    "cluster_labels[225:240]"
   ]
  },
  {
   "cell_type": "code",
   "execution_count": 54,
   "metadata": {},
   "outputs": [
    {
     "data": {
      "text/plain": [
       "{'category': 'Judicial Philosophy Discussion',\n",
       " 'color': 'gray',\n",
       " 'start_time': 14965720,\n",
       " 'end_time': 15023159,\n",
       " 'width': 0.0030603970060441763,\n",
       " 'x': 0.7973730158222723,\n",
       " 'texts': [\"ndobs that that's what uh you knowwhatever lact toid is caring about he'scaring about having conservativeconservatives from the federal societythat he agrees with that's what is atplay not like number of seats yeahoriginalist that's original yeahoriginalism is a Judicial philosophyit's different political conservatismthat's an important distinction but Ibut but I want but I want to ask you Iwant to ask you a question um when youwere going with that back and forth withWick you brought up a non-court packingyou know remedy now I already was clearthat I I still oppose that but myquestion for you is why didn't you comein your hot proposing that remedy asopposed to the much more incendiaryCourt packing oh I I'm happy to do bothI'm indifferent between them hold on soso if we do the non-court packing remedythen you're fine quarterbacking off thetable get rid of it yeah um if if sojust to be 100% clear if Mitch McConnellnever did that thing with um mer GarlandC I would not be in favor ofquarte\"],\n",
       " 'annotations': ['Examination of originalism versus political conservatism in judicial philosophy.'],\n",
       " 'href': 'https://youtu.be/9KENE2wOphQ_no_recap?t=14965',\n",
       " 'recap': \"The discussion centers on judicial philosophy, particularly originalism versus political conservatism. One speaker critiques a focus on conservative alignment within the Federalist Society. They debate court packing versus non-court packing remedies, with one expressing indifference to both, clarifying that if Mitch McConnell hadn't blocked Merrick Garland, they wouldn't support court packing.\"}"
      ]
     },
     "execution_count": 54,
     "metadata": {},
     "output_type": "execute_result"
    }
   ],
   "source": [
    "fast_recap_data.plot_object[\"segments\"][224]"
   ]
  },
  {
   "cell_type": "code",
   "execution_count": 56,
   "metadata": {},
   "outputs": [
    {
     "data": {
      "text/plain": [
       "{'category': 'Norms in Politics',\n",
       " 'color': 'gray',\n",
       " 'start_time': 15858680,\n",
       " 'end_time': 15908800,\n",
       " 'width': 0.002670434686239909,\n",
       " 'x': 0.8447556754729205,\n",
       " 'texts': [\"imspecifying that he's creating this normand then Ren rening on it immediatelyafterwards he didn't create a norm itwas a convers it was a suggestion it wasan AR he didn't create thenorm no but he argued no Joe Bidenargued for like an establishment of anorm in 1992 you understand that you canargue for the establishment of norm andstill follow the other Norms right youcan argue that right like I could arguewith a significant other that we shouldgo at the Outback house every Friday andwe might not do that I didn't create thenorm because I argued for it lact toidlact toid maybe maybe we could shortcutthis you acknowledge that McConnellactually doing it is substantively worsethan Biden talking about it youacknowledge that the McConnell actuallydoing it is wor no I don't want no it'snot worse it's a different thing it's anature it's in in the nature of it it iscompletely different these are twodifferent things arguing in favor ofsomething or arguing for a thing is notanywhere near it's not c\"],\n",
       " 'annotations': ['Debate about the establishment of norms in politics and the difference between arguing for a norm and actually implementing it.'],\n",
       " 'href': 'https://youtu.be/9KENE2wOphQ_no_recap?t=15858',\n",
       " 'recap': \"The discussion centers on the creation and establishment of political norms. One speaker argues that suggesting a norm, like Biden did in 1992, doesn't equate to creating it. They contrast this with McConnell's actions, asserting that arguing for a norm differs fundamentally from actually implementing it, highlighting the nature of each action.\"}"
      ]
     },
     "execution_count": 56,
     "metadata": {},
     "output_type": "execute_result"
    }
   ],
   "source": [
    "fast_recap_data.plot_object[\"segments\"][241]"
   ]
  },
  {
   "cell_type": "code",
   "execution_count": 53,
   "metadata": {},
   "outputs": [
    {
     "data": {
      "text/plain": [
       "{'category': 'Accusations of Dishonesty',\n",
       " 'color': 'gray',\n",
       " 'start_time': 15196319,\n",
       " 'end_time': 15243920,\n",
       " 'width': 0.002536220301271067,\n",
       " 'x': 0.8093974312251179,\n",
       " 'texts': [\"ressure youreforms the court packing those arepressure on the Supreme Court GibGibb resp I just want say one finalthing to Gibbs Gibbs uh do you prefervenmo or like PayPal how much likewhat's the preferred platform for me topay you for making our points for usbecause every time you speak you showwhat's really going on here what'sreally going on between you and me I'mactually honest I'm sitting here sayingI'm not even saying it's part I'msitting here saying hey this is what'shappened you got outplayed you're cryingyou can sit here and say that's SP I'mnot going to be one of these dishonestpeople like you are and try to lie topeople in order to get my way andaccomplish it and dress it up in windowdressing like a like a Christmas turkeybut that's what you're doing Papa you'resitting here lying to people you'resitting here being dishonest and thenyou want to sit here and try to accuseme who's the only one being honest onthe panel here come me a break okay justlike you're flowing in and out\"],\n",
       " 'annotations': ['Accusations of dishonesty in the discussion about Supreme Court norms and remedies.'],\n",
       " 'href': 'https://youtu.be/9KENE2wOphQ_no_recap?t=15196',\n",
       " 'recap': 'A heated exchange occurred, with one speaker accusing another, Gibbs, of dishonesty and manipulation. The accuser claimed to be the only honest participant, criticizing Gibbs for \"dressing up\" lies and playing the victim. They demanded clarity on payment methods, emphasizing their own integrity in contrast to Gibbs\\' alleged deceit.'}"
      ]
     },
     "execution_count": 53,
     "metadata": {},
     "output_type": "execute_result"
    }
   ],
   "source": [
    "fast_recap_data.plot_object[\"segments\"][228]"
   ]
  },
  {
   "cell_type": "markdown",
   "metadata": {},
   "source": [
    "# def clusters"
   ]
  },
  {
   "cell_type": "code",
   "execution_count": 12,
   "metadata": {},
   "outputs": [],
   "source": [
    "async def def_cluster(segments, cluster_labels, cluster_id):\n",
    "    cluster_text_data=\"\"\n",
    "    for i in range(len(segments)):\n",
    "        seg=segments[i]  \n",
    "        if cluster_labels[i]==cluster_id:\n",
    "            cluster_text_data+=seg[\"recap\"]+\"\\n\"\n",
    "\n",
    "    system_prompt=\"\"\"You are to take a bunch of text summaries and pull them together into what the topic dicussed for that is. YOU MUST DESCRIBE IT IN A FEW WORDS AND THEN GIVE MORE CONTEXT BUT YOU ARE DISTILLING TO 1 CATEGORY OF TOPIC.\n",
    "    \n",
    "    When saying the topic do it in this format:\n",
    "    \n",
    "    **Topic: ...**\n",
    "    ...\n",
    "    \n",
    "    Then give a brief description of the topic\"\"\"\n",
    "    user_prompt=cluster_text_data\n",
    "    prompt=[{\"role\":\"system\",\"content\":system_prompt},{\"role\":\"user\",\"content\":user_prompt}]\n",
    "    topic_category_response, temp_cost=await utils.async_response_handler(prompt, utils.ModelNameEnum.gpt_4o_mini)\n",
    "\n",
    "    topic_category=topic_category_response.split(\"**Topic:\")[1].split(\"**\")[0].strip()\n",
    "    return topic_category, topic_category_response\n",
    "\n"
   ]
  },
  {
   "cell_type": "code",
   "execution_count": 60,
   "metadata": {},
   "outputs": [],
   "source": [
    "tasks=[]\n",
    "for i in range(k):\n",
    "    tasks.append(def_cluster(fast_recap_data.plot_object[\"segments\"], cluster_labels, i))\n",
    "\n",
    "cluster_responses=await asyncio.gather(*tasks)"
   ]
  },
  {
   "cell_type": "code",
   "execution_count": null,
   "metadata": {},
   "outputs": [],
   "source": [
    "for cluster_response in cluster_responses:\n",
    "    print(cluster_response[0])"
   ]
  },
  {
   "cell_type": "code",
   "execution_count": null,
   "metadata": {},
   "outputs": [],
   "source": [
    "fast_recap_data.plot_object[\"segments\"]"
   ]
  },
  {
   "cell_type": "code",
   "execution_count": 25,
   "metadata": {},
   "outputs": [
    {
     "name": "stdout",
     "output_type": "stream",
     "text": [
      "12277\n",
      "12277\n"
     ]
    }
   ],
   "source": [
    "cat_prompt=\"\"\n",
    "for i, seg in enumerate(fast_recap_data.plot_object[\"segments\"]):\n",
    "    cat_prompt+=\"Cluster: \"+str(cluster_labels[i])+\" \"+seg[\"category\"]+\"\\n\"\n",
    "    # cat_prompt+=\"\".join(seg[\"annotations\"])+\"\\n\\n\"\n",
    "print(len(cat_prompt))"
   ]
  },
  {
   "cell_type": "code",
   "execution_count": 26,
   "metadata": {},
   "outputs": [
    {
     "name": "stdout",
     "output_type": "stream",
     "text": [
      "12277\n"
     ]
    }
   ],
   "source": [
    "# Separate the clusters\n",
    "cat_prompt=\"\"\n",
    "for j in range(k):\n",
    "    for i, seg in enumerate(fast_recap_data.plot_object[\"segments\"]):\n",
    "        if cluster_labels[i]==j:\n",
    "            cat_prompt+=\"Cluster: \"+str(cluster_labels[i])+\" \"+seg[\"category\"]+\"\\n\"\n",
    "    # cat_prompt+=\"\".join(seg[\"annotations\"])+\"\\n\\n\"\n",
    "print(len(cat_prompt))"
   ]
  },
  {
   "cell_type": "code",
   "execution_count": 29,
   "metadata": {},
   "outputs": [
    {
     "data": {
      "text/plain": [
       "2"
      ]
     },
     "execution_count": 29,
     "metadata": {},
     "output_type": "execute_result"
    }
   ],
   "source": [
    "cluster_labels[0]"
   ]
  },
  {
   "cell_type": "code",
   "execution_count": 28,
   "metadata": {},
   "outputs": [
    {
     "data": {
      "text/plain": [
       "'Casual Chat and Tech Discussion'"
      ]
     },
     "execution_count": 28,
     "metadata": {},
     "output_type": "execute_result"
    }
   ],
   "source": [
    "fast_recap_data.plot_object[\"segments\"][0][\"category\"]"
   ]
  },
  {
   "cell_type": "code",
   "execution_count": 27,
   "metadata": {},
   "outputs": [
    {
     "name": "stdout",
     "output_type": "stream",
     "text": [
      "Cluster: 0 Political Ethics\n",
      "Cluster: 0 Political Discussion\n",
      "Cluster: 0 Historical Context of Judicial Decisions\n",
      "Cluster: 0 Constitutional Checks and Balances\n",
      "Cluster: 0 Constitutional Interpretation\n",
      "Cluster: 0 Abortion Rights and Constitutional Interpretation\n",
      "Cluster: 0 Constitutional Theory Discussion\n",
      "Cluster: 0 Legal Analysis of Supreme Court Rulings\n",
      "Cluster: 0 Supreme Court Procedures\n",
      "Cluster: 0 Presidential Powers Discussion\n",
      "Cluster: 0 Constitutional Law Discussion\n",
      "Cluster: 0 Historical Legal Precedents\n",
      "Cluster: 0 Presidential Immunity Discussion\n",
      "Cluster: 0 Civil Liability Discussion\n",
      "Cluster: 0 Presidential Accountability Discussion\n",
      "Cluster: 0 Judicial Authority Discussion\n",
      "Cluster: 0 Constitutional Law Discussion\n",
      "Cluster: 0 Presidential Accountability Discussion\n",
      "Cluster: 0 Presidential Powers Discussion\n",
      "Cluster: 0 Immunity and Accountability Discussion\n",
      "Cluster: 0 Historical Context Discussion\n",
      "Cluster: 0 Political Reprisals Discussion\n",
      "Cluster: 0 Criminal Justice Discussion\n",
      "Cluster: 0 Presidential Powers Discussion\n",
      "Cluster: 0 Presidential Powers Discussion\n",
      "Cluster: 0 International Law Discussion\n",
      "Cluster: 0 Presidential Powers Discussion\n",
      "Cluster: 0 Government Powers and Structure\n",
      "Cluster: 0 Military Authority and Congressional Power\n",
      "Cluster: 0 Constitutional Powers and Limitations\n",
      "Cluster: 0 Legal Framework and Military Orders\n",
      "Cluster: 0 Historical Context of Judicial Actions\n",
      "Cluster: 0 Historical Precedents and Presidential Powers\n",
      "Cluster: 0 Constitutional Debate and Judicial Effects\n",
      "Cluster: 0 Morality and Constitutional Law\n",
      "Cluster: 0 Constitutional Law Discussion\n",
      "Cluster: 0 Judicial Interpretation and Political Questions\n",
      "Cluster: 0 Constitutional Integrity and Severity of Breaches\n",
      "Cluster: 0 Principles of Constitutional Integrity\n",
      "Cluster: 0 Judicial Power and Executive Authority\n",
      "Cluster: 0 Executive Power Discussion\n",
      "Cluster: 0 Legal System Discussion\n",
      "Cluster: 0 Political Ethics Discussion\n",
      "Cluster: 1 Political Discussion\n",
      "Cluster: 1 Legal Opinion\n",
      "Cluster: 1 Political Discussion\n",
      "Cluster: 1 Legal Opinion\n",
      "Cluster: 1 Political Discussion\n",
      "Cluster: 1 Political Critique\n",
      "Cluster: 1 Political Humor\n",
      "Cluster: 1 Political Critique\n",
      "Cluster: 1 Legal Opinion\n",
      "Cluster: 1 Court Packing Debate\n",
      "Cluster: 1 Supreme Court Appointments\n",
      "Cluster: 1 Political Dynamics in Supreme Court Nominations\n",
      "Cluster: 1 Judicial Process Reform\n",
      "Cluster: 1 Supreme Court Composition and Politics\n",
      "Cluster: 1 Procedural Rules for Supreme Court Nominations\n",
      "Cluster: 1 Senate Functionality and Reform\n",
      "Cluster: 1 Legislative vs. Constitutional Authority\n",
      "Cluster: 1 Power Dynamics in Politics\n",
      "Cluster: 1 Political Strategy and Reform\n",
      "Cluster: 1 Court Packing as a Political Tool\n",
      "Cluster: 1 Constitutional Powers and Senate Action\n",
      "Cluster: 1 Judicial Response Strategies\n",
      "Cluster: 1 Judicial Legitimacy and Court Packing\n",
      "Cluster: 1 Judicial Philosophy and Decisions\n",
      "Cluster: 1 Supreme Court Legitimacy Debate\n",
      "Cluster: 1 Political Accountability Discussion\n",
      "Cluster: 1 Political Strategy Discussion\n",
      "Cluster: 1 Future Political Scenarios\n",
      "Cluster: 1 Court Packing Debate\n",
      "Cluster: 1 Senate Procedural Rules Discussion\n",
      "Cluster: 1 Bipartisan Solutions Discussion\n",
      "Cluster: 1 Senate Procedures Analysis\n",
      "Cluster: 1 Historical Accountability Discussion\n",
      "Cluster: 1 Public Influence on Politics\n",
      "Cluster: 1 Public Perception of Court Packing\n",
      "Cluster: 1 Legal Implications Discussion\n",
      "Cluster: 1 Political Strategy and Consequences\n",
      "Cluster: 1 Supreme Court Future Outlook\n",
      "Cluster: 1 Judicial Legitimacy Debate\n",
      "Cluster: 1 Court Packing Discussion\n",
      "Cluster: 1 Constitutional Powers Discussion\n",
      "Cluster: 1 Judicial Nominations Discussion\n",
      "Cluster: 1 Court Legitimacy Discussion\n",
      "Cluster: 1 Constitutional Powers Discussion\n",
      "Cluster: 1 Judicial History Discussion\n",
      "Cluster: 1 Political Dynamics Discussion\n",
      "Cluster: 1 Rule of Law Discussion\n",
      "Cluster: 1 Judicial Politics Discussion\n",
      "Cluster: 1 Judicial Politics Discussion\n",
      "Cluster: 1 Public Opinion on Judicial Balance\n",
      "Cluster: 1 Judicial Reform and Legislative Power\n",
      "Cluster: 1 Court Packing and Judicial Integrity\n",
      "Cluster: 1 Judicial Compliance and Norms\n",
      "Cluster: 1 Legality of Judicial Expansion\n",
      "Cluster: 1 Consequences of Judicial Actions\n",
      "Cluster: 1 Political History and Judicial Nominations\n",
      "Cluster: 1 Judicial Authority and Constitutional Debate\n",
      "Cluster: 1 Political Maneuvering and Judicial Appointments\n",
      "Cluster: 1 Partisan Politics and Judicial Appointments\n",
      "Cluster: 1 Fairness in Judicial Processes\n",
      "Cluster: 1 Constitutional Implications of Senate Actions\n",
      "Cluster: 1 Legal and Constitutional Debate\n",
      "Cluster: 1 Supreme Court Dynamics and Political Power\n",
      "Cluster: 1 Norms and Court Integrity\n",
      "Cluster: 1 Political Actions and Court Nominations\n",
      "Cluster: 1 Judicial Appointments and Political Perspectives\n",
      "Cluster: 1 Court Packing and Political Actions\n",
      "Cluster: 1 Political Process Respect\n",
      "Cluster: 1 Judicial Integrity and Political Threats\n",
      "Cluster: 1 Future Political Actions and Court Integrity\n",
      "Cluster: 1 Consequences of Judicial Appointments\n",
      "Cluster: 1 Likelihood of Political Actions and Consequences\n",
      "Cluster: 1 Partisan Politics and Judicial Influence\n",
      "Cluster: 1 Presidential Power vs. Judicial Power\n",
      "Cluster: 1 Court Packing and Constitutional Debate\n",
      "Cluster: 1 Constitutional Powers and Presidential Actions\n",
      "Cluster: 1 Court Packing and Partisanship\n",
      "Cluster: 1 Political Maneuvering and Future Implications\n",
      "Cluster: 1 Constitutionality and Judicial Philosophy\n",
      "Cluster: 1 Judicial Integrity and Political Actions\n",
      "Cluster: 1 Legal vs. Political Perspectives on Court Packing\n",
      "Cluster: 1 Public Perception and Judicial Legitimacy\n",
      "Cluster: 1 Senate Procedures and Judicial Nominations\n",
      "Cluster: 1 Partisan Responses and Court Packing\n",
      "Cluster: 1 Remedies and Partisan Actions\n",
      "Cluster: 1 Judicial Remedies and Legislative Actions\n",
      "Cluster: 1 Judicial Intervention and Court Packing Distinctions\n",
      "Cluster: 1 Supreme Court Norms and Partisanship\n",
      "Cluster: 1 Court Remedies Discussion\n",
      "Cluster: 1 Legal Discussion on Supreme Court Seats\n",
      "Cluster: 1 Political Strategy Discussion\n",
      "Cluster: 1 Judicial Philosophy Discussion\n",
      "Cluster: 1 Court Packing Debate\n",
      "Cluster: 1 Conditions for Court Remedies\n",
      "Cluster: 1 Supreme Court Justice Decisions\n",
      "Cluster: 1 Accusations of Dishonesty\n",
      "Cluster: 1 Biden's Supreme Court Statements\n",
      "Cluster: 1 Context of Biden's Statements\n",
      "Cluster: 1 Comparison of Actions\n",
      "Cluster: 1 Relevance of Biden's Statements\n",
      "Cluster: 1 Critique of Republican Actions\n",
      "Cluster: 1 Norm Violations Discussion\n",
      "Cluster: 1 Implications of McConnell's Actions\n",
      "Cluster: 1 Establishment of Norms\n",
      "Cluster: 1 Biden's Judicial Record\n",
      "Cluster: 1 Comparison Debate\n",
      "Cluster: 1 Political Hypocrisy Discussion\n",
      "Cluster: 1 Political Threat Assessment\n",
      "Cluster: 1 Court Packing Discussion\n",
      "Cluster: 1 Filibuster and Democracy\n",
      "Cluster: 1 Constitutional Debate\n",
      "Cluster: 1 Judicial Nominations and Filibuster\n",
      "Cluster: 1 Judicial Appointments Debate\n",
      "Cluster: 1 Judicial Legitimacy Discussion\n",
      "Cluster: 1 Judicial History Discussion\n",
      "Cluster: 1 Political Strategy Analysis\n",
      "Cluster: 1 Audience Engagement Discussion\n",
      "Cluster: 1 International Political Commentary\n",
      "Cluster: 1 Judicial Politics Discussion\n",
      "Cluster: 1 Judicial Appointments Discussion\n",
      "Cluster: 1 Election Integrity Discussion\n",
      "Cluster: 1 Judicial Corruption Discussion\n",
      "Cluster: 1 Judicial System Discussion\n",
      "Cluster: 1 Political Reform Commentary\n",
      "Cluster: 2 Casual Chat and Tech Discussion\n",
      "Cluster: 2 Graphics Card Specifications\n",
      "Cluster: 2 Tech Setup and Equipment Discussion\n",
      "Cluster: 2 Graphics Card Recommendations\n",
      "Cluster: 2 Graphics Card Power Consumption\n",
      "Cluster: 2 Podcast Setup Quality Discussion\n",
      "Cluster: 2 Audio Quality Comparison\n",
      "Cluster: 2 Technology and Politics Discussion\n",
      "Cluster: 2 Medical Marijuana and Political Conversation\n",
      "Cluster: 2 Winning and Losing Mindset\n",
      "Cluster: 2 Champion Mindset Discussion\n",
      "Cluster: 2 Politics and Communication\n",
      "Cluster: 2 Media Landscape Changes\n",
      "Cluster: 2 Audience Engagement Discussion\n",
      "Cluster: 2 Public Speaking Challenges\n",
      "Cluster: 2 Skills for Political Success\n",
      "Cluster: 2 Qualities of Successful Politicians\n",
      "Cluster: 2 Global Conflicts and Leadership\n",
      "Cluster: 2 Political Leadership Critique\n",
      "Cluster: 2 Political Debate Discussion\n",
      "Cluster: 2 Political Commentary\n",
      "Cluster: 2 International Relations Discussion\n",
      "Cluster: 2 Geopolitical Analysis\n",
      "Cluster: 2 Negotiation Strategies\n",
      "Cluster: 2 Political Critique\n",
      "Cluster: 2 Geopolitical Strategy\n",
      "Cluster: 2 Election Integrity Discussion\n",
      "Cluster: 2 Voting Rights and Regulations\n",
      "Cluster: 2 Immigration Policy Discussion\n",
      "Cluster: 2 Crime and Immigration\n",
      "Cluster: 2 Election and Economic Discussion\n",
      "Cluster: 2 Military and Foreign Policy\n",
      "Cluster: 2 Military Strategy Analysis\n",
      "Cluster: 2 Immigration Solutions\n",
      "Cluster: 2 Border Policy Discussion\n",
      "Cluster: 2 Immigration Policy Analysis\n",
      "Cluster: 2 Political Landscape Analysis\n",
      "Cluster: 2 Policy Discussion\n",
      "Cluster: 2 Communication in Politics\n",
      "Cluster: 2 Drug Policy Discussion\n",
      "Cluster: 2 Drug Use and Perception\n",
      "Cluster: 2 Political Communication and Relationships\n",
      "Cluster: 2 Media and Political Relationships\n",
      "Cluster: 2 Social Media and Communication\n",
      "Cluster: 2 Social Media and Public Perception\n",
      "Cluster: 2 Political Critique and Leadership\n",
      "Cluster: 2 Media Representation and Personal Experience\n",
      "Cluster: 2 Military and Political Critique\n",
      "Cluster: 2 Personal Experience with Military Families\n",
      "Cluster: 2 Political Critique and Discourse\n",
      "Cluster: 2 Political Accusations and Personal Reflection\n",
      "Cluster: 2 Media Representation and Family Support\n",
      "Cluster: 2 Publicity Accusations and Family Defense\n",
      "Cluster: 2 Political Unity and Respect\n",
      "Cluster: 2 Election Importance and Consequences\n",
      "Cluster: 2 Political Perception and Policy Discussion\n",
      "Cluster: 2 Economic Policy Critique\n",
      "Cluster: 2 Political Discourse and Labels\n",
      "Cluster: 2 Political Strategy and Perception\n",
      "Cluster: 2 International Relations and Leadership Reflection\n",
      "Cluster: 2 Political Commentary\n",
      "Cluster: 2 Political Analysis\n",
      "Cluster: 2 Character Assessment\n",
      "Cluster: 2 Political Ethics\n",
      "Cluster: 2 Political Commentary\n",
      "Cluster: 2 Political Commentary\n",
      "Cluster: 2 Social Commentary\n",
      "Cluster: 2 Personal Reflection\n",
      "Cluster: 2 Cultural Commentary\n",
      "Cluster: 2 Character Assessment\n",
      "Cluster: 2 Media Commentary\n",
      "Cluster: 2 Political History\n",
      "Cluster: 2 Political Commentary\n",
      "Cluster: 2 Political Analysis\n",
      "Cluster: 2 Foreign Policy Analysis\n",
      "Cluster: 2 Nonsensical Dialogue\n",
      "Cluster: 2 Stream of Consciousness\n",
      "Cluster: 2 Geopolitical Discussion\n",
      "Cluster: 2 Geographical Navigation\n",
      "Cluster: 2 Cultural Observation\n",
      "Cluster: 2 Event Planning\n",
      "Cluster: 2 Humor in Discussion\n",
      "Cluster: 2 Political Negotiation Analogy\n",
      "Cluster: 2 Technical Issues Discussion\n",
      "Cluster: 2 Moral Philosophy in Political Contexts\n",
      "Cluster: 2 Fairness and Cheating in Politics\n",
      "Cluster: 2 Retaliation and Political Ethics\n",
      "Cluster: 2 Political Norms and Consequences\n",
      "Cluster: 2 Personal Political Affiliation\n",
      "Cluster: 2 Political Tactics and Damage Assessment\n",
      "Cluster: 2 Political Norms and Institutional Trust\n",
      "Cluster: 2 Public Distrust and Political Narratives\n",
      "Cluster: 2 Messaging and Public Perception\n",
      "Cluster: 2 Political Context Discussion\n",
      "Cluster: 2 Norms in Politics\n",
      "Cluster: 2 Political Norms and Accountability\n",
      "Cluster: 2 Political Frustration\n",
      "Cluster: 2 Compromise in Politics\n",
      "Cluster: 2 Political Opinions and Nuclear Option\n",
      "Cluster: 2 Republican Accountability Discussion\n",
      "Cluster: 2 Election Integrity Discussion\n",
      "Cluster: 2 Political Compromise Discussion\n",
      "Cluster: 2 Republican Motivations Discussion\n",
      "Cluster: 2 Political Analysis\n",
      "Cluster: 2 Political Strategy Discussion\n",
      "Cluster: 2 Political Compromise Discussion\n",
      "Cluster: 2 Immigration Policy Discussion\n",
      "Cluster: 2 Political Negotiation Discussion\n",
      "Cluster: 2 Immigration Compromise Discussion\n",
      "Cluster: 2 Congressional Dynamics Discussion\n",
      "Cluster: 2 Panel Discussion Dynamics\n",
      "Cluster: 2 Political Strategy Discussion\n",
      "Cluster: 2 Political Weaponization Discussion\n",
      "Cluster: 2 Public Safety Discussion\n",
      "Cluster: 2 Political Debate\n",
      "Cluster: 2 Political Commentary\n",
      "Cluster: 2 Debate Conclusion\n",
      "Cluster: 2 Panel Reflection\n",
      "Cluster: 2 Political Tactics Discussion\n",
      "Cluster: 2 Political Strategy Discussion\n",
      "Cluster: 2 Political Strategy Critique\n",
      "Cluster: 2 Political Accountability Discussion\n",
      "Cluster: 2 Political Negotiation Commentary\n",
      "Cluster: 2 Political Influence Discussion\n",
      "Cluster: 2 Economic Understanding Critique\n",
      "\n"
     ]
    }
   ],
   "source": [
    "print(cat_prompt)"
   ]
  },
  {
   "cell_type": "code",
   "execution_count": 19,
   "metadata": {},
   "outputs": [],
   "source": [
    "system_prompt=\"\"\"You will be given a bunch of segment summaries, these summaries are grouped into clusters. For each cluter number I want you to give a  4 word or less category for that cluster.\n",
    "\n",
    "First identify how many clusters there are, for each cluster describe what it is about generally.\n",
    "Once this is done annotate the category for each cluster number.\"\"\"\n",
    "user_prompt=cat_prompt\n",
    "prompt=[{\"role\":\"system\",\"content\":system_prompt},{\"role\":\"user\",\"content\":user_prompt}]\n",
    "topic_category_response, temp_cost=await utils.async_response_handler(prompt, utils.ModelNameEnum.gpt_4o_mini)"
   ]
  },
  {
   "cell_type": "code",
   "execution_count": 20,
   "metadata": {},
   "outputs": [
    {
     "name": "stdout",
     "output_type": "stream",
     "text": [
      "There are **3 clusters** identified in the provided summaries. Here’s a general description of each cluster:\n",
      "\n",
      "1. **Cluster 1**: This cluster primarily focuses on political discussions, legal opinions, and critiques related to the judicial system, including topics like court packing, judicial nominations, and the dynamics of political power in relation to the judiciary.\n",
      "\n",
      "2. **Cluster 2**: This cluster encompasses a wide range of discussions related to technology, politics, and personal experiences. It includes topics such as graphics card specifications, political ethics, public perception, and the impact of media on politics.\n",
      "\n",
      "3. **Cluster 3**: This cluster is centered around constitutional discussions, legal analysis, and the implications of presidential powers. It includes topics like judicial authority, historical legal precedents, and the relationship between military authority and congressional power.\n",
      "\n",
      "### Cluster Categories:\n",
      "- **Cluster 1**: Judicial Politics\n",
      "- **Cluster 2**: Technology and Politics\n",
      "- **Cluster 3**: Constitutional Law\n"
     ]
    }
   ],
   "source": [
    "print(topic_category_response)"
   ]
  },
  {
   "cell_type": "code",
   "execution_count": null,
   "metadata": {},
   "outputs": [],
   "source": [
    "print(cat_prompt)"
   ]
  }
 ],
 "metadata": {
  "kernelspec": {
   "display_name": "env",
   "language": "python",
   "name": "python3"
  },
  "language_info": {
   "codemirror_mode": {
    "name": "ipython",
    "version": 3
   },
   "file_extension": ".py",
   "mimetype": "text/x-python",
   "name": "python",
   "nbconvert_exporter": "python",
   "pygments_lexer": "ipython3",
   "version": "3.11.3"
  }
 },
 "nbformat": 4,
 "nbformat_minor": 2
}
