{
 "cells": [
  {
   "cell_type": "code",
   "execution_count": 1,
   "metadata": {},
   "outputs": [
    {
     "name": "stdout",
     "output_type": "stream",
     "text": [
      "d:\\DestinyFolder\\DestinyRecaps\\DestinyRecapsApi\\serverproject\n"
     ]
    }
   ],
   "source": [
    "# DIRECTORY SET\n",
    "import os\n",
    "import sys\n",
    "from pathlib import Path\n",
    "base_dir=Path(os.getcwd()).parent\n",
    "os.chdir(base_dir)\n",
    "print(os.getcwd())\n",
    "\n",
    "# Load dotenv\n",
    "import dotenv\n",
    "dotenv.load_dotenv()\n",
    "\n",
    "# DJANGO SETUP\n",
    "import django\n",
    "sys.path.append(os.path.abspath(''))\n",
    "os.environ.setdefault(\"DJANGO_SETTINGS_MODULE\", \"serverproject.settings\")\n",
    "django.setup()\n",
    "\n",
    "# Import async modules\n",
    "import asyncio\n",
    "from asgiref.sync import sync_to_async\n",
    "\n",
    "# Import display modules\n",
    "from IPython.display import display, Markdown\n",
    "\n",
    "# Import other modules\n",
    "import faiss\n",
    "\n",
    "# import reloading\n",
    "from importlib import reload"
   ]
  },
  {
   "cell_type": "code",
   "execution_count": 2,
   "metadata": {},
   "outputs": [],
   "source": [
    "%load_ext autoreload\n",
    "%autoreload 2\n",
    "\n",
    "from destinyapp.models import StreamRecapData\n",
    "\n",
    "from core import services\n",
    "from core import utils"
   ]
  },
  {
   "cell_type": "code",
   "execution_count": 3,
   "metadata": {},
   "outputs": [],
   "source": [
    "import requests"
   ]
  },
  {
   "cell_type": "code",
   "execution_count": null,
   "metadata": {},
   "outputs": [],
   "source": [
    "# make get to http://127.0.0.1:8000/api/dl?mra=o0987yhnbgHJNBHGAT^&video_id=3kJr7ODrwNw\n",
    "\n",
    "# get the data\n",
    "request_data=requests.get('https://destinyrecaps.com/api/dl?mra=o0987yhnbgHJNBHGAT^&video_id=fTcS6FFa4PA')\n",
    "\n"
   ]
  },
  {
   "cell_type": "code",
   "execution_count": 19,
   "metadata": {},
   "outputs": [],
   "source": [
    "video_id=\"n4L4Z0Kx004\"\n",
    "# video_id=\"GqmhL3xVUww\"\n",
    "# video_id=\"K2EmIhyCBjw\"\n",
    "# #video_id=\"yclFTmcNlaQ\"\n",
    "# video_id=\"p_swB_KS8Hw\"\n",
    "request_data=requests.get('https://destinyrecaps.com/api/dl?video_id='+video_id)\n",
    "stream_recap_data_json=request_data.json()\n",
    "stream_recap_data=StreamRecapData(**stream_recap_data_json)\n",
    "await sync_to_async(stream_recap_data.save)()"
   ]
  },
  {
   "cell_type": "code",
   "execution_count": 20,
   "metadata": {},
   "outputs": [
    {
     "data": {
      "text/plain": [
       "{'title': 'Dr. K Chats with @Mizkif\\nStream Date~ 05/27/2024',\n",
       " 'channel': 'HealthyGamerGG',\n",
       " 'date': '05/27/2024'}"
      ]
     },
     "execution_count": 20,
     "metadata": {},
     "output_type": "execute_result"
    }
   ],
   "source": [
    "stream_recap_data.video_characteristics"
   ]
  },
  {
   "cell_type": "code",
   "execution_count": 21,
   "metadata": {},
   "outputs": [],
   "source": [
    "srl=await utils.get_all_recaps_fast(channel_sort=\"Destiny\")"
   ]
  },
  {
   "cell_type": "code",
   "execution_count": 22,
   "metadata": {},
   "outputs": [
    {
     "data": {
      "text/plain": [
       "'[{\\'video_id\\': \\'n4L4Z0Kx004\\', \\'video_characteristics\\': {\\'title\\': \\'Dr. K Chats with @Mizkif\\\\nStream Date~ 05/27/2024\\', \\'channel\\': \\'HealthyGamerGG\\', \\'date\\': \\'05/27/2024\\'}, \\'recap\\': \\'ADHD strategies, work addiction, humor and self-worth, emotional decision-making, \"brain rot\" causes, evolutionary laziness, ADHD treatment debates\\\\nHere\\\\\\'s a comprehensive summary of the main topics and smaller details from the collection of summaries:\\\\n\\\\n<h2>Main Topics</h2>\\\\n\\\\n<h3>1. ADHD and Mental Health</h3>\\\\n<ul>\\\\n  <li>Impact of ADHD on behavior, success, and work habits</li>\\\\n  <li>Strategies for managing ADHD symptoms</li>\\\\n  <li>Relationship between ADHD and workaholic tendencies</li>\\\\n  <li>Meditation techniques for people with ADHD</li>\\\\n</ul>\\\\n\\\\n<h3>2. Work-Life Balance and Stress Management</h3>\\\\n<ul>\\\\n  <li>Struggles with work addiction and inability to relax</li>\\\\n  <li>Impact of managing multiple companies on mental state</li>\\\\n  <li>Techniques for relaxation and mental stillness</li>\\\\n  <li>Importance of inaction and learning to stop constant action</li>\\\\n</ul>\\\\n\\\\n<h3>3. Self-Worth and Personal Growth</h3>\\\\n<ul>\\\\n  <li>Relationship between humor, self-worth, and social acceptance</li>\\\\n  <li>Impact of childhood experiences on adult behavior</li>\\\\n  <li>Importance of self-acceptance vs. constant self-improvement</li>\\\\n  <li>Dealing with feelings of not belonging or being a \"misfit\"</li>\\\\n</ul>\\\\n\\\\n<h3>4. Decision-Making and Emotional Intelligence</h3>\\\\n<ul>\\\\n  <li>Role of ego and emotion in decision-making</li>\\\\n  <li>Importance of acknowledging emotions in logical processes</li>\\\\n  <li>Strategies for making decisions under uncertainty</li>\\\\n</ul>\\\\n\\\\n<h2>Smaller Details and Brief Topics</h2>\\\\n\\\\n<ul>\\\\n  <li><strong>Brain Health:</strong> Discussion on \"brain rot\" and its potential causes</li>\\\\n  <li><strong>988 Crisis Line:</strong> Promotion and importance of the crisis helpline</li>\\\\n  <li><strong>Neurodiversity:</strong> Different perspectives on conditions like ADHD and autism</li>\\\\n  <li><strong>Parental Influence:</strong> Impact of parents\\\\\\' work ethic and messaging on children</li>\\\\n  <li><strong>Breathing Exercises:</strong> Demonstration of \"nadi shodhana\" (alternate nostril breathing)</li>\\\\n  <li><strong>Evolutionary Perspective:</strong> Discussion on laziness as a feature of evolution</li>\\\\n  <li><strong>Psychotherapy vs. Medication:</strong> Comparison of effectiveness for ADHD treatment</li>\\\\n  <li><strong>Transcendent Experiences:</strong> Brief mention of psychedelics for developing compassion</li>\\\\n  <li><strong>Book Recommendations:</strong> Suggestions for self-help and meditation books</li>\\\\n  <li><strong>Loneliness vs. Solitude:</strong> Distinction and potential benefits of chosen solitude</li>\\\\n</ul>\\\\n\\\\nDISCLAIMER: This is all AI generated and there are frequent errors.\\'}, {\\'video_id\\': \\'fTcS6FFa4PA\\', \\'video_characteristics\\': {\\'title\\': \\'\\', \\'channel\\': \\'\\', \\'date\\': \\'\\'}, \\'recap\\': \\'Democracy\\\\\\'s future, gender debates, political extremism, and pop culture critiques\\\\n<h1>Main Topics</h1>\\\\n\\\\n<h2>1. Debate on \"Is democracy on the ballot in 2024?\"</h2>\\\\n<ul>\\\\n  <li>Criticism of how participants interpreted the prompt</li>\\\\n  <li>Discussion on whether Trump is an existential threat to democracy</li>\\\\n  <li>Debate about temporary vs. permanent threats to democracy</li>\\\\n</ul>\\\\n\\\\n<h2>2. Political Discourse and Rhetoric</h2>\\\\n<ul>\\\\n  <li>Balancing combativeness and charitability in debates</li>\\\\n  <li>Effectiveness of different persuasion techniques</li>\\\\n  <li>Criticism of conservative debate tactics and rhetoric</li>\\\\n</ul>\\\\n\\\\n<h2>3. Gender and Sex Terminology</h2>\\\\n<ul>\\\\n  <li>Debate on definitions of \"man\" and \"woman\"</li>\\\\n  <li>Discussion on biological vs. social aspects of gender</li>\\\\n  <li>Critique of conservative arguments about gender</li>\\\\n</ul>\\\\n\\\\n<h2>4. Epistemology and Truth</h2>\\\\n<ul>\\\\n  <li>Role of intuition vs. logical argumentation in determining truth</li>\\\\n  <li>Importance of context in understanding statements</li>\\\\n  <li>Discussion on how partial truths can be misleading</li>\\\\n</ul>\\\\n\\\\n<h2>5. Political Extremism and Violence</h2>\\\\n<ul>\\\\n  <li>Comparison of left-wing vs. right-wing extremism</li>\\\\n  <li>Discussion on BLM riots vs. January 6th insurrection</li>\\\\n  <li>Debate on how to address populism and extremism</li>\\\\n</ul>\\\\n\\\\n<h1>Smaller Details/Topics</h1>\\\\n\\\\n<ul>\\\\n  <li><strong>Game of Thrones criticism:</strong> Discussion on later seasons and character development</li>\\\\n  <li><strong>Jordan Peterson:</strong> Evaluation of his earlier work vs. recent output</li>\\\\n  <li><strong>Alvin Bragg and Trump prosecution:</strong> Debate on Bragg\\\\\\'s actions and motivations</li>\\\\n  <li><strong>League of Legends:</strong> Brief discussions on gameplay and strategies</li>\\\\n  <li><strong>Candace Owens:</strong> Criticism of her statements and approach</li>\\\\n  <li><strong>Supreme Court decisions:</strong> Brief mentions of recent rulings</li>\\\\n  <li><strong>Mike Pence\\\\\\'s role:</strong> Discussion on his actions following the 2020 election</li>\\\\n  <li><strong>Anti-Semitism:</strong> Mentions in context of political figures and narratives</li>\\\\n  <li><strong>Firefighter shooting incident:</strong> Brief discussion on political reactions</li>\\\\n  <li><strong>ADL controversy:</strong> Mention of an incident involving an exonerated Black individual</li>\\\\n</ul>\\\\n\\\\nDISCLAIMER: This is all AI generated and there are frequent errors.\\'}, {\\'video_id\\': \\'CXdbjh1yzt0\\', \\'video_characteristics\\': {\\'title\\': \\'\\', \\'channel\\': \\'\\', \\'date\\': \\'\\'}, \\'recap\\': \"January 6th documentary insights, economic policy critique, sound physics deep dive, and political predictions analysis\\\\n<h1>Main Topics</h1>\\\\n\\\\n<h2>1. January 6th Insurrection and Related Events</h2>\\\\n<ul>\\\\n  <li>Detailed discussion of events leading up to and including January 6th</li>\\\\n  <li>Analysis of Trump\\'s actions, speeches, and tweets</li>\\\\n  <li>Examination of key figures like Mike Pence, Rudy Giuliani, and John Eastman</li>\\\\n  <li>Focus on emotional impact and storytelling for a potential documentary</li>\\\\n  <li>Emphasis on timeline and visual evidence</li>\\\\n</ul>\\\\n\\\\n<h2>2. Political Commentary and Predictions</h2>\\\\n<ul>\\\\n  <li>Analysis of various political pundits\\' predictions and their accuracy</li>\\\\n  <li>Discussion of election results and their implications</li>\\\\n  <li>Critique of media coverage and political narratives</li>\\\\n</ul>\\\\n\\\\n<h2>3. Economic Policies and Discussions</h2>\\\\n<ul>\\\\n  <li>Analysis of Kamala Harris\\'s proposed price gouging ban</li>\\\\n  <li>Discussion of Federal Reserve actions and inflation</li>\\\\n  <li>Examination of U.S. aid to Ukraine and its economic implications</li>\\\\n  <li>Critique of simplistic economic explanations</li>\\\\n</ul>\\\\n\\\\n<h2>4. Audio and Sound Physics</h2>\\\\n<ul>\\\\n  <li>Detailed discussion of pipe organs and their construction</li>\\\\n  <li>Explanation of sound physics concepts like harmonics and overtones</li>\\\\n  <li>Analysis of various audio illusions and their implications</li>\\\\n</ul>\\\\n\\\\n<h1>Smaller Details/Topics</h1>\\\\n\\\\n<h2>1. Personal Anecdotes and Streaming Content</h2>\\\\n<ul>\\\\n  <li>Discussion of Destiny\\'s investments in Crowdstrike and Nvidia</li>\\\\n  <li>Contemplation of PC hardware upgrades</li>\\\\n  <li>Experience with ADHD medication</li>\\\\n  <li>Participation in various online games and quizzes</li>\\\\n</ul>\\\\n\\\\n<h2>2. Miscellaneous Political Topics</h2>\\\\n<ul>\\\\n  <li>Brief mentions of Project 2025 and conservative policy proposals</li>\\\\n  <li>Discussion of think tanks and their role in policy-making</li>\\\\n  <li>Commentary on social media bots and misinformation</li>\\\\n</ul>\\\\n\\\\n<h2>3. Pop Culture and Media</h2>\\\\n<ul>\\\\n  <li>Brief discussions about video games and anime</li>\\\\n  <li>Commentary on fashion, particularly shoes and sneakers</li>\\\\n  <li>Mentions of historical events and figures (e.g., WWII battles)</li>\\\\n</ul>\\\\n\\\\n<h2>4. Technical Discussions</h2>\\\\n<ul>\\\\n  <li>Brief mentions of audio compression techniques</li>\\\\n  <li>Discussion of camera setups for streaming</li>\\\\n  <li>Commentary on various computer hardware components</li>\\\\n</ul>\\\\n\\\\nDISCLAIMER: This is all AI generated and there are frequent errors.\"}, {\\'video_id\\': \\'GqmhL3xVUww\\', \\'video_characteristics\\': {\\'title\\': \\'More J6 stuff oh boi\\\\nStream Date~ 08/04/2024\\'}, \\'recap\\': \\'Capitol Riot analysis, Election fraud debates, Immigration policies, Gun control controversies, 2024 election predictions, Crypto scams, and a bear in Central Park\\\\n<h1>Main Topics</h1>\\\\n\\\\n<h2>1. January 6th Capitol Riot</h2>\\\\n<ul>\\\\n  <li>Extensive coverage and analysis of the events as they unfolded</li>\\\\n  <li>Discussion of Trump\\\\\\'s role and statements before and during the riot</li>\\\\n  <li>Comparison of media coverage from different sources (InfoWars, mainstream media)</li>\\\\n  <li>Debate over the nature of the event (protest vs. insurrection)</li>\\\\n  <li>Analysis of the aftermath and political implications</li>\\\\n</ul>\\\\n\\\\n<h2>2. 2020 Election Controversy</h2>\\\\n<ul>\\\\n  <li>Debates over election fraud claims</li>\\\\n  <li>Discussion of Trump\\\\\\'s attempts to challenge the results</li>\\\\n  <li>Analysis of the role of mail-in ballots and vote counting processes</li>\\\\n  <li>Examination of Trump\\\\\\'s actions post-election, including pressure on officials</li>\\\\n</ul>\\\\n\\\\n<h2>3. Immigration Policy</h2>\\\\n<ul>\\\\n  <li>Comparison of Trump and Biden administration policies</li>\\\\n  <li>Debate over border security measures (e.g., Trump\\\\\\'s wall)</li>\\\\n  <li>Discussion of deportation statistics and policies</li>\\\\n  <li>Analysis of the economic and cultural impact of immigration</li>\\\\n</ul>\\\\n\\\\n<h2>4. Gun Control</h2>\\\\n<ul>\\\\n  <li>Examination of Kamala Harris\\\\\\'s statements on gun control</li>\\\\n  <li>Debate over Second Amendment interpretation</li>\\\\n  <li>Discussion of executive actions vs. legislative approaches to gun control</li>\\\\n  <li>Comparison of Republican and Democratic stances on gun rights</li>\\\\n</ul>\\\\n\\\\n<h2>5. Political Debates and Analysis</h2>\\\\n<ul>\\\\n  <li>Extensive discussions comparing Trump vs. Biden/Harris for 2024</li>\\\\n  <li>Analysis of political rhetoric and campaign promises</li>\\\\n  <li>Examination of media bias and information sources</li>\\\\n  <li>Debates over the role of executive, legislative, and judicial branches</li>\\\\n</ul>\\\\n\\\\n<h1>Smaller Topics/Brief Mentions</h1>\\\\n\\\\n<ul>\\\\n  <li><strong>Stock market investments:</strong> Discussion of Nvidia, Crowdstrike, and Facebook stocks</li>\\\\n  <li><strong>Home automation:</strong> Issues with lighting apps and control systems</li>\\\\n  <li><strong>Streaming setup:</strong> Changes to studio layout, camera lenses, and audio equipment</li>\\\\n  <li><strong>Social commentary:</strong> Brief discussion on \"white boy\" stereotypes</li>\\\\n  <li><strong>Fake sign language interpreters:</strong> Incidents at important events</li>\\\\n  <li><strong>TV show \"House\":</strong> Appreciation for character development</li>\\\\n  <li><strong>Cryptocurrency scams:</strong> Fake Elon Musk livestreams on YouTube</li>\\\\n  <li><strong>Robert F. Kennedy Jr. bear incident:</strong> Bizarre story about dumping a bear cub in Central Park</li>\\\\n  <li><strong>Conspiracy theories:</strong> Brief mentions of flat earth, nuclear bombs, and dinosaurs</li>\\\\n  <li><strong>North Korea:</strong> Trump\\\\\\'s interactions and potential peace deal</li>\\\\n  <li><strong>Word games/puzzles:</strong> Destiny playing word association games during streams</li>\\\\n</ul>\\\\n\\\\nDISCLAIMER: This is all AI generated and there are frequent errors.\\'}, {\\'video_id\\': \\'yclFTmcNlaQ\\', \\'video_characteristics\\': {\\'title\\': \"Random memes/drama | FINISHING TRUMP THING STARTING @ 1530 EST LET\\'S GO BABY PLEASE\\\\nStream Date~ 08/03/2024\"}, \\'recap\\': \\'Capitol Riot deep dive, election fraud debunking, media criticism, legal analysis, and Destiny\\\\\\'s takes on everything from crypto to gender in sports\\\\n<h1>Main Topics</h1>\\\\n\\\\n<h2>1. January 6th Capitol Riot</h2>\\\\n<ul>\\\\n  <li>Detailed coverage of the events as they unfolded</li>\\\\n  <li>Analysis of Trump\\\\\\'s speech and its impact on the crowd</li>\\\\n  <li>Discussion of the breach of Capitol defenses and violence</li>\\\\n  <li>Debate over whether it constitutes an insurrection</li>\\\\n  <li>Criticism of attempts to reframe the narrative after the fact</li>\\\\n</ul>\\\\n\\\\n<h2>2. Election Fraud Claims</h2>\\\\n<ul>\\\\n  <li>Trump\\\\\\'s allegations of widespread voter fraud in multiple states</li>\\\\n  <li>Criticism and debunking of these claims by Destiny</li>\\\\n  <li>Analysis of the \"2000 Mules\" documentary and its methodology</li>\\\\n  <li>Discussion of legal challenges to the election results</li>\\\\n</ul>\\\\n\\\\n<h2>3. Media Coverage and Narrative Framing</h2>\\\\n<ul>\\\\n  <li>Analysis of conservative media\\\\\\'s changing narrative about January 6th</li>\\\\n  <li>Criticism of Tucker Carlson\\\\\\'s presentation of Capitol footage</li>\\\\n  <li>Discussion of InfoWars and other right-wing media coverage</li>\\\\n  <li>Destiny\\\\\\'s preference for raw footage over mainstream media interpretations</li>\\\\n</ul>\\\\n\\\\n<h2>4. Legal and Constitutional Issues</h2>\\\\n<ul>\\\\n  <li>Debate over the role of the Vice President in certifying election results</li>\\\\n  <li>Discussion of legal challenges to the election in various states</li>\\\\n  <li>Analysis of Rudy Giuliani\\\\\\'s legal arguments and performance in court</li>\\\\n  <li>Explanation of concepts like standing, hearsay, and standards of review</li>\\\\n</ul>\\\\n\\\\n<h1>Smaller Details and Brief Topics</h1>\\\\n\\\\n<ul>\\\\n  <li><strong>Russia Investigation:</strong> Destiny\\\\\\'s changing views on the Mueller report</li>\\\\n  <li><strong>Streaming Equipment:</strong> Discussion of audio issues and studio setup costs</li>\\\\n  <li><strong>UK Politics:</strong> Brief mentions of protests and immigration issues</li>\\\\n  <li><strong>Cryptocurrency:</strong> Mention of potential implementation in a game project</li>\\\\n  <li><strong>Stock Investments:</strong> Brief discussion of Destiny\\\\\\'s investments and dollar-cost averaging</li>\\\\n  <li><strong>Movie Critiques:</strong> Analysis of films like \"Napoleon\" and praise for Tarantino\\\\\\'s work</li>\\\\n  <li><strong>Gender and Sports:</strong> Debate over transgender athletes in competitions</li>\\\\n  <li><strong>Chess Performance:</strong> Discussion of gender differences in chess</li>\\\\n  <li><strong>Patriarchy and Gender Roles:</strong> Brief analysis of historical contexts and modern relevance</li>\\\\n  <li><strong>Ivy League Education:</strong> Commentary on the changing value of prestigious degrees</li>\\\\n  <li><strong>Hunting and Bow Strength:</strong> Brief discussion on physical requirements for bow hunting</li>\\\\n</ul>\\\\n\\\\nDISCLAIMER: This is all AI generated and there are frequent errors.\\'}, {\\'video_id\\': \\'K2EmIhyCBjw\\', \\'video_characteristics\\': {\\'title\\': \\'Finishing Olympic Thing | More Trump stuff :) :)\\\\nStream Date~ 08/02/2024\\'}, \\'recap\\': \\'Transgender athletes debate, Trump\\\\\\'s pre-January 6th moves, Internet \"lolcows,\" gender differences in society, and a potpourri of pop culture and current events\\\\n<h1>Main Topics</h1>\\\\n\\\\n<h2>1. Transgender Athletes in Women\\\\\\'s Sports</h2>\\\\n<ul>\\\\n  <li>Controversy surrounding transgender athletes competing in women\\\\\\'s sports</li>\\\\n  <li>Discussion of physical advantages and fairness concerns</li>\\\\n  <li>Specific cases mentioned:\\\\n    <ul>\\\\n      <li>Volleyball incident with alleged injury to Peyton McNab</li>\\\\n      <li>Boxing match between Alana McLaughlin and Anna-Lena Cederfeld</li>\\\\n    </ul>\\\\n  </li>\\\\n  <li>Debate on biological differences between sexes and their impact on sports performance</li>\\\\n</ul>\\\\n\\\\n<h2>2. Trump\\\\\\'s Actions Leading to January 6th</h2>\\\\n<ul>\\\\n  <li>Detailed analysis of Trump\\\\\\'s tweets and statements from late December 2020 to January 5, 2021</li>\\\\n  <li>Promotion of election fraud claims and \"Stop the Steal\" movement</li>\\\\n  <li>Encouragement of supporters to come to Washington D.C. on January 6</li>\\\\n  <li>Pressure on Republican politicians and Vice President Mike Pence</li>\\\\n  <li>Sharing of conspiracy theories and strategies to overturn election results</li>\\\\n</ul>\\\\n\\\\n<h2>3. Internet Culture and \"Lolcows\"</h2>\\\\n<ul>\\\\n  <li>Discussion of the concept of \"lolcows\" in online communities</li>\\\\n  <li>Evolution of the term and emergence of \"neo-lolcows\"</li>\\\\n  <li>DSP\\\\\\'s (DarkSydePhil) perspective on drama and content creation</li>\\\\n  <li>Criticism of drama-focused content creators</li>\\\\n</ul>\\\\n\\\\n<h2>4. Gender Differences and Feminism</h2>\\\\n<ul>\\\\n  <li>Debate on nature vs. nurture in gender differences</li>\\\\n  <li>Discussion of physical and cognitive differences between sexes</li>\\\\n  <li>Impact of societal changes on job preferences and gender roles</li>\\\\n  <li>Epigenetics and its potential role in gender differences</li>\\\\n</ul>\\\\n\\\\n<h1>Smaller Details/Topics</h1>\\\\n\\\\n<ul>\\\\n  <li><strong>Police Interactions:</strong> Discussion of a controversial police encounter with a man and his child</li>\\\\n  <li><strong>Betting and Odds:</strong> Explanation of betting odds and arbitrage in sports betting</li>\\\\n  <li><strong>Harry Potter Analysis:</strong> Gender representation in the series and JK Rowling\\\\\\'s views</li>\\\\n  <li><strong>Survival Skills:</strong> Debate on gender differences in wilderness survival abilities</li>\\\\n  <li><strong>Epigenetics:</strong> Brief discussion of the Dutch Famine study and its implications</li>\\\\n  <li><strong>Media Representation:</strong> Criticism of conservative media figures and their coverage</li>\\\\n  <li><strong>Geography Game:</strong> Destiny playing a geography guessing game, likely GeoGuessr</li>\\\\n  <li><strong>Performance-Enhancing Drugs:</strong> Brief mention of dangers in allowing their use in sports</li>\\\\n  <li><strong>Kyle Rittenhouse:</strong> Mention of his political stance and voting intentions</li>\\\\n  <li><strong>Stock Market:</strong> Destiny\\\\\\'s confidence in his investments in Intel and Crowdstrike</li>\\\\n  <li><strong>Israel-Palestine Debate:</strong> Brief discussion of the conflict and media representation</li>\\\\n</ul>\\\\n\\\\nDISCLAIMER: This is all AI generated and there are frequent errors.\\'}, {\\'video_id\\': \\'QCIXqc8J4ck\\', \\'video_characteristics\\': {\\'title\\': \\'the truth about college\\\\nStream Date~ 08/07/2024\\'}, \\'recap\\': \"Salt Lake City\\'s rare F2 tornado: 25 years of memories, wedding day twister, and Utah\\'s tornado history\\\\n<h1>25th Anniversary of the 1999 Salt Lake City Tornado</h1>\\\\n\\\\n<h2>Main Topics</h2>\\\\n\\\\n<ul>\\\\n  <li><strong>Significance of the Event:</strong>\\\\n    <ul>\\\\n      <li>Rare and memorable occurrence for Salt Lake City</li>\\\\n      <li>Many residents still recall where they were that day</li>\\\\n      <li>Most destructive tornado in Utah\\'s history</li>\\\\n    </ul>\\\\n  </li>\\\\n\\\\n  <li><strong>Tornado Details:</strong>\\\\n    <ul>\\\\n      <li>F2 tornado</li>\\\\n      <li>Duration: 10 minutes</li>\\\\n      <li>Casualties: 1 death, 80 injuries</li>\\\\n      <li>Damage: $170 million</li>\\\\n    </ul>\\\\n  </li>\\\\n\\\\n  <li><strong>Eyewitness Accounts:</strong>\\\\n    <ul>\\\\n      <li>Police officer involved in rescue efforts</li>\\\\n      <li>Couple whose wedding coincided with the tornado</li>\\\\n    </ul>\\\\n  </li>\\\\n\\\\n  <li><strong>Tornado Context in Utah:</strong>\\\\n    <ul>\\\\n      <li>Average of two tornadoes per year, mostly weak EF0</li>\\\\n      <li>EF1 or EF2 occurs about every five years</li>\\\\n      <li>1999 tornado remains the most destructive</li>\\\\n    </ul>\\\\n  </li>\\\\n</ul>\\\\n\\\\n<h2>Smaller Details</h2>\\\\n\\\\n<ul>\\\\n  <li>Visual aids used in the report:\\\\n    <ul>\\\\n      <li>Map showing tornado\\'s path</li>\\\\n      <li>Damage point indicators</li>\\\\n    </ul>\\\\n  </li>\\\\n\\\\n  <li>Tone of the segment:\\\\n    <ul>\\\\n      <li>Emphasis on historical significance</li>\\\\n      <li>Blend of factual information and personal stories</li>\\\\n      <li>Resilience and humor (married couple\\'s joke about bad weather leading to good marriage)</li>\\\\n    </ul>\\\\n  </li>\\\\n\\\\n  <li>National Weather Service provided context on tornado occurrences</li>\\\\n\\\\n  <li>Segment aimed to create a comprehensive retrospective for viewers</li>\\\\n\\\\n  <li>Event discussed and remembered 25 years later, highlighting its impact</li>\\\\n</ul>\\\\n\\\\nDISCLAIMER: This is all AI generated and there are frequent errors.\"}, {\\'video_id\\': \\'b4Pg1ZnAbBg\\', \\'video_characteristics\\': {\\'title\\': \\'Reviewing Supreme Court Decisions\\\\nStream Date~ 07/03/2024\\'}, \\'recap\\': \"Presidential immunity debate, 14th Amendment interpretation, Trump\\'s legal challenges, Economic policy impacts\\\\nHere\\'s a comprehensive summary of the main topics and key points discussed in the collection of transcripts:\\\\n\\\\n<h2>Main Topics</h2>\\\\n\\\\n<h3>1. Presidential Immunity and Accountability</h3>\\\\n<ul>\\\\n<li>Recent Supreme Court ruling on presidential immunity</li>\\\\n<li>Debate over absolute vs. qualified immunity for presidents</li>\\\\n<li>Implications for criminal prosecution of former presidents</li>\\\\n<li>Concerns about potential abuse of power and lack of accountability</li>\\\\n</ul>\\\\n\\\\n<h3>2. Constitutional Eligibility for Presidency</h3>\\\\n<ul>\\\\n<li>Interpretation of the 14th Amendment, particularly Section 3 (disqualification for insurrection)</li>\\\\n<li>State vs. federal authority in determining candidate eligibility</li>\\\\n<li>Role of Congress in seating elected officials</li>\\\\n<li>Recent case involving Trump\\'s eligibility in Colorado</li>\\\\n</ul>\\\\n\\\\n<h3>3. Legal and Political Issues</h3>\\\\n<ul>\\\\n<li>Trump\\'s actions related to the 2020 election</li>\\\\n<li>Debate over criminal intent and official acts</li>\\\\n<li>Discussion of hypothetical scenarios to test legal theories</li>\\\\n<li>Analysis of Supreme Court opinions and dissents</li>\\\\n</ul>\\\\n\\\\n<h3>4. Economic and Fiscal Policy</h3>\\\\n<ul>\\\\n<li>Trump\\'s tax cuts and their economic impact</li>\\\\n<li>Deficit spending and its effects</li>\\\\n<li>Inflation and economic growth</li>\\\\n<li>Federal Reserve\\'s role in managing the economy</li>\\\\n</ul>\\\\n\\\\n<h2>Smaller Details/Brief Mentions</h2>\\\\n\\\\n<ul>\\\\n<li>Diplomatic immunity and its extent</li>\\\\n<li>Historical examples of presidential actions (e.g., FDR\\'s internment of Japanese Americans)</li>\\\\n<li>Technical issues with content production and streaming</li>\\\\n<li>Brief discussions on various political figures (Biden, Harris, etc.)</li>\\\\n<li>Mentions of specific legal cases and historical precedents</li>\\\\n<li>Debates about interpretation of specific constitutional clauses</li>\\\\n</ul>\\\\n\\\\n<h2>Overall Sentiment</h2>\\\\n\\\\nDestiny generally takes an analytical approach, often expressing skepticism towards broad interpretations of presidential power or immunity. He frequently challenges other speakers\\' positions and seeks to clarify complex legal and constitutional issues. The discussions are often contentious, with participants debating nuanced points of law and hypothetical scenarios to test their arguments.\\\\n\\\\nDISCLAIMER: This is all AI generated and there are frequent errors.\"}]'"
      ]
     },
     "execution_count": 22,
     "metadata": {},
     "output_type": "execute_result"
    }
   ],
   "source": [
    "str(srl)"
   ]
  },
  {
   "cell_type": "code",
   "execution_count": 17,
   "metadata": {},
   "outputs": [
    {
     "data": {
      "text/plain": [
       "-1"
      ]
     },
     "execution_count": 17,
     "metadata": {},
     "output_type": "execute_result"
    }
   ],
   "source": [
    "str(srl).find(\"p_swB\")"
   ]
  },
  {
   "cell_type": "code",
   "execution_count": null,
   "metadata": {},
   "outputs": [],
   "source": [
    "request_data.json()"
   ]
  },
  {
   "cell_type": "code",
   "execution_count": null,
   "metadata": {},
   "outputs": [],
   "source": [
    "request_data=requests.get('https://destinyrecaps.com/api/recaps')\n",
    "all_recaps_fast=request_data.json()"
   ]
  },
  {
   "cell_type": "code",
   "execution_count": null,
   "metadata": {},
   "outputs": [],
   "source": [
    "# Download every stream recap data\n",
    "for recap in all_recaps_fast:\n",
    "    # print(recap[\"video_id\"])\n",
    "\n",
    "    # check if the stream recap data already exists\n",
    "    stream_recap_datas=await sync_to_async(StreamRecapData.objects.filter)(video_id=recap[\"video_id\"])\n",
    "    stream_recap_data=await sync_to_async(stream_recap_datas.first)()\n",
    "    if stream_recap_data is None:\n",
    "        request_data=requests.get(f'https://destinyrecaps.com/api/dl?video_id={recap[\"video_id\"]}')\n",
    "        stream_recap_data_json=request_data.json()\n",
    "        stream_recap_data=StreamRecapData(**stream_recap_data_json)\n",
    "        await sync_to_async(stream_recap_data.save)()\n",
    "        print(\"DOWNLOADED:\",recap[\"video_id\"])\n",
    "    else:\n",
    "        print(\"Already exists:\",recap[\"video_id\"])\n",
    "        #request_data=requests.get(f'http://\n",
    "# request_data=requests.get('http://127.0.0.1:8000/api/dl?video_id=3kJr7ODrwNw')\n",
    "\n"
   ]
  }
 ],
 "metadata": {
  "kernelspec": {
   "display_name": "env",
   "language": "python",
   "name": "python3"
  },
  "language_info": {
   "codemirror_mode": {
    "name": "ipython",
    "version": 3
   },
   "file_extension": ".py",
   "mimetype": "text/x-python",
   "name": "python",
   "nbconvert_exporter": "python",
   "pygments_lexer": "ipython3",
   "version": "3.11.3"
  }
 },
 "nbformat": 4,
 "nbformat_minor": 2
}
