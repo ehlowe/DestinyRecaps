{
 "cells": [
  {
   "cell_type": "code",
   "execution_count": 2,
   "metadata": {},
   "outputs": [
    {
     "name": "stdout",
     "output_type": "stream",
     "text": [
      "d:\\DestinyFolder\\DestinyRecaps\\DestinyRecapsApi\\serverproject\n"
     ]
    }
   ],
   "source": [
    "# DIRECTORY SET\n",
    "import os\n",
    "import sys\n",
    "from pathlib import Path\n",
    "base_dir=Path(os.getcwd()).parent\n",
    "os.chdir(base_dir)\n",
    "print(os.getcwd())\n",
    "\n",
    "# Load dotenv\n",
    "import dotenv\n",
    "dotenv.load_dotenv()\n",
    "\n",
    "# DJANGO SETUP\n",
    "import django\n",
    "sys.path.append(os.path.abspath(''))\n",
    "os.environ.setdefault(\"DJANGO_SETTINGS_MODULE\", \"serverproject.settings\")\n",
    "django.setup()\n",
    "\n",
    "# Import async modules\n",
    "import asyncio\n",
    "from asgiref.sync import sync_to_async\n",
    "\n",
    "# Import display modules\n",
    "from IPython.display import display, Markdown\n",
    "\n",
    "# Import other modules\n",
    "import faiss\n",
    "\n",
    "# import reloading\n",
    "from importlib import reload"
   ]
  },
  {
   "cell_type": "code",
   "execution_count": 3,
   "metadata": {},
   "outputs": [],
   "source": [
    "%load_ext autoreload\n",
    "%autoreload 2\n",
    "\n",
    "from destinyapp.models import StreamRecapData\n",
    "\n",
    "from core import services\n",
    "from core import utils"
   ]
  },
  {
   "cell_type": "code",
   "execution_count": 5,
   "metadata": {},
   "outputs": [],
   "source": [
    "import requests"
   ]
  },
  {
   "cell_type": "code",
   "execution_count": null,
   "metadata": {},
   "outputs": [],
   "source": [
    "# make get to http://127.0.0.1:8000/api/dl?mra=o0987yhnbgHJNBHGAT^&video_id=3kJr7ODrwNw\n",
    "\n",
    "# get the data\n",
    "request_data=requests.get('https://destinyrecaps.com/api/dl?mra=o0987yhnbgHJNBHGAT^&video_id=fTcS6FFa4PA')\n",
    "\n"
   ]
  },
  {
   "cell_type": "code",
   "execution_count": 7,
   "metadata": {},
   "outputs": [],
   "source": [
    "request_data=requests.get('https://destinyrecaps.com/api/dl?video_id=fTcS6FFa4PA')\n",
    "stream_recap_data_json=request_data.json()\n",
    "stream_recap_data=StreamRecapData(**stream_recap_data_json)\n",
    "await sync_to_async(stream_recap_data.save)()"
   ]
  },
  {
   "cell_type": "code",
   "execution_count": null,
   "metadata": {},
   "outputs": [],
   "source": [
    "request_data.json()"
   ]
  },
  {
   "cell_type": "code",
   "execution_count": null,
   "metadata": {},
   "outputs": [],
   "source": [
    "request_data=requests.get('https://destinyrecaps.com/api/recaps')\n",
    "all_recaps_fast=request_data.json()"
   ]
  },
  {
   "cell_type": "code",
   "execution_count": null,
   "metadata": {},
   "outputs": [],
   "source": [
    "# Download every stream recap data\n",
    "for recap in all_recaps_fast:\n",
    "    # print(recap[\"video_id\"])\n",
    "\n",
    "    # check if the stream recap data already exists\n",
    "    stream_recap_datas=await sync_to_async(StreamRecapData.objects.filter)(video_id=recap[\"video_id\"])\n",
    "    stream_recap_data=await sync_to_async(stream_recap_datas.first)()\n",
    "    if stream_recap_data is None:\n",
    "        request_data=requests.get(f'https://destinyrecaps.com/api/dl?video_id={recap[\"video_id\"]}')\n",
    "        stream_recap_data_json=request_data.json()\n",
    "        stream_recap_data=StreamRecapData(**stream_recap_data_json)\n",
    "        await sync_to_async(stream_recap_data.save)()\n",
    "        print(\"DOWNLOADED:\",recap[\"video_id\"])\n",
    "    else:\n",
    "        print(\"Already exists:\",recap[\"video_id\"])\n",
    "        #request_data=requests.get(f'http://\n",
    "# request_data=requests.get('http://127.0.0.1:8000/api/dl?video_id=3kJr7ODrwNw')\n",
    "\n"
   ]
  }
 ],
 "metadata": {
  "kernelspec": {
   "display_name": "env",
   "language": "python",
   "name": "python3"
  },
  "language_info": {
   "codemirror_mode": {
    "name": "ipython",
    "version": 3
   },
   "file_extension": ".py",
   "mimetype": "text/x-python",
   "name": "python",
   "nbconvert_exporter": "python",
   "pygments_lexer": "ipython3",
   "version": "3.11.3"
  }
 },
 "nbformat": 4,
 "nbformat_minor": 2
}
