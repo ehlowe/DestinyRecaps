{
 "cells": [
  {
   "cell_type": "code",
   "execution_count": 1,
   "metadata": {},
   "outputs": [
    {
     "name": "stdout",
     "output_type": "stream",
     "text": [
      "d:\\DestinyFolder\\DestinyRecaps\\DestinyRecapsApi\\serverproject\n"
     ]
    }
   ],
   "source": [
    "# DIRECTORY SET\n",
    "import os\n",
    "import sys\n",
    "from pathlib import Path\n",
    "base_dir=Path(os.getcwd()).parent\n",
    "# os.chdir(os.path.join(base_dir, 'serverproject'))\n",
    "os.chdir(base_dir)\n",
    "print(os.getcwd())\n",
    "\n",
    "# Load dotenv\n",
    "import dotenv\n",
    "dotenv.load_dotenv()\n",
    "\n",
    "# DJANGO SETUP\n",
    "import django\n",
    "sys.path.append(os.path.abspath(''))\n",
    "os.environ.setdefault(\"DJANGO_SETTINGS_MODULE\", \"serverproject.settings\")\n",
    "django.setup()\n",
    "\n",
    "# Import async modules\n",
    "import asyncio\n",
    "from asgiref.sync import sync_to_async\n",
    "\n",
    "# Import display modules\n",
    "from IPython.display import display, Markdown\n",
    "\n",
    "# Import other modules\n",
    "import faiss\n",
    "\n",
    "# import reloading\n",
    "from importlib import reload"
   ]
  },
  {
   "cell_type": "code",
   "execution_count": 2,
   "metadata": {},
   "outputs": [],
   "source": [
    "%load_ext autoreload\n",
    "%autoreload 2\n",
    "\n",
    "from destinyapp.models import StreamRecapData, FastRecapData\n",
    "\n",
    "from core import services\n",
    "from core import utils\n",
    "from core import controller"
   ]
  },
  {
   "cell_type": "markdown",
   "metadata": {},
   "source": [
    "# Start of Prod Controller"
   ]
  },
  {
   "cell_type": "code",
   "execution_count": 3,
   "metadata": {},
   "outputs": [],
   "source": [
    "video_id=\"phITCK1LnDs\"\n",
    "cost=0"
   ]
  },
  {
   "cell_type": "code",
   "execution_count": 4,
   "metadata": {},
   "outputs": [],
   "source": [
    "import time\n",
    "times=[]\n",
    "t_start=time.time()\n",
    "times.append({\"start\":t_start})"
   ]
  },
  {
   "cell_type": "code",
   "execution_count": 5,
   "metadata": {},
   "outputs": [
    {
     "data": {
      "text/plain": [
       "'d:\\\\DestinyFolder\\\\DestinyRecaps\\\\DestinyRecapsApi\\\\serverproject'"
      ]
     },
     "execution_count": 5,
     "metadata": {},
     "output_type": "execute_result"
    }
   ],
   "source": [
    "os.getcwd()"
   ]
  },
  {
   "cell_type": "code",
   "execution_count": 6,
   "metadata": {},
   "outputs": [
    {
     "name": "stdout",
     "output_type": "stream",
     "text": [
      "download thread closed\n",
      "d:\\DestinyFolder\\DestinyRecaps\\DestinyRecapsApi\\serverproject\n"
     ]
    }
   ],
   "source": [
    "# Get and process transcript\n",
    "await services.video_and_transcript.download_youtube_transcript(video_id)\n",
    "raw_transcript=await services.video_and_transcript.read_and_process_youtube_transcript(video_id)\n",
    "transcript, linked_transcript=services.fast.transcript_processing.process_yt_transcript(raw_transcript, video_id)\n",
    "t_transcript=time.time()\n",
    "times.append({\"transcript\":t_transcript})\n",
    "if (len(utils.api_requests.enc.encode(transcript)))>(120*1000):\n",
    "    raise Exception(\"Transcript too long\")"
   ]
  },
  {
   "cell_type": "code",
   "execution_count": 14,
   "metadata": {},
   "outputs": [
    {
     "data": {
      "text/plain": [
       "'d:\\\\DestinyFolder\\\\DestinyRecaps\\\\DestinyRecapsApi\\\\serverproject'"
      ]
     },
     "execution_count": 14,
     "metadata": {},
     "output_type": "execute_result"
    }
   ],
   "source": [
    "os.getcwd()"
   ]
  },
  {
   "cell_type": "code",
   "execution_count": 16,
   "metadata": {},
   "outputs": [
    {
     "data": {
      "text/plain": [
       "True"
      ]
     },
     "execution_count": 16,
     "metadata": {},
     "output_type": "execute_result"
    }
   ],
   "source": [
    "os.path.exists(r\"D:\\DestinyFolder\\DestinyRecaps\\DestinyRecapsApi\\serverproject\\destinyapp\\working_folder\\transcripts\\FwtbXklEItc_trancript.en.srt\")"
   ]
  },
  {
   "cell_type": "code",
   "execution_count": 13,
   "metadata": {},
   "outputs": [
    {
     "name": "stdout",
     "output_type": "stream",
     "text": [
      "False\n"
     ]
    }
   ],
   "source": [
    "print(os.path.exists('destinyapp/working_folder/transcripts/FwtbXklEItc_transcript.en.srt'))"
   ]
  },
  {
   "cell_type": "code",
   "execution_count": 7,
   "metadata": {},
   "outputs": [],
   "source": [
    "# Make Topics\n",
    "topics_str, major_topics, temp_cost=await services.fast.data_gen.create_topics(transcript)\n",
    "t_topics=time.time()\n",
    "times.append({\"topics\":t_topics})\n",
    "cost+=temp_cost"
   ]
  },
  {
   "cell_type": "code",
   "execution_count": 8,
   "metadata": {},
   "outputs": [
    {
     "name": "stdout",
     "output_type": "stream",
     "text": [
      "Cost:  0.000447\n",
      "Results:  6\n"
     ]
    }
   ],
   "source": [
    "# Annotate Text batches\n",
    "text_chunks_no_overlap = await services.stream_plot.data_gen.create_text_chunks(transcript, 0)\n",
    "text_chunk_batches = await services.stream_plot.data_gen.generate_text_chunk_batches(text_chunks_no_overlap)\n",
    "responses, annotated_results, temp_cost = await services.fast.data_gen.annotate_all_batches(text_chunk_batches, topics_str)\n",
    "cost+=temp_cost\n",
    "t_annotations=time.time()\n",
    "times.append({\"annotations\":t_annotations})"
   ]
  },
  {
   "cell_type": "code",
   "execution_count": 9,
   "metadata": {},
   "outputs": [
    {
     "name": "stdout",
     "output_type": "stream",
     "text": [
      "5\n",
      "Material and part improvements\n",
      "Control and steering enhancements\n",
      "Testing and performance evaluation\n",
      "Damage assessment and recovery\n"
     ]
    }
   ],
   "source": [
    "# Create Plot\n",
    "annotated_segments, category_locations = await services.stream_plot.data_processing.create_segments(linked_transcript, annotated_results, major_topics, transcript)\n",
    "plot_segments=await services.stream_plot.data_processing.annotated_to_plot_segments(annotated_segments)\n",
    "plot_object=await services.stream_plot.data_processing.create_plot_object(plot_segments, category_locations, video_id)\n",
    "t_plot_object=time.time()\n",
    "times.append({\"plot_object\":t_plot_object})"
   ]
  },
  {
   "cell_type": "code",
   "execution_count": 10,
   "metadata": {},
   "outputs": [],
   "source": [
    "# Annotate Extra\n",
    "plot_object, temp_cost=await services.stream_plot.extra_annotations.recap_segments(plot_object)\n",
    "cost+=temp_cost\n",
    "t_recap_segments=time.time()\n",
    "times.append({\"recap_segments\":t_recap_segments})\n",
    "plot_object, temp_cost=await services.stream_plot.extra_annotations.recap_abstractions(plot_object)\n",
    "cost+=temp_cost\n",
    "t_recap_abstractions=time.time()\n",
    "times.append({\"recap_abstractions\":t_recap_abstractions})"
   ]
  },
  {
   "cell_type": "code",
   "execution_count": 11,
   "metadata": {},
   "outputs": [
    {
     "name": "stdout",
     "output_type": "stream",
     "text": [
      "Created Fast Recap for video_id:  phITCK1LnDs  with cost:  0.0015850500000000002\n",
      "transcript :  15.421881437301636\n",
      "topics :  2.763185977935791\n",
      "annotations :  2.3190062046051025\n",
      "plot_object :  0.12117791175842285\n",
      "recap_segments :  0.9868555068969727\n",
      "recap_abstractions :  0.9040377140045166\n",
      "Total Time:  22.51614475250244\n"
     ]
    }
   ],
   "source": [
    "print(\"Created Fast Recap for video_id: \", video_id, \" with cost: \", cost)\n",
    "\n",
    "for i in range(1,len(times)):\n",
    "    print(list(times[i].keys())[0], \": \", list(times[i].values())[0]-list(times[i-1].values())[0])\n",
    "\n",
    "print(\"Total Time: \", list(times[-1].values())[0]-list(times[0].values())[0])"
   ]
  }
 ],
 "metadata": {
  "kernelspec": {
   "display_name": "env",
   "language": "python",
   "name": "python3"
  },
  "language_info": {
   "codemirror_mode": {
    "name": "ipython",
    "version": 3
   },
   "file_extension": ".py",
   "mimetype": "text/x-python",
   "name": "python",
   "nbconvert_exporter": "python",
   "pygments_lexer": "ipython3",
   "version": "3.11.3"
  }
 },
 "nbformat": 4,
 "nbformat_minor": 2
}
