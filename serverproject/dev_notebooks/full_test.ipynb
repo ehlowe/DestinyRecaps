{
 "cells": [
  {
   "cell_type": "code",
   "execution_count": 1,
   "metadata": {},
   "outputs": [
    {
     "name": "stdout",
     "output_type": "stream",
     "text": [
      "d:\\DestinyFolder\\DestinyRecaps\\DestinyRecapsApi\\serverproject\n"
     ]
    }
   ],
   "source": [
    "# DIRECTORY SET\n",
    "import os\n",
    "import sys\n",
    "from pathlib import Path\n",
    "base_dir=Path(os.getcwd()).parent\n",
    "# os.chdir(os.path.join(base_dir, 'serverproject'))\n",
    "os.chdir(base_dir)\n",
    "print(os.getcwd())\n",
    "\n",
    "# Load dotenv\n",
    "import dotenv\n",
    "dotenv.load_dotenv()\n",
    "\n",
    "# DJANGO SETUP\n",
    "import django\n",
    "sys.path.append(os.path.abspath(''))\n",
    "os.environ.setdefault(\"DJANGO_SETTINGS_MODULE\", \"serverproject.settings\")\n",
    "django.setup()\n",
    "\n",
    "# Import async modules\n",
    "import asyncio\n",
    "from asgiref.sync import sync_to_async\n",
    "\n",
    "# Import display modules\n",
    "from IPython.display import display, Markdown\n",
    "\n",
    "# Import other modules\n",
    "import faiss\n",
    "\n",
    "# import reloading\n",
    "from importlib import reload"
   ]
  },
  {
   "cell_type": "code",
   "execution_count": 21,
   "metadata": {},
   "outputs": [
    {
     "name": "stdout",
     "output_type": "stream",
     "text": [
      "The autoreload extension is already loaded. To reload it, use:\n",
      "  %reload_ext autoreload\n"
     ]
    }
   ],
   "source": [
    "%load_ext autoreload\n",
    "%autoreload 2\n",
    "\n",
    "from destinyapp.models import StreamRecapData\n",
    "\n",
    "from core import services\n",
    "from core import utils\n",
    "from core import controllers"
   ]
  },
  {
   "cell_type": "code",
   "execution_count": 3,
   "metadata": {},
   "outputs": [],
   "source": [
    "video_id=\"b4Pg1ZnAbBg\""
   ]
  },
  {
   "cell_type": "code",
   "execution_count": 4,
   "metadata": {},
   "outputs": [],
   "source": [
    "stream_recap_data_in=await utils.get_recap_data(video_id)"
   ]
  },
  {
   "cell_type": "code",
   "execution_count": 5,
   "metadata": {},
   "outputs": [
    {
     "name": "stdout",
     "output_type": "stream",
     "text": [
      "{'text': 'looks', 'start': 186955, 'end': 187331, 'confidence': 0.95508, 'speaker': 'A', 'channel': None}\n",
      "585\n",
      "607\n",
      "Destiny starts\n",
      "Finished diarization cutoff\n"
     ]
    }
   ],
   "source": [
    "transcript, linked_transcript=await services.process_raw_transcript(stream_recap_data_in.raw_transcript_data, video_id)"
   ]
  },
  {
   "cell_type": "code",
   "execution_count": null,
   "metadata": {},
   "outputs": [],
   "source": [
    "services.VectorDbAndTextChunksGenerator.cr"
   ]
  },
  {
   "cell_type": "code",
   "execution_count": 7,
   "metadata": {},
   "outputs": [
    {
     "name": "stdout",
     "output_type": "stream",
     "text": [
      "Number of chunks:  1025\n",
      "Emedding Fail Retrying: Request timed out.\n",
      "Emedding Fail Retrying: Request timed out.\n",
      "Emedding Fail Retrying: Request timed out.\n",
      "Emedding Fail Retrying: Request timed out.\n",
      "Emedding Fail Retrying: Request timed out.\n",
      "Emedding Fail Retrying: Request timed out.\n",
      "Emedding Fail Retrying: Request timed out.\n",
      "Emedding Fail Retrying: Request timed out.\n",
      "Emedding Fail Retrying: Request timed out.\n",
      "Emedding Fail Retrying: Request timed out.\n",
      "Emedding Fail Retrying: Request timed out.\n",
      "Emedding Fail Retrying: Request timed out.\n",
      "Emedding Fail Retrying: Request timed out.\n",
      "Emedding Fail Retrying: Request timed out.\n",
      "Emedding Fail Retrying: Request timed out.\n",
      "Emedding Fail Retrying: Request timed out.\n",
      "Emedding Fail Retrying: Request timed out.\n",
      "Emedding Fail Retrying: Request timed out.\n",
      "Emedding Fail Retrying: Request timed out.\n",
      "Emedding Fail Retrying: Request timed out.\n",
      "Emedding Fail Retrying: Request timed out.\n",
      "Emedding Fail Retrying: Request timed out.\n",
      "Emedding Fail Retrying: Request timed out.\n",
      "Emedding Fail Retrying: Request timed out.\n",
      "Emedding Fail Retrying: Request timed out.\n",
      "Emedding Fail Retrying: Request timed out.\n",
      "Emedding Fail Retrying: Request timed out.\n",
      "Emedding Fail Retrying: Request timed out.\n",
      "Emedding Fail Retrying: Request timed out.\n",
      "Emedding Fail Retrying: Request timed out.\n",
      "Emedding Fail Retrying: Request timed out.\n",
      "Emedding Fail Retrying: Request timed out.\n",
      "Emedding Fail Retrying: Request timed out.\n",
      "Emedding Fail Retrying: Request timed out.\n",
      "Emedding Fail Retrying: Request timed out.\n",
      "Emedding Fail Retrying: Request timed out.\n",
      "Emedding Fail Retrying: Request timed out.\n",
      "Emedding Fail Retrying: Request timed out.\n",
      "Emedding Fail Retrying: Request timed out.\n",
      "Emedding Fail Retrying: Request timed out.\n",
      "Emedding Fail Retrying: Request timed out.\n",
      "Emedding Fail Retrying: Request timed out.\n",
      "Emedding Fail Retrying: Request timed out.\n",
      "Emedding Fail Retrying: Request timed out.\n",
      "Emedding Fail Retrying: Request timed out.\n",
      "Emedding Fail Retrying: Request timed out.\n",
      "Emedding Fail Retrying: Request timed out.\n",
      "Emedding Fail Retrying: Request timed out.\n",
      "Emedding Fail Retrying: Request timed out.\n",
      "Emedding Fail Retrying: Request timed out.\n",
      "Emedding Fail Retrying: Request timed out.\n",
      "Emedding Fail Retrying: Request timed out.\n",
      "Emedding Fail Retrying: Request timed out.\n",
      "Emedding Fail Retrying: Request timed out.\n",
      "Emedding Fail Retrying: Request timed out.\n",
      "Emedding Fail Retrying: Request timed out.\n",
      "Emedding Fail Retrying: Request timed out.\n",
      "Emedding Fail Retrying: Request timed out.\n",
      "Emedding Fail Retrying: Request timed out.\n",
      "Emedding Fail Retrying: Request timed out.\n",
      "Emedding Fail Retrying: Request timed out.\n",
      "Emedding Fail Retrying: Request timed out.\n",
      "Emedding Fail Retrying: Request timed out.\n",
      "Emedding Fail Retrying: Request timed out.\n",
      "Emedding Fail Retrying: Request timed out.\n",
      "Emedding Fail Retrying: Request timed out.\n",
      "Emedding Fail Retrying: Request timed out.\n",
      "Emedding Fail Retrying: Request timed out.\n",
      "Emedding Fail Retrying: Request timed out.\n",
      "Emedding Fail Retrying: Request timed out.\n",
      "Emedding Fail Retrying: Request timed out.\n",
      "Emedding Fail Retrying: Request timed out.\n",
      "Emedding Fail Retrying: Request timed out.\n",
      "Emedding Fail Retrying: Request timed out.\n",
      "Emedding Fail Retrying: Request timed out.\n",
      "Emedding Fail Retrying: Request timed out.\n",
      "Emedding Fail Retrying: Request timed out.\n",
      "Emedding Fail Retrying: Request timed out.\n",
      "Emedding Fail Retrying: Request timed out.\n",
      "Emedding Fail Retrying: Request timed out.\n",
      "Emedding Fail Retrying: Request timed out.\n",
      "Emedding Fail Retrying: Request timed out.\n",
      "Emedding Fail Retrying: Request timed out.\n",
      "Emedding Fail Retrying: Request timed out.\n",
      "Emedding Fail Retrying: Request timed out.\n",
      "Emedding Fail Retrying: Request timed out.\n",
      "Emedding Fail Retrying: Request timed out.\n",
      "Emedding Fail Retrying: Request timed out.\n",
      "Emedding Fail Retrying: Request timed out.\n",
      "Emedding Fail Retrying: Request timed out.\n",
      "Emedding Fail Retrying: Request timed out.\n",
      "Emedding Fail Retrying: Request timed out.\n",
      "Emedding Fail Retrying: Request timed out.\n",
      "Emedding Fail Retrying: Request timed out.\n",
      "Emedding Fail Retrying: Request timed out.\n",
      "Emedding Fail Retrying: Request timed out.\n",
      "Emedding Fail Retrying: Request timed out.\n",
      "Emedding Fail Retrying: Request timed out.\n",
      "Emedding Fail Retrying: Request timed out.\n",
      "Emedding Fail Retrying: Request timed out.\n",
      "Emedding Fail Retrying: Request timed out.\n",
      "Emedding Fail Retrying: Request timed out.\n",
      "Emedding Fail Retrying: Request timed out.\n",
      "Emedding Fail Retrying: Request timed out.\n",
      "Emedding Fail Retrying: Request timed out.\n",
      "Emedding Fail Retrying: Request timed out.\n",
      "Emedding Fail Retrying: Request timed out.\n",
      "Emedding Fail Retrying: Request timed out.\n",
      "Emedding Fail Retrying: Request timed out.\n",
      "Emedding Fail Retrying: Request timed out.\n",
      "Emedding Fail Retrying: Request timed out.\n",
      "Emedding Fail Retrying: Request timed out.\n",
      "Emedding Fail Retrying: Request timed out.\n",
      "Emedding Fail Retrying: Request timed out.\n",
      "Emedding Fail Retrying: Request timed out.\n",
      "Emedding Fail Retrying: Request timed out.\n",
      "Emedding Fail Retrying: Request timed out.\n",
      "Emedding Fail Retrying: Request timed out.\n",
      "Emedding Fail Retrying: Request timed out.\n",
      "Emedding Fail Retrying: Request timed out.\n",
      "Emedding Fail Retrying: Request timed out.\n",
      "Emedding Fail Retrying: Request timed out.\n",
      "Emedding Fail Retrying: Request timed out.\n",
      "Emedding Fail Retrying: Request timed out.\n",
      "Emedding Fail Retrying: Request timed out.\n",
      "Emedding Fail Retrying: Request timed out.\n",
      "Emedding Fail Retrying: Request timed out.\n",
      "Emedding Fail Retrying: Request timed out.\n",
      "Emedding Fail Retrying: Request timed out.\n",
      "Emedding Fail Retrying: Request timed out.\n",
      "Emedding Fail Retrying: Request timed out.\n",
      "Emedding Fail Retrying: Request timed out.\n",
      "Emedding Fail Retrying: Request timed out.\n",
      "Emedding Fail Retrying: Request timed out.\n",
      "Emedding Fail Retrying: Request timed out.\n",
      "Emedding Fail Retrying: Request timed out.\n",
      "Emedding Fail Retrying: Request timed out.\n",
      "Emedding Fail Retrying: Request timed out.\n",
      "Emedding Fail Retrying: Request timed out.\n",
      "Emedding Fail Retrying: Request timed out.\n",
      "Emedding Fail Retrying: Request timed out.\n",
      "Emedding Fail Retrying: Request timed out.\n",
      "Emedding Fail Retrying: Request timed out.\n",
      "Emedding Fail Retrying: Request timed out.\n",
      "Emedding Fail Retrying: Request timed out.\n",
      "Emedding Fail Retrying: Request timed out.\n",
      "Emedding Fail Retrying: Request timed out.\n",
      "Emedding Fail Retrying: Request timed out.\n",
      "Emedding Fail Retrying: Request timed out.\n",
      "Emedding Fail Retrying: Request timed out.\n",
      "Emedding Fail Retrying: Request timed out.\n",
      "Emedding Fail Retrying: Request timed out.\n",
      "Emedding Fail Retrying: Request timed out.\n",
      "Emedding Fail Retrying: Request timed out.\n",
      "Emedding Fail Retrying: Request timed out.\n",
      "Emedding Fail Retrying: Request timed out.\n",
      "Emedding Fail Retrying: Request timed out.\n",
      "Emedding Fail Retrying: Request timed out.\n",
      "Emedding Fail Retrying: Request timed out.\n",
      "Emedding Fail Retrying: Request timed out.\n",
      "Emedding Fail Retrying: Request timed out.\n",
      "Emedding Fail Retrying: Request timed out.\n",
      "Emedding Fail Retrying: Request timed out.\n",
      "Emedding Fail Retrying: Request timed out.\n",
      "Emedding Fail Retrying: Request timed out.\n",
      "Emedding Fail Retrying: Request timed out.\n",
      "Emedding Fail Retrying: Request timed out.\n",
      "Emedding Fail Retrying: Request timed out.\n",
      "Emedding Fail Retrying: Request timed out.\n",
      "Emedding Fail Retrying: Request timed out.\n",
      "Emedding Fail Retrying: Request timed out.\n",
      "Emedding Fail Retrying: Request timed out.\n",
      "Emedding Fail Retrying: Request timed out.\n",
      "Emedding Fail Retrying: Request timed out.\n",
      "Emedding Fail Retrying: Request timed out.\n",
      "Emedding Fail Retrying: Request timed out.\n",
      "Emedding Fail Retrying: Request timed out.\n",
      "Emedding Fail Retrying: Request timed out.\n",
      "Emedding Fail Retrying: Request timed out.\n",
      "Emedding Fail Retrying: Request timed out.\n",
      "Emedding Fail Retrying: Request timed out.\n",
      "Emedding Fail Retrying: Request timed out.\n",
      "Emedding Fail Retrying: Request timed out.\n",
      "Emedding Fail Retrying: Request timed out.\n",
      "Emedding Fail Retrying: Request timed out.\n",
      "Emedding Fail Retrying: Request timed out.\n",
      "Emedding Fail Retrying: Request timed out.\n",
      "Emedding Fail Retrying: Request timed out.\n",
      "Emedding Fail Retrying: Request timed out.\n",
      "Emedding Fail Retrying: Request timed out.\n",
      "Emedding Fail Retrying: Request timed out.\n",
      "Emedding Fail Retrying: Request timed out.\n",
      "Emedding Fail Retrying: Request timed out.\n",
      "Emedding Fail Retrying: Request timed out.\n",
      "Emedding Fail Retrying: Request timed out.\n",
      "Emedding Fail Retrying: Request timed out.\n",
      "Emedding Fail Retrying: Request timed out.\n",
      "Emedding Fail Retrying: Request timed out.\n",
      "Emedding Fail Retrying: Request timed out.\n",
      "Emedding Fail Retrying: Request timed out.\n",
      "Emedding Fail Retrying: Request timed out.\n",
      "Emedding Fail Retrying: Request timed out.\n",
      "Emedding Fail Retrying: Request timed out.\n",
      "Emedding Fail Retrying: Request timed out.\n",
      "Emedding Fail Retrying: Request timed out.\n",
      "Emedding Fail Retrying: Request timed out.\n",
      "Emedding Fail Retrying: Request timed out.\n",
      "Emedding Fail Retrying: Request timed out.\n",
      "Emedding Fail Retrying: Request timed out.\n",
      "Emedding Fail Retrying: Request timed out.\n",
      "Emedding Fail Retrying: Request timed out.\n",
      "Emedding Fail Retrying: Request timed out.\n",
      "Emedding Fail Retrying: Request timed out.\n",
      "Emedding Fail Retrying: Request timed out.\n",
      "Emedding Fail Retrying: Request timed out.\n",
      "Emedding Fail Retrying: Request timed out.\n",
      "Emedding Fail Retrying: Request timed out.\n",
      "Emedding Fail Retrying: Request timed out.\n",
      "Emedding Fail Retrying: Request timed out.\n",
      "Emedding Fail Retrying: Request timed out.\n",
      "Emedding Fail Retrying: Request timed out.\n",
      "Emedding Fail Retrying: Request timed out.\n",
      "Emedding Fail Retrying: Request timed out.\n",
      "Emedding Fail Retrying: Request timed out.\n",
      "Emedding Fail Retrying: Request timed out.\n",
      "Emedding Fail Retrying: Request timed out.\n",
      "Emedding Fail Retrying: Request timed out.\n",
      "Emedding Fail Retrying: Request timed out.\n",
      "Emedding Fail Retrying: Request timed out.\n",
      "Emedding Fail Retrying: Request timed out.\n",
      "Emedding Fail Retrying: Request timed out.\n",
      "Finished generating embeddings\n",
      "Finished making vector db\n",
      "Saved vector db to: destinyapp/working_folder/vectordbs/b4Pg1ZnAbBg.index\n"
     ]
    }
   ],
   "source": [
    "vectordb, text_chunks=await services.VectorDbAndTextChunksGenerator.generate_basic_vectordb_and_chunks(video_id, transcript)"
   ]
  },
  {
   "cell_type": "code",
   "execution_count": 8,
   "metadata": {},
   "outputs": [
    {
     "name": "stdout",
     "output_type": "stream",
     "text": [
      "0 1 2 3 4 5 6 7 8 9 10 11 12 13 14 15 16 17 18 19 20 21 22 23 24 25 26 27 28 29 30 31 32 33 34 35 36 37 38 39 40 41 42 43 44 45 46 47 48 49 50 51 52 0 0\n",
      "1 1\n",
      "2 2\n",
      "3 3\n",
      "4 4\n",
      "5 5\n",
      "6 6\n",
      "7 7\n",
      "8 8\n",
      "9 9\n",
      "10 10\n",
      "11 11\n",
      "12 12\n",
      "13 13\n",
      "14 14\n",
      "15 15\n",
      "16 16\n",
      "17 17\n",
      "18 18\n",
      "19 19\n",
      "20 20\n",
      "21 21\n",
      "22 22\n",
      "23 23\n",
      "24 24\n",
      "25 25\n",
      "26 26\n",
      "27 27\n",
      "28 28\n",
      "29 29\n",
      "30 30\n",
      "31 31\n",
      "32 32\n",
      "33 33\n",
      "34 34\n",
      "35 35\n",
      "36 36\n",
      "37 37\n",
      "38 38\n",
      "39 39\n",
      "40 40\n",
      "41 41\n",
      "42 42\n",
      "43 43\n",
      "44 44\n",
      "45 45\n",
      "46 46\n",
      "47 47\n",
      "48 48\n",
      "49 49\n",
      "50 50\n",
      "51 51\n",
      "52 52\n",
      "Total cost:  0.7632510000000002\n"
     ]
    }
   ],
   "source": [
    "segments_and_summaries=await services.SummarizedSegmentGenerator.generate_summarized_segments(transcript)"
   ]
  },
  {
   "cell_type": "code",
   "execution_count": 10,
   "metadata": {},
   "outputs": [
    {
     "name": "stdout",
     "output_type": "stream",
     "text": [
      "Recap generation cost:  0.08841\n"
     ]
    }
   ],
   "source": [
    "recap = await services.RecapGenerator.generate_recap(segments_and_summaries)"
   ]
  },
  {
   "cell_type": "code",
   "execution_count": 11,
   "metadata": {},
   "outputs": [
    {
     "name": "stdout",
     "output_type": "stream",
     "text": [
      "Recap hook generation cost:  0.006717\n"
     ]
    }
   ],
   "source": [
    "recap_hook=await services.RecapGenerator.generate_recap_hook(recap)"
   ]
  },
  {
   "cell_type": "code",
   "execution_count": 12,
   "metadata": {},
   "outputs": [
    {
     "name": "stdout",
     "output_type": "stream",
     "text": [
      "[youtube] Extracting URL: https://www.youtube.com/watch?v=b4Pg1ZnAbBg\n",
      "[youtube] b4Pg1ZnAbBg: Downloading webpage\n",
      "[youtube] b4Pg1ZnAbBg: Downloading ios player API JSON\n",
      "[youtube] b4Pg1ZnAbBg: Downloading player bd3293c9\n"
     ]
    },
    {
     "name": "stderr",
     "output_type": "stream",
     "text": [
      "WARNING: [youtube] b4Pg1ZnAbBg: nsig extraction failed: You may experience throttling for some formats\n",
      "         n = asC6maRLGi6jfuXrg-I ; player = https://www.youtube.com/s/player/bd3293c9/player_ias.vflset/en_US/base.js\n",
      "WARNING: [youtube] b4Pg1ZnAbBg: nsig extraction failed: You may experience throttling for some formats\n",
      "         n = X8ShGWwZ5pUv1kNiLI3 ; player = https://www.youtube.com/s/player/bd3293c9/player_ias.vflset/en_US/base.js\n"
     ]
    },
    {
     "name": "stdout",
     "output_type": "stream",
     "text": [
      "[youtube] b4Pg1ZnAbBg: Downloading m3u8 information\n"
     ]
    }
   ],
   "source": [
    "full_title=await services.get_video_metadata(video_id)"
   ]
  },
  {
   "cell_type": "code",
   "execution_count": null,
   "metadata": {},
   "outputs": [],
   "source": [
    "# typically you have to save the data to the database\n"
   ]
  },
  {
   "cell_type": "code",
   "execution_count": 23,
   "metadata": {},
   "outputs": [
    {
     "name": "stdout",
     "output_type": "stream",
     "text": [
      "Discord logged in as DestinySummarizer#3997\n",
      "Recaps\n",
      "Voice Channels\n",
      "general\n",
      "General\n",
      "recaps\n",
      "rules\n",
      "test\n",
      "Server Guide\n",
      "moderator-only\n",
      "Discussion\n",
      "discussion\n",
      "discussion\n",
      "destiny-clips\n",
      "forum-discussion\n",
      "General-2\n",
      "General-3\n",
      "memes\n",
      "programming-discussion\n",
      "landing-page\n",
      "about\n",
      "General\n",
      "Development Discussion\n",
      "features\n",
      "recaps-testing\n",
      "Sending Recap video_id:  b4Pg1ZnAbBg  to channel:  recaps-testing\n",
      "announcements\n"
     ]
    },
    {
     "name": "stdout",
     "output_type": "stream",
     "text": [
      "Send and client closed\n"
     ]
    }
   ],
   "source": [
    "discord_recaps_to_send=await services.DiscordMessageHandler.compile_discord_messages([video_id])\n",
    "await services.DiscordMessageHandler.send_discord_recaps(discord_recaps_to_send)\n"
   ]
  },
  {
   "cell_type": "code",
   "execution_count": 14,
   "metadata": {},
   "outputs": [
    {
     "name": "stdout",
     "output_type": "stream",
     "text": [
      "Cost:  0.005664000000000001\n",
      "Cost:  0.0014217499999999998\n",
      "Cost:  0.0022552500000000003\n",
      "Cost:  0.0023499999999999997\n",
      "Cost:  0.002452\n",
      "Cost:  0.0024035000000000003\n",
      "Cost:  0.00270975\n",
      "Cost:  0.002484\n",
      "Cost:  0.002646\n",
      "Cost:  0.0026437500000000003\n",
      "Cost:  0.00296075\n",
      "Cost:  0.0032975\n",
      "Cost:  0.00220125\n",
      "Cost:  0.0021075\n",
      "Cost:  0.00253925\n",
      "Cost:  0.0026839999999999998\n",
      "Cost:  0.0020155\n",
      "Cost:  0.0027455\n",
      "Cost:  0.0025745\n",
      "Cost:  0.0026975000000000002\n",
      "Cost:  0.00262875\n",
      "Cost:  0.00282275\n",
      "Cost:  0.00255175\n",
      "Cost:  0.00281575\n",
      "Cost:  0.00171125\n",
      "Cost:  0.002579\n",
      "Cost:  0.0027675\n",
      "Results:  20\n",
      "Results:  0 Text Chunks:  20  Returning blank equal to text chunks length\n",
      "Results:  11 Text Chunks:  20  Returning blank equal to text chunks length\n",
      "Results:  20\n",
      "Results:  19 Text Chunks:  20  Returning blank equal to text chunks length\n",
      "Results:  20\n",
      "Results:  20\n",
      "Results:  20\n",
      "Results:  20\n",
      "Results:  20\n",
      "Results:  20\n",
      "Results:  9 Text Chunks:  20  Returning blank equal to text chunks length\n",
      "Results:  0 Text Chunks:  20  Returning blank equal to text chunks length\n",
      "Results:  20\n",
      "Results:  20\n",
      "Results:  0 Text Chunks:  20  Returning blank equal to text chunks length\n",
      "Results:  20\n",
      "Results:  0 Text Chunks:  20  Returning blank equal to text chunks length\n",
      "Results:  0 Text Chunks:  20  Returning blank equal to text chunks length\n",
      "Results:  20\n",
      "Results:  20\n",
      "Results:  20\n",
      "Results:  20\n",
      "Results:  0 Text Chunks:  20  Returning blank equal to text chunks length\n",
      "Results:  20\n",
      "Results:  11\n",
      "Counters:  [82, 46]\n",
      "Plotting Process Cost:  0.131969\n"
     ]
    }
   ],
   "source": [
    "await controllers.stream_plot.StreamPlotController.run(video_id)"
   ]
  },
  {
   "cell_type": "code",
   "execution_count": 22,
   "metadata": {},
   "outputs": [],
   "source": [
    "await services.stream_plot.visit_until_image_saved(video_id)"
   ]
  }
 ],
 "metadata": {
  "kernelspec": {
   "display_name": "env",
   "language": "python",
   "name": "python3"
  },
  "language_info": {
   "codemirror_mode": {
    "name": "ipython",
    "version": 3
   },
   "file_extension": ".py",
   "mimetype": "text/x-python",
   "name": "python",
   "nbconvert_exporter": "python",
   "pygments_lexer": "ipython3",
   "version": "3.11.3"
  }
 },
 "nbformat": 4,
 "nbformat_minor": 2
}
