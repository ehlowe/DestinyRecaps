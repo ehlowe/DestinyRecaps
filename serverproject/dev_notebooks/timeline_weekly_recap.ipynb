{
 "cells": [
  {
   "cell_type": "code",
   "execution_count": 1,
   "metadata": {},
   "outputs": [
    {
     "name": "stdout",
     "output_type": "stream",
     "text": [
      "d:\\DestinyFolder\\DestinyRecaps\\DestinyRecapsApi\\serverproject\n"
     ]
    }
   ],
   "source": [
    "# DIRECTORY SET\n",
    "import os\n",
    "import sys\n",
    "from pathlib import Path\n",
    "base_dir=Path(os.getcwd()).parent\n",
    "# os.chdir(os.path.join(base_dir, 'serverproject'))\n",
    "os.chdir(base_dir)\n",
    "print(os.getcwd())\n",
    "\n",
    "# Load dotenv\n",
    "import dotenv\n",
    "dotenv.load_dotenv()\n",
    "\n",
    "# DJANGO SETUP\n",
    "import django\n",
    "sys.path.append(os.path.abspath(''))\n",
    "os.environ.setdefault(\"DJANGO_SETTINGS_MODULE\", \"serverproject.settings\")\n",
    "django.setup()\n",
    "\n",
    "# Import async modules\n",
    "import asyncio\n",
    "from asgiref.sync import sync_to_async\n",
    "\n",
    "# Import display modules\n",
    "from IPython.display import display, Markdown\n",
    "\n",
    "# Import other modules\n",
    "import faiss\n",
    "\n",
    "# import reloading\n",
    "from importlib import reload"
   ]
  },
  {
   "cell_type": "code",
   "execution_count": 2,
   "metadata": {},
   "outputs": [],
   "source": [
    "%load_ext autoreload\n",
    "%autoreload 2\n",
    "\n",
    "from destinyapp.models import StreamRecapData\n",
    "\n",
    "from core import services\n",
    "from core import utils\n",
    "from core import controllers"
   ]
  },
  {
   "cell_type": "code",
   "execution_count": 3,
   "metadata": {},
   "outputs": [],
   "source": [
    "out=await utils.generate_image(\" \")"
   ]
  },
  {
   "cell_type": "code",
   "execution_count": 5,
   "metadata": {},
   "outputs": [],
   "source": [
    "# download the image ['https://replicate.delivery/yhqm/2eJWr0h5mUwsUKRw9OB10jzhRhx1fQlWveCAKclhV7dws8omA/out-0.webp']\n",
    "# download from url as base64\n",
    "import base64\n",
    "import requests\n",
    "\n",
    "def download_image(url):\n",
    "    response = requests.get(url)\n",
    "    return base64.b64encode(response.content).decode('utf-8')\n",
    "\n",
    "\n",
    "img_b64=download_image('https://replicate.delivery/yhqm/2eJWr0h5mUwsUKRw9OB10jzhRhx1fQlWveCAKclhV7dws8omA/out-0.webp')"
   ]
  },
  {
   "cell_type": "code",
   "execution_count": 9,
   "metadata": {},
   "outputs": [
    {
     "name": "stdout",
     "output_type": "stream",
     "text": [
      "159664\n"
     ]
    }
   ],
   "source": [
    "print(len(img_b64))"
   ]
  },
  {
   "cell_type": "code",
   "execution_count": 8,
   "metadata": {},
   "outputs": [],
   "source": [
    "# convert base64 to jpg and save\n",
    "\n",
    "import io\n",
    "import PIL.Image\n",
    "\n",
    "def save_image_from_base64(img_b64, filename):\n",
    "    img_data = base64.b64decode(img_b64)\n",
    "    img = PIL.Image.open(io.BytesIO(img_data))\n",
    "    img.save(filename, 'JPEG')\n",
    "\n",
    "save_image_from_base64(img_b64, 'test.jpg')\n"
   ]
  },
  {
   "cell_type": "code",
   "execution_count": 4,
   "metadata": {},
   "outputs": [
    {
     "data": {
      "text/plain": [
       "['https://replicate.delivery/yhqm/2eJWr0h5mUwsUKRw9OB10jzhRhx1fQlWveCAKclhV7dws8omA/out-0.webp']"
      ]
     },
     "execution_count": 4,
     "metadata": {},
     "output_type": "execute_result"
    }
   ],
   "source": [
    "out"
   ]
  },
  {
   "cell_type": "code",
   "execution_count": null,
   "metadata": {},
   "outputs": [],
   "source": [
    "limited_recap_data=await utils.get_all_recaps_fast()"
   ]
  },
  {
   "cell_type": "code",
   "execution_count": 12,
   "metadata": {},
   "outputs": [],
   "source": [
    "import datetime"
   ]
  },
  {
   "cell_type": "code",
   "execution_count": null,
   "metadata": {},
   "outputs": [],
   "source": [
    "# end_of_consideration_date\n",
    "end_of_consideration_date=datetime.datetime(year=2024, month=8, day=10)\n",
    "earliest_stream_in_zone=end_of_consideration_date-datetime.timedelta(days=7)"
   ]
  },
  {
   "cell_type": "code",
   "execution_count": null,
   "metadata": {},
   "outputs": [],
   "source": [
    "stream_date_dict={}\n",
    "consideration_ids=[]\n",
    "for recap in limited_recap_data:\n",
    "    # Get the stream date\n",
    "    stream_recap_limited=StreamRecapData(**recap)\n",
    "    stream_date=stream_recap_limited.video_characteristics.get('date',\"\")\n",
    "    if stream_date==\"\":\n",
    "        title=stream_recap_limited.video_characteristics.get(\"title\",\"\")\n",
    "        stream_date=title.split(\"Stream Date~\")[-1].strip()\n",
    "    \n",
    "    #use datetime to check if the date is valid\n",
    "    try:\n",
    "        stream_date=datetime.datetime.strptime(stream_date, \"%m/%d/%Y\")\n",
    "    except ValueError:\n",
    "        continue\n",
    "    \n",
    "    # Check if the stream is within the week\n",
    "    if stream_date>=earliest_stream_in_zone and stream_date<=end_of_consideration_date:\n",
    "        consideration_ids.append(stream_recap_limited.video_id)\n",
    "        stream_date_dict[stream_recap_limited.video_id]=stream_date\n"
   ]
  },
  {
   "cell_type": "code",
   "execution_count": null,
   "metadata": {},
   "outputs": [],
   "source": [
    "def get_stream_rundown(full_recap):\n",
    "    abstractions=full_recap.plot_object[\"abstractions\"]\n",
    "    stream_rundown=\"Stream Title: \"+full_recap.video_characteristics[\"title\"]+\"\\nStream Date: \"+stream_date_dict[full_recap.video_id].strftime(\"%A\")+\"\\nTOPICS PROPORTION AND CONTENT:\\n\"\n",
    "    abstraction_rundowns=\"\"\n",
    "    for key, value in abstractions.items():\n",
    "        if key!=\"non categorized\":\n",
    "            abstraction_rundown=\"   Topic: \"+key+\" | Relative Proportion: \"+str(int(value[\"size\"]*100))+\"%\\nCONTENT: \"+value[\"recap\"]\n",
    "            abstraction_rundowns+=abstraction_rundown+\"\\n\\n\"\n",
    "\n",
    "    stream_rundown+=abstraction_rundowns\n",
    "    return stream_rundown"
   ]
  },
  {
   "cell_type": "code",
   "execution_count": null,
   "metadata": {},
   "outputs": [],
   "source": [
    "full_stream_recap_datas=[]\n",
    "stream_rundowns=\"Today is \"+str(datetime.datetime.now().strftime(\"%A\"))+\"\\nStream Rundowns Start Below:\\n\\n\"\n",
    "for id in consideration_ids[::-1]:\n",
    "    try:\n",
    "        stream_recap_data=await utils.get_recap_data(id)\n",
    "        stream_rundowns+=get_stream_rundown(stream_recap_data)+\"\\n\\n\"\n",
    "        full_stream_recap_datas.append(stream_recap_data)\n",
    "    except:\n",
    "        continue"
   ]
  },
  {
   "cell_type": "code",
   "execution_count": null,
   "metadata": {},
   "outputs": [],
   "source": [
    "print(stream_rundowns)"
   ]
  },
  {
   "cell_type": "code",
   "execution_count": null,
   "metadata": {},
   "outputs": [],
   "source": [
    "system_prompt=\"\"\"The user will give you a stream rundown for all the streams of the last week and your job is to make a week recap.\n",
    "\n",
    "Don't talk about percentages of topics or the exact date, use the day of the week when referring to the stream date.\"\"\"\n",
    "\n",
    "user_prompt=\"Here are all the stream rundowns:\\n\"+stream_rundowns\n",
    "\n",
    "prompt=[{\"role\":\"system\", \"content\": system_prompt}, {\"role\":\"user\", \"content\": stream_rundowns}]\n",
    "\n",
    "week_recap, temp_cost=await utils.async_response_handler(\n",
    "    prompt,\n",
    "    utils.ModelNameEnum.claude_3_5_sonnet\n",
    ")"
   ]
  },
  {
   "cell_type": "code",
   "execution_count": null,
   "metadata": {},
   "outputs": [],
   "source": [
    "print(week_recap)"
   ]
  },
  {
   "cell_type": "code",
   "execution_count": null,
   "metadata": {},
   "outputs": [],
   "source": [
    "system_prompt=\"\"\"The user will give you a stream rundown for all the streams of the last week and your job is to make a week recap.\n",
    "\n",
    "Don't talk about percentages of topics or the exact date, use the day of the week when referring to the stream date.\n",
    "\n",
    "Your recap should be a 1 paragraph 3-5 sentence summary of what happened with as much specifics as possible. Be informal to condense the content as it doesn't need to be gramatically correct. SPECIFICS ARE KEY.\"\"\"\n",
    "\n",
    "user_prompt=\"Here are all the stream rundowns:\\n\"+stream_rundowns\n",
    "\n",
    "prompt=[{\"role\":\"system\", \"content\": system_prompt}, {\"role\":\"user\", \"content\": stream_rundowns}]\n",
    "\n",
    "week_recap, temp_cost=await utils.async_response_handler(\n",
    "    prompt,\n",
    "    utils.ModelNameEnum.claude_3_5_sonnet\n",
    ")"
   ]
  },
  {
   "cell_type": "code",
   "execution_count": null,
   "metadata": {},
   "outputs": [],
   "source": [
    "print(week_recap)"
   ]
  },
  {
   "cell_type": "code",
   "execution_count": null,
   "metadata": {},
   "outputs": [],
   "source": [
    "system_prompt=\"\"\"The user will give you a stream rundown for all the streams of the last week and your job is to make a prompt for an image generator to symbolize the week.\"\"\"\n",
    "\n",
    "user_prompt=\"Here are all the stream rundowns:\\n\"+stream_rundowns\n",
    "\n",
    "prompt=[{\"role\":\"system\", \"content\": system_prompt}, {\"role\":\"user\", \"content\": stream_rundowns}]\n",
    "\n",
    "week_recap, temp_cost=await utils.async_response_handler(\n",
    "    prompt,\n",
    "    utils.ModelNameEnum.claude_3_5_sonnet\n",
    ")"
   ]
  },
  {
   "cell_type": "code",
   "execution_count": null,
   "metadata": {},
   "outputs": [],
   "source": [
    "print(week_recap)"
   ]
  },
  {
   "cell_type": "code",
   "execution_count": null,
   "metadata": {},
   "outputs": [],
   "source": [
    "system_prompt=\"\"\"The user will give you a stream rundown for all the streams of the last week and your job is to make a headline hook for the week. It should be more like topics separated by commas and not a full sentence.\n",
    "\n",
    "Do not say anything other than the hook and get right into it. It should be max 3 items.\"\"\"\n",
    "\n",
    "user_prompt=\"Here are all the stream rundowns:\\n\"+stream_rundowns\n",
    "\n",
    "prompt=[{\"role\":\"system\", \"content\": system_prompt}, {\"role\":\"user\", \"content\": stream_rundowns}]\n",
    "\n",
    "week_hook, temp_cost=await utils.async_response_handler(\n",
    "    prompt,\n",
    "    utils.ModelNameEnum.claude_3_5_sonnet\n",
    ")"
   ]
  },
  {
   "cell_type": "code",
   "execution_count": 34,
   "metadata": {},
   "outputs": [],
   "source": [
    "applied_date=datetime.datetime(2024, 8, 10)"
   ]
  },
  {
   "cell_type": "code",
   "execution_count": 39,
   "metadata": {},
   "outputs": [],
   "source": [
    "limited_recap_data=await utils.get_all_recaps_fast()\n",
    "stream_rundowns, weeks_video_ids=await services.timeline_plot.weekly_recaps.get_week_context_prompt(limited_recap_data, applied_date)\n",
    "\n",
    "cost=0\n",
    "week_recap, temp_cost=await services.timeline_plot.weekly_recaps.generate_week_recap(stream_rundowns)\n",
    "cost+=temp_cost\n",
    "\n",
    "week_hook, temp_cost=await services.timeline_plot.weekly_recaps.generate_week_hook(stream_rundowns)\n",
    "cost+=temp_cost"
   ]
  },
  {
   "cell_type": "code",
   "execution_count": 44,
   "metadata": {},
   "outputs": [],
   "source": [
    "week_image, temp_cost=await services.timeline_plot.weekly_recaps.generate_week_image(stream_rundowns)\n",
    "cost+=temp_cost"
   ]
  },
  {
   "cell_type": "code",
   "execution_count": 16,
   "metadata": {},
   "outputs": [],
   "source": [
    "image_url='https://replicate.delivery/yhqm/XE6QgEPeZtTHECLmreEH6wmuqO19K4eOwJTuPVfUwIVYS7RNB/out-0.webp'\n",
    "\n"
   ]
  },
  {
   "cell_type": "code",
   "execution_count": 17,
   "metadata": {},
   "outputs": [
    {
     "ename": "AttributeError",
     "evalue": "module 'PIL.Image' has no attribute 'ANTIALIAS'",
     "output_type": "error",
     "traceback": [
      "\u001b[1;31m---------------------------------------------------------------------------\u001b[0m",
      "\u001b[1;31mAttributeError\u001b[0m                            Traceback (most recent call last)",
      "Cell \u001b[1;32mIn[17], line 7\u001b[0m\n\u001b[0;32m      5\u001b[0m \u001b[38;5;66;03m# downscale the iamge to be 400x400\u001b[39;00m\n\u001b[0;32m      6\u001b[0m img \u001b[38;5;241m=\u001b[39m PIL\u001b[38;5;241m.\u001b[39mImage\u001b[38;5;241m.\u001b[39mopen(io\u001b[38;5;241m.\u001b[39mBytesIO(response\u001b[38;5;241m.\u001b[39mcontent))\n\u001b[1;32m----> 7\u001b[0m img \u001b[38;5;241m=\u001b[39m img\u001b[38;5;241m.\u001b[39mresize((\u001b[38;5;241m400\u001b[39m, \u001b[38;5;241m400\u001b[39m), \u001b[43mPIL\u001b[49m\u001b[38;5;241;43m.\u001b[39;49m\u001b[43mImage\u001b[49m\u001b[38;5;241;43m.\u001b[39;49m\u001b[43mANTIALIAS\u001b[49m)\n\u001b[0;32m      9\u001b[0m \u001b[38;5;66;03m# make the image a base64 string \u001b[39;00m\n\u001b[0;32m     10\u001b[0m buffered \u001b[38;5;241m=\u001b[39m io\u001b[38;5;241m.\u001b[39mBytesIO()\n",
      "\u001b[1;31mAttributeError\u001b[0m: module 'PIL.Image' has no attribute 'ANTIALIAS'"
     ]
    }
   ],
   "source": [
    "response = requests.get(image_url)\n",
    "img_b64=base64.b64encode(response.content).decode('utf-8')\n",
    "\n",
    "\n",
    "# downscale the iamge to be 400x400\n",
    "img = PIL.Image.open(io.BytesIO(response.content))"
   ]
  },
  {
   "cell_type": "code",
   "execution_count": 18,
   "metadata": {},
   "outputs": [],
   "source": [
    "img = img.resize((400, 400))\n",
    "# make the image a base64 string \n",
    "buffered = io.BytesIO()\n",
    "img.save(buffered, format=\"JPEG\")\n",
    "img_b64 = base64.b64encode(buffered.getvalue()).decode('utf-8')"
   ]
  },
  {
   "cell_type": "code",
   "execution_count": 19,
   "metadata": {},
   "outputs": [],
   "source": [
    "# save the image\n",
    "save_image_from_base64(img_b64, 'week_image.jpg')\n"
   ]
  },
  {
   "cell_type": "code",
   "execution_count": 42,
   "metadata": {},
   "outputs": [],
   "source": [
    "image_url=await utils.generate_image(\"donald_trump\")"
   ]
  },
  {
   "cell_type": "code",
   "execution_count": 43,
   "metadata": {},
   "outputs": [
    {
     "name": "stdout",
     "output_type": "stream",
     "text": [
      "https://replicate.delivery/yhqm/c3N4yo9n1U7qBVpeYcLLsmMfsODfbJjs1VPfSQb34U5n47RNB/out-0.webp\n"
     ]
    }
   ],
   "source": [
    "print(image_url[0])"
   ]
  },
  {
   "cell_type": "code",
   "execution_count": null,
   "metadata": {},
   "outputs": [],
   "source": [
    "# save week image\n",
    "save_image_from_base64(img_b64, 'week_image.jpg')"
   ]
  }
 ],
 "metadata": {
  "kernelspec": {
   "display_name": "env",
   "language": "python",
   "name": "python3"
  },
  "language_info": {
   "codemirror_mode": {
    "name": "ipython",
    "version": 3
   },
   "file_extension": ".py",
   "mimetype": "text/x-python",
   "name": "python",
   "nbconvert_exporter": "python",
   "pygments_lexer": "ipython3",
   "version": "3.11.3"
  }
 },
 "nbformat": 4,
 "nbformat_minor": 2
}
