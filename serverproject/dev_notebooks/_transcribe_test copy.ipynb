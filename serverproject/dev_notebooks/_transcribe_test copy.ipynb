{
 "cells": [
  {
   "cell_type": "code",
   "execution_count": 1,
   "metadata": {},
   "outputs": [
    {
     "name": "stdout",
     "output_type": "stream",
     "text": [
      "d:\\DestinyFolder\\DestinyRecaps\\DestinyRecapsApi\\serverproject\n"
     ]
    }
   ],
   "source": [
    "# DIRECTORY SET\n",
    "import os\n",
    "import sys\n",
    "from pathlib import Path\n",
    "base_dir=Path(os.getcwd()).parent\n",
    "os.chdir(base_dir)\n",
    "print(os.getcwd())\n",
    "\n",
    "# Load dotenv\n",
    "import dotenv\n",
    "dotenv.load_dotenv()\n",
    "\n",
    "# DJANGO SETUP\n",
    "import django\n",
    "sys.path.append(os.path.abspath(''))\n",
    "os.environ.setdefault(\"DJANGO_SETTINGS_MODULE\", \"serverproject.settings\")\n",
    "django.setup()\n",
    "\n",
    "# Import async modules\n",
    "import asyncio\n",
    "from asgiref.sync import sync_to_async\n",
    "\n",
    "# Import display modules\n",
    "from IPython.display import display, Markdown\n",
    "\n",
    "# Import other modules\n",
    "import faiss\n",
    "\n",
    "# import reloading\n",
    "from importlib import reload"
   ]
  },
  {
   "cell_type": "code",
   "execution_count": 3,
   "metadata": {},
   "outputs": [
    {
     "name": "stdout",
     "output_type": "stream",
     "text": [
      "The autoreload extension is already loaded. To reload it, use:\n",
      "  %reload_ext autoreload\n"
     ]
    }
   ],
   "source": [
    "%load_ext autoreload\n",
    "%autoreload 2\n",
    "\n",
    "from destinyapp.models import StreamRecapData\n",
    "\n",
    "from core import services\n",
    "from core import utils\n",
    "from core import controller"
   ]
  },
  {
   "cell_type": "code",
   "execution_count": 24,
   "metadata": {},
   "outputs": [],
   "source": [
    "test_folder='destinyapp/working_folder/testing'\n",
    "files=os.listdir(test_folder)\n",
    "for file in files:\n",
    "    os.remove(test_folder+'/'+file)"
   ]
  },
  {
   "cell_type": "code",
   "execution_count": 25,
   "metadata": {},
   "outputs": [
    {
     "data": {
      "text/plain": [
       "0"
      ]
     },
     "execution_count": 25,
     "metadata": {},
     "output_type": "execute_result"
    }
   ],
   "source": [
    "file_path=\"D:\\DestinyFolder\\DestinyRecaps\\DestinyRecapsApi\\serverproject\\destinyapp\\working_folder\\working_audio\\merged_audio.mp3\"\n",
    "ffmpeg_command=\"ffmpeg -i \"+file_path+\" -f segment -segment_time 1200 -c copy \"+test_folder+\"/output_%03d.mp3\"\n",
    "os.system(ffmpeg_command)"
   ]
  },
  {
   "cell_type": "code",
   "execution_count": 26,
   "metadata": {},
   "outputs": [],
   "source": [
    "import os\n",
    "from groq import Groq\n",
    "from groq import AsyncGroq\n",
    "\n",
    "client = Groq(api_key=os.getenv(\"GROQ_API_KEY\"))\n",
    "async_client=AsyncGroq(api_key=os.getenv(\"GROQ_API_KEY\"))\n"
   ]
  },
  {
   "cell_type": "code",
   "execution_count": null,
   "metadata": {},
   "outputs": [],
   "source": [
    "filename = os.path.dirname(__file__) + \"/audio.m4a\"\n",
    "\n",
    "with open(filename, \"rb\") as file:\n",
    "    transcription = client.audio.transcriptions.create(\n",
    "      file=(filename, file.read()),\n",
    "      model=\"whisper-large-v3\",\n",
    "      response_format=\"verbose_json\",\n",
    "    )\n",
    "    print(transcription.text)"
   ]
  },
  {
   "cell_type": "code",
   "execution_count": 30,
   "metadata": {},
   "outputs": [],
   "source": [
    "async def async_transcribe(file_path):\n",
    "    # load the file as a binary\n",
    "    audio_file=open(file_path, \"rb\")\n",
    "    # create the transcription\n",
    "    transcription = await async_client.audio.transcriptions.create(\n",
    "      file=(file_path, audio_file.read()),\n",
    "      model=\"whisper-large-v3\",\n",
    "      response_format=\"verbose_json\",\n",
    "    )\n",
    "\n",
    "    # return the transcription\n",
    "    return transcription"
   ]
  },
  {
   "cell_type": "code",
   "execution_count": 28,
   "metadata": {},
   "outputs": [
    {
     "name": "stdout",
     "output_type": "stream",
     "text": [
      "destinyapp/working_folder/testing/output_000.mp3\n",
      "destinyapp/working_folder/testing/output_001.mp3\n"
     ]
    }
   ],
   "source": [
    "files=os.listdir(test_folder)\n",
    "for file in files:\n",
    "    print(test_folder+'/'+file)"
   ]
  },
  {
   "cell_type": "code",
   "execution_count": 32,
   "metadata": {},
   "outputs": [],
   "source": [
    "raw_transcript=await async_transcribe('destinyapp/working_folder/testing/output_000.mp3')"
   ]
  },
  {
   "cell_type": "code",
   "execution_count": 33,
   "metadata": {},
   "outputs": [
    {
     "data": {
      "text/plain": [
       "\" I don't know if you saw, but I just watched Asmongold's video about Assange saying, Cracker isn't a racial slur. Isn't racism racism? Kind of, yeah. Racism is experienced in different ways by different people, and different power structures can create different types of racism. Like, as a white person in the United States, you'll never experience the same type of structural or systemic racism as a black person will. But on an individual level, you can experience racism of all sorts of varying degrees that could be worse than some of the structural or systemic stuff. structural and systemic racism is a very weak form of racism like it's pervasive and it's everywhere on a large scale and it can impact everything but the impact on an individual could be quite weak like um i would say that like uh individual racism is like the strong nuclear force and um and systemic racism is like gravity um which i think is the weakest of the four do we even use fundamental forces anymore or has that all been subsumed by quantum mechanics probably all about subsumed by quantum physics but whatever for my classical bros out there um if somebody's individually racist to you somebody walks up to you calls you a racial slur tries to lynch you kill you whatever that's like a very strong individual personal form of racism um but it's like way you very unique to situations but the the um systemic or structural racism is way more everywhere it's like gravity like every single atom is pulling on every single atom and it's out there and it's everywhere but it can be harder to see or feel sometimes basically Okay. What would be an example of systemic racism a black person might experience today in the United States? I feel like the majority of the racism is going to be, like, vestiges of the past. So, for instance, like, the idea that you don't have much money or you live in certain neighborhoods that are predisposed towards certain types of crime or lack of economic opportunity. Those types of things, a lot of those are going to be reverbs from the past. Reverbs? Echoes. Can a reverb be a reverb or an echo? Would you say echoes from the past? Act X, X, and Aspen have been such good allies throughout the drama. Do you think you'll look to invest more time in these relationships? I mean, like, the problem is we just exist so separately. XQC and Asmongold have more flexibility in evaluating my stuff because they're not, like, beholden to communities. Remember the social pressures? Asmongold is his own thing, and XQC is kind of his own thing, so they don't really have to worry about those pressures as much so they can evaluate things a little bit more on their own. That doesn't necessarily mean they'll side with me, but they have that. But also, we just don't have much natural organic crossover. I can't really collaborate with Asmongold on stream because I'm banned from Twitch. And then me and Felix do sometimes. What are your thoughts about Kevill saying that she regrets building a bridge with you? Do your Israel takes? I don't really care. It's not like we had a strong bridge built anyway. We just like made up at an event once. So fuck it. How does it sound? Rationalized white racism is fictitious when there is native tribes that are white passing, but experience systemic abuse. The Penobscot chief looks white. Make fun of Kamala. Make fun of Biden. Make fun of Trump. Like that's all legit. Just don't be like, unless you support Trump, which is your right. I don't, you know, I don't give a. I don't think you do. But if you didn't, don't support Trump if you don't support him. If you do, you can. That's fine. And no one's going to stop you from doing that. Just know that wasn't like an accident or like, oh, hey, this is a meme. Like Trump's there. Like this was set up so that Trump could get more votes. Oh, yeah. 100%. People said you were mad about the Trump thing. That's. I mean, I obviously I think Trump is a tried to coup the U.S. government and I hate Trump. Yeah, that's my position. uh if i was a political as a political commentator person i don't think i would ever give him any airtime uh dan really wanted me to condemn your support of him in mean videos support support support as in what uh taking mean pictures with him or whatever and all that shit is that supporting though um i think probably the audience is it is based we got a home let's say some people has a picture with a big person celebrity that's that bad person is that support um no i made this exact same argument to dan i said i would probably like if i had a chance to get a picture with hitler i'd definitely take it but i probably wouldn't be wearing like a make the third right great again hat while i'm in the audience okay okay whoa these pictures were like um no no no hold on hold on that one picture was a leak out of some guy like doing like some behind the scenes photos that was i was in that doesn't really count you're free steve was the guy who was defending you i was going on off going off on you well hold on no no careful i was not defending xqc i said i didn give a i said i didn give a about it because he not a political commentator that what i said okay i said i would take a picture too hard what i said we weren going too hard either way sure i just said uh yeah i said if you not a political company i don care that much most people don have as extreme views on trump as i do uh but if i was there obviously i if somebody offered like hey donald trump is outside you want to get a picture with him i'm always saying yes to that it's a former president of the united states obviously i would do it i just wouldn't be wearing a mega hat behind the scenes or whatever while doing it because that seems it implies more support basically oh okay yeah it implies more support yeah i get it i get it i guess i have a better line of defense of like um not being very political person whatever and just kind of playing the part i feel like playing the part is never really a problem but when it comes to politics people think that playing the part is a lot worse uh which is i guess fair so it looks like you're doing a statement or whatever right but i think i think as you're making a statement and you take a stance where you're looking at me You make a statement is a big difference. Let me ask you this. Are you familiar with the statement that Trump made where he said pretty much exactly we have to ban all Muslims coming into the country? Are you familiar with that statement? No. You don't. OK, he said I think Steve could collaborate or corroborate. He said exactly that. It's not like I'm paraphrasing. Well, I actually do not condone any of those statements and I don't stand for that at all. So you think there's probably like a bunch of stuff that he said that's like super fucked up. Like, don't get me wrong. Democrats say like fucking retarded, crazy shit all the time as well. Like I understand. Yeah. Yeah. But but Trump is kind of a little bit next level with some of the fucked up like shit he says. Yeah, I understand. Yeah. So like the logic is if you were a Muslim and you had the president of the United States saying, I want to ban all Muslims from coming into the United States, you would be like, this guy is going to be like a Hitler for us. Like he's he's trying to stop all of our people from coming into the country. This guy is wild. and then the issue becomes more like how how poggers or based is it to do anything at all with a dude like that right it's not like don't get me wrong every candidate has like up shit but like for him it's kind of next level right like is is it next level i think it's next level yeah for that i don't think you're gonna catch i'm not excusing any behaviors i don't i I'm not shaming you. No, no, no. I don't have the specifics or time, whatever. Let's say current day compared to when that was. Is that still in the zone where you're supporting that or you're for that or for like this in general? Because you're standing next to somebody who just said that he would take a picture with Hitler. Justin just said that, right? well i look at it this way right was every policy that trump had bad the answer is no there's a there's some really good shit that he's done that like destiny doesn't even know about himself like things like opportunity zones which are amazing things that help uh underprivileged people uh basically get their communities revitalized so it's not all bad with him but you could say the same thing about hitler like hitler was trying to turn around their the economy and everything along those lines like they're not all bad and um you you can't just be like hey listen this isn't the only thing he did but you have to look at it kind of as a whole like is that one thing bad enough that like being around this dude is kind of oh you know what i mean it's oh okay yeah i tried to approach it more as a uh a flat out label of like a person not not a political being is kind of like my approach right it's why it's why it's why initially they had a seat for me in crowd i didn't partake in that um they had like signs and hats for people being injured i have a thing that i want to be behind the camera right and i ended up doing a setup for the stream uh she had a lot of problems uh beforehand uh some things were like really bad i just did production and then as as we were uh doing a stream right the production because i thought it was fun i thought it'd be a good experience and to work with secret service or whatever i thought it'd be like a fun in quickspin and actually it really was that she was insane um and then uh people were really like thankful and they were talking. I know, but you have to. It was cool. Imagine this. Why did Trump want you and Aiden there? Because this wasn't like Trump's on the street and you're catching a quick photo and then you're leaving and your audience isn't getting any, I don't want to say mixed signals or anything along those lines, but why did Trump, why did he do this? Why was this organized, this whole thing? What was in it for Trump? Yeah, I mean, some form of an exposure connection to the youth and some sort of uh uh it's like it's like a signal boosting his his political standing basically yeah i mean that what it is like he got signal boosting yeah he felt like if i get if i go and i do this stream with xqc and Aiden like some percentage of their audiences that didn like me before and be like oh like XQC likes Trump now I'm voting for him. I don't I don't give a shit. I love XQC. If he said that jump off a bridge, I'll do that, too. Like there's probably, you know, some portion of your audience that doesn't know, like, hey, you know, this was just for the memes. I don't like Trump. Like there's some portion of your audience that doesn't, that's not going to see that. And they're going to be like, oh yeah, I think I'm going to vote for Trump. Like he seems pretty cool. XTC made him seem funny. Yeah. So, so that's a problem that we have in here with humans, right. And finding people and things likeable, right. Cause sometimes you shouldn't like somebody, but because they're charming and they think that they're likeable, you kind of like them. Right. And you, you don't want that. Right. but it happens that's gonna that's gonna that's gonna how we get a lot of people because believe it or not maybe people are gonna mad me for saying this right but trump is likable he's super charismatic but some of the most vile dangerous people in the world are super charismatic that's how they get to where they are they don't like you know if you're just like a brutal asshole dictator like you typically don't get to be a brutal dictator you have to be like good with people kind of a sociopath um you know you have to pander to at least more than half of the population and they have to feel like yeah this guy's awesome so yeah that's all i mean what's done is done i would just say like you know maybe make your views known i guess that that's a way that you can undo a lot of i don't want to say any damage because you don't owe anything to anyone but like if you don't if you don't support the dude if you think he's up you should say so i mean i know you're not political and you don't want to yeah okay so i have two graphs for you I'm gonna drop, I'm gonna drop two graphs. I'm gonna drop two graphs. And I feel like you should look at it. Okay. So, so, um, you know, like me as what I do on a general basis on a day on, on the stream. Right. Yeah. Um, I try to cover like, like some, some sort of like news I found interesting or fun or whatever. It's not as I guess political, right. When it comes down to like, um, political sides that even today I watch a 12 minute video on who is Kamala Harris or whatever, but I didn't really say much about against her. most of the things were for her, right? People, that's how it is for most of the time. When it comes down to downright politics, whatever, I intake as much as I can. I look at it. I don't really give a f***, right? So it's pretty much like most of my actions are pretty, I think, politically fair, right? And then sometimes it's like, so it's like most of it is good, right? And then things get kind of bad when it's kind of like, oh, here's a Trump meme. That's funny. Or here's a Biden meme that makes him look bad. That's funny. But it's kind of bad because it looks like I'm endorsing Trump or whatever because his meme was funny and Biden's meme was funny, but in a bad way, it makes him look bad. That's a bad thing I could do better on. But I still think that I'm in a zone where most things I do are unbiased and decent, and that part is going to... I think that's totally fine. For instance, making fun of Biden being a senior citizen, we literally did that all the time. One of the funniest memes is one that one of the people in our community did where like Biden is like sleeping is like, I'm on your case, Mr. President, whatever shit like that, like that, it doesn't matter. The thing is, like, yeah, it's right now. It's very one way on the other side, right? Like you've pretty not. And, you know, I don't know what you can do to change it. I don't even know if you want to change it or anything along those lines. But you've pretty much much more aggressively now. I don't want to say promoted one candidate. But yeah, basically, you've promoted a candidate, even though it was just a meme. It wasn't your idea. Someone reached out to you is like yo x you want to hang out with trump like who the wouldn't say yeah that sounds crazy let's do that but now it's like you know it's segued in one direction yeah so this is where i'm sometimes i'm short-sighted i'm not using it as a defense right but i look at the world in my lens and i'm not a political commentator lens or somebody who's a political being his lenses right so i take pictures with like a but uh everybody that's famous i'll take a picture for them right so i think when i'm gonna tell me take a picture with uh let's say with him whatever right so most of it is right first area of my graph is oh what is the thinking behind it taking a picture with somebody this person's like famous right other parts what's what's about uh um ex-president partners one part he has a lot of funny memes that i think are funny boom that right and the part that i get i guess it's bad like is is this one you know you know actually i could do it i could do this in a different way for you because it's more extreme You'll get it right away. Would you take a picture with Jeffrey Epstein if he was still alive? Okay. So I think we can agree right that that not a thing that kind of really equates No I agree I using it as a hypothetical example to show the kind of where we go There is a difference also between just like taking a photo with someone and then also doing like a press event Right Yeah. So so that's kind of where I stand on that. It's kind of like most of the thinking is around things that are kind of simple. Oh, they're famous. They're important. They have funny memes. there's a mean potential whatever and then it's like um um unless that person does like some unthinkable shit that are really fucking bad it's like well that's just kind of odd because it looks like i'm validating on the fly that person for doing that right and it's just bad right so i i had to go against my like my code of like oh my thinking is usually this person famous i'll take a picture whatever i have to go against that which is usually i'm gonna say how it is it's a pretty strong feeling most of them right so of course i'm more biased oh this one's like pretty big whatever this is memes whatever boom done i have to go against that feeling but yeah it's kind of how it is that makes sense i i understand where you're at i was just you know i guess like in the future i think you're good at this like you're now you're like you know the fucking rich millionaire xqc like you know like you got to always be asking what's the other person trying to get out of this like for every interaction in your life now at the point where you're at, I mean, it sounds like you especially know this maybe with past wives and whatnot, but what are they? What are they looking to get in this situation? It's not you can't just go in there like, oh, and poggers. It's also like, wait a minute, the is this person? Why are they why are they giving me this gift? You know what? You know, I find that that it's why I wasn't on stream. Right. Is what I was not supposed to be on stream. Right. It's why I said before the team started, I I, when I sat down, I said, listen, I'm going to be behind the camera. Then you get what I get why, but that was intentional. But that was the whole point of not like intentionally like doing that, that, you know? So then, so then, then there goes my last point, which I think is the most important one. Um, now I'm kind of lost my train of thought. Um, yeah. So I understand that why he's there, what he's doing it. Right. But then I don't think, I don't think it explains, right. Like him giving me, giving me a handshake at that point. Right. That was just kind of like a, I don't think there's a lot of thinking behind that even though they're getting that the same way that if I suddenly makes a video about Kamala or Trump, whatever, and I watch it, I'm in a much standing, right? Like I'm giving you some airtime. That's what they're getting out of it. Blah, blah. I get that. I don't, I don't stand with people's politics, whatever, but having it on my stream and do something like that is so I think I'm slim in slim and how much i do in general in politics i don't find it to be a problem but i definitely see though um how like oh yeah even though it's on the fly it's not what they it's not like what they're in for with me whatever i see how it looks right and i guess you could be more cautious with that right that's all just just yeah well you don't have to you could still do meme shit that's what you're known for like make fun of kamala make fun of biden make fun of trump uh like that's all legit just don't be like unless you support trump which is your right i don't you know i don't give a shit i don't think you do but if you did uh i'm sorry if you didn't don't support trump if you don't support him if you do you can that's fine and uh no one's going to stop you from doing that just know like as i said that wasn't like uh an accident or like oh hey this is a meme like trump's there like this was set up so that trump could get more votes oh yeah 100 yeah um it's not Listen, we all know your audience is not good. Yeah, my thinking is almost intentionally braindead to kind of protect the kind of fun and freedom that I get when I go outside. I was at the f***ing game. I was at the Copa America Cup soccer game. I invited him, but he didn't want to go. I mean, I had seats that were insane. He could have went for free. Boring football games, but I love you. All right, all right. So I got to stand a few meters from Messi. It's something that your viewers would give both their nuts for. Okay. We don't even know. We don't even know what poverty game that guy plays for. Is it the poverty ball where you kick it or where you throw it? Which one? It's the poverty ball where the guy that plays it. Why? That was next to me. Could literally buy out your entire family tree, right? And your tree's tree and your entire country's tree, right? and turn it into his ping pong game. It's probably because the entire GDPR of whatever fucking poverty country he's from goes to this one guy. Because he's like, oh yeah, that guy. He should kick the fucking ball. We don't know shit about sports. We do know about... Well, I was going to say we know about esports. We really don't know about that either. Honestly, we really don't know about much. I went to get some fucking food.\""
      ]
     },
     "execution_count": 33,
     "metadata": {},
     "output_type": "execute_result"
    }
   ],
   "source": [
    "raw_transcript.text"
   ]
  },
  {
   "cell_type": "code",
   "execution_count": 35,
   "metadata": {},
   "outputs": [],
   "source": [
    "full_transcript=raw_transcript.text\n",
    "video_id='test'"
   ]
  },
  {
   "cell_type": "code",
   "execution_count": 47,
   "metadata": {},
   "outputs": [],
   "source": [
    "linked_transcript=\"\"\n",
    "transcript=\"\"\n",
    "new_lines=0\n",
    "word_count=0\n",
    "time=0\n",
    "# split the transcript every 20 words\n",
    "words_full_transcript=full_transcript.split(\" \")\n",
    "split_full_transcript=[\" \".join(words_full_transcript[i:i+20]) for i in range(0, len(words_full_transcript), 20)]\n",
    "for utterance in split_full_transcript:\n",
    "    time+=1\n",
    "    text=utterance\n",
    "    val=100\n",
    "    base_link=\"https://www.youtube.com/watch?v={video_id}&t={time}s\"\n",
    "    link=f\"https://youtu.be/{video_id}?t={time}\"\n",
    "    linked_transcript+=\"<a href=\\\"\"+link+\"\\\" target=\\\"_blank\\\" class=\\\"underline-hover\\\">\"+text+\"</a>\"\n",
    "    transcript+=text"
   ]
  },
  {
   "cell_type": "code",
   "execution_count": 48,
   "metadata": {},
   "outputs": [],
   "source": [
    "# save json to testin\n",
    "test_folder='destinyapp/working_folder/test_transcript/transcript.json'\n",
    "\n",
    "import json\n",
    "with open(test_folder, 'w') as f:\n",
    "    json.dump({\"transcript\":transcript, \"linked_transcript\":linked_transcript}, f)\n"
   ]
  }
 ],
 "metadata": {
  "kernelspec": {
   "display_name": "env",
   "language": "python",
   "name": "python3"
  },
  "language_info": {
   "codemirror_mode": {
    "name": "ipython",
    "version": 3
   },
   "file_extension": ".py",
   "mimetype": "text/x-python",
   "name": "python",
   "nbconvert_exporter": "python",
   "pygments_lexer": "ipython3",
   "version": "3.11.3"
  }
 },
 "nbformat": 4,
 "nbformat_minor": 2
}
