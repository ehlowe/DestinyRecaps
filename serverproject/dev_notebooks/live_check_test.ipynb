{
 "cells": [
  {
   "cell_type": "code",
   "execution_count": null,
   "metadata": {},
   "outputs": [],
   "source": [
    "import datetime\n",
    "from pytube import YouTube"
   ]
  },
  {
   "cell_type": "code",
   "execution_count": null,
   "metadata": {},
   "outputs": [],
   "source": [
    "video_id=\"Q_6BzYSfgz8\"\n",
    "# Get video\n",
    "url = 'https://www.youtube.com/watch?v='+video_id\n",
    "yt = YouTube(url)\n",
    "\n",
    "# Fill attributes\n",
    "try:\n",
    "    for attr in dir(yt):\n",
    "        value=getattr(yt, attr)\n",
    "except Exception as e:\n",
    "    pass\n",
    "\n",
    "# Get Live status\n",
    "try:\n",
    "    vid_info=getattr(yt, \"_vid_info\")\n",
    "    live_bool=vid_info[\"videoDetails\"][\"isLive\"]\n",
    "except Exception as e:\n",
    "    live_bool=False"
   ]
  },
  {
   "cell_type": "code",
   "execution_count": null,
   "metadata": {},
   "outputs": [],
   "source": [
    "print(live_bool)"
   ]
  },
  {
   "cell_type": "code",
   "execution_count": 1,
   "metadata": {},
   "outputs": [],
   "source": [
    "# Webdriver on destiny's website to check if is livestreaming\n",
    "import asyncio\n",
    "\n",
    "from selenium import webdriver\n",
    "from selenium.webdriver.chrome.service import Service\n",
    "from webdriver_manager.chrome import ChromeDriverManager\n",
    "from selenium.webdriver.chrome.options import Options\n",
    "from selenium.webdriver.common.by import By"
   ]
  },
  {
   "cell_type": "code",
   "execution_count": 2,
   "metadata": {},
   "outputs": [],
   "source": [
    "pattern = r\"https://youtu.be/([\\w-]+)\"\n",
    "\n",
    "options = Options()\n",
    "options.add_argument('--headless')\n",
    "options.add_argument('--disable-gpu')\n",
    "options.add_argument('--no-sandbox')\n",
    "\n",
    "# Create a Service instance with ChromeDriverManager\n",
    "service = Service(ChromeDriverManager().install())\n",
    "if \"THIRD_PARTY_NOTICES\" in service.path:\n",
    "    service = Service(service.path.replace(\"THIRD_PARTY_NOTICES.chromedriver\", \"chromedriver.exe\"))\n",
    "\n",
    "# Initialize the Chrome WebDriver with the specified service and options\n",
    "driver = webdriver.Chrome(service=service, options=options)\n",
    "\n",
    "driver.implicitly_wait(10)\n",
    "\n",
    "# Go to the page\n",
    "driver.get(\"https://www.destiny.gg/bigscreen\")\n",
    "\n",
    "await asyncio.sleep(5)\n",
    "\n",
    "# Now the page is fully loaded, including content loaded via JavaScript \n",
    "html_content = driver.page_source\n",
    "# video_ids = [match.group(1) for match in re.finditer(pattern, html_content)]\n"
   ]
  },
  {
   "cell_type": "code",
   "execution_count": 3,
   "metadata": {},
   "outputs": [],
   "source": [
    "element = driver.find_element(By.CSS_SELECTOR, \"#offline-text\")"
   ]
  },
  {
   "cell_type": "code",
   "execution_count": 5,
   "metadata": {},
   "outputs": [
    {
     "data": {
      "text/plain": [
       "'none'"
      ]
     },
     "execution_count": 5,
     "metadata": {},
     "output_type": "execute_result"
    }
   ],
   "source": [
    "element.value_of_css_property(\"display\")"
   ]
  },
  {
   "cell_type": "code",
   "execution_count": 10,
   "metadata": {},
   "outputs": [
    {
     "data": {
      "text/plain": [
       "'Q_6BzYSfgz8'"
      ]
     },
     "execution_count": 10,
     "metadata": {},
     "output_type": "execute_result"
    }
   ],
   "source": [
    "html_content.split(\"https://www.youtube.com/embed/\")[-1].split(\"?autoplay=\")[0]"
   ]
  },
  {
   "cell_type": "code",
   "execution_count": null,
   "metadata": {},
   "outputs": [],
   "source": [
    "html_content.split('offline-text')[-1].split('class=\"w-full h-full\" allow')[0]"
   ]
  },
  {
   "cell_type": "code",
   "execution_count": null,
   "metadata": {},
   "outputs": [],
   "source": [
    "html_content.split('display: none')#)[-1].split('class=\"w-full h-full\" allow')[0]"
   ]
  },
  {
   "cell_type": "code",
   "execution_count": null,
   "metadata": {},
   "outputs": [],
   "source": [
    "html_content.split('offline-text--hide {')[-1]"
   ]
  }
 ],
 "metadata": {
  "kernelspec": {
   "display_name": "env",
   "language": "python",
   "name": "python3"
  },
  "language_info": {
   "codemirror_mode": {
    "name": "ipython",
    "version": 3
   },
   "file_extension": ".py",
   "mimetype": "text/x-python",
   "name": "python",
   "nbconvert_exporter": "python",
   "pygments_lexer": "ipython3",
   "version": "3.11.3"
  }
 },
 "nbformat": 4,
 "nbformat_minor": 2
}
