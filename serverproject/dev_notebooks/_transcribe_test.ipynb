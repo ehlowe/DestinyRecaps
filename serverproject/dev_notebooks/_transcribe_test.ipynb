{
 "cells": [
  {
   "cell_type": "code",
   "execution_count": 1,
   "metadata": {},
   "outputs": [
    {
     "name": "stdout",
     "output_type": "stream",
     "text": [
      "d:\\DestinyFolder\\DestinyRecaps\\DestinyRecapsApi\\serverproject\n"
     ]
    }
   ],
   "source": [
    "# DIRECTORY SET\n",
    "import os\n",
    "import sys\n",
    "from pathlib import Path\n",
    "base_dir=Path(os.getcwd()).parent\n",
    "os.chdir(base_dir)\n",
    "print(os.getcwd())\n",
    "\n",
    "# Load dotenv\n",
    "import dotenv\n",
    "dotenv.load_dotenv()\n",
    "\n",
    "# DJANGO SETUP\n",
    "import django\n",
    "sys.path.append(os.path.abspath(''))\n",
    "os.environ.setdefault(\"DJANGO_SETTINGS_MODULE\", \"serverproject.settings\")\n",
    "django.setup()\n",
    "\n",
    "# Import async modules\n",
    "import asyncio\n",
    "from asgiref.sync import sync_to_async\n",
    "\n",
    "# Import display modules\n",
    "from IPython.display import display, Markdown\n",
    "\n",
    "# Import other modules\n",
    "import faiss\n",
    "\n",
    "# import reloading\n",
    "from importlib import reload"
   ]
  },
  {
   "cell_type": "code",
   "execution_count": 2,
   "metadata": {},
   "outputs": [],
   "source": [
    "%load_ext autoreload\n",
    "%autoreload 2\n",
    "\n",
    "from destinyapp.models import StreamRecapData\n",
    "\n",
    "from core import services\n",
    "from core import utils\n",
    "from core import controller\n",
    "\n",
    "import os\n",
    "from groq import Groq\n",
    "from groq import AsyncGroq\n",
    "\n",
    "client = Groq(api_key=os.getenv(\"GROQ_API_KEY\"))\n",
    "async_client=AsyncGroq(api_key=os.getenv(\"GROQ_API_KEY\"))\n",
    "\n",
    "async def async_transcribe(file_path):\n",
    "    # load the file as a binary\n",
    "    audio_file=open(file_path, \"rb\")\n",
    "    # create the transcription\n",
    "    transcription = await async_client.audio.transcriptions.create(\n",
    "      file=(file_path, audio_file.read()),\n",
    "      model=\"whisper-large-v3\",\n",
    "      response_format=\"verbose_json\",\n",
    "    )\n",
    "\n",
    "    # return the transcription\n",
    "    return transcription"
   ]
  },
  {
   "cell_type": "code",
   "execution_count": 13,
   "metadata": {},
   "outputs": [],
   "source": [
    "# SPLIT UP THE AUDIO FILE AND SAVE IT\n",
    "mp4_test_folder='destinyapp/working_folder/mp4_2_mp3'\n",
    "files=os.listdir(mp4_test_folder)\n",
    "for file in files:\n",
    "\n",
    "    ffmpeg_command = f\"ffmpeg -i {mp4_test_folder}/{file} -vn -acodec libmp3lame -b:a 192k {mp4_test_folder}/{os.path.splitext(file)[0]}.mp3\"\n",
    "    os.system(ffmpeg_command)\n",
    "    break\n"
   ]
  },
  {
   "cell_type": "code",
   "execution_count": 14,
   "metadata": {},
   "outputs": [
    {
     "data": {
      "text/plain": [
       "0"
      ]
     },
     "execution_count": 14,
     "metadata": {},
     "output_type": "execute_result"
    }
   ],
   "source": [
    "# SPLIT UP THE AUDIO FILE AND SAVE IT\n",
    "test_folder='destinyapp/working_folder/testing'\n",
    "files=os.listdir(test_folder)\n",
    "for file in files:\n",
    "    os.remove(test_folder+'/'+file)\n",
    "\n",
    "file_path=\"D:\\DestinyFolder\\DestinyRecaps\\DestinyRecapsApi\\serverproject\\destinyapp\\working_folder\\working_audio\\merged_audio.mp3\"\n",
    "ffmpeg_command=\"ffmpeg -i \"+file_path+\" -f segment -segment_time 1200 -c copy \"+test_folder+\"/output_%03d.mp3\"\n",
    "os.system(ffmpeg_command)"
   ]
  },
  {
   "cell_type": "code",
   "execution_count": 15,
   "metadata": {},
   "outputs": [],
   "source": [
    "# Produce the transcripts\n",
    "files=os.listdir(test_folder)\n",
    "tasks=[]\n",
    "for file in files:\n",
    "    tasks.append(async_transcribe(test_folder+'/'+file))\n",
    "task_results=await asyncio.gather(*tasks)"
   ]
  },
  {
   "cell_type": "code",
   "execution_count": 16,
   "metadata": {},
   "outputs": [],
   "source": [
    "# make full transcript\n",
    "full_regular_transcript=\"\"\n",
    "for result in task_results:\n",
    "    full_regular_transcript+=result.text"
   ]
  },
  {
   "cell_type": "code",
   "execution_count": 17,
   "metadata": {},
   "outputs": [
    {
     "name": "stdout",
     "output_type": "stream",
     "text": [
      " I don't know if you saw, but I just watched Asmongold's video about Assange saying, Cracker isn't a racial slur. Isn't racism racism? Kind of, yeah. Racism is experienced in different ways by different people, and different power structures can create different types of racism. Like, as a white person in the United States, you'll never experience the same type of structural or systemic racism as a black person will. But on an individual level, you can experience racism of all sorts of varying degrees that could be worse than some of the structural or systemic stuff. structural and systemic racism is a very weak form of racism like it's pervasive and it's everywhere on a large scale and it can impact everything but the impact on an individual could be quite weak like um i would say that like uh individual racism is like the strong nuclear force and um and systemic racism is like gravity um which i think is the weakest of the four do we even use fundamental forces anymore or has that all been subsumed by quantum mechanics probably all about subsumed by quantum physics but whatever for my classical bros out there um if somebody's individually racist to you somebody walks up to you calls you a racial slur tries to lynch you kill you whatever that's like a very strong individual personal form of racism um but it's like way you very unique to situations but the the um systemic or structural racism is way more everywhere it's like gravity like every single atom is pulling on every single atom and it's out there and it's everywhere but it can be harder to see or feel sometimes basically Okay. What would be an example of systemic racism a black person might experience today in the United States? I feel like the majority of the racism is going to be, like, vestiges of the past. So, for instance, like, the idea that you don't have much money or you live in certain neighborhoods that are predisposed towards certain types of crime or lack of economic opportunity. Those types of things, a lot of those are going to be reverbs from the past. Reverbs? Echoes. Can a reverb be a reverb or an echo? Would you say echoes from the past? Act X, X, and Aspen have been such good allies throughout the drama. Do you think you'll look to invest more time in these relationships? I mean, like, the problem is we just exist so separately. XQC and Asmongold have more flexibility in evaluating my stuff because they're not, like, beholden to communities. Remember the social pressures? Asmongold is his own thing, and XQC is kind of his own thing, so they don't really have to worry about those pressures as much so they can evaluate things a little bit more on their own. That doesn't necessarily mean they'll side with me, but they have that. But also, we just don't have much natural organic crossover. I can't really collaborate with Asmongold on stream because I'm banned from Twitch. And then me and Felix do sometimes. What are your thoughts about Kevill saying that she regrets building a bridge with you? Do your Israel takes? I don't really care. It's not like we had a strong bridge built anyway. We just like made up at an event once. So fuck it. How does it sound? Rationalized white racism is fictitious when there is native tribes that are white passing, but experience systemic abuse. The Penobscot chief looks white. Make fun of Kamala. Make fun of Biden. Make fun of Trump. Like that's all legit. Just don't be like, unless you support Trump, which is your right. I don't, you know, I don't give a. I don't think you do. But if you didn't, don't support Trump if you don't support him. If you do, you can. That's fine. And no one's going to stop you from doing that. Just know that wasn't like an accident or like, oh, hey, this is a meme. Like Trump's there. Like this was set up so that Trump could get more votes. Oh, yeah. 100%. People said you were mad about the Trump thing. That's. I mean, I obviously I think Trump is a tried to coup the U.S. government and I hate Trump. Yeah, that's my position. uh if i was a political as a political commentator person i don't think i would ever give him any airtime uh dan really wanted me to condemn your support of him in mean videos support support support as in what uh taking mean pictures with him or whatever and all that shit is that supporting though um i think probably the audience is it is based we got a home let's say some people has a picture with a big person celebrity that's that bad person is that support um no i made this exact same argument to dan i said i would probably like if i had a chance to get a picture with hitler i'd definitely take it but i probably wouldn't be wearing like a make the third right great again hat while i'm in the audience okay okay whoa these pictures were like um no no no hold on hold on that one picture was a leak out of some guy like doing like some behind the scenes photos that was i was in that doesn't really count you're free steve was the guy who was defending you i was going on off going off on you well hold on no no careful i was not defending xqc i said i didn give a i said i didn give a about it because he not a political commentator that what i said okay i said i would take a picture too hard what i said we weren going too hard either way sure i just said uh yeah i said if you not a political company i don care that much most people don have as extreme views on trump as i do uh but if i was there obviously i if somebody offered like hey donald trump is outside you want to get a picture with him i'm always saying yes to that it's a former president of the united states obviously i would do it i just wouldn't be wearing a mega hat behind the scenes or whatever while doing it because that seems it implies more support basically oh okay yeah it implies more support yeah i get it i get it i guess i have a better line of defense of like um not being very political person whatever and just kind of playing the part i feel like playing the part is never really a problem but when it comes to politics people think that playing the part is a lot worse uh which is i guess fair so it looks like you're doing a statement or whatever right but i think i think as you're making a statement and you take a stance where you're looking at me You make a statement is a big difference. Let me ask you this. Are you familiar with the statement that Trump made where he said pretty much exactly we have to ban all Muslims coming into the country? Are you familiar with that statement? No. You don't. OK, he said I think Steve could collaborate or corroborate. He said exactly that. It's not like I'm paraphrasing. Well, I actually do not condone any of those statements and I don't stand for that at all. So you think there's probably like a bunch of stuff that he said that's like super fucked up. Like, don't get me wrong. Democrats say like fucking retarded, crazy shit all the time as well. Like I understand. Yeah. Yeah. But but Trump is kind of a little bit next level with some of the fucked up like shit he says. Yeah, I understand. Yeah. So like the logic is if you were a Muslim and you had the president of the United States saying, I want to ban all Muslims from coming into the United States, you would be like, this guy is going to be like a Hitler for us. Like he's he's trying to stop all of our people from coming into the country. This guy is wild. and then the issue becomes more like how how poggers or based is it to do anything at all with a dude like that right it's not like don't get me wrong every candidate has like up shit but like for him it's kind of next level right like is is it next level i think it's next level yeah for that i don't think you're gonna catch i'm not excusing any behaviors i don't i I'm not shaming you. No, no, no. I don't have the specifics or time, whatever. Let's say current day compared to when that was. Is that still in the zone where you're supporting that or you're for that or for like this in general? Because you're standing next to somebody who just said that he would take a picture with Hitler. Justin just said that, right? well i look at it this way right was every policy that trump had bad the answer is no there's a there's some really good shit that he's done that like destiny doesn't even know about himself like things like opportunity zones which are amazing things that help uh underprivileged people uh basically get their communities revitalized so it's not all bad with him but you could say the same thing about hitler like hitler was trying to turn around their the economy and everything along those lines like they're not all bad and um you you can't just be like hey listen this isn't the only thing he did but you have to look at it kind of as a whole like is that one thing bad enough that like being around this dude is kind of oh you know what i mean it's oh okay yeah i tried to approach it more as a uh a flat out label of like a person not not a political being is kind of like my approach right it's why it's why it's why initially they had a seat for me in crowd i didn't partake in that um they had like signs and hats for people being injured i have a thing that i want to be behind the camera right and i ended up doing a setup for the stream uh she had a lot of problems uh beforehand uh some things were like really bad i just did production and then as as we were uh doing a stream right the production because i thought it was fun i thought it'd be a good experience and to work with secret service or whatever i thought it'd be like a fun in quickspin and actually it really was that she was insane um and then uh people were really like thankful and they were talking. I know, but you have to. It was cool. Imagine this. Why did Trump want you and Aiden there? Because this wasn't like Trump's on the street and you're catching a quick photo and then you're leaving and your audience isn't getting any, I don't want to say mixed signals or anything along those lines, but why did Trump, why did he do this? Why was this organized, this whole thing? What was in it for Trump? Yeah, I mean, some form of an exposure connection to the youth and some sort of uh uh it's like it's like a signal boosting his his political standing basically yeah i mean that what it is like he got signal boosting yeah he felt like if i get if i go and i do this stream with xqc and Aiden like some percentage of their audiences that didn like me before and be like oh like XQC likes Trump now I'm voting for him. I don't I don't give a shit. I love XQC. If he said that jump off a bridge, I'll do that, too. Like there's probably, you know, some portion of your audience that doesn't know, like, hey, you know, this was just for the memes. I don't like Trump. Like there's some portion of your audience that doesn't, that's not going to see that. And they're going to be like, oh yeah, I think I'm going to vote for Trump. Like he seems pretty cool. XTC made him seem funny. Yeah. So, so that's a problem that we have in here with humans, right. And finding people and things likeable, right. Cause sometimes you shouldn't like somebody, but because they're charming and they think that they're likeable, you kind of like them. Right. And you, you don't want that. Right. but it happens that's gonna that's gonna that's gonna how we get a lot of people because believe it or not maybe people are gonna mad me for saying this right but trump is likable he's super charismatic but some of the most vile dangerous people in the world are super charismatic that's how they get to where they are they don't like you know if you're just like a brutal asshole dictator like you typically don't get to be a brutal dictator you have to be like good with people kind of a sociopath um you know you have to pander to at least more than half of the population and they have to feel like yeah this guy's awesome so yeah that's all i mean what's done is done i would just say like you know maybe make your views known i guess that that's a way that you can undo a lot of i don't want to say any damage because you don't owe anything to anyone but like if you don't if you don't support the dude if you think he's up you should say so i mean i know you're not political and you don't want to yeah okay so i have two graphs for you I'm gonna drop, I'm gonna drop two graphs. I'm gonna drop two graphs. And I feel like you should look at it. Okay. So, so, um, you know, like me as what I do on a general basis on a day on, on the stream. Right. Yeah. Um, I try to cover like, like some, some sort of like news I found interesting or fun or whatever. It's not as I guess political, right. When it comes down to like, um, political sides that even today I watch a 12 minute video on who is Kamala Harris or whatever, but I didn't really say much about against her. most of the things were for her, right? People, that's how it is for most of the time. When it comes down to downright politics, whatever, I intake as much as I can. I look at it. I don't really give a f***, right? So it's pretty much like most of my actions are pretty, I think, politically fair, right? And then sometimes it's like, so it's like most of it is good, right? And then things get kind of bad when it's kind of like, oh, here's a Trump meme. That's funny. Or here's a Biden meme that makes him look bad. That's funny. But it's kind of bad because it looks like I'm endorsing Trump or whatever because his meme was funny and Biden's meme was funny, but in a bad way, it makes him look bad. That's a bad thing I could do better on. But I still think that I'm in a zone where most things I do are unbiased and decent, and that part is going to... I think that's totally fine. For instance, making fun of Biden being a senior citizen, we literally did that all the time. One of the funniest memes is one that one of the people in our community did where like Biden is like sleeping is like, I'm on your case, Mr. President, whatever shit like that, like that, it doesn't matter. The thing is, like, yeah, it's right now. It's very one way on the other side, right? Like you've pretty not. And, you know, I don't know what you can do to change it. I don't even know if you want to change it or anything along those lines. But you've pretty much much more aggressively now. I don't want to say promoted one candidate. But yeah, basically, you've promoted a candidate, even though it was just a meme. It wasn't your idea. Someone reached out to you is like yo x you want to hang out with trump like who the wouldn't say yeah that sounds crazy let's do that but now it's like you know it's segued in one direction yeah so this is where i'm sometimes i'm short-sighted i'm not using it as a defense right but i look at the world in my lens and i'm not a political commentator lens or somebody who's a political being his lenses right so i take pictures with like a but uh everybody that's famous i'll take a picture for them right so i think when i'm gonna tell me take a picture with uh let's say with him whatever right so most of it is right first area of my graph is oh what is the thinking behind it taking a picture with somebody this person's like famous right other parts what's what's about uh um ex-president partners one part he has a lot of funny memes that i think are funny boom that right and the part that i get i guess it's bad like is is this one you know you know actually i could do it i could do this in a different way for you because it's more extreme You'll get it right away. Would you take a picture with Jeffrey Epstein if he was still alive? Okay. So I think we can agree right that that not a thing that kind of really equates No I agree I using it as a hypothetical example to show the kind of where we go There is a difference also between just like taking a photo with someone and then also doing like a press event Right Yeah. So so that's kind of where I stand on that. It's kind of like most of the thinking is around things that are kind of simple. Oh, they're famous. They're important. They have funny memes. there's a mean potential whatever and then it's like um um unless that person does like some unthinkable shit that are really fucking bad it's like well that's just kind of odd because it looks like i'm validating on the fly that person for doing that right and it's just bad right so i i had to go against my like my code of like oh my thinking is usually this person famous i'll take a picture whatever i have to go against that which is usually i'm gonna say how it is it's a pretty strong feeling most of them right so of course i'm more biased oh this one's like pretty big whatever this is memes whatever boom done i have to go against that feeling but yeah it's kind of how it is that makes sense i i understand where you're at i was just you know i guess like in the future i think you're good at this like you're now you're like you know the fucking rich millionaire xqc like you know like you got to always be asking what's the other person trying to get out of this like for every interaction in your life now at the point where you're at, I mean, it sounds like you especially know this maybe with past wives and whatnot, but what are they? What are they looking to get in this situation? It's not you can't just go in there like, oh, and poggers. It's also like, wait a minute, the is this person? Why are they why are they giving me this gift? You know what? You know, I find that that it's why I wasn't on stream. Right. Is what I was not supposed to be on stream. Right. It's why I said before the team started, I I, when I sat down, I said, listen, I'm going to be behind the camera. Then you get what I get why, but that was intentional. But that was the whole point of not like intentionally like doing that, that, you know? So then, so then, then there goes my last point, which I think is the most important one. Um, now I'm kind of lost my train of thought. Um, yeah. So I understand that why he's there, what he's doing it. Right. But then I don't think, I don't think it explains, right. Like him giving me, giving me a handshake at that point. Right. That was just kind of like a, I don't think there's a lot of thinking behind that even though they're getting that the same way that if I suddenly makes a video about Kamala or Trump, whatever, and I watch it, I'm in a much standing, right? Like I'm giving you some airtime. That's what they're getting out of it. Blah, blah. I get that. I don't, I don't stand with people's politics, whatever, but having it on my stream and do something like that is so I think I'm slim in slim and how much i do in general in politics i don't find it to be a problem but i definitely see though um how like oh yeah even though it's on the fly it's not what they it's not like what they're in for with me whatever i see how it looks right and i guess you could be more cautious with that right that's all just just yeah well you don't have to you could still do meme shit that's what you're known for like make fun of kamala make fun of biden make fun of trump uh like that's all legit just don't be like unless you support trump which is your right i don't you know i don't give a shit i don't think you do but if you did uh i'm sorry if you didn't don't support trump if you don't support him if you do you can that's fine and uh no one's going to stop you from doing that just know like as i said that wasn't like uh an accident or like oh hey this is a meme like trump's there like this was set up so that trump could get more votes oh yeah 100 yeah um it's not Listen, we all know your audience is not good. Yeah, my thinking is almost intentionally braindead to kind of protect the kind of fun and freedom that I get when I go outside. I was at the f***ing game. I was at the Copa America Cup soccer game. I invited him, but he didn't want to go. I mean, I had seats that were insane. He could have went for free. Boring football games, but I love you. All right, all right. So I got to stand a few meters from Messi. It's something that your viewers would give both their nuts for. Okay. We don't even know. We don't even know what poverty game that guy plays for. Is it the poverty ball where you kick it or where you throw it? Which one? It's the poverty ball where the guy that plays it. Why? That was next to me. Could literally buy out your entire family tree, right? And your tree's tree and your entire country's tree, right? and turn it into his ping pong game. It's probably because the entire GDPR of whatever fucking poverty country he's from goes to this one guy. Because he's like, oh yeah, that guy. He should kick the fucking ball. We don't know shit about sports. We do know about... Well, I was going to say we know about esports. We really don't know about that either. Honestly, we really don't know about much. I went to get some fucking food. Let's get some pizza. And Jordan Belfort pulls up next to me. Right. I'm like, oh, holy shit, man. Yo, can we snap a picture? Right. I take a picture with him. Right. Jordan Belfort is the guy from Wolf of Wall Street. You know that guy? The subject of the movie is Jordan Belfort. Wolf of Wall Street guy. Right. That's the fucking Quaaludes guy. That's the fucking fraud guy. Yeah. It's like a bad guy. It's like a bad guy. but now they're like is it that bad to be with it like where do you where do you draw the line like can i have my can i like hang out with this guy or is it bad like another good example of a modern dude like that is like martin strelli right like is it okay to like be cool and be friends and be nice to this type of dude like yeah but yeah but i see i wouldn't give a about martin strelli because i think that um i mean i'm being unbiased i i there's no appeal to the guy i don't i don't think he's likable or like funny or like um the picture wouldn't be worth it it's right because it's no value right i guess if you had some other even though he did some crimes and he got went to jail for i'm pretty sure uh allegedly yes uh not allegedly he was convicted he went to prison yeah federal yeah and i used harvey weinstein as an example would you hang out with kevin spacey for a few hours um i well these are kind of like gotcha questions right i'm not i'm not i'm not trying to i'm just saying all this comes down to is like is it more how what percent of the people think this dude is probably not very poggers right see i i have a curiosity and interest in things that is kind of like unexplainable sometimes right sometimes like i'll be interested and want to know about something and want to ask questions to a certain person or body you know this person is generally seen as doing like horrendous things whatever right i think there's there's some things that i want to know right that i would want to uh know about uh about somebody right that's kind of like interesting but sometimes it's kind of hard to achieve that without being damaging. And it's a line that I haven't really found or have to think about too often because that doesn't happen often. You know? That I'm not I don't think I'm being obtuse. It's just that's hard. Yeah, no, it is. It is hard. I agree. For what it's worth, I feel like if I could hang out with Kevin Spacey for like an hour or something, like it would probably be, like it's not a good look. Like even though he was found innocent or whatever in his trial, there's it's memeable enough it's not like crazy shit but i don't know if i would do the same for like other people right like you got it you have to like weigh it in your mind of where it's at and like what are they getting out of it but anyways it's no that was yeah yeah yeah yeah i mean of course if it was publicized and he's trying to use my platform whatever to say that oh yeah but there's nothing like that in the media as well yeah shit this is i'd never do that shit Are you going to be here on election night? It's kind of a big deal. Yeah, I'm at it. All right, good. Well, I don't want to say too much, but it's going to be insane in the studio that we have here, the people we have coming and whatnot. It's going to be, you remember last election night? It was pretty wild. It's going to be that, but more wild. It was pretty wild. It all depends if a son invites me. If a son invites me, that changes the whole fucking audio. It might be the issue, and it's a whole different volume. All right, well, just know that if that happens and you go there, that there's going to be like a civil war, okay? Because you belong to DGG way more than you belong to that community. But DGG was really mad at the pitch I took with the president. We're not mad. We were just disappointed. And also, destiny swept for you, and he said that it was no big deal. So it's fine. I did not. I said I did have a strong opinion because I don't think he's a political commentator, so I don't care that much. Even though I probably shouldn't do it. It's not that big of a deal, man. Okay. See, he was keeping the relationship open. He thought that he had to be not critical of you to stay friends with you. But you didn't know that X is able to take it as well as he gives it. Isn't that right, X? Yeah. Yeah. We also hung out with him for quite a while after streaming. And listen, I'm not glistening at anything. But I got to say, I've never seen anybody that's on his A game like that ever. That is like insane. It's kind of almost intimidating. This is what people call, you know people say aura, but they don't know what they're talking about, right? Because everybody uses the word. That's like aura shit. And I'm just saying, I'm just saying, like being on the A game like that, being good with people and like that something that I not accustomed to And it was kind of like even though I sure most doesn have that or all of them or all uh pretty much have that right is anything that is something i thought was interesting enough even if just that to uh to show up and actually if i can take a day off to do that day but yeah this was um um i i've ever seen that in real life like met somebody who like goes into a room and owns that room whatever uh that's me i think steve would say that's him but it's not him yeah um right so i went to the podcast i didn't want anything about it but when i got there and i saw you my balls went inside my body and they've just gone because you because you it's been a couple days immediately trying to turn into a woman you're like oh my god this guy is so alpha that i'm turning into a woman right now because i want him to me that much i i have that impression on men that are just not as alpha and sigma as I am. But you shouldn't say that out loud. You need to keep those things to yourself when you say that. Yeah, I did some TMI, my bad, brother. That's okay. Don't worry about it. Yo, Desney, what about the UK riots? What do you think about that? Any comments? Okay, well, now you guys let me use the restroom real quick, and then we can chat about that. Hold on one sec. What's going on in the UK? What are they rioting about? Well, I don't want to resume the story too quickly. this is one of the little things that's kind of complicated so um okay i'll say how it is it's fucking um dental care dental care is really bad people on tv are looking like they're fucking from the cave ages what the fuck is the problem with that so is this shit about immigration mostly about teeth but a little bit about immigration so oh yeah we got out there about that sure we'll take some topics yeah there is some riots in the uh the uk whatever um you know you have this impressive ability not that i'm like really that good at having a memory or following a conversation i have no fucking idea what you're saying right now it was like so impressive but if i make if i make a if i confuse you enough but you're confused and you can trip right i get an advantage still while the audience understands what i'm saying okay i'm winning the optics battle because you don't even know what you're fighting i'm like a ghost fighter you don't even know what's happening and you're still losing it that's that's that's what i do i it's true i am i am punching ghosts right now i don't even know where i am yeah it's i'm dog i'm dog whistling and you cannot say anything against it because it makes you look at your ableist because i have a suspicious impediment so you're just being weird now am i dog whistling or do i have any impediments is there one is it is there a slur against um people from quebec nope really Nope, none. Not a single one has been made. Only Canadians can use it. It's like Frenchy or whatever, right? Because they're the only French part of Canada. So only Canadians have a slur against us, which is like Frenchy. Jesus. That's about it. That's what they have? Frenchy? That's about it. So I think people were... Basically, a brown guy stabbed a brown kid, around 17 year old staff some people some little kids at a dance studio and then a whole bunch of right-wing people capitalized on that some fake news spread on x and people were trying to say that it was like a muslim immigrant so people started like attacking basically some mosque and then more information came out and they found out that he wasn't a he wasn't an immigrant he was born in the uk his parents were immigrants and he wasn't a muslim he was christian but people were saying that the riots were continuing on because there was a general displeasure in the uk about mass migration from Muslims or non-English people. And so people have just kind of been protesting and writing, I think, about that in general, like broadly. That's like the most macro overview. I think what's interesting about that, right, is that when the, I don't know how the UK laws are, but I'm pretty sure in the United States, at least, if somebody commits a crime and they're underage, right, I don't think they release the person's identity to the public. That's why misinformation was able to spread so quickly about it. And it's- Exactly. wait is that that's not true in the united states it is true there's most i feel like there's definite oh i mean it could be by state sure but i feel like there's plenty of times when you know when a minor is committed a crime and their name's listed i feel like that's actually probably more often than not i don't even know if any states have a rule saying that that things are leaked and confirmed in the background whatever and then they go they go off of it and i don think it the police won do it right But I think the media will do it It why it kind of looks or seems that way even though it not But maybe I'm wrong about this. Interesting. I think the media can parade leaks or whatever and say whatever. But I don't think that the police can. um i'm gonna find out right now jack am i right or wrong uh it's probably by state um can somebody find me what time people started chanting this i would love somebody to find me this what time in the evening um but yeah that's the are the rides still going on in the uk or yeah so these people are wrong right people that are like uh um saying blah blah like uh like of course they're wrong right they're wrong about what well the the the uh oh yeah because this person is this uh well they just they're just generally people that want to see less uh immigration from certain countries in general like that's what they're protesting this is just kind of like the inciting moment for it but isn't isn't that immigration uh like illegal is that like fine well yeah but they want to make it not legal that's the issue i would think about that yeah what do you think about that yeah what do you think about that homie i mean i personally i think it's dumb but i mean i think that there are issues across europe sometimes maybe with how honest maybe some people are being about immigration from certain countries but i think that people on the far right like capitalize on that and overhype the of how bad it is oftentimes you get people like Tim Pool who will make videos like lying about you know how rough or horrible a certain city is and I think that there's like sometimes you get like just kind of a general economic anxiety or unrest and immigrants are just have always like historically been the easiest people to blame for everything so all right fair enough damn yo what is it what do you think about this um this other guy this lexify guy the guy that leaked the cheating scandal which one did he leak was that about cheating scandal yeah the guy who usually made the leak yeah oh i i don't know i didn't follow any of it i just got irritated with ray talking shit about what is what is the cliff notes of that steve that whole thing i literally have no idea i don't know did they cheat on each other i have i literally have no idea you have no idea at all i don't know who cheat on who or who i have no idea abusive ex-girlfriend is like melting him for like money an extortion doing a bunch of shit allegedly whatever and then she's also trying to label him as like some uh a weirdo so he's like defending himself against these uh weirdo allegations right by firing back at her saying that she's the weirdo but um in in all in all i think that they're both weird her more but he's also still weird but yes if he has a self-exposed and we're gonna expose her so i think it's just odd also the self-exposed message in his shit is our fucking gringes oh we read all the messages oh i didn't believe those messages that looked like two people that were role-playing like a fin dom like humiliation fetish thing like i almost thought that's what it that's what it looked like to me but it seems like it's real even past the fin dom thing okay that's a yikes that's a mega yikes is it not well i mean that's listen if that's how they get off that knock yourselves out but i thought that we were part of like the fetish with the fact that those messages went public made it look like it was like some huge fucking fetish play or something but i mean some things like uh oh i love him i will be with him no i love you more be with me like that's not that's just cringe like yeah uh yeah yeah that's just some that's that's some haha shit all right that's about it i had to do shit but i forgot so whatever man okay um i'm always curious about your job your drama takes because um what about the beast stuff oh mr beast yeah i haven't kept up with any drama shit i don't even know what is he actually getting fucked or no but people are trying to like uh moral grandstand it and uh like oh my god i can't believe it's he did this and he must atone to this or whatever when it's like somebody actually gives a fuck about they just shit yeah like the lottery stuff and the other employee league i have no idea if it's like actually if it's a big deal or not i just i have no idea yeah oh i looked at a video about it about legal eagle um he says that um some of the stuff like a lot of shit could be uh um illegal but he seems like he learned now and uh has different ways uh which is pretty much what i call atoning but whatever and then so the other side is just not flat out not illegal even though people label it to be illegal it's not yeah i have no idea and everybody's probably done illegal shit in terms of lotteries like historically like on streams and shit like basically every single giveaway on out of ignorance or whatever it's like um oh yeah what about the boxer give me your your your take boom it seems to me that the this is uh i'm giving you slightly opinionated but mostly like it's all fact-based i think that i think that russia was probably just really mad that she smoked the russian boxer in like the quarterfinals i think of um a 2023 iba boxing event. And after that happened, they ended up disqualifying her saying that she had like some competitive advantage against women. The IBA citation to that was that they had done two different tests, one in 2022 and one in 2023. The statements that they put out officially about that, they said officially that they didn't test her testosterone. And then they said that they didn't, they can't disclose what the other test was. And that's it. Nobody has, there hasn't been any official published statements by the IBA saying, you know, that they had tested chromosomes or anything else. They did do like a like a speech or not a speech, a press conference, I think like five days ago. But like in there, they were saying the reason when they tested her in 2022, the test wasn't conclusive enough to say that she was a man. So they had to wait a year later to test her again, which doesn't make any sense to me. I don't know. And then, yeah, I don't know. Like, as of right now, there's absolutely no evidence that this fighter is intersex or trans whatsoever. There's absolutely no evidence. Just a few weird statements by the Kremlin guy, who's the Russian dude who's like the head of the IBA, which hasn't been recognized by the IOC, the Olympic Committee, for a year, and they had been suspended like four or five years ago in 2019, I think, so, yeah, I don't know. It seems like a big conservative who's mad because they have literally nothing to talk about except for trans people and girl d***, I guess. Alright. Fair enough. Hold on, real quick, because people in your chat are saying, XY is enough evidence. There is no evidence whatsoever. I have not seen anything ever about her having XY chromosomes. No IBA official statement has ever been released about that. Kremlin made one weird statement on Russian media. No, actually, he didn't even he posted something on his telegram about this, I think like a year ago, but the IBA has never made an official statement about this anywhere ever. Like never, there's just no evidence of it. Even even if it doesn't like that, isn't that called something sexual or whatever? What is it called? I forgot. What is it called if you're a woman and you have XY or whatever? There's something called Sweers Syndrome. Intersex. Intersex. Well, intersex is a very broad, vague category. Intersex can mean a whole bunch of different things. It just depends. I think if you're an XY woman, I think that's called Sweers Syndrome always, I think. And would that be a competitive advantage or whatever? No. I don't actually know. This is a really rare genetic abnormality or chromosomal abnormality. I don't know if they have like elevated production of testosterone or not, but even the X, Y, uh, gonadal dysgenesis, even that I think has like a spectrum of how wide the gamut can run on how much people are impacted. I'm just, I'm not sure. Hmm. Do you think that there should be a, uh, a standardized, um, tests done to everybody to make it, to make it literally that, just to make a sport more safe because it's a, it's a, it's a contact sports, right? And people can suffer like a lot of damage. Do you think it'd be on the safer side? Just say everybody is standardized test, whatever, make sure nobody gets hurt or not. I mean, if hormone testing covers enough, then I think that's probably fine. If they want to add a genetic XY test or XX test, that's probably fine. I don't really care one way or another. What type of advantages do you get being an XY chromosome woman? I don't know. Like I said, one, it's a really, really rare syndrome. And I think that even in that syndrome, you could run the gamut of developmental defects. um i yeah i don't even know how studied this is in terms of like athletic competitive advantage i have no idea all right well that's what it is all right i'm that's about all the topics i got every day i got all your dicks i think i mostly read all your shit so that's what it is okay i love you be careful too easy see ya leave to bite\n"
     ]
    }
   ],
   "source": [
    "print(full_regular_transcript)"
   ]
  },
  {
   "cell_type": "code",
   "execution_count": 9,
   "metadata": {},
   "outputs": [],
   "source": [
    "# Make the linked transcript\n",
    "linked_transcript=\"\"\n",
    "video_id=\"test\"\n",
    "transcript=\"\"\n",
    "new_lines=0\n",
    "word_count=0\n",
    "time=0\n",
    "# split the transcript every 20 words\n",
    "words_full_transcript=full_regular_transcript.split(\" \")\n",
    "split_full_transcript=[\" \".join(words_full_transcript[i:i+20]) for i in range(0, len(words_full_transcript), 20)]\n",
    "for utterance in split_full_transcript:\n",
    "    time+=1\n",
    "    text=utterance\n",
    "    val=100\n",
    "    base_link=\"https://www.youtube.com/watch?v={video_id}&t={time}s\"\n",
    "    link=f\"https://youtu.be/{video_id}?t={time}\"\n",
    "    linked_transcript+=\"<a href=\\\"\"+link+\"\\\" target=\\\"_blank\\\" class=\\\"underline-hover\\\">\"+text+\"</a>\""
   ]
  },
  {
   "cell_type": "code",
   "execution_count": 10,
   "metadata": {},
   "outputs": [],
   "source": [
    "# save json to testin\n",
    "test_folder='destinyapp/working_folder/test_transcript/transcript.json'\n",
    "\n",
    "import json\n",
    "with open(test_folder, 'w') as f:\n",
    "    json.dump({\"transcript\":full_regular_transcript, \"linked_transcript\":linked_transcript}, f)\n"
   ]
  }
 ],
 "metadata": {
  "kernelspec": {
   "display_name": "env",
   "language": "python",
   "name": "python3"
  },
  "language_info": {
   "codemirror_mode": {
    "name": "ipython",
    "version": 3
   },
   "file_extension": ".py",
   "mimetype": "text/x-python",
   "name": "python",
   "nbconvert_exporter": "python",
   "pygments_lexer": "ipython3",
   "version": "3.11.3"
  }
 },
 "nbformat": 4,
 "nbformat_minor": 2
}
