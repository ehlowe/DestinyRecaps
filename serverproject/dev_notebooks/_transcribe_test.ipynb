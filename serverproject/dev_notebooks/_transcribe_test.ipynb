{
 "cells": [
  {
   "cell_type": "code",
   "execution_count": 1,
   "metadata": {},
   "outputs": [
    {
     "name": "stdout",
     "output_type": "stream",
     "text": [
      "d:\\DestinyFolder\\DestinyRecaps\\DestinyRecapsApi\\serverproject\n"
     ]
    }
   ],
   "source": [
    "# DIRECTORY SET\n",
    "import os\n",
    "import sys\n",
    "from pathlib import Path\n",
    "base_dir=Path(os.getcwd()).parent\n",
    "os.chdir(base_dir)\n",
    "print(os.getcwd())\n",
    "\n",
    "# Load dotenv\n",
    "import dotenv\n",
    "dotenv.load_dotenv()\n",
    "\n",
    "# DJANGO SETUP\n",
    "import django\n",
    "sys.path.append(os.path.abspath(''))\n",
    "os.environ.setdefault(\"DJANGO_SETTINGS_MODULE\", \"serverproject.settings\")\n",
    "django.setup()\n",
    "\n",
    "# Import async modules\n",
    "import asyncio\n",
    "from asgiref.sync import sync_to_async\n",
    "\n",
    "# Import display modules\n",
    "from IPython.display import display, Markdown\n",
    "\n",
    "# Import other modules\n",
    "import faiss\n",
    "\n",
    "# import reloading\n",
    "from importlib import reload"
   ]
  },
  {
   "cell_type": "code",
   "execution_count": 2,
   "metadata": {},
   "outputs": [],
   "source": [
    "%load_ext autoreload\n",
    "%autoreload 2\n",
    "\n",
    "from destinyapp.models import StreamRecapData\n",
    "\n",
    "from core import services\n",
    "from core import utils\n",
    "from core import controller\n",
    "\n",
    "import os\n",
    "from groq import Groq\n",
    "from groq import AsyncGroq\n",
    "\n",
    "client = Groq(api_key=os.getenv(\"GROQ_API_KEY\"))\n",
    "async_client=AsyncGroq(api_key=os.getenv(\"GROQ_API_KEY\"))\n",
    "\n",
    "async def async_transcribe(file_path):\n",
    "    # load the file as a binary\n",
    "    audio_file=open(file_path, \"rb\")\n",
    "    # create the transcription\n",
    "    transcription = await async_client.audio.transcriptions.create(\n",
    "      file=(file_path, audio_file.read()),\n",
    "      model=\"whisper-large-v3\",\n",
    "      response_format=\"verbose_json\",\n",
    "    )\n",
    "\n",
    "    # return the transcription\n",
    "    return transcription"
   ]
  },
  {
   "cell_type": "code",
   "execution_count": 13,
   "metadata": {},
   "outputs": [],
   "source": [
    "# SPLIT UP THE AUDIO FILE AND SAVE IT\n",
    "mp4_test_folder='destinyapp/working_folder/mp4_2_mp3'\n",
    "files=os.listdir(mp4_test_folder)\n",
    "for file in files:\n",
    "\n",
    "    ffmpeg_command = f\"ffmpeg -i {mp4_test_folder}/{file} -vn -acodec libmp3lame -b:a 192k {mp4_test_folder}/{os.path.splitext(file)[0]}.mp3\"\n",
    "    os.system(ffmpeg_command)\n",
    "    break\n"
   ]
  },
  {
   "cell_type": "code",
   "execution_count": 3,
   "metadata": {},
   "outputs": [
    {
     "data": {
      "text/plain": [
       "0"
      ]
     },
     "execution_count": 3,
     "metadata": {},
     "output_type": "execute_result"
    }
   ],
   "source": [
    "# SPLIT UP THE AUDIO FILE AND SAVE IT\n",
    "test_folder='destinyapp/working_folder/testing'\n",
    "files=os.listdir(test_folder)\n",
    "for file in files:\n",
    "    os.remove(test_folder+'/'+file)\n",
    "\n",
    "file_path=\"D:\\DestinyFolder\\DestinyRecaps\\DestinyRecapsApi\\serverproject\\destinyapp\\working_folder\\working_audio\\merged_audio.mp3\"\n",
    "ffmpeg_command=\"ffmpeg -i \"+file_path+\" -f segment -segment_time 1200 -c copy \"+test_folder+\"/output_%03d.mp3\"\n",
    "os.system(ffmpeg_command)"
   ]
  },
  {
   "cell_type": "code",
   "execution_count": 4,
   "metadata": {},
   "outputs": [],
   "source": [
    "# Produce the transcripts\n",
    "files=os.listdir(test_folder)\n",
    "tasks=[]\n",
    "for file in files:\n",
    "    tasks.append(async_transcribe(test_folder+'/'+file))\n",
    "task_results=await asyncio.gather(*tasks)"
   ]
  },
  {
   "cell_type": "code",
   "execution_count": 7,
   "metadata": {},
   "outputs": [],
   "source": [
    "# make full transcript\n",
    "full_regular_transcript=\"\"\n",
    "for result in task_results:\n",
    "    full_regular_transcript+=result.text"
   ]
  },
  {
   "cell_type": "code",
   "execution_count": 9,
   "metadata": {},
   "outputs": [],
   "source": [
    "# Make the linked transcript\n",
    "linked_transcript=\"\"\n",
    "video_id=\"test\"\n",
    "transcript=\"\"\n",
    "new_lines=0\n",
    "word_count=0\n",
    "time=0\n",
    "# split the transcript every 20 words\n",
    "words_full_transcript=full_regular_transcript.split(\" \")\n",
    "split_full_transcript=[\" \".join(words_full_transcript[i:i+20]) for i in range(0, len(words_full_transcript), 20)]\n",
    "for utterance in split_full_transcript:\n",
    "    time+=1\n",
    "    text=utterance\n",
    "    val=100\n",
    "    base_link=\"https://www.youtube.com/watch?v={video_id}&t={time}s\"\n",
    "    link=f\"https://youtu.be/{video_id}?t={time}\"\n",
    "    linked_transcript+=\"<a href=\\\"\"+link+\"\\\" target=\\\"_blank\\\" class=\\\"underline-hover\\\">\"+text+\"</a>\""
   ]
  },
  {
   "cell_type": "code",
   "execution_count": 10,
   "metadata": {},
   "outputs": [],
   "source": [
    "# save json to testin\n",
    "test_folder='destinyapp/working_folder/test_transcript/transcript.json'\n",
    "\n",
    "import json\n",
    "with open(test_folder, 'w') as f:\n",
    "    json.dump({\"transcript\":full_regular_transcript, \"linked_transcript\":linked_transcript}, f)\n"
   ]
  }
 ],
 "metadata": {
  "kernelspec": {
   "display_name": "env",
   "language": "python",
   "name": "python3"
  },
  "language_info": {
   "codemirror_mode": {
    "name": "ipython",
    "version": 3
   },
   "file_extension": ".py",
   "mimetype": "text/x-python",
   "name": "python",
   "nbconvert_exporter": "python",
   "pygments_lexer": "ipython3",
   "version": "3.11.3"
  }
 },
 "nbformat": 4,
 "nbformat_minor": 2
}
