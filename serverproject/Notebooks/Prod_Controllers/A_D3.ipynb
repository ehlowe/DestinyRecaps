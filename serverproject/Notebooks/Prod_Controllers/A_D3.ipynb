{
 "cells": [
  {
   "cell_type": "code",
   "execution_count": 2,
   "metadata": {},
   "outputs": [
    {
     "name": "stdout",
     "output_type": "stream",
     "text": [
      "d:\\DestinyFolder\\DestinyRecaps\\DestinyRecapsApi\\serverproject\n"
     ]
    }
   ],
   "source": [
    "# DIRECTORY SET\n",
    "import os\n",
    "import sys\n",
    "import traceback\n",
    "from pathlib import Path\n",
    "base_dir=Path(os.getcwd()).parent.parent\n",
    "os.chdir(base_dir)\n",
    "print(os.getcwd())\n",
    "\n",
    "# ENVIRONMENT VARIABLES\n",
    "import dotenv\n",
    "dotenv.load_dotenv()\n",
    "\n",
    "# DJANGO SETUP\n",
    "import django\n",
    "sys.path.append(os.path.abspath(''))\n",
    "os.environ.setdefault(\"DJANGO_SETTINGS_MODULE\", \"serverproject.settings\")\n",
    "django.setup()\n",
    "\n",
    "# Import async modules\n",
    "import asyncio\n",
    "from asgiref.sync import sync_to_async\n",
    "\n",
    "# Import display modules\n",
    "from IPython.display import display, Markdown\n",
    "\n",
    "# Import other modules\n",
    "import faiss\n",
    "\n",
    "# import reloading\n",
    "from importlib import reload\n",
    "\n",
    "# Enable autoreload\n",
    "%load_ext autoreload\n",
    "%autoreload 2\n",
    "\n",
    "# Import custom modules\n",
    "from destinyapp.models import StreamRecapData\n",
    "\n",
    "from destinyapp.customlibrary import services\n",
    "from destinyapp.customlibrary import utils\n",
    "from destinyapp.customlibrary import controller"
   ]
  },
  {
   "cell_type": "code",
   "execution_count": 1,
   "metadata": {},
   "outputs": [],
   "source": [
    "video_id=\"OqVH_MTBQ6k\""
   ]
  },
  {
   "cell_type": "code",
   "execution_count": 3,
   "metadata": {},
   "outputs": [
    {
     "name": "stdout",
     "output_type": "stream",
     "text": [
      "Cost:  0.007353\n",
      "Cost:  0.00139975\n",
      "Cost:  0.002322\n",
      "Cost:  0.0022725\n",
      "Cost:  0.00227225\n",
      "Cost:  0.00236175\n",
      "Cost:  0.00248225\n",
      "Cost:  0.0025397500000000003\n",
      "Cost:  0.002572\n",
      "Cost:  0.0029372499999999998\n",
      "Cost:  0.00305025\n",
      "Cost:  0.0032025\n",
      "Cost:  0.00166125\n",
      "Cost:  0.0024720000000000002\n",
      "Cost:  0.003057\n",
      "Results:  20\n",
      "Results:  20\n",
      "Results:  20\n",
      "Results:  0 Text Chunks:  20  Returning blank equal to text chunks length\n",
      "Results:  20\n",
      "Results:  20\n",
      "Results:  13 Text Chunks:  20  Returning blank equal to text chunks length\n",
      "Results:  20\n",
      "Results:  20\n",
      "Results:  20\n",
      "Results:  20\n",
      "Results:  20\n",
      "Results:  20\n",
      "Results:  12\n"
     ]
    },
    {
     "ename": "TypeError",
     "evalue": "'list' object cannot be interpreted as an integer",
     "output_type": "error",
     "traceback": [
      "\u001b[1;31m---------------------------------------------------------------------------\u001b[0m",
      "\u001b[1;31mTypeError\u001b[0m                                 Traceback (most recent call last)",
      "Cell \u001b[1;32mIn[3], line 7\u001b[0m\n\u001b[0;32m      3\u001b[0m annotated_results, major_topics, minor_topics \u001b[38;5;241m=\u001b[39m \u001b[38;5;28;01mawait\u001b[39;00m services\u001b[38;5;241m.\u001b[39mstream_plot\u001b[38;5;241m.\u001b[39mgenerate_data(stream_recap_data)\n\u001b[0;32m      5\u001b[0m plot_object, annotated_results, plot_segments, category_locations \u001b[38;5;241m=\u001b[39m \u001b[38;5;28;01mawait\u001b[39;00m services\u001b[38;5;241m.\u001b[39mstream_plot\u001b[38;5;241m.\u001b[39mprocess_data(stream_recap_data,  annotated_results, major_topics, minor_topics, video_id)\n\u001b[1;32m----> 7\u001b[0m plot_object\u001b[38;5;241m=\u001b[39m\u001b[38;5;28;01mawait\u001b[39;00m services\u001b[38;5;241m.\u001b[39mstream_plot\u001b[38;5;241m.\u001b[39mannotate_extra(plot_object)      \n\u001b[0;32m      9\u001b[0m \u001b[38;5;28;01mawait\u001b[39;00m services\u001b[38;5;241m.\u001b[39mstream_plot\u001b[38;5;241m.\u001b[39mgenerate_plot(plot_object)\n",
      "File \u001b[1;32md:\\DestinyFolder\\DestinyRecaps\\DestinyRecapsApi\\serverproject\\destinyapp\\customlibrary\\services\\stream_plot\\controller.py:33\u001b[0m, in \u001b[0;36mannotate_extra\u001b[1;34m(plot_object)\u001b[0m\n\u001b[0;32m     31\u001b[0m \u001b[38;5;28;01masync\u001b[39;00m \u001b[38;5;28;01mdef\u001b[39;00m \u001b[38;5;21mannotate_extra\u001b[39m(plot_object):\n\u001b[0;32m     32\u001b[0m     plot_object\u001b[38;5;241m=\u001b[39m\u001b[38;5;28;01mawait\u001b[39;00m extra_annotations\u001b[38;5;241m.\u001b[39mrecap_segments(plot_object)\n\u001b[1;32m---> 33\u001b[0m     plot_object\u001b[38;5;241m=\u001b[39m\u001b[38;5;28;01mawait\u001b[39;00m extra_annotations\u001b[38;5;241m.\u001b[39mrecap_abstractions(plot_object)\n",
      "File \u001b[1;32md:\\DestinyFolder\\DestinyRecaps\\DestinyRecapsApi\\serverproject\\destinyapp\\customlibrary\\services\\stream_plot\\extra_annotations.py:51\u001b[0m, in \u001b[0;36mrecap_abstractions\u001b[1;34m(plot_object)\u001b[0m\n\u001b[0;32m     48\u001b[0m \u001b[38;5;28;01masync\u001b[39;00m \u001b[38;5;28;01mdef\u001b[39;00m \u001b[38;5;21mrecap_abstractions\u001b[39m(plot_object: data_processing\u001b[38;5;241m.\u001b[39mPlotObject):\n\u001b[0;32m     49\u001b[0m     \u001b[38;5;66;03m# Produce the abstraction recaps\u001b[39;00m\n\u001b[0;32m     50\u001b[0m     tasks\u001b[38;5;241m=\u001b[39m[]\n\u001b[1;32m---> 51\u001b[0m     \u001b[38;5;28;01mfor\u001b[39;00m key \u001b[38;5;129;01min\u001b[39;00m \u001b[38;5;28;43mrange\u001b[39;49m\u001b[43m(\u001b[49m\u001b[38;5;28;43mlist\u001b[39;49m\u001b[43m(\u001b[49m\u001b[43mplot_object\u001b[49m\u001b[38;5;241;43m.\u001b[39;49m\u001b[43mabstractions\u001b[49m\u001b[38;5;241;43m.\u001b[39;49m\u001b[43mkeys\u001b[49m\u001b[43m(\u001b[49m\u001b[43m)\u001b[49m\u001b[43m)\u001b[49m\u001b[43m)\u001b[49m:\n\u001b[0;32m     52\u001b[0m         \u001b[38;5;66;03m# get all the segments with category == key\u001b[39;00m\n\u001b[0;32m     53\u001b[0m         temp_segment_recaps\u001b[38;5;241m=\u001b[39m[]\n\u001b[0;32m     54\u001b[0m         \u001b[38;5;28;01mfor\u001b[39;00m segment \u001b[38;5;129;01min\u001b[39;00m plot_object\u001b[38;5;241m.\u001b[39msegments:\n",
      "\u001b[1;31mTypeError\u001b[0m: 'list' object cannot be interpreted as an integer"
     ]
    }
   ],
   "source": [
    "stream_recap_data=await utils.get_recap_data(video_id)\n",
    "\n",
    "annotated_results, major_topics, minor_topics = await services.stream_plot.generate_data(stream_recap_data)\n"
   ]
  },
  {
   "cell_type": "code",
   "execution_count": 6,
   "metadata": {},
   "outputs": [
    {
     "name": "stdout",
     "output_type": "stream",
     "text": [
      "101\n"
     ]
    }
   ],
   "source": [
    "print(len(plot_object.segments))"
   ]
  },
  {
   "cell_type": "code",
   "execution_count": 10,
   "metadata": {},
   "outputs": [],
   "source": [
    "plot_object, annotated_results, plot_segments, category_locations = await services.stream_plot.process_data(stream_recap_data,  annotated_results, major_topics, minor_topics, video_id)\n",
    "\n",
    "plot_object=await services.stream_plot.annotate_extra(plot_object)      \n",
    "\n",
    "# await services.stream_plot.generate_plot(plot_object)"
   ]
  },
  {
   "cell_type": "code",
   "execution_count": 9,
   "metadata": {},
   "outputs": [],
   "source": [
    "plot_object"
   ]
  },
  {
   "cell_type": "code",
   "execution_count": 8,
   "metadata": {},
   "outputs": [
    {
     "ename": "AttributeError",
     "evalue": "'NoneType' object has no attribute '__dict__'",
     "output_type": "error",
     "traceback": [
      "\u001b[1;31m---------------------------------------------------------------------------\u001b[0m",
      "\u001b[1;31mAttributeError\u001b[0m                            Traceback (most recent call last)",
      "Cell \u001b[1;32mIn[8], line 3\u001b[0m\n\u001b[0;32m      1\u001b[0m \u001b[38;5;66;03m# save plot_object as json to D:\\DestinyFolder\\DestinyRecaps\\DestinyRecapsWeb\\frontend\\src\\apps\\stream_plot\\plot_data.json\u001b[39;00m\n\u001b[1;32m----> 3\u001b[0m \u001b[43mplot_object\u001b[49m\u001b[38;5;241;43m.\u001b[39;49m\u001b[38;5;18;43m__dict__\u001b[39;49m\n",
      "\u001b[1;31mAttributeError\u001b[0m: 'NoneType' object has no attribute '__dict__'"
     ]
    }
   ],
   "source": [
    "# save plot_object as json to D:\\DestinyFolder\\DestinyRecaps\\DestinyRecapsWeb\\frontend\\src\\apps\\stream_plot\\plot_data.json\n",
    "from dataclasses import dataclass, asdict, is_dataclass\n",
    "from typing import Any\n",
    "import json\n",
    "plot_object_json=json.dumps(asdict(plot_object))\n",
    "with open(f\"plot_object_{video_id}.json\", \"w\") as f:\n",
    "    f.write(plot_object_json)\n",
    "\n",
    "plot_object.__dict__"
   ]
  }
 ],
 "metadata": {
  "kernelspec": {
   "display_name": "env",
   "language": "python",
   "name": "python3"
  },
  "language_info": {
   "codemirror_mode": {
    "name": "ipython",
    "version": 3
   },
   "file_extension": ".py",
   "mimetype": "text/x-python",
   "name": "python",
   "nbconvert_exporter": "python",
   "pygments_lexer": "ipython3",
   "version": "3.11.3"
  }
 },
 "nbformat": 4,
 "nbformat_minor": 2
}
