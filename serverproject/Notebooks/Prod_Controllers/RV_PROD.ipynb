{
 "cells": [
  {
   "cell_type": "code",
   "execution_count": 1,
   "metadata": {},
   "outputs": [
    {
     "name": "stdout",
     "output_type": "stream",
     "text": [
      "d:\\DestinyFolder\\DestinyRecaps\\DestinyRecapsApi\\serverproject\n"
     ]
    }
   ],
   "source": [
    "# DIRECTORY SET\n",
    "import os\n",
    "import sys\n",
    "import traceback\n",
    "from pathlib import Path\n",
    "base_dir=Path(os.getcwd()).parent.parent\n",
    "os.chdir(base_dir)\n",
    "print(os.getcwd())\n",
    "\n",
    "# ENVIRONMENT VARIABLES\n",
    "import dotenv\n",
    "dotenv.load_dotenv()\n",
    "\n",
    "# DJANGO SETUP\n",
    "import django\n",
    "sys.path.append(os.path.abspath(''))\n",
    "os.environ.setdefault(\"DJANGO_SETTINGS_MODULE\", \"serverproject.settings\")\n",
    "django.setup()\n",
    "\n",
    "# Import async modules\n",
    "import asyncio\n",
    "from asgiref.sync import sync_to_async\n",
    "\n",
    "# Import display modules\n",
    "from IPython.display import display, Markdown\n",
    "\n",
    "# Import other modules\n",
    "import faiss\n",
    "\n",
    "# import reloading\n",
    "from importlib import reload\n",
    "\n",
    "# Enable autoreload\n",
    "%load_ext autoreload\n",
    "%autoreload 2\n",
    "\n",
    "# Import custom modules\n",
    "from destinyapp.models import StreamRecapData\n",
    "\n",
    "from destinyapp.customlibrary import services\n",
    "from destinyapp.customlibrary import utils\n",
    "from destinyapp.customlibrary import controller"
   ]
  },
  {
   "cell_type": "code",
   "execution_count": 19,
   "metadata": {},
   "outputs": [
    {
     "name": "stdout",
     "output_type": "stream",
     "text": [
      "Driver closed\n"
     ]
    }
   ],
   "source": [
    "await services.web_checker.web_get_recap_image()"
   ]
  },
  {
   "cell_type": "markdown",
   "metadata": {},
   "source": [
    "# Define id"
   ]
  },
  {
   "cell_type": "code",
   "execution_count": null,
   "metadata": {},
   "outputs": [],
   "source": [
    "# Input parameter\n",
    "video_id=\"OqVH_MTBQ6k\""
   ]
  },
  {
   "cell_type": "markdown",
   "metadata": {},
   "source": [
    "# Simple controller function run"
   ]
  },
  {
   "cell_type": "code",
   "execution_count": null,
   "metadata": {},
   "outputs": [],
   "source": [
    "await controller.StreamPlotController.run(video_id)"
   ]
  },
  {
   "cell_type": "markdown",
   "metadata": {},
   "source": [
    "# Run the contents of the controller"
   ]
  },
  {
   "cell_type": "code",
   "execution_count": null,
   "metadata": {},
   "outputs": [],
   "source": [
    "stream_recap_data=await utils.get_recap_data(video_id)\n",
    "testing_bool=True\n",
    "if not testing_bool:\n",
    "    annotated_results, major_topics, minor_topics = await services.stream_plot.generate_data(stream_recap_data)\n",
    "else:\n",
    "    import json\n",
    "    with open(f\"testing_visualization_data_gen.json\", \"r\") as f:\n",
    "        data_gen=json.load(f)\n",
    "\n",
    "    annotated_results=data_gen[\"annotated_results\"]\n",
    "    major_topics=data_gen[\"major_topics\"]\n",
    "    minor_topics=data_gen[\"minor_topics\"]\n",
    "    stream_recap_data=await utils.get_recap_data(video_id)\n",
    "\n",
    "\n",
    "plot_object, annotated_results, plot_segments, category_locations = await services.stream_plot.process_data(stream_recap_data,  annotated_results, major_topics, minor_topics, video_id)\n",
    "\n",
    "await services.stream_plot.generate_plot(plot_object)"
   ]
  },
  {
   "cell_type": "code",
   "execution_count": null,
   "metadata": {},
   "outputs": [],
   "source": [
    "plot_object.abstractions"
   ]
  },
  {
   "cell_type": "code",
   "execution_count": null,
   "metadata": {},
   "outputs": [],
   "source": [
    "from dataclasses import dataclass, asdict, is_dataclass\n",
    "from typing import Any"
   ]
  },
  {
   "cell_type": "code",
   "execution_count": null,
   "metadata": {},
   "outputs": [],
   "source": [
    "from dataclasses import dataclass, asdict, is_dataclass\n",
    "from typing import Any\n",
    "import json\n",
    "plot_object_json=json.dumps(asdict(plot_object))\n",
    "with open(f\"plot_object_{video_id}.json\", \"w\") as f:\n",
    "    f.write(plot_object_json)\n"
   ]
  },
  {
   "cell_type": "code",
   "execution_count": null,
   "metadata": {},
   "outputs": [],
   "source": [
    "stream_recap_data=await utils.get_recap_data(video_id)\n",
    "\n",
    "annotated_results, major_topics, minor_topics = await services.stream_plot.generate_data(stream_recap_data)\n",
    "\n",
    "plot_object, annotated_results, plot_segments, category_locations = await services.stream_plot.process_data(stream_recap_data,  annotated_results, major_topics, minor_topics, video_id)\n",
    "\n",
    "await services.stream_plot.generate_plot(plot_object)\n"
   ]
  },
  {
   "cell_type": "markdown",
   "metadata": {},
   "source": [
    "# Prod Testing"
   ]
  },
  {
   "cell_type": "code",
   "execution_count": null,
   "metadata": {},
   "outputs": [],
   "source": [
    "class StreamPlotController:\n",
    "    async def generate_data(stream_recap_data: StreamRecapData):\n",
    "        text_chunks_no_overlap = await services.stream_plot.data_gen.create_text_chunks(stream_recap_data.transcript, 0)\n",
    "\n",
    "        text_chunk_batches = await services.stream_plot.data_gen.generate_text_chunk_batches(text_chunks_no_overlap)\n",
    "\n",
    "        topic_annotations_str = await services.stream_plot.data_gen.annotate_major_minor_topics(stream_recap_data.recap)\n",
    "        major_topics, minor_topics = services.stream_plot.data_gen.process_topic_annotations_str(topic_annotations_str)\n",
    "\n",
    "        responses, annotated_results = await services.stream_plot.data_gen.annotate_all_batches(text_chunk_batches, topic_annotations_str)\n",
    "\n",
    "        return annotated_results, major_topics, minor_topics\n",
    "    \n",
    "    async def process_data(stream_recap_data: StreamRecapData, annotated_results, major_topics, minor_topics, video_id):\n",
    "        annotated_segments, category_locations = await services.stream_plot.data_processing.create_segments(stream_recap_data.linked_transcript, annotated_results, major_topics, stream_recap_data.transcript)\n",
    "\n",
    "        plot_segments=await  services.stream_plot.data_processing.annotated_to_plot_segments(annotated_segments)\n",
    "\n",
    "        plot_object=await  services.stream_plot.data_processing.create_plot_object(plot_segments, category_locations, video_id)\n",
    "\n",
    "        return plot_object, annotated_segments, plot_segments, category_locations\n",
    "    \n",
    "    async def generate_plot(plot_object):\n",
    "        return await services.stream_plot.data_plotting.generate_plot(plot_object)\n",
    "    \n",
    "    @classmethod\n",
    "    async def run(self, video_id):\n",
    "        stream_recap_data=await utils.get_recap_data(video_id)\n",
    "\n",
    "        annotated_results, major_topics, minor_topics = await self.generate_data(stream_recap_data)\n",
    "\n",
    "        plot_object, annotated_results, plot_segments, category_locations = await self.process_data(stream_recap_data,  annotated_results, major_topics, minor_topics, video_id)\n",
    "\n",
    "        await self.generate_plot(plot_object)"
   ]
  }
 ],
 "metadata": {
  "kernelspec": {
   "display_name": "env",
   "language": "python",
   "name": "python3"
  },
  "language_info": {
   "codemirror_mode": {
    "name": "ipython",
    "version": 3
   },
   "file_extension": ".py",
   "mimetype": "text/x-python",
   "name": "python",
   "nbconvert_exporter": "python",
   "pygments_lexer": "ipython3",
   "version": "3.11.3"
  }
 },
 "nbformat": 4,
 "nbformat_minor": 2
}
