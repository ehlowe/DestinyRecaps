{
 "cells": [
  {
   "cell_type": "code",
   "execution_count": 1,
   "metadata": {},
   "outputs": [
    {
     "name": "stdout",
     "output_type": "stream",
     "text": [
      "d:\\DestinyFolder\\DestinyRecaps\\DestinyRecapsApi\\serverproject\n"
     ]
    }
   ],
   "source": [
    "# DIRECTORY SET\n",
    "import os\n",
    "import sys\n",
    "import traceback\n",
    "from pathlib import Path\n",
    "base_dir=Path(os.getcwd()).parent.parent\n",
    "os.chdir(base_dir)\n",
    "print(os.getcwd())\n",
    "\n",
    "# ENVIRONMENT VARIABLES\n",
    "import dotenv\n",
    "dotenv.load_dotenv()\n",
    "\n",
    "# DJANGO SETUP\n",
    "import django\n",
    "sys.path.append(os.path.abspath(''))\n",
    "os.environ.setdefault(\"DJANGO_SETTINGS_MODULE\", \"serverproject.settings\")\n",
    "django.setup()\n",
    "\n",
    "# Import async modules\n",
    "import asyncio\n",
    "from asgiref.sync import sync_to_async\n",
    "\n",
    "# Import display modules\n",
    "from IPython.display import display, Markdown\n",
    "\n",
    "# Import other modules\n",
    "import faiss\n",
    "\n",
    "# import reloading\n",
    "from importlib import reload\n",
    "\n",
    "# Enable autoreload\n",
    "%load_ext autoreload\n",
    "%autoreload 2\n",
    "\n",
    "# Import custom modules\n",
    "from destinyapp.models import StreamRecapData\n",
    "\n",
    "from destinyapp.customlibrary import services\n",
    "from destinyapp.customlibrary import utils\n",
    "from destinyapp.customlibrary import controller\n",
    "\n",
    "import numpy as np\n",
    "import matplotlib.pyplot as plt"
   ]
  },
  {
   "cell_type": "markdown",
   "metadata": {},
   "source": [
    "# Load Data"
   ]
  },
  {
   "cell_type": "code",
   "execution_count": 2,
   "metadata": {},
   "outputs": [],
   "source": [
    "# Input parameter\n",
    "video_id=\"OqVH_MTBQ6k\"\n",
    "\n",
    "# load data from testing_visualization_annotation_results.json\n",
    "import json\n",
    "with open(f\"testing_visualization_data_gen.json\", \"r\") as f:\n",
    "    data_gen=json.load(f)\n",
    "\n",
    "annotated_results=data_gen[\"annotated_results\"]\n",
    "major_topics=data_gen[\"major_topics\"]\n",
    "minor_topics=data_gen[\"minor_topics\"]\n",
    "\n",
    "stream_recap_data=await utils.get_recap_data(video_id)\n",
    "\n",
    "plot_segments, category_locations, color_dict = await services.RV.create_segments(stream_recap_data.linked_transcript, annotated_results, major_topics, stream_recap_data.transcript)"
   ]
  },
  {
   "cell_type": "markdown",
   "metadata": {},
   "source": [
    "# Shove data into class"
   ]
  },
  {
   "cell_type": "code",
   "execution_count": 81,
   "metadata": {},
   "outputs": [],
   "source": [
    "plot_object=services.RV.PlotObject()"
   ]
  },
  {
   "cell_type": "code",
   "execution_count": 82,
   "metadata": {},
   "outputs": [],
   "source": [
    "# Define Segments\n",
    "plot_object.segments=[]\n",
    "for segment in plot_segments:\n",
    "    segment[\"x\"]=None\n",
    "    seg_obj=services.RV.Segment(**segment)\n",
    "    plot_object.segments.append(seg_obj)"
   ]
  },
  {
   "cell_type": "code",
   "execution_count": 83,
   "metadata": {},
   "outputs": [],
   "source": [
    "# Define time_normalization\n",
    "plot_object.time_normalization=services.RV.TimeNormalization(net_duration=plot_object.segments[-1].end-plot_object.segments[0].start, start_offset=plot_object.segments[0].start)\n",
    "\n",
    "# Define Abstractions\n",
    "for segment in plot_object.segments:\n",
    "    abstraction=plot_object.abstractions.get(segment.category, None)\n",
    "    if abstraction:\n",
    "        plot_object.abstractions[segment.category].width+=segment.width\n",
    "    else:\n",
    "        plot_object.abstractions[segment.category]=services.RV.Abstraction(width=segment.width, color=segment.color, x=None, y=None, size=None)\n",
    "\n",
    "    segment.x=(((segment.start+segment.end)/2)-plot_object.time_normalization.start_offset)/plot_object.time_normalization.net_duration\n",
    "\n",
    "# Define circle size\n",
    "circle_size_multiplier=0.1\n",
    "circle_size_offset=0.1\n",
    "def get_circle_size(total_width):\n",
    "    return (((np.sqrt(total_width) * circle_size_multiplier)*2)+circle_size_offset)\n",
    "\n",
    "# define abstraction size\n",
    "total_abstraction_width=0\n",
    "for category, abstraction in plot_object.abstractions.items():\n",
    "    if category==\"non categorized\":\n",
    "        continue\n",
    "    abstraction.size=get_circle_size(abstraction.width)\n",
    "    total_abstraction_width+=abstraction.size\n",
    "\n",
    "# define abstraction x\n",
    "abstraction_width_cutoff=0.1\n",
    "number_of_abstractions=len(plot_object.abstractions.values())\n",
    "circle_zone_size=1-(abstraction_width_cutoff*2)\n",
    "between_circle_padding=(circle_zone_size-total_abstraction_width)/(number_of_abstractions-2)\n",
    "\n",
    "last_x=abstraction_width_cutoff-between_circle_padding\n",
    "\n",
    "upper_y=0.45\n",
    "lower_y=0.3\n",
    "for i, category in enumerate(list(category_locations.keys())):\n",
    "    if category==\"non categorized\":\n",
    "        continue\n",
    "    plot_object.abstractions[category].x=last_x+(plot_object.abstractions[category].size/2)+between_circle_padding\n",
    "\n",
    "    last_x=plot_object.abstractions[category].x+(plot_object.abstractions[category].size/2)\n",
    "    if i%2==0:\n",
    "        plot_object.abstractions[category].y=upper_y\n",
    "    else:\n",
    "        plot_object.abstractions[category].y=lower_y"
   ]
  },
  {
   "cell_type": "code",
   "execution_count": 84,
   "metadata": {},
   "outputs": [
    {
     "data": {
      "text/plain": [
       "{'non categorized': Abstraction(width=0.3298881253904253, color='black', x=None, y=None, size=None),\n",
       " 'minor topics': Abstraction(width=0.13777045828837525, color='yellow', x=0.18711744310810957, y=0.45, size=0.1742348862162192),\n",
       " \"Biden's Decision Not to Seek Re-election\": Abstraction(width=0.04764609006757908, color='green', x=0.6929045097099478, y=0.45, size=0.14365596869504976),\n",
       " 'Kamala Harris as Potential Democratic Nominee': Abstraction(width=0.10710432165369979, color='blue', x=0.4429229704929865, y=0.45, size=0.1654535932256434),\n",
       " \"Trump's Actions and Republican Party\": Abstraction(width=0.1358964166051451, color='red', x=0.5733631462341156, y=0.3, size=0.17372826231646726),\n",
       " 'Immigration and Asylum Policy': Abstraction(width=0.10324266000340737, color='purple', x=0.317215530048192, y=0.3, size=0.16426279172379843),\n",
       " 'Analysis of Federalist Paper No. 78': Abstraction(width=0.13845192799136807, color='orange', x=0.8127908710137733, y=0.3, size=0.17441825797245408)}"
      ]
     },
     "execution_count": 84,
     "metadata": {},
     "output_type": "execute_result"
    }
   ],
   "source": [
    "plot_object.abstractions"
   ]
  },
  {
   "cell_type": "code",
   "execution_count": 85,
   "metadata": {},
   "outputs": [],
   "source": [
    "# Create the plot with a specific gray background\n",
    "from matplotlib import pyplot as plt\n",
    "background_color=96\n",
    "plotting_width=10\n",
    "fig, ax = plt.subplots(figsize=(12, 10))\n",
    "hex_background_color = '#%02x%02x%02x' % (int(background_color), int(background_color), int(background_color))\n",
    "fig.patch.set_facecolor(hex_background_color)  # Set figure background to [96, 96, 96]\n",
    "ax.set_facecolor(hex_background_color)  # Set axes background to [96, 96, 96]\n",
    "target_plot_width=10\n",
    "\n",
    "plt.close(fig)"
   ]
  },
  {
   "cell_type": "markdown",
   "metadata": {},
   "source": [
    "### CREATE BAR"
   ]
  },
  {
   "cell_type": "code",
   "execution_count": 86,
   "metadata": {},
   "outputs": [
    {
     "name": "stdout",
     "output_type": "stream",
     "text": [
      "Total width: 0.9999999999999998\n"
     ]
    }
   ],
   "source": [
    "# import defaultdict\n",
    "from collections import defaultdict\n",
    "\n",
    "# Plot BAR \n",
    "current_x = 0\n",
    "category_info = defaultdict(lambda: {\"total_width\": 0, \"segments\": []})\n",
    "\n",
    "bar_height = 1.5\n",
    "bar_height = 1.0\n",
    "\n",
    "clickable_area_x_offset=0.085\n",
    "clickable_area_y_offset=0.1\n",
    "clickable_y_height_multiplier=1.22\n",
    "clickable_areas=[]\n",
    "href_base=\"https://youtu.be/\"+video_id+\"?t=\"\n",
    "\n",
    "\n",
    "\n",
    "for i, segment in enumerate(plot_object.segments):\n",
    "\n",
    "    # ax.add_patch(plt.Rectangle(((segment.x-segment.width/2)*plotting_width, 0), segment.width, bar_height, \n",
    "    #                         facecolor=segment.color, edgecolor='white'))\n",
    "    \n",
    "    ax.add_patch(plt.Rectangle((((segment.x-(segment.width/2))*plotting_width), 0), segment.width*plotting_width, bar_height, \n",
    "                            facecolor=segment.color, edgecolor='white'))\n",
    "    current_x += segment.width\n",
    "\n",
    "    # coord_list=[(current_x)*10, (10-(bar_height*clickable_y_height_multiplier)-clickable_area_y_offset)*10, (current_x+segment.width)*10, 10*(10-clickable_area_y_offset)]\n",
    "    \n",
    "    # href=href_base+str(int(segment.start))\n",
    "    # clickable_area={\"alt\":href, \"title\":href, \"href\":href, \"coords\": coord_list}\n",
    "    # clickable_areas.append(clickable_area)\n",
    "\n",
    "total_width = current_x\n",
    "print(\"Total width:\", total_width)"
   ]
  },
  {
   "cell_type": "markdown",
   "metadata": {},
   "source": [
    "### CREATE CIRCLES"
   ]
  },
  {
   "cell_type": "code",
   "execution_count": 87,
   "metadata": {},
   "outputs": [
    {
     "name": "stdout",
     "output_type": "stream",
     "text": [
      "non categorized 0.3298881253904253\n",
      "minor topics 0.13777045828837525\n",
      "Biden's Decision Not to Seek Re-election 0.04764609006757908\n",
      "Kamala Harris as Potential Democratic Nominee 0.10710432165369979\n",
      "Trump's Actions and Republican Party 0.1358964166051451\n",
      "Immigration and Asylum Policy 0.10324266000340737\n",
      "Analysis of Federalist Paper No. 78 0.13845192799136807\n"
     ]
    }
   ],
   "source": [
    "# Calculate Circle Padding\n",
    "import numpy as np\n",
    "circle_zone_size=9\n",
    "circle_y = 3.5\n",
    "circle_y = 2.78\n",
    "circle_size_variable = 0.15\n",
    "circle_size_variable = 0.13\n",
    "circle_base_size_variable=0.3\n",
    "circle_base_size_variable=0.41\n",
    "\n",
    "# current_x=\n",
    "circle_x_locations={}\n",
    "total_circles_width=0\n",
    "def get_circle_width(total_width):\n",
    "    return (((np.sqrt(total_width) * circle_size_variable)*2)+circle_base_size_variable)\n",
    "\n",
    "alterating_bool=False\n",
    "vertical_offset_value=0.5\n",
    "vertical_offset_value=0.65\n",
    "\n",
    "for category, abstraction in plot_object.abstractions.items():\n",
    "    print(category, abstraction.width)\n",
    "\n",
    "    if category == 'non categorized':\n",
    "        continue\n",
    "\n",
    "    # Calculate x position for the circle (center of all segments of this category)\n",
    "    if alterating_bool:\n",
    "        alterating_bool=False\n",
    "        vertical_offset=-vertical_offset_value\n",
    "    else:\n",
    "        vertical_offset=vertical_offset_value\n",
    "        alterating_bool=True\n",
    "\n",
    "    # Store circle center, color, and size for later use\n",
    "    circle_size = np.sqrt(abstraction.width) * circle_size_variable\n",
    "    circle_applied_y=circle_y+vertical_offset\n",
    "    # circle_centers.append((circle_x, circle_applied_y, abstraction.color, circle_size))\n",
    "    \n",
    "    # # DRAW LINES\n",
    "    # for segment_start, segment_width in info['segments']:\n",
    "    #     segment_center = segment_start + segment_width / 2\n",
    "    #     ax.plot([segment_center, circle_x], [bar_height, circle_applied_y], \n",
    "    #             color=info['color'], linewidth=1)  \n",
    "        \n",
    "    # PLOT CIRCLES\n",
    "    circle = plt.Circle((abstraction.x*plotting_width, abstraction.y*plotting_width), (abstraction.size/2)*plotting_width, \n",
    "                        facecolor=abstraction.color, edgecolor='white', zorder=10)\n",
    "    ax.add_artist(circle)\n",
    "\n",
    "\n",
    "# circle = plt.Circle((2, 0), 1, \n",
    "#                         facecolor=abstraction.color, edgecolor='white', zorder=10)\n",
    "# ax.add_artist(circle)\n",
    "# circle = plt.Circle((8, 0), 1, \n",
    "#                         facecolor=abstraction.color, edgecolor='white', zorder=10)\n",
    "# ax.add_artist(circle)\n",
    "\n",
    "    # # PLOT CIRCLE LABELS, set width to circle size and wrap\n",
    "    # text_wrap=textwrap.fill(category, width=12)\n",
    "    # bubble_font_size_text=14\n",
    "    # if info[\"color\"]==\"yellow\":\n",
    "    #     # make it bold and have a white border\n",
    "    #     ax.text(circle_x, circle_applied_y, text_wrap, ha='center', va='center', color='black', fontsize=bubble_font_size_text, zorder=11, fontweight='bold')#, bbox=dict(facecolor='yellow', edgecolor='black', boxstyle='round,pad=0.2'))\n",
    "    # else:\n",
    "    #     ax.text(circle_x, circle_applied_y, text_wrap, ha='center', va='center', color='white', fontsize=bubble_font_size_text, zorder=11, fontweight='bold')\n",
    "\n",
    "    # # current_x += (info['total_width']*circle_mutlipler)+0.1\n",
    "    # current_x +=between_circle_padding+circle_applied_size\n",
    "    # print(\"Circle current x:\", current_x)"
   ]
  },
  {
   "cell_type": "markdown",
   "metadata": {},
   "source": [
    "### PLOT"
   ]
  },
  {
   "cell_type": "code",
   "execution_count": 88,
   "metadata": {},
   "outputs": [
    {
     "data": {
      "image/png": "[encoded data removed]",
      "text/plain": [
       "<Figure size 1200x1000 with 1 Axes>"
      ]
     },
     "metadata": {},
     "output_type": "display_data"
    }
   ],
   "source": [
    "# Add white line extending upward from central circle\n",
    "top_y = 100  # Adjust this value to change the length of the line\n",
    "ax.plot([total_width/2, total_width/2], [0, 1], \n",
    "        color='white', linewidth=3, solid_capstyle='round')  # Added white line\n",
    "\n",
    "# Customize the plot\n",
    "ax.set_xlim(0, total_width*plotting_width)\n",
    "ax.set_ylim(0, 8)\n",
    "ax.set_aspect('equal', adjustable='box')\n",
    "ax.axis('off')\n",
    "\n",
    "# Display the plot\n",
    "from IPython.display import display\n",
    "\n",
    "display(fig)"
   ]
  }
 ],
 "metadata": {
  "kernelspec": {
   "display_name": "env",
   "language": "python",
   "name": "python3"
  },
  "language_info": {
   "codemirror_mode": {
    "name": "ipython",
    "version": 3
   },
   "file_extension": ".py",
   "mimetype": "text/x-python",
   "name": "python",
   "nbconvert_exporter": "python",
   "pygments_lexer": "ipython3",
   "version": "3.11.3"
  }
 },
 "nbformat": 4,
 "nbformat_minor": 2
}
