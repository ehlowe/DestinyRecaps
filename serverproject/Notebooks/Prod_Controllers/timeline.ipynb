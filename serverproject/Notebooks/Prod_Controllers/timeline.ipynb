{
 "cells": [
  {
   "cell_type": "code",
   "execution_count": 1,
   "metadata": {},
   "outputs": [
    {
     "name": "stdout",
     "output_type": "stream",
     "text": [
      "d:\\DestinyFolder\\DestinyRecaps\\DestinyRecapsApi\\serverproject\n"
     ]
    }
   ],
   "source": [
    "# DIRECTORY SET\n",
    "import os\n",
    "import sys\n",
    "import traceback\n",
    "from pathlib import Path\n",
    "base_dir=Path(os.getcwd()).parent.parent\n",
    "os.chdir(base_dir)\n",
    "print(os.getcwd())\n",
    "\n",
    "# ENVIRONMENT VARIABLES\n",
    "import dotenv\n",
    "dotenv.load_dotenv()\n",
    "\n",
    "# DJANGO SETUP\n",
    "import django\n",
    "sys.path.append(os.path.abspath(''))\n",
    "os.environ.setdefault(\"DJANGO_SETTINGS_MODULE\", \"serverproject.settings\")\n",
    "django.setup()\n",
    "\n",
    "# Import async modules\n",
    "import asyncio\n",
    "from asgiref.sync import sync_to_async\n",
    "\n",
    "# Import display modules\n",
    "from IPython.display import display, Markdown\n",
    "\n",
    "# Import other modules\n",
    "import faiss\n",
    "\n",
    "# import reloading\n",
    "from importlib import reload\n",
    "\n",
    "# Enable autoreload\n",
    "%load_ext autoreload\n",
    "%autoreload 2\n",
    "\n",
    "# Import custom modules\n",
    "from destinyapp.models import StreamRecapData\n",
    "\n",
    "from destinyapp.customlibrary import services\n",
    "from destinyapp.customlibrary import utils\n",
    "from destinyapp.customlibrary import controller\n",
    "\n",
    "import numpy as np\n",
    "import matplotlib.pyplot as plt\n",
    "\n",
    "from matplotlib import pyplot as plt\n",
    "from collections import defaultdict\n",
    "import textwrap\n",
    "import numpy as np\n",
    "from IPython.display import display"
   ]
  },
  {
   "cell_type": "code",
   "execution_count": 2,
   "metadata": {},
   "outputs": [],
   "source": [
    "alL_recaps=await utils.get_all_recaps_fast()"
   ]
  },
  {
   "cell_type": "code",
   "execution_count": 28,
   "metadata": {},
   "outputs": [],
   "source": [
    "ordered_recaps=await services.timeline_plot.data_gen.generate_data(alL_recaps)"
   ]
  },
  {
   "cell_type": "code",
   "execution_count": 26,
   "metadata": {},
   "outputs": [
    {
     "name": "stdout",
     "output_type": "stream",
     "text": [
      "4551\n"
     ]
    }
   ],
   "source": [
    "ordered_recaps_str=\"\"\n",
    "prev_date_str=\"\"\n",
    "for date_str, recap in ordered_recaps:\n",
    "    if prev_date_str!=date_str:\n",
    "        temp_string=\"\\n\\n\"+date_str+\": \"+recap[\"recap\"].split(\"\\n\")[0]\n",
    "    else:\n",
    "        temp_string=\" \"+recap[\"recap\"].split(\"\\n\")[0]\n",
    "    ordered_recaps_str+=temp_string\n",
    "    prev_date_str=date_str\n",
    "print(len(ordered_recaps_str))"
   ]
  },
  {
   "cell_type": "code",
   "execution_count": 27,
   "metadata": {},
   "outputs": [
    {
     "name": "stdout",
     "output_type": "stream",
     "text": [
      "\n",
      "\n",
      "07/23/2024: Election aftermath legal battles, Dr. K's therapy ethics controversy, Destiny's contentious remarks, 2024 presidential race insights, MrBeast team drama\n",
      "\n",
      "07/22/2024: 2020 Election challenges, January 6th analysis, Electoral College debate, political polarization, media literacy critique, and surprising side topics\n",
      "\n",
      "07/21/2024: Tech data breaches, Trump's military tech claims, doxing ethics, financial advice for grads, US authoritarianism concerns Biden's exit, Harris's rise, immigration reform, judicial review, Trump's GOP impact, Fox News lawsuit\n",
      "\n",
      "07/20/2024: Election fraud claims, January 6th fallout, Supreme Court on presidential immunity, media fact-checking\n",
      "\n",
      "07/18/2024: Trump's election claims, January 6th riot analysis, Russian propaganda tactics, media criticism, and ethical frameworks\n",
      "\n",
      "07/17/2024: Trump-Hitler debate, Biden-Trump competence showdown, Russian bot networks exposed, Media bias dissected Tech troubles plague Destiny's stream, political musings amidst PC chaos, and a glimpse into a streamer's problem-solving psyche Media bias, Trump-Hitler comparisons, weightlifting tips, Destiny's political stance, knowledge vs. conviction graph, and eclectic topics from House MD to space debris\n",
      "\n",
      "07/16/2024: Dental drama, violence justification debate, Twitch platform frustrations\n",
      "\n",
      "07/15/2024: Political rhetoric showdown, Jan 6th debate, social media mastery, and Boogie2988 cancer controversy Political discourse dynamics, immigration policy myths, media bias debate, and Destiny's controversial online persona Political discourse evolution, Elon Musk's surprising border comments, the myth of neutrality in debates, and the dark side of online fame\n",
      "\n",
      "07/10/2024: Supreme Court shakes up agency power, Iran Hostage Crisis revisited, economic debates on housing and student loans\n",
      "\n",
      "07/09/2024: Boogie2988's crypto and health controversies, YouTube copyright abuse, MLK's Birmingham letter analysis, Supreme Court cases\n",
      "\n",
      "07/08/2024: Supreme Court shakes up administrative law, gun control debates heat up, and American identity under scrutiny\n",
      "\n",
      "07/07/2024: Game of Thrones critique, Israel-Palestine conflict analysis, U.S. political landscape, police reform debate, relationship insights\n",
      "\n",
      "07/06/2024: Biden's fitness debate, Trump's poll lead, Supreme Court's Chevron ruling, media influence on politics, surprise physics discussion\n",
      "\n",
      "07/05/2024: Supreme Court on presidential immunity, Trump's post-election actions, 14th Amendment eligibility debate, healthcare reform discussions\n",
      "\n",
      "07/04/2024: Supreme Court expands presidential immunity: Implications for Trump, 2024 election, and democracy's future\n",
      "\n",
      "07/03/2024: Presidential immunity debate, 14th Amendment interpretation, Trump's legal challenges, Economic policy impacts\n",
      "\n",
      "07/02/2024: Trump-Epstein connection, AI consciousness debate, nuclear energy challenges, streaming negotiations Supreme Court on presidential immunity, Trump's legal battles, constitutional deep dive, and critiques of US political system\n",
      "\n",
      "07/01/2024: Presidential immunity debate, Biden's 2024 prospects, Constitutional power struggles, Trump's legal battles\n",
      "\n",
      "06/30/2024: Russia-Ukraine conflict, US foreign policy debates, NATO's role in modern geopolitics, analysis of international conflicts Destiny unpacks Israel-Palestine, slams Trump's GOP, defends Biden, and navigates audience skepticism while battling tech gremlins\n",
      "\n",
      "06/28/2024: U.S. election dynamics, streaming industry drama, Israel-Palestine insights, content moderation ethics, and wealth taxation debates\n",
      "\n",
      "06/27/2024: Israel-Palestine conflict, European immigration debates, streaming techniques, Trump analysis, cultural clashes, archaeological revelations\n",
      "\n",
      "06/25/2024: Streaming tech wizardry, Rust strategies, debate prep, and pop culture musings - a peek into Destiny's multifaceted world\n",
      "\n",
      "06/22/2024: Israel-Palestine conflict deep dive, debate tactics critique, US foreign policy analysis, media conspiracy debunking Israel-Palestine solutions, Middle Eastern politics, US foreign policy critiques, economic system debates, pseudoscience debunking Israel-Palestine conflict deep dive, US Middle East policy revelations, media narratives dissected, and firsthand observations from the region Destiny's Twitch ban, Israel-Palestine conflict deep dive, COVID-19 misinformation, streaming platform comparisons Upcoming debates, Twitch drama, Russian bot analysis, and work-life balance insights\n",
      "\n",
      "06/19/2024: Israel-Hamas conflict: Just war debate, historical roots, AI in warfare, and challenging simplistic narratives\n"
     ]
    }
   ],
   "source": [
    "print(ordered_recaps_str)"
   ]
  },
  {
   "cell_type": "code",
   "execution_count": null,
   "metadata": {},
   "outputs": [],
   "source": [
    "06/22/2024: Destiny's Twitch ban, Israel-Palestine conflict deep dive, COVID-19 misinformation, streaming platform comparisons\n",
    "\n",
    "06/22/2024: Upcoming debates, Twitch drama, Russian bot analysis, and work-life balance insights\n",
    "\n",
    "06/19/2024: Israel-Hamas conflict: Just war debate, historical roots, AI in warfare, and challenging simplistic narratives\n"
   ]
  },
  {
   "cell_type": "code",
   "execution_count": 32,
   "metadata": {},
   "outputs": [
    {
     "name": "stdout",
     "output_type": "stream",
     "text": [
      "0.0007283999999999999\n"
     ]
    }
   ],
   "source": [
    "response=await services.timeline_plot.data_gen.make_timeline_data(ordered_recaps_str)#, \"timeline_plot.png\")"
   ]
  },
  {
   "cell_type": "code",
   "execution_count": 33,
   "metadata": {},
   "outputs": [
    {
     "name": "stdout",
     "output_type": "stream",
     "text": [
      "07/23/2024: Election aftermath and legal battles, therapy ethics, presidential race insights, and streaming drama\n",
      "\n",
      "07/22/2024: 2020 Election challenges, January 6th analysis, Electoral College debate, and media literacy\n",
      "\n",
      "07/21/2024: Tech data breaches, Trump's military tech claims, doxing ethics, and immigration reform\n",
      "\n",
      "07/20/2024: Election fraud claims, January 6th fallout, and Supreme Court discussions\n",
      "\n",
      "07/18/2024: Trump's election claims, January 6th riot analysis, and media criticism\n",
      "\n",
      "07/17/2024: Trump-Hitler debate, Biden-Trump competence showdown, media bias, and eclectic topics\n",
      "\n",
      "07/16/2024: Dental drama, violence justification debate, and Twitch frustrations\n",
      "\n",
      "07/15/2024: Political rhetoric, Jan 6th debate, social media mastery, and online persona dynamics\n",
      "\n",
      "07/10/2024: Supreme Court agency power, economic debates, and historical crises\n",
      "\n",
      "07/09/2024: Boogie2988 controversies, YouTube copyright issues, and Supreme Court cases\n",
      "\n",
      "07/08/2024: Supreme Court on administrative law, gun control debates, and American identity\n",
      "\n",
      "07/07/2024: Game of Thrones critique, Israel-Palestine analysis, and police reform debate\n",
      "\n",
      "07/06/2024: Biden's fitness debate, Trump's poll lead, and media influence\n",
      "\n",
      "07/05/2024: Supreme Court on presidential immunity, Trump's actions, and healthcare reform\n",
      "\n",
      "07/04/2024: Presidential immunity expansion, implications for Trump, and democracy's future\n",
      "\n",
      "07/03/2024: Presidential immunity debate, Trump's legal challenges, and economic policy impacts\n",
      "\n",
      "07/02/2024: Trump-Epstein connection, AI consciousness, and nuclear energy challenges\n",
      "\n",
      "07/01/2024: Presidential immunity debate, Biden's 2024 prospects, and Trump's legal battles\n",
      "\n",
      "06/30/2024: Russia-Ukraine conflict, US foreign policy, and Israel-Palestine insights\n",
      "\n",
      "06/28/2024: U.S. election dynamics, streaming industry drama, and wealth taxation debates\n",
      "\n",
      "06/27/2024: Israel-Palestine conflict, immigration debates, and cultural clashes\n",
      "\n",
      "06/25/2024: Streaming tech, Rust strategies, and pop culture musings\n",
      "\n",
      "06/22/2024: Israel-Palestine conflict, debate tactics, and media narratives\n",
      "\n",
      "06/19/2024: Israel-Hamas conflict, just war debate, and AI in warfare\n"
     ]
    }
   ],
   "source": [
    "print(response)"
   ]
  },
  {
   "cell_type": "code",
   "execution_count": 60,
   "metadata": {},
   "outputs": [
    {
     "name": "stdout",
     "output_type": "stream",
     "text": [
      "0.013763999999999998\n"
     ]
    }
   ],
   "source": [
    "normalized_response=await services.timeline_plot.data_gen.normalize_data_gen(ordered_recaps_str)"
   ]
  },
  {
   "cell_type": "code",
   "execution_count": 49,
   "metadata": {},
   "outputs": [
    {
     "name": "stdout",
     "output_type": "stream",
     "text": [
      "0.010995000000000001\n"
     ]
    }
   ],
   "source": [
    "# normalized_response=await services.timeline_plot.data_gen.normalize_data_gen(response)"
   ]
  },
  {
   "cell_type": "code",
   "execution_count": 62,
   "metadata": {},
   "outputs": [],
   "source": [
    "timeline_data=await services.timeline_plot.data_gen.parse_normalized_data(normalized_response)"
   ]
  },
  {
   "cell_type": "code",
   "execution_count": 63,
   "metadata": {},
   "outputs": [
    {
     "data": {
      "text/plain": [
       "{'2024 election and Trump:': ['07/23/2024',\n",
       "  ' 07/22/2024',\n",
       "  ' 07/21/2024',\n",
       "  ' 07/20/2024',\n",
       "  ' 07/18/2024',\n",
       "  ' 07/17/2024',\n",
       "  ' 07/15/2024',\n",
       "  ' 07/06/2024',\n",
       "  ' 07/05/2024',\n",
       "  ' 07/04/2024',\n",
       "  ' 07/03/2024',\n",
       "  ' 07/02/2024',\n",
       "  ' 07/01/2024',\n",
       "  ' 06/30/2024',\n",
       "  ' 06/28/2024',\n",
       "  ' 06/27/2024'],\n",
       " 'Supreme Court and legal battles:': ['07/23/2024',\n",
       "  ' 07/20/2024',\n",
       "  ' 07/10/2024',\n",
       "  ' 07/09/2024',\n",
       "  ' 07/08/2024',\n",
       "  ' 07/06/2024',\n",
       "  ' 07/05/2024',\n",
       "  ' 07/04/2024',\n",
       "  ' 07/03/2024',\n",
       "  ' 07/02/2024',\n",
       "  ' 07/01/2024'],\n",
       " 'January 6th and election fraud:': ['07/22/2024',\n",
       "  ' 07/20/2024',\n",
       "  ' 07/18/2024',\n",
       "  ' 07/15/2024'],\n",
       " 'Media and politics:': ['07/22/2024',\n",
       "  ' 07/20/2024',\n",
       "  ' 07/18/2024',\n",
       "  ' 07/17/2024',\n",
       "  ' 07/15/2024',\n",
       "  ' 07/06/2024',\n",
       "  ' 06/22/2024'],\n",
       " 'Israel-Palestine conflict:': ['06/30/2024',\n",
       "  ' 06/28/2024',\n",
       "  ' 06/27/2024',\n",
       "  ' 06/22/2024',\n",
       "  ' 06/19/2024'],\n",
       " 'Streaming industry:': ['07/17/2024',\n",
       "  ' 07/16/2024',\n",
       "  ' 06/28/2024',\n",
       "  ' 06/27/2024',\n",
       "  ' 06/25/2024',\n",
       "  ' 06/22/2024'],\n",
       " 'Immigration:': ['07/21/2024', ' 07/15/2024', ' 06/27/2024'],\n",
       " 'Foreign policy:': ['06/30/2024', ' 06/22/2024'],\n",
       " 'Goofing off:': ['07/16/2024', ' 07/07/2024', ' 06/25/2024'],\n",
       " 'Controversies and drama:': ['07/23/2024',\n",
       "  ' 07/15/2024',\n",
       "  ' 07/09/2024',\n",
       "  ' 07/02/2024'],\n",
       " 'Economic debates:': ['07/10/2024', ' 06/28/2024', ' 06/22/2024'],\n",
       " 'Technology and AI:': ['07/21/2024', ' 07/02/2024', ' 06/19/2024'],\n",
       " 'Healthcare and social issues:': ['07/07/2024', ' 07/05/2024'],\n",
       " 'Constitutional debates:': ['07/03/2024', ' 07/01/2024'],\n",
       " 'Debate tactics and preparation:': ['06/25/2024', ' 06/22/2024']}"
      ]
     },
     "execution_count": 63,
     "metadata": {},
     "output_type": "execute_result"
    }
   ],
   "source": [
    "timeline_data"
   ]
  },
  {
   "cell_type": "code",
   "execution_count": 64,
   "metadata": {},
   "outputs": [],
   "source": [
    "import json\n",
    "\n",
    "# save timeline_data\n",
    "with open('timeline_data.json', 'w') as f:\n",
    "    json.dump(timeline_data, f)"
   ]
  }
 ],
 "metadata": {
  "kernelspec": {
   "display_name": "env",
   "language": "python",
   "name": "python3"
  },
  "language_info": {
   "codemirror_mode": {
    "name": "ipython",
    "version": 3
   },
   "file_extension": ".py",
   "mimetype": "text/x-python",
   "name": "python",
   "nbconvert_exporter": "python",
   "pygments_lexer": "ipython3",
   "version": "3.11.3"
  }
 },
 "nbformat": 4,
 "nbformat_minor": 2
}
