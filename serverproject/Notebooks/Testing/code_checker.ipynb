{
 "cells": [
  {
   "cell_type": "code",
   "execution_count": 6,
   "metadata": {},
   "outputs": [
    {
     "name": "stdout",
     "output_type": "stream",
     "text": [
      "Total lines of Python code: 3042\n"
     ]
    }
   ],
   "source": [
    "import os\n",
    "\n",
    "def count_python_lines(folder_path):\n",
    "    total_lines = 0\n",
    "    \n",
    "    for root, dirs, files in os.walk(folder_path):\n",
    "        # Exclude __pycache__ directories\n",
    "        dirs[:] = [d for d in dirs if d != '__pycache__']\n",
    "        \n",
    "        for file in files:\n",
    "            if file.endswith('.py'):\n",
    "                file_path = os.path.join(root, file)\n",
    "                if 'migrations' in file_path:\n",
    "                    continue\n",
    "                # print(file_path)\n",
    "                try:\n",
    "                    with open(file_path, 'r', encoding='utf-8') as f:\n",
    "                        # Count non-empty lines\n",
    "                        lines = sum(1 for line in f if line.strip())\n",
    "                    total_lines += lines\n",
    "                except Exception as e:\n",
    "                    print(f\"Error reading file {file_path}: {e}\")\n",
    "    \n",
    "    return total_lines\n",
    "\n",
    "# Example usage\n",
    "folder_path = '/path/to/your/python/project'\n",
    "folder_path= r'D:\\DestinyFolder\\DestinyRecaps\\DestinyRecapsApi\\serverproject\\destinyapp\\customlibrary'\n",
    "\n",
    "# folder_path= r'D:\\DestinyFolder\\DestinyRecaps\\DestinyRecapsApi\\serverproject\\destinyapp'\n",
    "line_count = count_python_lines(folder_path)\n",
    "print(f\"Total lines of Python code: {line_count}\")"
   ]
  },
  {
   "cell_type": "code",
   "execution_count": null,
   "metadata": {},
   "outputs": [],
   "source": [
    "folder_path= r'D:\\DestinyFolder\\DestinyRecaps\\DestinyRecapsApi\\serverproject\\destinyapp\\customlibrary'\n",
    "line_count = count_python_lines(folder_path)\n",
    "print(f\"Total lines of Python code: {line_count}\")"
   ]
  }
 ],
 "metadata": {
  "kernelspec": {
   "display_name": "env",
   "language": "python",
   "name": "python3"
  },
  "language_info": {
   "codemirror_mode": {
    "name": "ipython",
    "version": 3
   },
   "file_extension": ".py",
   "mimetype": "text/x-python",
   "name": "python",
   "nbconvert_exporter": "python",
   "pygments_lexer": "ipython3",
   "version": "3.11.3"
  }
 },
 "nbformat": 4,
 "nbformat_minor": 2
}
