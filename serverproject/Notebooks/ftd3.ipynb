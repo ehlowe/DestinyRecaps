{
 "cells": [
  {
   "cell_type": "code",
   "execution_count": null,
   "metadata": {},
   "outputs": [],
   "source": [
    "import json\n",
    "\n",
    "ex1=[\"test\"]\n",
    "ex2=[\"test2\"]\n",
    "\n",
    "\n",
    "examples=[ex1,ex2]\n",
    "\n",
    "# make examples out to ex10\n",
    "examples=[ex1,ex2,ex3,ex4,ex5,ex6,ex7,ex8,ex9,ex10]\n",
    "\n",
    "# make a jsonl file with all the examples\n",
    "with open(\"examples.jsonl\", \"w\") as f:\n",
    "    for ex in examples\n",
    "        f.write(json.dumps(ex)+\"\\n\")"
   ]
  }
 ],
 "metadata": {
  "language_info": {
   "name": "python"
  }
 },
 "nbformat": 4,
 "nbformat_minor": 2
}
