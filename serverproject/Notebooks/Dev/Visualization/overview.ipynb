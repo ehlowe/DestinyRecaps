{
 "cells": [
  {
   "cell_type": "code",
   "execution_count": 1,
   "metadata": {},
   "outputs": [
    {
     "name": "stdout",
     "output_type": "stream",
     "text": [
      "d:\\DestinyFolder\\DestinyRecaps\\DestinyRecapsApi\\serverproject\n"
     ]
    }
   ],
   "source": [
    "# DIRECTORY SET\n",
    "import os\n",
    "import sys\n",
    "import traceback\n",
    "from pathlib import Path\n",
    "base_dir=Path(os.getcwd()).parent.parent.parent\n",
    "os.chdir(base_dir)\n",
    "print(os.getcwd())\n",
    "\n",
    "# ENVIRONMENT VARIABLES\n",
    "import dotenv\n",
    "dotenv.load_dotenv()\n",
    "\n",
    "# DJANGO SETUP\n",
    "import django\n",
    "sys.path.append(os.path.abspath(''))\n",
    "os.environ.setdefault(\"DJANGO_SETTINGS_MODULE\", \"serverproject.settings\")\n",
    "django.setup()\n",
    "\n",
    "# Import async modules\n",
    "import asyncio\n",
    "from asgiref.sync import sync_to_async\n",
    "\n",
    "# Import display modules\n",
    "from IPython.display import display, Markdown\n",
    "\n",
    "# Import other modules\n",
    "import faiss\n",
    "\n",
    "# import reloading\n",
    "from importlib import reload\n",
    "\n",
    "# Enable autoreload\n",
    "%load_ext autoreload\n",
    "%autoreload 2\n",
    "\n",
    "# Import custom modules\n",
    "from destinyapp.models import StreamRecapData\n",
    "\n",
    "from destinyapp.customlibrary import services\n",
    "from destinyapp.customlibrary import utils\n",
    "from destinyapp.customlibrary import controller"
   ]
  },
  {
   "cell_type": "code",
   "execution_count": 2,
   "metadata": {},
   "outputs": [],
   "source": [
    "video_id=\"OqVH_MTBQ6k\""
   ]
  },
  {
   "cell_type": "code",
   "execution_count": 3,
   "metadata": {},
   "outputs": [
    {
     "name": "stdout",
     "output_type": "stream",
     "text": [
      "Cost:  0.007353\n",
      "Cost:  0.00139975\n",
      "Cost:  0.002322\n",
      "Cost:  0.00227225\n",
      "Cost:  0.00236175\n",
      "Cost:  0.0025397500000000003\n",
      "Cost:  0.0024720000000000002\n",
      "Cost:  0.002572\n",
      "Cost:  0.00166125\n",
      "Cost:  0.00305025\n",
      "Cost:  0.00248225\n",
      "Cost:  0.003057\n",
      "Cost:  0.0022725\n",
      "Cost:  0.0029372499999999998\n",
      "Cost:  0.0032025\n",
      "Results:  20\n",
      "Results:  20\n",
      "Results:  20\n",
      "Results:  0 Text Chunks:  20  Returning blank equal to text chunks length\n",
      "Results:  20\n",
      "Results:  20\n",
      "Results:  13 Text Chunks:  20  Returning blank equal to text chunks length\n",
      "Results:  20\n",
      "Results:  20\n",
      "Results:  20\n",
      "Results:  20\n",
      "Results:  20\n",
      "Results:  20\n",
      "Results:  12\n"
     ]
    }
   ],
   "source": [
    "stream_recap_data=await utils.get_recap_data(video_id)\n",
    "\n",
    "annotated_results, major_topics, minor_topics, cost = await services.stream_plot.generate_data(stream_recap_data)"
   ]
  },
  {
   "cell_type": "code",
   "execution_count": 4,
   "metadata": {},
   "outputs": [],
   "source": [
    "plot_object, annotated_results, plot_segments, category_locations = await services.stream_plot.process_data(stream_recap_data,  annotated_results, major_topics, minor_topics, video_id)\n",
    "\n",
    "plot_object, cost=await services.stream_plot.annotate_extra(plot_object)      "
   ]
  },
  {
   "cell_type": "code",
   "execution_count": 5,
   "metadata": {},
   "outputs": [],
   "source": [
    "# save plot_object as json to D:\\DestinyFolder\\DestinyRecaps\\DestinyRecapsWeb\\frontend\\src\\apps\\stream_plot\\plot_data.json\n",
    "from dataclasses import dataclass, asdict, is_dataclass\n",
    "from typing import Any\n",
    "import json\n",
    "plot_object_json=json.dumps(asdict(plot_object))\n",
    "with open(r\"D:\\DestinyFolder\\DestinyRecaps\\DestinyRecapsWeb\\frontend\\src\\apps\\stream_plot\\plot_data.json\", \"w\") as f:\n",
    "    f.write(plot_object_json)"
   ]
  },
  {
   "cell_type": "code",
   "execution_count": 5,
   "metadata": {},
   "outputs": [],
   "source": [
    "# save the plot_object to the database\n",
    "from dataclasses import dataclass, asdict, is_dataclass\n",
    "\n",
    "stream_recap_data=await utils.get_recap_data(video_id)\n",
    "stream_recap_data.plot_object=asdict(plot_object)\n",
    "await sync_to_async(stream_recap_data.save)()"
   ]
  },
  {
   "cell_type": "markdown",
   "metadata": {},
   "source": [
    "# Prompting"
   ]
  },
  {
   "cell_type": "code",
   "execution_count": 6,
   "metadata": {},
   "outputs": [],
   "source": [
    "from destinyapp.customlibrary.services.stream_plot import extra_annotations as ea"
   ]
  },
  {
   "cell_type": "code",
   "execution_count": 7,
   "metadata": {},
   "outputs": [
    {
     "name": "stdout",
     "output_type": "stream",
     "text": [
      "Category:  Kamala Harris as Potential Democratic Nominee\n"
     ]
    }
   ],
   "source": [
    "i=11\n",
    "response=await ea.recap_segment(plot_object.segments[i].category, plot_object.segments[i].texts)\n",
    "print(\"Category: \", plot_object.segments[i].category)"
   ]
  },
  {
   "cell_type": "code",
   "execution_count": 8,
   "metadata": {},
   "outputs": [
    {
     "name": "stdout",
     "output_type": "stream",
     "text": [
      "(\"Discussion centers on Kamala Harris as a potential Democratic nominee against Trump. Logistically, she could inherit campaign funds, but ethically, skipping over her as vice president seems wrong. The conversation questions if Biden's age is the sole factor influencing this decision and whether stepping down would benefit Harris politically.\", 0.00012869999999999998)\n"
     ]
    }
   ],
   "source": [
    "print(response)"
   ]
  }
 ],
 "metadata": {
  "kernelspec": {
   "display_name": "env",
   "language": "python",
   "name": "python3"
  },
  "language_info": {
   "codemirror_mode": {
    "name": "ipython",
    "version": 3
   },
   "file_extension": ".py",
   "mimetype": "text/x-python",
   "name": "python",
   "nbconvert_exporter": "python",
   "pygments_lexer": "ipython3",
   "version": "3.11.3"
  }
 },
 "nbformat": 4,
 "nbformat_minor": 2
}
