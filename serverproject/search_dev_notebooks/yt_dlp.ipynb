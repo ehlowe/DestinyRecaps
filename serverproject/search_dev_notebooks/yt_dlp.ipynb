{
 "cells": [
  {
   "cell_type": "code",
   "execution_count": 2,
   "metadata": {},
   "outputs": [
    {
     "data": {
      "text/plain": [
       "'d:\\\\DestinyFolder\\\\DestinyRecaps\\\\DestinyRecapsApi\\\\serverproject\\\\search_dev_notebooks'"
      ]
     },
     "execution_count": 2,
     "metadata": {},
     "output_type": "execute_result"
    }
   ],
   "source": [
    "import os\n",
    "os.getcwd()"
   ]
  },
  {
   "cell_type": "code",
   "execution_count": null,
   "metadata": {},
   "outputs": [],
   "source": [
    "# DIRECTORY SET\n",
    "import os\n",
    "import sys\n",
    "from pathlib import Path\n",
    "base_dir=Path(os.getcwd()).parent\n",
    "# os.chdir(os.path.join(base_dir, 'serverproject'))\n",
    "os.chdir(base_dir)\n",
    "print(os.getcwd())\n",
    "\n",
    "# Load dotenv\n",
    "import dotenv\n",
    "dotenv.load_dotenv()\n",
    "\n",
    "# DJANGO SETUP\n",
    "import django\n",
    "sys.path.append(os.path.abspath(''))\n",
    "os.environ.setdefault(\"DJANGO_SETTINGS_MODULE\", \"serverproject.settings\")\n",
    "django.setup()\n",
    "\n",
    "# Import async modules\n",
    "import asyncio\n",
    "from asgiref.sync import sync_to_async\n",
    "\n",
    "# Import display modules\n",
    "from IPython.display import display, Markdown\n",
    "\n",
    "# Import other modules\n",
    "import faiss\n",
    "import time\n",
    "import numpy as np\n"
   ]
  },
  {
   "cell_type": "code",
   "execution_count": 2,
   "metadata": {},
   "outputs": [],
   "source": [
    "%load_ext autoreload\n",
    "%autoreload 2\n",
    "\n",
    "from destinyapp.models import StreamRecapData, FastRecapData\n",
    "\n",
    "from core import services\n",
    "from core import utils\n",
    "from core import controller"
   ]
  },
  {
   "cell_type": "code",
   "execution_count": 3,
   "metadata": {},
   "outputs": [],
   "source": [
    "import subprocess\n"
   ]
  },
  {
   "cell_type": "code",
   "execution_count": 11,
   "metadata": {},
   "outputs": [],
   "source": [
    "async def download_youtube_transcript(video_id):\n",
    "    def download_yt_transcript_thread(video_id):\n",
    "        folder_path=\"destinyapp/working_folder/transcripts/\"\n",
    "        output_path=folder_path+str(video_id)+'_transcript.%(ext)s'\n",
    "        #command=['yt-dlp', '--skip-download', '--write-auto-sub', '--sub-lang','en','-o', output_path, '--verbose', '--username', 'oauth2', '--password', '\"\"', '--convert-subs', 'srt', 'https://www.youtube.com/watch?v='+video_id]\n",
    "\n",
    "        # use cookies.json instead\n",
    "        cookies_path=\"cookies.json\"\n",
    "        command=['yt-dlp', '--skip-download', '--write-auto-sub', '--sub-lang','en','-o', output_path, '--verbose', '--cookies', cookies_path, '--convert-subs', 'srt', 'https://www.youtube.com/watch?v='+video_id]\n",
    "        try: \n",
    "            result = subprocess.run(command, check=True, capture_output=True, text=True)\n",
    "        except Exception as e:\n",
    "            print(result)\n",
    "            print(\"Error in download_youtube_transcript:\", e)\n",
    "    \n",
    "    await asyncio.to_thread(download_yt_transcript_thread, video_id)\n",
    "    print(\"download thread closed\")\n"
   ]
  },
  {
   "cell_type": "code",
   "execution_count": null,
   "metadata": {},
   "outputs": [],
   "source": [
    "video_id=\"pJfvPMNPZAU\"\n",
    "folder_path=\"destinyapp/working_folder/transcripts/\"\n",
    "output_path=folder_path+str(video_id)+'_transcript.%(ext)s'\n",
    "output_path=folder_path+str(video_id)+'_transcript.txt'\n",
    "\n",
    "cookies_path=\"cookies.txt\"\n",
    "command=['yt-dlp', '--skip-download', '--write-auto-sub', '--sub-lang','en','-o', output_path, '--verbose', '--cookies', cookies_path, '--convert-subs', 'srt', 'https://www.youtube.com/watch?v='+video_id]\n",
    "print(\" \".join(command))"
   ]
  },
  {
   "cell_type": "code",
   "execution_count": null,
   "metadata": {},
   "outputs": [],
   "source": [
    "result = subprocess.run(command, check=True, capture_output=True, text=True)\n",
    "print(result)\n"
   ]
  },
  {
   "cell_type": "code",
   "execution_count": 5,
   "metadata": {},
   "outputs": [],
   "source": [
    "video_id=\"pJfvPMNPZAU\""
   ]
  }
 ],
 "metadata": {
  "kernelspec": {
   "display_name": "env",
   "language": "python",
   "name": "python3"
  },
  "language_info": {
   "codemirror_mode": {
    "name": "ipython",
    "version": 3
   },
   "file_extension": ".py",
   "mimetype": "text/x-python",
   "name": "python",
   "nbconvert_exporter": "python",
   "pygments_lexer": "ipython3",
   "version": "3.11.3"
  }
 },
 "nbformat": 4,
 "nbformat_minor": 2
}
