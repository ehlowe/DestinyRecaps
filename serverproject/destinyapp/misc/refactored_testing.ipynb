{
 "cells": [
  {
   "cell_type": "code",
   "execution_count": 1,
   "metadata": {},
   "outputs": [
    {
     "name": "stdout",
     "output_type": "stream",
     "text": [
      "d:\\DestinyFolder\\DestinyRecaps\\DestinyRecapsApi\\serverproject\n"
     ]
    }
   ],
   "source": [
    "# DIRECTORY SET\n",
    "import os\n",
    "import sys\n",
    "from pathlib import Path\n",
    "base_dir=Path(os.getcwd()).parent.parent\n",
    "os.chdir(base_dir)\n",
    "print(os.getcwd())"
   ]
  },
  {
   "cell_type": "code",
   "execution_count": 2,
   "metadata": {},
   "outputs": [
    {
     "data": {
      "text/plain": [
       "True"
      ]
     },
     "execution_count": 2,
     "metadata": {},
     "output_type": "execute_result"
    }
   ],
   "source": [
    "import dotenv\n",
    "dotenv.load_dotenv()"
   ]
  },
  {
   "cell_type": "code",
   "execution_count": 3,
   "metadata": {},
   "outputs": [],
   "source": [
    "# DJANGO SETUP\n",
    "import django\n",
    "sys.path.append(os.path.abspath(''))\n",
    "os.environ.setdefault(\"DJANGO_SETTINGS_MODULE\", \"serverproject.settings\")\n",
    "django.setup()\n",
    "\n",
    "# Import async modules\n",
    "import asyncio\n",
    "from asgiref.sync import sync_to_async\n",
    "\n",
    "# Import display modules\n",
    "from IPython.display import display, Markdown\n",
    "\n",
    "# Import other modules\n",
    "import faiss\n",
    "\n",
    "# import reloading\n",
    "from importlib import reload"
   ]
  },
  {
   "cell_type": "code",
   "execution_count": 4,
   "metadata": {},
   "outputs": [],
   "source": [
    "%load_ext autoreload\n",
    "%autoreload 2\n",
    "\n",
    "from destinyapp.models import StreamRecapData\n",
    "\n",
    "from destinyapp.customlibrary import services\n",
    "from destinyapp.customlibrary import utils"
   ]
  },
  {
   "cell_type": "code",
   "execution_count": 5,
   "metadata": {},
   "outputs": [
    {
     "data": {
      "text/plain": [
       "<module 'destinyapp.customlibrary.utils' from 'd:\\\\DestinyFolder\\\\DestinyRecaps\\\\DestinyRecapsApi\\\\serverproject\\\\destinyapp\\\\customlibrary\\\\utils\\\\__init__.py'>"
      ]
     },
     "execution_count": 5,
     "metadata": {},
     "output_type": "execute_result"
    }
   ],
   "source": [
    "del services\n",
    "from destinyapp.customlibrary import services\n",
    "reload(services)\n",
    "\n",
    "del utils\n",
    "from destinyapp.customlibrary import utils\n",
    "reload(utils)"
   ]
  },
  {
   "cell_type": "code",
   "execution_count": 38,
   "metadata": {},
   "outputs": [
    {
     "name": "stderr",
     "output_type": "stream",
     "text": [
      "d:\\DestinyFolder\\env\\Lib\\site-packages\\django\\db\\models\\fields\\__init__.py:1659: RuntimeWarning: DateTimeField BotData.last_time_ran received a naive datetime (2024-07-05 23:45:45.691606) while time zone support is active.\n",
      "  warnings.warn(\n"
     ]
    },
    {
     "data": {
      "text/plain": [
       "True"
      ]
     },
     "execution_count": 38,
     "metadata": {},
     "output_type": "execute_result"
    }
   ],
   "source": [
    "await services.bot_run_check()"
   ]
  },
  {
   "cell_type": "code",
   "execution_count": 31,
   "metadata": {},
   "outputs": [
    {
     "name": "stdout",
     "output_type": "stream",
     "text": [
      "ALL YT IDS: ['IpXU3qNsAUk', 'AGmRpyc7cuQ', 'b4Pg1ZnAbBg', 'K_M_6YGdqNI', 'Cx2gfO2zY2c', 'H6rG1KUMnWU', '7dkRCmCQ38M', 'Mp8AJCmANhQ', '29ixeHeiLZI']\n",
      "Driver closed\n"
     ]
    }
   ],
   "source": [
    "video_ids=await services.web_view_recent_stream_ids()"
   ]
  },
  {
   "cell_type": "code",
   "execution_count": null,
   "metadata": {},
   "outputs": [],
   "source": [
    "https://youtu.be/y05Ho7OkvGA"
   ]
  },
  {
   "cell_type": "code",
   "execution_count": 36,
   "metadata": {},
   "outputs": [],
   "source": [
    "video_id=\"y05Ho7OkvGA\""
   ]
  },
  {
   "cell_type": "code",
   "execution_count": 37,
   "metadata": {},
   "outputs": [
    {
     "name": "stdout",
     "output_type": "stream",
     "text": [
      "[youtube] Extracting URL: https://youtu.be/y05Ho7OkvGA\n",
      "[youtube] y05Ho7OkvGA: Downloading webpage\n",
      "[youtube] y05Ho7OkvGA: Downloading ios player API JSON\n",
      "[youtube] y05Ho7OkvGA: Downloading m3u8 information\n",
      "[info] y05Ho7OkvGA: Downloading 1 format(s): 251\n",
      "[download] Destination: destinyapp\\working_folder\\working_audio\\raw.webm\n",
      "[download] 100% of    3.00MiB in 00:00:00 at 13.96MiB/s  \n",
      "MoviePy - Writing audio in destinyapp/working_folder/working_audio/merged_audio.mp3\n"
     ]
    },
    {
     "name": "stderr",
     "output_type": "stream",
     "text": [
      "                                                                     "
     ]
    },
    {
     "name": "stdout",
     "output_type": "stream",
     "text": [
      "MoviePy - Done.\n",
      "download thread finished\n",
      "download thread closed\n"
     ]
    },
    {
     "name": "stderr",
     "output_type": "stream",
     "text": [
      "\r"
     ]
    }
   ],
   "source": [
    "await services.download_video(video_id)"
   ]
  },
  {
   "cell_type": "code",
   "execution_count": 38,
   "metadata": {},
   "outputs": [
    {
     "name": "stdout",
     "output_type": "stream",
     "text": [
      "Starting assembly transcription thread\n",
      "Finished assembly transcription thread\n"
     ]
    }
   ],
   "source": [
    "raw_transcript=await services.generate_assembly_transcript()"
   ]
  },
  {
   "cell_type": "code",
   "execution_count": 39,
   "metadata": {},
   "outputs": [
    {
     "name": "stdout",
     "output_type": "stream",
     "text": [
      "{'text': 'looks', 'start': 186945, 'end': 187361, 'confidence': 0.97326, 'speaker': 'B', 'channel': None}\n",
      "560\n",
      "561\n",
      "Destiny doesn't start\n",
      "Finished diarization cutoff\n"
     ]
    }
   ],
   "source": [
    "transcript, linked_transcript=await services.process_raw_transcript(raw_transcript, video_id)"
   ]
  },
  {
   "cell_type": "code",
   "execution_count": 37,
   "metadata": {},
   "outputs": [
    {
     "name": "stdout",
     "output_type": "stream",
     "text": [
      "Number of chunks:  19\n",
      "Finished generating embeddings\n",
      "Finished making vector db\n",
      "Saved vector db to: destinyapp/vector_dbs/B8Wb8arDcyQ.index\n"
     ]
    }
   ],
   "source": [
    "vectordb, text_chunks=await services.VectorDbAndTextChunksGenerator.generate_basic_vectordb_and_chunks(video_id, transcript)"
   ]
  },
  {
   "cell_type": "code",
   "execution_count": 26,
   "metadata": {},
   "outputs": [
    {
     "name": "stdout",
     "output_type": "stream",
     "text": [
      "0 0 0\n",
      "Total cost:  0.014577\n"
     ]
    }
   ],
   "source": [
    "segments_and_summaries=await services.SummarizedSegmentGenerator.generate_summarized_segments(transcript)"
   ]
  },
  {
   "cell_type": "code",
   "execution_count": 28,
   "metadata": {},
   "outputs": [
    {
     "name": "stdout",
     "output_type": "stream",
     "text": [
      "Recap generation:  0.010872\n"
     ]
    }
   ],
   "source": [
    "recap = await services.RecapGenerator.generate_recap(segments_and_summaries)"
   ]
  },
  {
   "cell_type": "code",
   "execution_count": 30,
   "metadata": {},
   "outputs": [
    {
     "name": "stdout",
     "output_type": "stream",
     "text": [
      "Recap hook generation cost:  0.004836\n"
     ]
    }
   ],
   "source": [
    "recap_hook=await services.RecapGenerator.generate_recap_hook(recap)"
   ]
  },
  {
   "cell_type": "code",
   "execution_count": 32,
   "metadata": {},
   "outputs": [
    {
     "name": "stdout",
     "output_type": "stream",
     "text": [
      "[youtube] Extracting URL: https://www.youtube.com/watch?v=B8Wb8arDcyQ\n",
      "[youtube] B8Wb8arDcyQ: Downloading webpage\n",
      "[youtube] B8Wb8arDcyQ: Downloading ios player API JSON\n",
      "[youtube] B8Wb8arDcyQ: Downloading m3u8 information\n"
     ]
    }
   ],
   "source": [
    "full_title=await services.get_video_metadata(video_id)"
   ]
  },
  {
   "cell_type": "code",
   "execution_count": 31,
   "metadata": {},
   "outputs": [],
   "source": [
    "finalized_recap=recap_hook+\"\\n\"+recap+\"\\n\\nDISCLAIMER: This is all AI generated and there are frequent errors.\""
   ]
  },
  {
   "cell_type": "code",
   "execution_count": 36,
   "metadata": {},
   "outputs": [
    {
     "data": {
      "text/plain": [
       "<faiss.swigfaiss_avx2.IndexFlatL2; proxy of <Swig Object of type 'faiss::IndexFlatL2 *' at 0x000001E114C608D0> >"
      ]
     },
     "execution_count": 36,
     "metadata": {},
     "output_type": "execute_result"
    }
   ],
   "source": [
    "text_chunks"
   ]
  },
  {
   "cell_type": "code",
   "execution_count": 38,
   "metadata": {},
   "outputs": [],
   "source": [
    "# save everything into StreamRecapData object\n",
    "stream_recap_data=StreamRecapData(video_id=video_id, video_characteristics={\"title\":full_title}, raw_transcript_data=raw_transcript, transcript=transcript, linked_transcript=linked_transcript, text_chunks=text_chunks, summarized_chunks=segments_and_summaries, recap=finalized_recap)\n",
    "\n",
    "# async save\n",
    "await sync_to_async(stream_recap_data.save)()"
   ]
  },
  {
   "cell_type": "code",
   "execution_count": 16,
   "metadata": {},
   "outputs": [],
   "source": [
    "stream_recap_data=await utils.get_recap_data(video_id)"
   ]
  },
  {
   "cell_type": "code",
   "execution_count": 41,
   "metadata": {},
   "outputs": [],
   "source": [
    "discord_recaps_to_send=await services.DiscordMessageHandler.compile_discord_messages([video_id])"
   ]
  },
  {
   "cell_type": "code",
   "execution_count": 42,
   "metadata": {},
   "outputs": [
    {
     "name": "stdout",
     "output_type": "stream",
     "text": [
      "Discord logged in as DestinySummarizer#3997\n",
      "Recaps\n",
      "Voice Channels\n",
      "general\n",
      "General\n",
      "recaps\n",
      "rules\n",
      "test\n",
      "Server Guide\n",
      "moderator-only\n",
      "Discussion\n",
      "discussion\n",
      "discussion\n",
      "destiny-clips\n",
      "forum-discussion\n",
      "General-2\n",
      "General-3\n",
      "memes\n",
      "programming-discussion\n",
      "landing-page\n",
      "about\n",
      "General\n",
      "Development Discussion\n",
      "features\n",
      "recaps-testing\n",
      "Sending Recap video_id:  B8Wb8arDcyQ  to channel:  recaps-testing\n",
      "Sending chunks:  2\n"
     ]
    },
    {
     "name": "stdout",
     "output_type": "stream",
     "text": [
      "Send and client closed\n"
     ]
    }
   ],
   "source": [
    "await services.DiscordMessageHandler.send_discord_recaps(discord_recaps_to_send)"
   ]
  },
  {
   "cell_type": "markdown",
   "metadata": {},
   "source": [
    "# START OF DEBUGGING"
   ]
  },
  {
   "cell_type": "code",
   "execution_count": 41,
   "metadata": {},
   "outputs": [
    {
     "name": "stdout",
     "output_type": "stream",
     "text": [
      "{'text': 'looks', 'start': 186955, 'end': 187331, 'confidence': 0.9519, 'speaker': 'A', 'channel': None}\n",
      "228\n",
      "229\n",
      "Destiny doesn't start\n",
      "Finished diarization cutoff\n"
     ]
    }
   ],
   "source": [
    "recap_data=await utils.get_recap_data(\"SPaeA8shXFg\")\n",
    "transcript, linked_transcript=await services.video_and_transcript.process_raw_transcript(recap_data.raw_transcript_data, \"SPaeA8shXFg\")"
   ]
  },
  {
   "cell_type": "code",
   "execution_count": 42,
   "metadata": {},
   "outputs": [
    {
     "data": {
      "text/plain": [
       "\"B: I recently took a JavaScript quiz and I myself did not get them right. So let's see this new quiz here by an ex fang developer. I am currently a fang developer at this moment.\\n\\nC: You, you sent me this JavaScript quiz and said it's absolutely impossible to get all the questions right. So let's try it out.\\n\\nB: See what, I already know the answer to this one. Man, this is the classic octal. This is the classic octal bamboozle going on right here. Okay, so I don't, I think this is 18 -15 and octal, which is 13, this is five is my guess.\\n\\nC: What we can get correct. And if we can learn something new along the way as well. So the first question, do you know what will be the output of this code console log? Zero one eight minus zero one five. Okay, so I believe if you start with a zero, the number becomes base eight. What is that? I guess octal is probably what that's called. Let's go octn number one eight. But the digits that are valid in octal I think are just zero through seven, right? In the same way, base ten is zero through nine, the digit is the base minus one.\\n\\nB: I knew it was coming.\\n\\nC: I don't know what it's going to do if it's.\\n\\nB: I just knew this was kind. But why Octal? But why male models? This is a JavaScript challenge, pre experienced.\\n\\nC: It's not a valid number, by the way.\\n\\nB: This is, this would exist in like any language that allows you to do this. I don't think this is specifically a JavaScript problem.\\n\\nC: I would assume it's either nan or just converts it back to decimal and it just becomes 18. So this is either Nan or 18, then we have minus zero, one five. So this is going to be an actual valid octal number. So we have five.\\n\\nB: Eight plus five.\\n\\nC: Eight, essentially.\\n\\nB: Yeah. Nice job, guys.\\n\\nC: I one in the 8th place and engineers go place. So eight plus five is 13. So this is 13. This is either 18 or Nan. My guess would be it's probably 18 because nan is sort of a last resort. And there's something else that sort of makes sense here. So I would assume JavaScript makes this eight.\\n\\nB: By the way, calling it nan. That's a little weird. Okay, we just call it nan. Okay. Not a number nan. Okay. Either call it that or trip. Ieee 754 okay. 181985 teen.\\n\\nC: So let's go with the 18 -13 which would be five. Cool.\\n\\nB: Let's go.\\n\\nC: I'm aius if we look at this.\\n\\nB: Yep, blah blah blah blah.\\n\\nC: Leading zero is an octal number. We were correct about that. And let's see, zero can't actually be an octal number.\\n\\nB: Quick question. I'm actually now, I'm actually now I'm actually curious. Can you do zero 00:18 or does that. That's right, that's right. But you can do 00:17 so zero o will actually cause a syntax error because this is a nonv valid octal. Okay, awesome. Kids always use zero when doing octal. Never forget about that.\\n\\nC: So it does this and it just treats it as 18 then.\\n\\nB: Do you even do binary time?\\n\\nC: So 18 -13 is five. Awesome. Okay, next typo. String of type of one. Okay, so I think we're going to essentially go right to left here, and we have type of one, which is going to be number, but like as a string, and then we have type of the string number, which is going to be a string. So it's going to return the string of string.\\n\\nB: I hope it's true. I hope like we're all wrong and it's true. And I hate my life.\\n\\nC: So I guess they want string here. I would looks to be correct too, so.\\n\\nB: I knew it.\\n\\nC: Yeah. The string of string, and it's right to left type of one. I wanted string of number. Type of number is string.\\n\\nB: Yeah, yeah, yeah, yeah, yeah, yeah. Okay. Okay, next up, number 233.\\n\\nC: Eight numbers 33.\\n\\nB: 233.\\n\\nC: Sort the numbers return numbers at one, which is the middle number. So the middle of these sorted is eight, although sort, although this is the.\\n\\nB: JavaScript challenge, so you better put your stupid cap on and think what's the worst way this could be sorted? Bada bing badaha boom.\\n\\nC: Numbers using the default sort, or when you sort anything with default sort, it's going to, I think, convert it to a string first. So we're actually sorting strings and the string of 33 is less than the string of eight. So I think 33 is actually the middle most number here. And facts.\\n\\nB: I do love that chat right now. Is it absolute shmples? Where was this one? This one is so good. Why the HEC is'why the fuck is it it eight? Well, you know, Marcus, by the way, could see, but fantastic. Absolutely one of the best.\\n\\nC: See the explanation. So this is a valid array. Sure. Array sort needs to make a decision on how to handle the scenarios and it decides to convert all values to strings. Okay, so we were correct about this. We have this beautiful array. Isn't just beautiful and we end up with 233 eight as strings. Next up, false is loosely equal to the string of.\\n\\nB: Okay, so if it. If. If false gets converted to a number, that would get converted to a string to be equal. But if false just gets converted to a string, then it would be not equal. My guess is that false is converted to a string and skips the numeric type conversion first. That's how I would assume it does. How it does it. Right. Because string, zero string is true in. In all aspects of it. Now, if false was first converted to a number, which would be zero, then converted to a string, this would be the stupidest thing of all time. If it's true, I'm going to commit sud dokus zero. Okay, so I believe that's my explanaion.\\n\\nC: What it's going to do here is co both of these values into numbers. So false as a number is zero and zero.\\n\\nB: So it doesn't actually ever coerce things into numbers. It coes them up the type chain. So it'd be strings as a number.\\n\\nC: Is also zero, which would give us zero.\\n\\nB: But if this doesn't happen. I'm confused.\\n\\nC: True.\\n\\nB: If I'm wrong. Oh, I go goingn. First off, I'm wrong on it. If it. I cannot. Okay, maybe may. Okay. What? Okay, got me time to commit some sudoku. We're gonna do it. It's sudoku time.\\n\\nC: That is correct. Let's see. False equals zero.\\n\\nB: And it does take it to a number. Oh, my goodness. It takes it to a number. No, but it also doesn't convert this to a number. It converts. It converts zero to a string into a number.\\n\\nC: So zero is zero. Then we have this converted to a number as well.\\n\\nB: I think the third step is actually.\\n\\nC: Incorrect, which is true.\\n\\nB: I'm quite positive. String is the highest type. Not number, or like the leis, the loosest type. It's the type that all things can go into is a string. What about triple equals? Of course triple equals is different because triple equals does not do type coercion. I don't know how to test it, does that make sense? Tryig again. Like I, you'd have to go read up on the specification engine what the f is triple equal trip in JavaScript for those that don't know. If you do this, it will convert this to a string. So if I go okay, this is why I believe that I am correct. Wait, what? You don't, because it converts it to a string. It doesn't convert it to a number, it converts it to a string. Just j's things. If you don't, if you don't get it, you don't get it.\\n\\nC: Next up.\\n\\nB: All right. Oh no. Oh no. I don't know if I can do this one. I'm gonna go with false. I'm gonna go with false because the classic one 0.1 plus 0.2 is, .39 right? And, but if you literally represent, .3 it must work. So this must be false.\\n\\nC: 0.1 plus .2 equals 0.3. Okay, so this is one of those fun questions that people talk about a lot as like a quirk of JavaScript, a lot point exact example as to why JavaScript is such a bad language. But actually this has nothing to do with JavaScript at all. It's actually a quirk of fang people arithmetic, and you'll see the exact same results in a ton of different languages. But essentially the issue here is that floating point arithmetic is not super precise. So 0.1 plus 0.2 is going to be like 0.3000, a bunch of zeros.\\n\\nB: And then like one, twoeee, some five four mentioned.\\n\\nC: So these numbers aren't exactly the same. So this is going to be false. And it is.\\n\\nB: Yep, that's why he's right, this is in many languages. I believe we reproduced it and go.\\n\\nC: Before so it'false and we can see yep, 0.1 plus 0.2 is o.\\n\\nB: Someone is saying that false equals is true. Okay, is there a point where sometimes these things break at longer lines? Okay, so it does convert it to a number. Now that's not what I was expecting. I was not expecting that. Okay, I'm wrong. Okay, I was wrong.\\n\\nC: This number here with a four at the end.\\n\\nB: It is, it does convert it to a number. Okay, I was wrong. I'm the wrong one. Wow, that's a very confusing conversion system.\\n\\nC: And so they are not actually equal. And yes, so it's not a JavaScript quirk, it has to do with floating point arithmetic. Exactly.\\n\\nB: Ok, what so that means, okay, so that means that the false is technically a, a zero. Underneath the hood a false is always a number. Cause I don't think a false is converted into a number in my head, it just, it must be a zero. Therefore the string, it doesn't go to the loosest type, it goes to the strictest type. Maybe we said, I don't even know. Okay, whatever.\\n\\nC: Next up, what will be the output of this code array? One, two, three.\\n\\nB: I know what it is. Do you know what it is?\\n\\nC: Undefinedory array at six is nine. Log array at five. Okay, so this is like out of bounds for the array, but unlike Java where you'd get like an index out of bounds error in JavaScript all we do is just extend ARR and add that value in and we get these sort of like empty slides shows if you log it out in the chrome devt tools. So we just have a bunch of empty slots and we're logging out one of those empty slots, which I assume just gives you undefined. So let's go with undefined. Yeah, so it does give you undefined.\\n\\nB: I think what's even more exciting is when you like this, when you go, when you go const a equals new array, five. You actually have five empty items, which is a very special ide this, this is a special, special one. Okay, you know why it's special? Do you know why it's special? Because if you like this, a dot map will go like this, underscore and go like 69. It didn't, it didn't work out. How great is that? How great is that? Five special items. A dot length is five, a zero is undefined, a three is undefined, but it's a special type of undefined called the empty item. Special. It's the empty items. It only exists here. And then if you do something like this, three equals 69. And then you hit them with the old map. Look at that. Now it kind of works out like this is one of those, this is one of those special places that most people don't go into. It's the even more special undefined value that most people don't even know about.\\n\\nC: And let's see. So here it shows the array just with undefined in it. I know in the actual dev tools it'll show it as empty slot.\\n\\nB: I didn't notice this, by the way. Six equals nine.\\n\\nC: Nice I don't know how it's actually handled under the hood. It might just be undefined, but either way, I guess you do get undefined when you log those out.\\n\\nB: Empty items is special. You can't create empty items other than.\\n\\nC: That is true equals true double equ, array is false, equals true double equals not array, and then log is true plus is false.\\n\\nB: Okay, yeah, it should be one.\\n\\nC: True is loosely equal to an array, I believe here we're going to coerce both values to a number. So true is going to be one and an empty array is zero.\\n\\nB: I would assume so. One, yes, an empty array is zero because number of an empty string is zero. It's gotten me so many times, by the way, this one little fact has screwed me more times than anything else.\\n\\nC: Equals zero is going to be false and then we have true equals not array. So first we do not array. So this is going to convert it to a boolean and then invert it. So I would assume, I think an empty array is going to be truthy, I would imagine, although it's empty, which could make it falsty. But I'm pretty sure all arrays are truthy, so true. And then it becomes false when you invert it. So now we have true, I want to say it's one false, which is.\\n\\nB: I don't know what the bang believe array does.\\n\\nC: This is false.\\n\\nB: I don't know what bang array does.\\n\\nC: This is also false. So now we have false plus false, which would be zero plus zero essentially. So we have zero dam corre. Okay, let's see. Did we actually do that correctly or did we just get lucky? So we have, the first parameter is a boolean. The following rule applies. If type x is a boolean, return the result of the comparisonn.\\n\\nB: Oh yeah, I know why. Okay. Okay. Yeah. When you bang an array because it's an object, it's true, therefore it's false. But if you let the type converter convert on a boolean expression, it becomes the emptiest string because it does a join operation. So it does an array dot join, the old fashioned banging arrays problem to number equals y.\\n\\nC: So yeah, we are converting to numbers, essentiallyized. So number true equals number array. And we end up with, obviously, I'm so stupid, loosely equals dang it, zero, which is, dang it going to be.\\n\\nB: This is pure pain.\\n\\nC: And then we have this one down here. An empty array is truthy. So we convert it and negate it and it becomes false. So true equals false.\\n\\nB: So it's so funny that an empty array is truthy. Sort of. It depends on how you use it. You know? It's not the size of your empty array that matters, it's how you use it. Okay. Because sometimes it is true and sometimes it's not true. You know what I mean? Way too dank. Yeah. Yeah. Like real talk. Because like, like, let's pretend I have an empty array. Like this size. That's huge, right? That's like huge. So can I do that? No, I can't, but I can t do this. True. Right? Boom, got them. Right. I can do false. True. So there you go. So an empty array is falsty. A very big empty array. Very. It's very false. See, it depends on how you use it.\\n\\nC: Both false and then false. Pl. False. We convert both to numbers, which are both zero, and we get zero. Okay, that was a difficult one. Next up, we have one plus the string of two plus the string of two. Okay, so I would imagine this is just twelve plus two is 122 as a string. What are the other answers? We're definitely not getting nan, because we're either just doing addition or concatenation.\\n\\nB: I assume that it's, it's we'renn'we're. Gonna execute in this order. I want to say it's 120. Twouse I can't think about how you get 32. 32 is the only one. That wouldn't make any sense, right, because then one plus two would have been three, which is a number. Thus then it would have been five. Right. So you can't make 32 if you just apply any sort of logic. I think 23 would have been a good one. Right. Because then you could have bamboozled people by thinking that it would have executed the string plusing due to crazy operator precedence. But no, that would make, that would also not make any sense. Right. It has to be 122.\\n\\nC: I don't think there's a way to.\\n\\nB: Get a. I bet it's 32. It can't be 32.\\n\\nC: 32, I guess would be if we treated this as numbers. So this would be three and then we concatenate three. But I don't understand why that would be you'I. Think if there's a string in it, we just do string concatenation. So this is going to be.\\n\\nB: So you're saying it's 30, 22. It's not. Yepah.\\n\\nC: 122.\\n\\nB: Yeah.\\n\\nC: The it has to convert is defined for numbers and strings and the expression is evaluated from left to right. So it's five.\\n\\nB: That'be the other possible answer. Five would have been a better answer to put it in. And since the, the better answer to put in would have been 122 or five, either treat it as all numbers or treated as all string. Right? That's the two options you have.\\n\\nC: Right side contains a string. Concatenation will be made, which results in twelve. And then we do twelve plus two is 122. Okay, next up we have console log string, raw. Hello, Twitter.\\n\\nB: Oh, I don't even know this one. I don't know. Stringed out. Dude, I wasn't prepared to raw dog this. This template literal. It has to be this one. This is the only one that makes any sort of sense. Or this one. It's one of these two. If it's one of these two, again, we're committing Sudoku. It has to be one of these two. Raw must escape all. Okay, so I'd say the only thing that makes sense is that it has to be this first one. The reason why is that I know if you put a, I know, I am like 99.99,999,999% sure. If you go something like hello, then throw in a slash n and then do this, you'get it. You'll get the extra space, right? Yeah, you will. So you get the new line. So raw must literally escape everything. So it has to be the first.\\n\\nC: One backslash in world. Okay, so I'll be honest, I don't know what string raw does. I feel like I've seen this before, but yeah, I don't actually know what.\\n\\nB: These other two made no sense. Right? Like, how would it insert a space between hello and Twitter? That's crazy.\\n\\nC: Okay, so this is the same thing as just what's already in there, which would make sense. It's raw'raw do in, which is the new line character being used as a new line. And then we have hello, Twitter, space world. So new line converting to a space for some reason, which maybe the answer, maybe it ends up sort of like HTML.\\n\\nB: That's too crazy.\\n\\nC: All spaces get condensed into a single space, no matter how much.\\n\\nB: But it's called raw. We already know that when you're rod doggin and it's either completely letting it go straight through and you get the new line, or it's saying that the string will be treated as literally what it is, thus it will get escaped.\\n\\nC: Which space is like new lines and things. And then we have hello, space Twitter.\\n\\nB: Unfortunately, raw has two meanings.\\n\\nC: I mean, possibly be a spa here. What I mean, think of any way that string raw would know to do that. So I think this is wrong. So it's one of these three. This one feels too easy. Like, hello, Twitter, newline world is like, what you'expect. And I know this quiz is supposed to be hard, so I feel like it's either this one or this one. Raw feels like it could go by, like, HTML rules. So let's go with this one. Okay, so that was wrong. It was the first one. So let's see what this actually does.\\n\\nB: Yeah, it just raw dogs.\\n\\nC: Okay, so it takes a template literal, and processes substitutions, but it ignores well known escape sequences. Okay, so it ignores the back.\\n\\nB: By the way, that sounds awful. Well known escape sequences. Like, what does that even mean? To what level are what is well known?\\n\\nC: What?\\n\\nB: Who, who voted on what's well known? I would have loved to be, okay, actually, I would have hated to be in the meeting, but I would have loved to just see a condensed version of what went on in TC 39 for being like, you know, we need, we need to be roddggin all of our strengths, right? And, and they're like, well, we can't raw dog all the escapes. There's no way we could know them all well. We will only escape well known ones. Yikes. Well known. Okay, in my head, well known is of course, slash n slash slash t. Slash b. Who uses slash b slash v? Yeah, well, by the way, for those that don't know if you're ever doing HTML, the new line separators slash r slash n, which stands for registered nurse, I would imagine it doesn't do tick. It wouldn't do this because that makes no sense, right? This makes no, this is what you'put in the string itself. Right? I never remember it as Crlf. I remembered it as registered nurse. If you want a registered nurse, you got, you gotta toss it on down. Okay? It's the only way to remember it. I use slash f all the time. What the hell? Slash f. What in the heavens is f? Hit me with the SL f. Somehow I actually understand it last in.\\n\\nC: So just prints out what we gave it. Okay, so here's an example. String raw var one is hey, var two is there. So we include hey there. But the backslash t and backslash in, which is tab and new line just get left in. Interesting. I don't think I've ever seen this actually used. Like, I think I've seen it in like, documentation somewhere. But I'm curious if anybody's actually used this before. Like, if you.\\n\\nB: I have no idea how to use this. Real talk. I have no idea how to use this. I have none. Like, I don't think I could use it? Bro, you doing JavaScript with serial ports? I don't know about this. What is j's doing in serial communication? Okay, I got a lot of questions. Like I feel. Are you cereal right now? Is cereal in the house right now? Form feeding cereal. We got you. It'it's. 2024. We got USB access now. Oh, fuck me.\\n\\nC: Have a use case what it is because I can't think of why I would t need this, but either way, kind of interesting. Learned something new today. And final question. What's going to be the output?\\n\\nB: I want so bad in my heart that a string is not an instance of a capital s string. So I am personally gonna go with false. I want it so bad my heart just to be true. I want it to be true.\\n\\nC: This is a string that'of string.\\n\\nB: Yes. Come on. It is it so true? Yes. Because a capital b booleing bul bul buol Leon is not the same as a boolean, right? Yeah. So it's false.\\n\\nC: A string which makes me want to put true. But let's see. Instance of string. So instance of what it actually does is it looks up the prototype chainel.\\n\\nB: Can we take a quick second and realize that this is a product of the day from product hunt got second place. Congratulations, whoever got second place. But I do have to like a quick question, which is what's the product? Emotional abuse.\\n\\nC: So it looks to see is this object like above whatever this value is in the prototype chain. But this is a string literal.\\n\\nB: Shut up and take back.\\n\\nC: I think you can actually like do that. Like, I don't think it's going to be an instance of the string object.\\n\\nB: Yes, because it's a here you'd actually.\\n\\nC: Have to use like the string constructor. But when you just use a literal like this, I think you might actually get false.\\n\\nB: We prefer to call it raw dogging.\\n\\nC: I'm going to go with false, although I'm not 100% sure. Okay, yeah, it is false. Let's see. Okay, yeah. So if it was a string literal, you would get the result you expected at the beginning, which I guess I.\\n\\nB: Want to see a piece of code that uses a string literal or a string constructor. Is there any reason to use a string constructor at any point ever for any reason? Like, what am I missing? I use string constructor for fun, a job interview to write that example to make it an inst. Did I just ask, why did the chicken Cr across the road Strai constructors for real enterprise? Why the chicken cross the road? To get to the other side, dummy. Just like ah yeah you're right. We use string constructors because we wanted a string, a constructed string. Okay, he's right. The fact that you have coded j's a lot explains some things. I have coded a lot of j's and I have no idea why. I have never once used a capital as string constructor like ever for any.\\n\\nC: Reason, assuming you expected it to be true. But what it does is it checks if the string constructor is nested within the prototype chain of the value provided. In this case it isn't. Okay. Yep. So that's sort of.\\n\\nB: So string doesn't have string methods. Well it's funny you should say that because I'm pretty sure they do. They do. Isn't, isn't it Java that forces you to check string equality with some method? Yes, Java required old which is not wrong. So Java is actually not wrong with that. The reason why they're not wrong with the to do it string do to equal some strring. Right, right is equal. Right. You know you have to do, you know foo, which is a capital s string is equal. You have to do that. The reason why you have to do that is because it treats strings as objects. And so objects when you do a check. Or is it equals? Yeah, it's equals or is equals, I can't remember. It doesn't walk the string to see if it is right, it just checks to see is it the same ref, it does, it has the same referential value. And if it does then yeah, then it's like, okay, these are equal at a referential level. I still hate it regardless of it's technically correct. Oh, I'm on your team. I, me and all my homies hate java but I totally get it. At least the rules consistent.\\n\\nC: What we thought. So we got it right. All right, so overall got a nine out of ten. Got one question wrong and we learned some new stuff. So I would call this a success. Let me know if you want to see more videos like this and how you did on this quiz as well. Otherwise I will see you in the next video.\\n\\nB: I got them. Alright. And got immediately hired by a fang company and comment. That was great, that was great. I'm gonna subscribe to you too. That was fantastic. Absolutely nice video. Fantastic, fantastic, fantastic. Go give that guy a like this isn't Twitter. This is't Twitter. What do you mean? Of course this is Twitter. You got a shit post everywhere. Shitposting is a way of life. Okay? I think that this my friends is the perfect example of twitter shit posting right here. It's beautiful. People are liking it. Let's circle back on this. So you work with everyone? Oh, my goodness. It just means I don't like to work with soconic. Got him. All right, the name, the name, the name. It's taken down. Soy, chaotic. One tweet at a time of again.\\n\\n\""
      ]
     },
     "execution_count": 42,
     "metadata": {},
     "output_type": "execute_result"
    }
   ],
   "source": [
    "transcript"
   ]
  },
  {
   "cell_type": "code",
   "execution_count": 32,
   "metadata": {},
   "outputs": [],
   "source": [
    "# DELETE A VIDEO ID\n",
    "delete_video_id=\"SPaeA8shXFg\"\n",
    "await utils.delete_stream_recap_data(delete_video_id)"
   ]
  },
  {
   "cell_type": "code",
   "execution_count": 46,
   "metadata": {},
   "outputs": [
    {
     "data": {
      "text/plain": [
       "(1, {'destinyapp.StreamRecapData': 1})"
      ]
     },
     "execution_count": 46,
     "metadata": {},
     "output_type": "execute_result"
    }
   ],
   "source": [
    "# DELETE A VIDEO ID\n",
    "delete_video_id=\"Gej2eHRwlM0\"\n",
    "\n",
    "delete_obj=await sync_to_async(StreamRecapData.objects.filter)(video_id=delete_video_id)\n",
    "\n",
    "await sync_to_async(delete_obj.delete)()"
   ]
  },
  {
   "cell_type": "code",
   "execution_count": null,
   "metadata": {},
   "outputs": [],
   "source": [
    "# from destinyapp.customlibrary import ServerAiFunctions as saf\n",
    "# from destinyapp.customlibrary import controls as cl\n",
    "del sys.modules['destinyapp.customlibrary.ServerAiFunctions']\n",
    "del sys.modules['destinyapp.customlibrary.controls']\n",
    "del sys.modules['destinyapp.customlibrary.processing']\n",
    "import destinyapp.customlibrary.ServerAiFunctions as saf\n",
    "import serverproject.destinyapp.customlibrary.controller as cl\n",
    "import destinyapp.customlibrary.processing as ps\n",
    "reload(saf)\n",
    "reload(cl)\n",
    "reload(ps)\n"
   ]
  },
  {
   "cell_type": "code",
   "execution_count": null,
   "metadata": {},
   "outputs": [],
   "source": [
    "filled_recap_data=await cl.get_all_recaps()"
   ]
  },
  {
   "cell_type": "code",
   "execution_count": null,
   "metadata": {},
   "outputs": [],
   "source": [
    "filled_recap_data[1]#[\"recap\"]"
   ]
  },
  {
   "cell_type": "code",
   "execution_count": null,
   "metadata": {},
   "outputs": [],
   "source": [
    "transcript_model_data=await ps.grab_transcript_data('2O8rCcpFswk')"
   ]
  },
  {
   "cell_type": "code",
   "execution_count": null,
   "metadata": {},
   "outputs": [],
   "source": [
    "discord_message={\"recap\":transcript_model_data.recap,\"yt_id\":transcript_model_data.video_id, \"title\":transcript_model_data.video_characteristics.get(\"title\",\"\")}"
   ]
  },
  {
   "cell_type": "code",
   "execution_count": null,
   "metadata": {},
   "outputs": [],
   "source": [
    "await ps.discord_message_handler.send_discord_recaps([discord_message])"
   ]
  },
  {
   "cell_type": "code",
   "execution_count": null,
   "metadata": {},
   "outputs": [],
   "source": [
    "discord_recaps_to_send=await ps.discord_message_handler.compile_discord_messages(['2O8rCcpFswk'])"
   ]
  },
  {
   "cell_type": "code",
   "execution_count": null,
   "metadata": {},
   "outputs": [],
   "source": [
    "discord_recaps_to_send"
   ]
  },
  {
   "cell_type": "code",
   "execution_count": null,
   "metadata": {},
   "outputs": [],
   "source": [
    "await ps.discord_message_handler.send_discord_recaps(discord_recaps_to_send)"
   ]
  },
  {
   "cell_type": "code",
   "execution_count": null,
   "metadata": {},
   "outputs": [],
   "source": [
    "discord_recaps_to_send"
   ]
  }
 ],
 "metadata": {
  "kernelspec": {
   "display_name": "env",
   "language": "python",
   "name": "python3"
  },
  "language_info": {
   "codemirror_mode": {
    "name": "ipython",
    "version": 3
   },
   "file_extension": ".py",
   "mimetype": "text/x-python",
   "name": "python",
   "nbconvert_exporter": "python",
   "pygments_lexer": "ipython3",
   "version": "3.11.3"
  }
 },
 "nbformat": 4,
 "nbformat_minor": 2
}
