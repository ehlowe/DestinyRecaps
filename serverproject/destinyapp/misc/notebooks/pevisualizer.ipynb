{
 "cells": [
  {
   "cell_type": "markdown",
   "metadata": {},
   "source": [
    "# TOC at E-M  \n",
    "\n",
    "## This is the master prompt engineering notebook for DestinyRecaps"
   ]
  },
  {
   "cell_type": "code",
   "execution_count": 1,
   "metadata": {},
   "outputs": [],
   "source": [
    "# DIRECTORY SET\n",
    "import os\n",
    "import sys\n",
    "from pathlib import Path\n",
    "base_dir=Path(os.getcwd()).parent\n",
    "os.chdir(base_dir)\n",
    "\n",
    "import yaml\n",
    "# data path\n",
    "prompt_yaml_path=\"destinyapp/prompter_.yaml\"\n"
   ]
  },
  {
   "cell_type": "code",
   "execution_count": 2,
   "metadata": {},
   "outputs": [
    {
     "name": "stdout",
     "output_type": "stream",
     "text": [
      "Keys loaded\n"
     ]
    }
   ],
   "source": [
    "# DJANGO SETUP\n",
    "import django\n",
    "sys.path.append(os.path.abspath(''))\n",
    "os.environ.setdefault(\"DJANGO_SETTINGS_MODULE\", \"serverproject.settings\")\n",
    "django.setup()\n",
    "\n",
    "# Import custom modules\n",
    "from destinyapp import views\n",
    "from destinyapp.models import TranscriptData\n",
    "from destinyapp.api import ServerAiFunctions as saf\n",
    "\n",
    "# Import async modules\n",
    "import asyncio\n",
    "from asgiref.sync import sync_to_async\n",
    "\n",
    "# Import display modules\n",
    "from IPython.display import display, Markdown\n",
    "\n",
    "# Import other modules\n",
    "import faiss\n",
    "\n",
    "# import reloading\n",
    "from importlib import reload"
   ]
  },
  {
   "cell_type": "markdown",
   "metadata": {},
   "source": [
    "# Useful reusables"
   ]
  },
  {
   "cell_type": "code",
   "execution_count": 3,
   "metadata": {},
   "outputs": [],
   "source": [
    "del sys.modules['destinyapp.api.ServerAiFunctions']\n",
    "import destinyapp.api.ServerAiFunctions as saf\n",
    "reload(saf)\n",
    "\n",
    "async def run_systems(system_functions, input_contexts):\n",
    "    async def run_system(system_function):\n",
    "        tasks=[]\n",
    "        for input_context in input_contexts:\n",
    "            task=system_function(input_context)\n",
    "            tasks.append(task)\n",
    "\n",
    "        responses=await asyncio.gather(*tasks)\n",
    "        return responses\n",
    "\n",
    "    systems=[]\n",
    "    for system_function in system_functions:\n",
    "        system=run_system(system_function)\n",
    "        systems.append(system)\n",
    "    \n",
    "    system_responses=await asyncio.gather(*systems)\n",
    "\n",
    "    return system_responses\n",
    "\n",
    "def load_prompt_yaml(prompt_yaml_path):\n",
    "    with open(prompt_yaml_path, 'r') as file:\n",
    "        prompt_data=yaml.safe_load(file)\n",
    "    return prompt_data"
   ]
  },
  {
   "cell_type": "markdown",
   "metadata": {},
   "source": [
    "# TOC id=E-M\n",
    "### Items\n",
    "- Summary Chunks id=9xq\n",
    "- Recap id=7l.\n",
    "    - Discord\n",
    "    - Website\n",
    "- Hook id=1m3\n",
    "- Chat v1@"
   ]
  },
  {
   "cell_type": "markdown",
   "metadata": {},
   "source": [
    "# Summary Chunks 9xq"
   ]
  },
  {
   "cell_type": "code",
   "execution_count": null,
   "metadata": {},
   "outputs": [],
   "source": [
    "# TBD\n",
    "del sys.modules['destinyapp.api.ServerAiFunctions']\n",
    "import destinyapp.api.ServerAiFunctions as saf\n",
    "reload(saf)"
   ]
  },
  {
   "cell_type": "code",
   "execution_count": 4,
   "metadata": {},
   "outputs": [],
   "source": [
    "# import display and html display\n",
    "from IPython.display import display, Markdown\n",
    "from IPython.core.display import HTML"
   ]
  },
  {
   "cell_type": "code",
   "execution_count": 7,
   "metadata": {},
   "outputs": [
    {
     "data": {
      "text/markdown": [
       "\n",
       "<style>\n",
       "    h1, h2, h3, h4, h5, h6 {\n",
       "        color: white;\n",
       "    }\n",
       "</style>\n",
       "<div style='display:flex;'><div style='color:white;'><h2 style='color:yellow;'>Prompt 1 Variant 1</h2><p>Here's a synopsis of the content and sentiment from the transcript:\n",
       "\n",
       "Main topics:\n",
       "1. Destiny watching House MD while streaming\n",
       "2. Streaming as a challenging job\n",
       "3. Discussion of a video game design\n",
       "4. Drama involving Dante and leaked personal information\n",
       "5. Abortion and mental health discussion\n",
       "6. Rating outfits/fashion\n",
       "7. Candace Owens' appearance on Piers Morgan\n",
       "8. Discussion about audio quality and potential video editing techniques\n",
       "\n",
       "Destiny's takes and sentiment:\n",
       "\n",
       "1. Streaming challenges: Destiny expresses frustration with streaming as a job, calling it \"soul-draining\" and mentioning issues like DMCA strikes for music.\n",
       "\n",
       "2. Video game design: He seems impressed by a game design element explained to him, calling it \"fucking amazing game design.\"\n",
       "\n",
       "3. Drama indifference: Destiny expresses a lack of interest in drama involving younger streamers/influencers, saying he's \"trying so hard to care\" but can't.\n",
       "\n",
       "4. Abortion and mental health: He acknowledges the importance of discussing these topics and normalizing them, while also distinguishing between general discussions and leaking specific personal information.\n",
       "\n",
       "5. Fashion: Destiny is hesitant to comment on women's fashion, fearing it might be perceived as hateful. He rates some outfits but avoids strong criticism.\n",
       "\n",
       "6. Candace Owens: Destiny agrees with criticism of Owens, describing her as a \"coward and an idiot\" who dodges questions and makes claims without evidence.\n",
       "\n",
       "7. Video production: Destiny speculates about the production techniques used in a video, discussing potential overdubbing, green screen usage, and added background noise.\n",
       "\n",
       "Throughout the transcript, Destiny jumps between topics quickly, often in a stream-of-consciousness manner. His tone ranges from frustrated to analytical to humorous, depending on the subject. He shows particular interest in technical aspects of content creation and seems to enjoy dissecting media and performances critically.</p></div><div style='color:white;'><h2 style='color:yellow;'>Prompt 1 Variant 2</h2><p>### Main Focus\n",
       "\n",
       "In this segment, Destiny is engaged in a variety of activities, including watching a \"House M.D.\" episode, discussing the challenges of streaming, and reacting to various topics brought up by other speakers. He expresses frustration with the soul-draining aspects of streaming, particularly dealing with DMCA issues. Destiny also delves into a discussion about a personal drama involving a sociopath, moral standing, and the emotional impact of an abortion. He emphasizes the importance of discussing mental health and abortion openly, as these topics are often stigmatized.\n",
       "\n",
       "### All Topics\n",
       "\n",
       "1. **Watching \"House M.D.\"**: Destiny starts by mentioning he's watching an episode from season six of \"House M.D.\" focused on a sociopath.\n",
       "   \n",
       "2. **Challenges of Streaming**: He talks about the difficulties of streaming, particularly the issue of DMCA strikes for listening to music at work, which he argues is a unique challenge for streamers.\n",
       "\n",
       "3. **Game Design Commentary**: Destiny and another speaker, C, discuss game design, particularly the strategic placement of enemies in a game, which Destiny finds impressive.\n",
       "\n",
       "4. **Personal Drama and Sociopathy**: Destiny touches on a personal drama involving a person who might be a sociopath. He criticizes this person for lacking moral standing and character, especially in the context of leaking private information.\n",
       "\n",
       "5. **Abortion and Mental Health**: A significant portion of the discussion revolves around the emotional and mental health impacts of abortion. Destiny or another speaker shares a personal story about going through an abortion at a young age and the lack of support from family.\n",
       "\n",
       "6. **Fashion Commentary**: Destiny briefly comments on various fashion choices, including socks and casual wear, and expresses hesitation about critiquing women's fashion to avoid being perceived as hateful.\n",
       "\n",
       "7. **Candace Owens Critique**: Destiny criticizes Candace Owens for her appearance on Piers Morgan, accusing her of dodging questions and not taking responsibility for her claims. He speculates on the technical aspects of the video, suggesting it might be overdubbed.\n",
       "\n",
       "8. **Technical Observations**: Destiny makes technical observations about the audio quality of different microphones used in videos, noting inconsistencies and speculating on post-production techniques.\n",
       "\n",
       "This segment showcases Destiny's multifaceted engagement with his audience, covering entertainment, personal reflections, social issues, and technical critiques.</p></div></div>"
      ],
      "text/plain": [
       "<IPython.core.display.Markdown object>"
      ]
     },
     "metadata": {},
     "output_type": "display_data"
    }
   ],
   "source": [
    "prompt_datas=load_prompt_yaml(prompt_yaml_path)[\"working\"]\n",
    "\n",
    "# html_string=\"\"\n",
    "html_sections=[]\n",
    "output_strs=[]\n",
    "for i, input_variants in enumerate(prompt_datas):\n",
    "    for j, config_variants in enumerate(input_variants):\n",
    "        temp_html=\"\"\n",
    "        output_str=config_variants[0][\"summary\"]\n",
    "\n",
    "        # output_str=output_str.replace(\"h2\", \"h1\")\n",
    "\n",
    "        output_strs.append(output_str)\n",
    "        # insert newlines for \n",
    "\n",
    "        # html_string+=f\"<h2>Prompt {i+1} Variant {j+1}</h2>\"\n",
    "        # the start should be color blue\n",
    "        temp_html+=f\"<h2 style='color:yellow;'>Prompt {i+1} Variant {j+1}</h2>\"\n",
    "\n",
    "        # # change color of headers to white\n",
    "        # output_str=output_str.replace(\"<h2>\", \"<h2 style='color:white;'>\")\n",
    "        # output_str=output_str.replace(\"<h1>\", \"<h1 style='color:white;'>\")\n",
    "\n",
    "        # output_str=output_str.replace(\"\\n\", \"\")\n",
    "\n",
    "\n",
    "\n",
    "        temp_html+=f\"<p>{output_str}</p>\"\n",
    "        html_sections.append(temp_html)\n",
    "\n",
    "# put the two together but flex row \n",
    "html_string=\"\"\n",
    "# for i in range(len(html_sections)):\n",
    "i=0\n",
    "\n",
    "# style guide which makes all headers white in color\n",
    "html_string += \"\"\"\n",
    "<style>\n",
    "    h1, h2, h3, h4, h5, h6 {\n",
    "        color: white;\n",
    "    }\n",
    "</style>\n",
    "\"\"\"\n",
    "\n",
    "html_string+=f\"<div style='display:flex;'>\"\n",
    "for html_section in html_sections:\n",
    "    html_string+=f\"<div style='color:white;'>{html_section}</div>\"\n",
    "html_string+=f\"</div>\"\n",
    "\n",
    "display(Markdown(html_string))"
   ]
  },
  {
   "cell_type": "markdown",
   "metadata": {},
   "source": [
    "# Recap 71."
   ]
  },
  {
   "cell_type": "code",
   "execution_count": 53,
   "metadata": {},
   "outputs": [
    {
     "data": {
      "text/plain": [
       "<module 'destinyapp.api.ServerAiFunctions' from 'd:\\\\DestinyFolder\\\\DestinyRecaps\\\\DestinyRecapsApi\\\\serverproject\\\\destinyapp\\\\api\\\\ServerAiFunctions.py'>"
      ]
     },
     "execution_count": 53,
     "metadata": {},
     "output_type": "execute_result"
    }
   ],
   "source": [
    "del sys.modules['destinyapp.api.ServerAiFunctions']\n",
    "import destinyapp.api.ServerAiFunctions as saf\n",
    "reload(saf)"
   ]
  },
  {
   "cell_type": "code",
   "execution_count": 5,
   "metadata": {},
   "outputs": [],
   "source": [
    "# import display and html display\n",
    "from IPython.display import display, Markdown\n",
    "from IPython.core.display import HTML"
   ]
  },
  {
   "cell_type": "code",
   "execution_count": 103,
   "metadata": {},
   "outputs": [
    {
     "data": {
      "text/html": [
       "\n",
       "<style>\n",
       "    h1, h2, h3, h4, h5, h6 {\n",
       "        color: white;\n",
       "    }\n",
       "</style>\n",
       "<div style='display:flex;'><div style='color:white;'><h2 style='color:yellow;'>Prompt 1 Variant 1</h2><p>Here's a comprehensive summary of the topics discussed in the collection of summaries, organized into main topics and smaller details:\n",
       "\n",
       "<h2>Main Topics</h2>\n",
       "\n",
       "<h3>1. Content Creation and Streaming</h3>\n",
       "<ul>\n",
       "  <li><strong>Twitch and streaming:</strong> Destiny expresses frustration with Twitch, criticizing the current state of political content on the platform</li>\n",
       "  <li><strong>Relationships with other streamers:</strong> Mentions being on good terms with several Twitch streamers</li>\n",
       "  <li><strong>Kit (streaming platform):</strong> Discusses Kit's potential to compete with Twitch</li>\n",
       "  <li><strong>Collaboration with other creators:</strong> Expresses reluctance due to differences in approach and audience expectations</li>\n",
       "</ul>\n",
       "\n",
       "<h3>2. Political Commentary and Debates</h3>\n",
       "<ul>\n",
       "  <li><strong>Criticism of political commentators:</strong> Particularly those who made incorrect predictions about COVID-19</li>\n",
       "  <li><strong>Discussion of political extremes:</strong> Potential for extremes to work together, drawing parallels to historical events</li>\n",
       "  <li><strong>Science and politics:</strong> Criticizes misrepresentation of scientific facts for political purposes</li>\n",
       "  <li><strong>Israel-Palestine conflict:</strong> References to debates and discussions on this topic</li>\n",
       "</ul>\n",
       "\n",
       "<h3>3. Technical Issues and Discussions</h3>\n",
       "<ul>\n",
       "  <li><strong>Video file management:</strong> Issues with large video files and potential solutions</li>\n",
       "  <li><strong>Russian bot operation analysis:</strong> In-depth discussion of a potential Russian bot operation on Twitter, focusing on error messages and technical aspects</li>\n",
       "</ul>\n",
       "\n",
       "<h3>4. Personal Life and Relationships</h3>\n",
       "<ul>\n",
       "  <li><strong>Work-life balance:</strong> Discusses the relationship between career success and personal life</li>\n",
       "  <li><strong>Relationship discussions:</strong> Comments on breakups and relationship dynamics</li>\n",
       "</ul>\n",
       "\n",
       "<h2>Smaller Details and Brief Mentions</h2>\n",
       "\n",
       "<ul>\n",
       "  <li>Upcoming events and travel plans</li>\n",
       "  <li>Typing speed and tests</li>\n",
       "  <li>Current events (e.g., protest group damaging Stonehenge)</li>\n",
       "  <li>Personal stance on issues and desire for fair treatment in online discourse</li>\n",
       "  <li>Mental state and need for emotional organization</li>\n",
       "  <li>Brief mentions of historical atrocities (Holocaust, Holodomor, Great Leap Forward)</li>\n",
       "  <li>Music and cultural gatekeeping</li>\n",
       "  <li>January 6th event</li>\n",
       "  <li>Merchandise promotion</li>\n",
       "  <li>YouTube drama</li>\n",
       "  <li>News story about a 12-year-old Jewish girl in Paris</li>\n",
       "  <li>Cocaine-related incident involving a 9-year-old</li>\n",
       "  <li>Qatar's relationship with Hamas and Al Jazeera</li>\n",
       "  <li>Douglas Murray's comments on Israel-Hamas conflict</li>\n",
       "  <li>Age of consent laws and pedophilia (mentioned in confusion)</li>\n",
       "  <li>Illegal firearm modifications</li>\n",
       "</ul>\n",
       "\n",
       "<p>Overall, Destiny's tone throughout these discussions is often critical, skeptical, and analytical. He frequently expresses frustration with misinformation, personal attacks, and what he perceives as inconsistencies in others' arguments or behaviors. He emphasizes the importance of substantive debates and accurate information in public discourse.</p></p></div><div style='color:white;'><h2 style='color:yellow;'>Prompt 1 Variant 2</h2><p><!DOCTYPE html>\n",
       "<html lang=\"en\">\n",
       "<head>\n",
       "    <meta charset=\"UTF-8\">\n",
       "    <meta name=\"viewport\" content=\"width=device-width, initial-scale=1.0\">\n",
       "    <title>Destiny Stream Summary</title>\n",
       "    <style>\n",
       "        body {\n",
       "            font-family: Arial, sans-serif;\n",
       "            line-height: 1.6;\n",
       "        }\n",
       "        h1, h2 {\n",
       "            color: #333;\n",
       "        }\n",
       "        .main-topics, .smaller-details {\n",
       "            margin-bottom: 20px;\n",
       "        }\n",
       "        .main-topics ul, .smaller-details ul {\n",
       "            list-style-type: disc;\n",
       "            margin-left: 20px;\n",
       "        }\n",
       "        .main-topics ul li, .smaller-details ul li {\n",
       "            margin-bottom: 10px;\n",
       "        }\n",
       "    </style>\n",
       "</head>\n",
       "<body>\n",
       "    <h1>Destiny Stream Summary</h1>\n",
       "\n",
       "    <div class=\"main-topics\">\n",
       "        <h2>Main Topics</h2>\n",
       "        <ul>\n",
       "            <li><strong>Schedule and Travel:</strong> Upcoming events, including a talk with Alex O'Connor and a trip to LA. Expresses stress about a busy schedule.</li>\n",
       "            <li><strong>Video File Management:</strong> Issues with large video files from cameras, exploring options for compressing or managing these files for his editor in Australia. Technical details about file sizes, upload speeds, and potential solutions.</li>\n",
       "            <li><strong>Twitch and Streaming:</strong> Frustration about being unable to respond to slander and threats on Twitch. Criticism of the current state of political content on Twitch, focusing on individual streamers' clout.</li>\n",
       "            <li><strong>Relationships with Other Streamers:</strong> On good terms with several Twitch streamers like Mizkif, Dr. K, and Asmongold. Emphasizes fair treatment and acknowledgment when correct.</li>\n",
       "            <li><strong>Personal Stance on Issues:</strong> Speaks out on issues he believes are correct, not to defend specific groups or individuals. Discomfort with being seen as a spokesperson for any particular cause.</li>\n",
       "            <li><strong>Criticism and Personal Attacks:</strong> Frustration with personal attacks that aren't accompanied by substantive arguments. Open to criticism of ideas but dislikes baseless personal attacks.</li>\n",
       "            <li><strong>Mental State:</strong> Mentions feeling mentally \"fucked\" and needing to organize himself emotionally and mentally.</li>\n",
       "            <li><strong>Debates and Credibility:</strong> Leveraging mainstream credibility from large debates. Frustration with individuals who backtrack on debate commitments.</li>\n",
       "            <li><strong>Misinformation:</strong> Triggered by ignorant people spreading misinformation in large spaces.</li>\n",
       "            <li><strong>Dave Smith Critique:</strong> Criticizes Dave Smith, describing him as \"an idiot's idea of an intelligent person\" who lacks context and wisdom despite having some facts.</li>\n",
       "            <li><strong>Political Commentators and COVID-19:</strong> Suggests conservative commentators who made incorrect predictions about COVID-19 should lose their jobs.</li>\n",
       "            <li><strong>Political Extremes:</strong> Discusses the potential for political extremes to work together, drawing parallels to Nazi Germany and communist parties.</li>\n",
       "            <li><strong>Science and Politics:</strong> Criticizes both conservatives and progressives for misrepresenting scientific facts for political purposes.</li>\n",
       "            <li><strong>Personal Relationships:</strong> Comments on someone's breakup explanation, touching on career priorities and relationship compromises.</li>\n",
       "            <li><strong>Work-Life Balance:</strong> Disagrees with the notion that successful people have good work-life balance. Believes most successful individuals work more and have unusual personal lives.</li>\n",
       "            <li><strong>Russian Bot Operation on Twitter:</strong> Skeptical of claims about a Russian bot operation. Analyzes error messages and technical aspects, questioning the authenticity of the alleged bot exposure.</li>\n",
       "            <li><strong>Media Reporting and Division:</strong> Criticism of media reporting on unsubstantiated rumors and its potential to cause division.</li>\n",
       "            <li><strong>Israel-Palestine Conflict:</strong> Discussion about Hassan Piker's stance on Israel and Palestine, questioning Hassan's consistency and motives.</li>\n",
       "        </ul>\n",
       "    </div>\n",
       "\n",
       "    <div class=\"smaller-details\">\n",
       "        <h2>Smaller Details</h2>\n",
       "        <ul>\n",
       "            <li><strong>Typing Speed:</strong> Brief discussion about typing speed and different typing tests.</li>\n",
       "            <li><strong>Current Events:</strong> Mentions a protest group damaging Stonehenge with orange spray paint.</li>\n",
       "            <li><strong>Kit (Streaming Platform):</strong> Brief discussion about Kit's potential to compete with Twitch, expressing uncertainty about its ability to overcome Twitch's established advantage.</li>\n",
       "            <li><strong>January 6th Event:</strong> Brief mention of the January 6th event.</li>\n",
       "            <li><strong>White Supremacy:</strong> Mentioned in a seemingly sarcastic context.</li>\n",
       "            <li><strong>Merchandise Promotion:</strong> Brief promotion of merchandise.</li>\n",
       "            <li><strong>Debates and YouTube Drama:</strong> Brief mentions of various topics like debates, YouTube drama, and potential debate opponents.</li>\n",
       "            <li><strong>Technical Error Analogy:</strong> Mention of a technical error involving metric and imperial units in a space mission, used as an analogy for programming mistakes.</li>\n",
       "            <li><strong>News Story:</strong> Discussion of a news story about a 12-year-old Jewish girl being gang-raped in Paris, questioning the newsworthiness and expressing frustration at the lack of information.</li>\n",
       "            <li><strong>Cocaine-Related Incident:</strong> Brief mention of a cocaine-related incident involving a 9-year-old.</li>\n",
       "            <li><strong>Qatar's Relationship with Hamas and Al Jazeera:</strong> Brief mention of Qatar's relationship with Hamas and Al Jazeera.</li>\n",
       "            <li><strong>Trust in Relationships:</strong> Conversation about trust in relationships, involving accusations of seduction and inappropriate behavior.</li>\n",
       "            <li><strong>Babysitter Confusion:</strong> Brief segment about a babysitter and some confusion about a child's ethnicity.</li>\n",
       "            <li><strong>Scheduling and Availability:</strong> Conversation shifts to scheduling and availability for future events.</li>\n",
       "            <li><strong>Basketball Game:</strong> Scene depicting a basketball game and its aftermath, including celebrations and a fight.</li>\n",
       "            <li><strong>Courtroom and Prison Scenario:</strong> Courtroom scene and a prison scenario involving violence and escape plans.</li>\n",
       "            <li><strong>Mother-Son Interaction:</strong> Brief interaction with a mother who doesn't recognize her son.</li>\n",
       "            <li><strong>Collaborating with Other Content Creators:</strong> Discusses collaborating with other content creators, expressing reluctance due to differences in approach and audience expectations.</li>\n",
       "            <li><strong>Illegal Firearm Modifications:</strong> Mention of illegal firearm modifications (switches for Glocks).</li>\n",
       "        </ul>\n",
       "    </div>\n",
       "</body>\n",
       "</html></p></div></div>"
      ],
      "text/plain": [
       "<IPython.core.display.HTML object>"
      ]
     },
     "metadata": {},
     "output_type": "display_data"
    }
   ],
   "source": [
    "prompt_datas=load_prompt_yaml(prompt_yaml_path)[\"working\"]\n",
    "\n",
    "# html_string=\"\"\n",
    "html_sections=[]\n",
    "output_strs=[]\n",
    "for i, input_variants in enumerate(prompt_datas):\n",
    "    for j, config_variants in enumerate(input_variants):\n",
    "        temp_html=\"\"\n",
    "        output_str=config_variants\n",
    "\n",
    "        # output_str=output_str.replace(\"h2\", \"h1\")\n",
    "\n",
    "        output_strs.append(output_str)\n",
    "        # insert newlines for \n",
    "\n",
    "        # html_string+=f\"<h2>Prompt {i+1} Variant {j+1}</h2>\"\n",
    "        # the start should be color blue\n",
    "        temp_html+=f\"<h2 style='color:yellow;'>Prompt {i+1} Variant {j+1}</h2>\"\n",
    "\n",
    "        # # change color of headers to white\n",
    "        # output_str=output_str.replace(\"<h2>\", \"<h2 style='color:white;'>\")\n",
    "        # output_str=output_str.replace(\"<h1>\", \"<h1 style='color:white;'>\")\n",
    "\n",
    "        # output_str=output_str.replace(\"\\n\", \"\")\n",
    "\n",
    "\n",
    "\n",
    "        temp_html+=f\"<p>{output_str}</p>\"\n",
    "        html_sections.append(temp_html)\n",
    "\n",
    "# put the two together but flex row \n",
    "html_string=\"\"\n",
    "# for i in range(len(html_sections)):\n",
    "i=0\n",
    "\n",
    "# style guide which makes all headers white in color\n",
    "html_string += \"\"\"\n",
    "<style>\n",
    "    h1, h2, h3, h4, h5, h6 {\n",
    "        color: white;\n",
    "    }\n",
    "</style>\n",
    "\"\"\"\n",
    "\n",
    "html_string+=f\"<div style='display:flex;'>\"\n",
    "for html_section in html_sections:\n",
    "    html_string+=f\"<div style='color:white;'>{html_section}</div>\"\n",
    "html_string+=f\"</div>\"\n",
    "\n",
    "display(HTML(html_string))"
   ]
  },
  {
   "cell_type": "code",
   "execution_count": 107,
   "metadata": {},
   "outputs": [
    {
     "name": "stdout",
     "output_type": "stream",
     "text": [
      "Here's a comprehensive summary of the topics discussed in the collection of summaries, organized into main topics and smaller details:\n",
      "\n",
      "<h2>Main Topics</h2>\n",
      "\n",
      "<h3>1. Content Creation and Streaming</h3>\n",
      "<ul>\n",
      "  <li><strong>Twitch and streaming:</strong> Destiny expresses frustration with Twitch, criticizing the current state of political content on the platform</li>\n",
      "  <li><strong>Relationships with other streamers:</strong> Mentions being on good terms with several Twitch streamers</li>\n",
      "  <li><strong>Kit (streaming platform):</strong> Discusses Kit's potential to compete with Twitch</li>\n",
      "  <li><strong>Collaboration with other creators:</strong> Expresses reluctance due to differences in approach and audience expectations</li>\n",
      "</ul>\n",
      "\n",
      "<h3>2. Political Commentary and Debates</h3>\n",
      "<ul>\n",
      "  <li><strong>Criticism of political commentators:</strong> Particularly those who made incorrect predictions about COVID-19</li>\n",
      "  <li><strong>Discussion of political extremes:</strong> Potential for extremes to work together, drawing parallels to historical events</li>\n",
      "  <li><strong>Science and politics:</strong> Criticizes misrepresentation of scientific facts for political purposes</li>\n",
      "  <li><strong>Israel-Palestine conflict:</strong> References to debates and discussions on this topic</li>\n",
      "</ul>\n",
      "\n",
      "<h3>3. Technical Issues and Discussions</h3>\n",
      "<ul>\n",
      "  <li><strong>Video file management:</strong> Issues with large video files and potential solutions</li>\n",
      "  <li><strong>Russian bot operation analysis:</strong> In-depth discussion of a potential Russian bot operation on Twitter, focusing on error messages and technical aspects</li>\n",
      "</ul>\n",
      "\n",
      "<h3>4. Personal Life and Relationships</h3>\n",
      "<ul>\n",
      "  <li><strong>Work-life balance:</strong> Discusses the relationship between career success and personal life</li>\n",
      "  <li><strong>Relationship discussions:</strong> Comments on breakups and relationship dynamics</li>\n",
      "</ul>\n",
      "\n",
      "<h2>Smaller Details and Brief Mentions</h2>\n",
      "\n",
      "<ul>\n",
      "  <li>Upcoming events and travel plans</li>\n",
      "  <li>Typing speed and tests</li>\n",
      "  <li>Current events (e.g., protest group damaging Stonehenge)</li>\n",
      "  <li>Personal stance on issues and desire for fair treatment in online discourse</li>\n",
      "  <li>Mental state and need for emotional organization</li>\n",
      "  <li>Brief mentions of historical atrocities (Holocaust, Holodomor, Great Leap Forward)</li>\n",
      "  <li>Music and cultural gatekeeping</li>\n",
      "  <li>January 6th event</li>\n",
      "  <li>Merchandise promotion</li>\n",
      "  <li>YouTube drama</li>\n",
      "  <li>News story about a 12-year-old Jewish girl in Paris</li>\n",
      "  <li>Cocaine-related incident involving a 9-year-old</li>\n",
      "  <li>Qatar's relationship with Hamas and Al Jazeera</li>\n",
      "  <li>Douglas Murray's comments on Israel-Hamas conflict</li>\n",
      "  <li>Age of consent laws and pedophilia (mentioned in confusion)</li>\n",
      "  <li>Illegal firearm modifications</li>\n",
      "</ul>\n",
      "\n",
      "<p>Overall, Destiny's tone throughout these discussions is often critical, skeptical, and analytical. He frequently expresses frustration with misinformation, personal attacks, and what he perceives as inconsistencies in others' arguments or behaviors. He emphasizes the importance of substantive debates and accurate information in public discourse.</p>\n"
     ]
    }
   ],
   "source": [
    "print(output_strs[0])"
   ]
  },
  {
   "cell_type": "code",
   "execution_count": null,
   "metadata": {},
   "outputs": [],
   "source": []
  },
  {
   "cell_type": "code",
   "execution_count": 80,
   "metadata": {},
   "outputs": [
    {
     "data": {
      "text/markdown": [
       "Prompt 1 Variant 1\n",
       "------------------\n",
       "\n",
       "Here's a comprehensive summary of the topics discussed in the collection of summaries, organized into main topics and smaller details:Main Topics\n",
       "-----------\n",
       "\n",
       "### 1. Content Creation and Streaming\n",
       "* **Twitch and streaming:** Destiny expresses frustration with Twitch, criticizing the current state of political content on the platform\n",
       "* **Relationships with other streamers:** Mentions being on good terms with several Twitch streamers\n",
       "* **Kit (streaming platform):** Discusses Kit's potential to compete with Twitch\n",
       "* **Collaboration with other creators:** Expresses reluctance due to differences in approach and audience expectations\n",
       "\n",
       "### 2. Political Commentary and Debates\n",
       "* **Criticism of political commentators:** Particularly those who made incorrect predictions about COVID-19\n",
       "* **Discussion of political extremes:** Potential for extremes to work together, drawing parallels to historical events\n",
       "* **Science and politics:** Criticizes misrepresentation of scientific facts for political purposes\n",
       "* **Israel-Palestine conflict:** References to debates and discussions on this topic\n",
       "\n",
       "### 3. Technical Issues and Discussions\n",
       "\n",
       "* **Video file management:** Issues with large video files and potential solutions\n",
       "* **Russian bot operation analysis:** In-depth discussion of a potential Russian bot operation on Twitter, focusing on error messages and technical aspects\n",
       "\n",
       "### 4. Personal Life and Relationships\n",
       "\n",
       "* **Work-life balance:** Discusses the relationship between career success and personal life\n",
       "* **Relationship discussions:** Comments on breakups and relationship dynamics\n",
       "\n",
       "Smaller Details and Brief Mentions\n",
       "----------------------------------\n",
       "\n",
       "* Upcoming events and travel plans\n",
       "* Typing speed and tests\n",
       "* Current events (e.g., protest group damaging Stonehenge)\n",
       "* Personal stance on issues and desire for fair treatment in online discourse\n",
       "* Mental state and need for emotional organization\n",
       "* Brief mentions of historical atrocities (Holocaust, Holodomor, Great Leap Forward)\n",
       "* Music and cultural gatekeeping\n",
       "* January 6th event\n",
       "* Merchandise promotion\n",
       "* YouTube drama\n",
       "* News story about a 12-year-old Jewish girl in Paris\n",
       "* Cocaine-related incident involving a 9-year-old\n",
       "* Qatar's relationship with Hamas and Al Jazeera\n",
       "* Douglas Murray's comments on Israel-Hamas conflict\n",
       "* Age of consent laws and pedophilia (mentioned in confusion)\n",
       "* Illegal firearm modifications\n",
       "\n",
       "Overall, Destiny's tone throughout these discussions is often critical, skeptical, and analytical. He frequently expresses frustration with misinformation, personal attacks, and what he perceives as inconsistencies in others' arguments or behaviors. He emphasizes the importance of substantive debates and accurate information in public discourse."
      ],
      "text/plain": [
       "<IPython.core.display.Markdown object>"
      ]
     },
     "execution_count": 80,
     "metadata": {},
     "output_type": "execute_result"
    }
   ],
   "source": [
    "manually_edited_markdown=\"\"\"Prompt 1 Variant 1\n",
    "------------------\n",
    "\n",
    "Here's a comprehensive summary of the topics discussed in the collection of summaries, organized into main topics and smaller details:Main Topics\n",
    "-----------\n",
    "\n",
    "### 1. Content Creation and Streaming\n",
    "* **Twitch and streaming:** Destiny expresses frustration with Twitch, criticizing the current state of political content on the platform\n",
    "* **Relationships with other streamers:** Mentions being on good terms with several Twitch streamers\n",
    "* **Kit (streaming platform):** Discusses Kit's potential to compete with Twitch\n",
    "* **Collaboration with other creators:** Expresses reluctance due to differences in approach and audience expectations\n",
    "\n",
    "### 2. Political Commentary and Debates\n",
    "* **Criticism of political commentators:** Particularly those who made incorrect predictions about COVID-19\n",
    "* **Discussion of political extremes:** Potential for extremes to work together, drawing parallels to historical events\n",
    "* **Science and politics:** Criticizes misrepresentation of scientific facts for political purposes\n",
    "* **Israel-Palestine conflict:** References to debates and discussions on this topic\n",
    "\n",
    "### 3. Technical Issues and Discussions\n",
    "\n",
    "* **Video file management:** Issues with large video files and potential solutions\n",
    "* **Russian bot operation analysis:** In-depth discussion of a potential Russian bot operation on Twitter, focusing on error messages and technical aspects\n",
    "\n",
    "### 4. Personal Life and Relationships\n",
    "\n",
    "* **Work-life balance:** Discusses the relationship between career success and personal life\n",
    "* **Relationship discussions:** Comments on breakups and relationship dynamics\n",
    "\n",
    "Smaller Details and Brief Mentions\n",
    "----------------------------------\n",
    "\n",
    "* Upcoming events and travel plans\n",
    "* Typing speed and tests\n",
    "* Current events (e.g., protest group damaging Stonehenge)\n",
    "* Personal stance on issues and desire for fair treatment in online discourse\n",
    "* Mental state and need for emotional organization\n",
    "* Brief mentions of historical atrocities (Holocaust, Holodomor, Great Leap Forward)\n",
    "* Music and cultural gatekeeping\n",
    "* January 6th event\n",
    "* Merchandise promotion\n",
    "* YouTube drama\n",
    "* News story about a 12-year-old Jewish girl in Paris\n",
    "* Cocaine-related incident involving a 9-year-old\n",
    "* Qatar's relationship with Hamas and Al Jazeera\n",
    "* Douglas Murray's comments on Israel-Hamas conflict\n",
    "* Age of consent laws and pedophilia (mentioned in confusion)\n",
    "* Illegal firearm modifications\n",
    "\n",
    "Overall, Destiny's tone throughout these discussions is often critical, skeptical, and analytical. He frequently expresses frustration with misinformation, personal attacks, and what he perceives as inconsistencies in others' arguments or behaviors. He emphasizes the importance of substantive debates and accurate information in public discourse.\"\"\"\n",
    "Markdown(manually_edited_markdown)"
   ]
  },
  {
   "cell_type": "code",
   "execution_count": 104,
   "metadata": {},
   "outputs": [
    {
     "data": {
      "text/markdown": [
       "Here's a comprehensive summary of the topics discussed in the collection of\n",
       "summaries, organized into main topics and smaller details:\n",
       "\n",
       "## Main Topics\n",
       "\n",
       "### 1\\. Content Creation and Streaming\n",
       "\n",
       "  * **Twitch and streaming:** Destiny expresses frustration with Twitch, criticizing the current state of political content on the platform\n",
       "  * **Relationships with other streamers:** Mentions being on good terms with several Twitch streamers\n",
       "  * **Kit (streaming platform):** Discusses Kit's potential to compete with Twitch\n",
       "  * **Collaboration with other creators:** Expresses reluctance due to differences in approach and audience expectations\n",
       "\n",
       "### 2\\. Political Commentary and Debates\n",
       "\n",
       "  * **Criticism of political commentators:** Particularly those who made incorrect predictions about COVID-19\n",
       "  * **Discussion of political extremes:** Potential for extremes to work together, drawing parallels to historical events\n",
       "  * **Science and politics:** Criticizes misrepresentation of scientific facts for political purposes\n",
       "  * **Israel-Palestine conflict:** References to debates and discussions on this topic\n",
       "\n",
       "### 3\\. Technical Issues and Discussions\n",
       "\n",
       "  * **Video file management:** Issues with large video files and potential solutions\n",
       "  * **Russian bot operation analysis:** In-depth discussion of a potential Russian bot operation on Twitter, focusing on error messages and technical aspects\n",
       "\n",
       "### 4\\. Personal Life and Relationships\n",
       "\n",
       "  * **Work-life balance:** Discusses the relationship between career success and personal life\n",
       "  * **Relationship discussions:** Comments on breakups and relationship dynamics\n",
       "\n",
       "## Smaller Details and Brief Mentions\n",
       "\n",
       "  * Upcoming events and travel plans\n",
       "  * Typing speed and tests\n",
       "  * Current events (e.g., protest group damaging Stonehenge)\n",
       "  * Personal stance on issues and desire for fair treatment in online discourse\n",
       "  * Mental state and need for emotional organization\n",
       "  * Brief mentions of historical atrocities (Holocaust, Holodomor, Great Leap Forward)\n",
       "  * Music and cultural gatekeeping\n",
       "  * January 6th event\n",
       "  * Merchandise promotion\n",
       "  * YouTube drama\n",
       "  * News story about a 12-year-old Jewish girl in Paris\n",
       "  * Cocaine-related incident involving a 9-year-old\n",
       "  * Qatar's relationship with Hamas and Al Jazeera\n",
       "  * Douglas Murray's comments on Israel-Hamas conflict\n",
       "  * Age of consent laws and pedophilia (mentioned in confusion)\n",
       "  * Illegal firearm modifications\n",
       "\n",
       "Overall, Destiny's tone throughout these discussions is often critical,\n",
       "skeptical, and analytical. He frequently expresses frustration with\n",
       "misinformation, personal attacks, and what he perceives as inconsistencies in\n",
       "others' arguments or behaviors. He emphasizes the importance of substantive\n",
       "debates and accurate information in public discourse.\n",
       "\n"
      ],
      "text/plain": [
       "<IPython.core.display.Markdown object>"
      ]
     },
     "execution_count": 104,
     "metadata": {},
     "output_type": "execute_result"
    }
   ],
   "source": [
    "# from markdownify import markdownify as md\n",
    "# test_markdown=md(output_strs[0])\n",
    "import html2text\n",
    "test_markdown=html2text.html2text(output_strs[0])\n",
    "Markdown(test_markdown)"
   ]
  },
  {
   "cell_type": "code",
   "execution_count": 106,
   "metadata": {},
   "outputs": [
    {
     "name": "stdout",
     "output_type": "stream",
     "text": [
      "Text Channels\n",
      "Voice Channels\n",
      "general\n",
      "General\n",
      "archive\n",
      "recaps\n",
      "rules\n",
      "test\n"
     ]
    },
    {
     "data": {
      "text/plain": [
       "'Completed'"
      ]
     },
     "execution_count": 106,
     "metadata": {},
     "output_type": "execute_result"
    }
   ],
   "source": [
    "await saf.discord_test(test_markdown)"
   ]
  },
  {
   "cell_type": "code",
   "execution_count": 65,
   "metadata": {},
   "outputs": [
    {
     "name": "stdout",
     "output_type": "stream",
     "text": [
      "Text Channels\n",
      "Voice Channels\n",
      "general\n",
      "General\n",
      "archive\n",
      "recaps\n",
      "rules\n",
      "test\n"
     ]
    },
    {
     "data": {
      "text/plain": [
       "'Completed'"
      ]
     },
     "execution_count": 65,
     "metadata": {},
     "output_type": "execute_result"
    }
   ],
   "source": [
    "handmade_test=\"This is a test for discord markdown\\nThats 1 newline<br>thats a break<br><br><br>thats 3 breaks\\n\\n\\nthats 3 newlines\"\n",
    "await saf.discord_test(handmade_test)"
   ]
  },
  {
   "cell_type": "code",
   "execution_count": 36,
   "metadata": {},
   "outputs": [
    {
     "data": {
      "text/markdown": [
       "<h2 style='color:yellow;'>Prompt 1 Variant 1</h2><p>Here's a comprehensive summary of the topics discussed in the collection of summaries, organized into main topics and smaller details:\n",
       "\n",
       "<h2 style='color:white;'>Main Topics</h2>\n",
       "\n",
       "<h3>1. Content Creation and Streaming</h3>\n",
       "<ul>\n",
       "  <li><strong>Twitch and streaming:</strong> Destiny expresses frustration with Twitch, criticizing the current state of political content on the platform</li>\n",
       "  <li><strong>Relationships with other streamers:</strong> Mentions being on good terms with several Twitch streamers</li>\n",
       "  <li><strong>Kit (streaming platform):</strong> Discusses Kit's potential to compete with Twitch</li>\n",
       "  <li><strong>Collaboration with other creators:</strong> Expresses reluctance due to differences in approach and audience expectations</li>\n",
       "</ul>\n",
       "\n",
       "<h3>2. Political Commentary and Debates</h3>\n",
       "<ul>\n",
       "  <li><strong>Criticism of political commentators:</strong> Particularly those who made incorrect predictions about COVID-19</li>\n",
       "  <li><strong>Discussion of political extremes:</strong> Potential for extremes to work together, drawing parallels to historical events</li>\n",
       "  <li><strong>Science and politics:</strong> Criticizes misrepresentation of scientific facts for political purposes</li>\n",
       "  <li><strong>Israel-Palestine conflict:</strong> References to debates and discussions on this topic</li>\n",
       "</ul>\n",
       "\n",
       "<h3>3. Technical Issues and Discussions</h3>\n",
       "<ul>\n",
       "  <li><strong>Video file management:</strong> Issues with large video files and potential solutions</li>\n",
       "  <li><strong>Russian bot operation analysis:</strong> In-depth discussion of a potential Russian bot operation on Twitter, focusing on error messages and technical aspects</li>\n",
       "</ul>\n",
       "\n",
       "<h3>4. Personal Life and Relationships</h3>\n",
       "<ul>\n",
       "  <li><strong>Work-life balance:</strong> Discusses the relationship between career success and personal life</li>\n",
       "  <li><strong>Relationship discussions:</strong> Comments on breakups and relationship dynamics</li>\n",
       "</ul>\n",
       "\n",
       "<h2 style='color:white;'>Smaller Details and Brief Mentions</h2>\n",
       "\n",
       "<ul>\n",
       "  <li>Upcoming events and travel plans</li>\n",
       "  <li>Typing speed and tests</li>\n",
       "  <li>Current events (e.g., protest group damaging Stonehenge)</li>\n",
       "  <li>Personal stance on issues and desire for fair treatment in online discourse</li>\n",
       "  <li>Mental state and need for emotional organization</li>\n",
       "  <li>Brief mentions of historical atrocities (Holocaust, Holodomor, Great Leap Forward)</li>\n",
       "  <li>Music and cultural gatekeeping</li>\n",
       "  <li>January 6th event</li>\n",
       "  <li>Merchandise promotion</li>\n",
       "  <li>YouTube drama</li>\n",
       "  <li>News story about a 12-year-old Jewish girl in Paris</li>\n",
       "  <li>Cocaine-related incident involving a 9-year-old</li>\n",
       "  <li>Qatar's relationship with Hamas and Al Jazeera</li>\n",
       "  <li>Douglas Murray's comments on Israel-Hamas conflict</li>\n",
       "  <li>Age of consent laws and pedophilia (mentioned in confusion)</li>\n",
       "  <li>Illegal firearm modifications</li>\n",
       "</ul>\n",
       "\n",
       "<p>Overall, Destiny's tone throughout these discussions is often critical, skeptical, and analytical. He frequently expresses frustration with misinformation, personal attacks, and what he perceives as inconsistencies in others' arguments or behaviors. He emphasizes the importance of substantive debates and accurate information in public discourse.</p></p>"
      ],
      "text/plain": [
       "<IPython.core.display.Markdown object>"
      ]
     },
     "metadata": {},
     "output_type": "display_data"
    }
   ],
   "source": [
    "#convert html_sections[0] into markdown\n",
    "display(Markdown(html_sections[0]))"
   ]
  },
  {
   "cell_type": "code",
   "execution_count": 15,
   "metadata": {},
   "outputs": [
    {
     "data": {
      "text/html": [
       "<h2 style='color:yellow;'>Prompt 1 Variant 1</h2><p>Here's a comprehensive summary of the topics discussed in the collection of summaries, organized into main topics and smaller details:\n",
       "\n",
       "<h2>Main Topics</h2>\n",
       "\n",
       "<h3>1. Content Creation and Streaming</h3>\n",
       "<ul>\n",
       "  <li><strong>Twitch and streaming:</strong> Destiny expresses frustration with Twitch, criticizing the current state of political content on the platform</li>\n",
       "  <li><strong>Relationships with other streamers:</strong> Mentions being on good terms with several Twitch streamers</li>\n",
       "  <li><strong>Kit (streaming platform):</strong> Discusses Kit's potential to compete with Twitch</li>\n",
       "  <li><strong>Collaboration with other creators:</strong> Expresses reluctance due to differences in approach and audience expectations</li>\n",
       "</ul>\n",
       "\n",
       "<h3>2. Political Commentary and Debates</h3>\n",
       "<ul>\n",
       "  <li><strong>Criticism of political commentators:</strong> Particularly those who made incorrect predictions about COVID-19</li>\n",
       "  <li><strong>Discussion of political extremes:</strong> Potential for extremes to work together, drawing parallels to historical events</li>\n",
       "  <li><strong>Science and politics:</strong> Criticizes misrepresentation of scientific facts for political purposes</li>\n",
       "  <li><strong>Israel-Palestine conflict:</strong> References to debates and discussions on this topic</li>\n",
       "</ul>\n",
       "\n",
       "<h3>3. Technical Issues and Discussions</h3>\n",
       "<ul>\n",
       "  <li><strong>Video file management:</strong> Issues with large video files and potential solutions</li>\n",
       "  <li><strong>Russian bot operation analysis:</strong> In-depth discussion of a potential Russian bot operation on Twitter, focusing on error messages and technical aspects</li>\n",
       "</ul>\n",
       "\n",
       "<h3>4. Personal Life and Relationships</h3>\n",
       "<ul>\n",
       "  <li><strong>Work-life balance:</strong> Discusses the relationship between career success and personal life</li>\n",
       "  <li><strong>Relationship discussions:</strong> Comments on breakups and relationship dynamics</li>\n",
       "</ul>\n",
       "\n",
       "<h2>Smaller Details and Brief Mentions</h2>\n",
       "\n",
       "<ul>\n",
       "  <li>Upcoming events and travel plans</li>\n",
       "  <li>Typing speed and tests</li>\n",
       "  <li>Current events (e.g., protest group damaging Stonehenge)</li>\n",
       "  <li>Personal stance on issues and desire for fair treatment in online discourse</li>\n",
       "  <li>Mental state and need for emotional organization</li>\n",
       "  <li>Brief mentions of historical atrocities (Holocaust, Holodomor, Great Leap Forward)</li>\n",
       "  <li>Music and cultural gatekeeping</li>\n",
       "  <li>January 6th event</li>\n",
       "  <li>Merchandise promotion</li>\n",
       "  <li>YouTube drama</li>\n",
       "  <li>News story about a 12-year-old Jewish girl in Paris</li>\n",
       "  <li>Cocaine-related incident involving a 9-year-old</li>\n",
       "  <li>Qatar's relationship with Hamas and Al Jazeera</li>\n",
       "  <li>Douglas Murray's comments on Israel-Hamas conflict</li>\n",
       "  <li>Age of consent laws and pedophilia (mentioned in confusion)</li>\n",
       "  <li>Illegal firearm modifications</li>\n",
       "</ul>\n",
       "\n",
       "<p>Overall, Destiny's tone throughout these discussions is often critical, skeptical, and analytical. He frequently expresses frustration with misinformation, personal attacks, and what he perceives as inconsistencies in others' arguments or behaviors. He emphasizes the importance of substantive debates and accurate information in public discourse.</p></p>"
      ],
      "text/plain": [
       "<IPython.core.display.HTML object>"
      ]
     },
     "metadata": {},
     "output_type": "display_data"
    }
   ],
   "source": [
    "display(HTML(html_sections[0]))"
   ]
  },
  {
   "cell_type": "code",
   "execution_count": null,
   "metadata": {},
   "outputs": [],
   "source": [
    "prompt_datas=load_prompt_yaml(prompt_yaml_path)[\"working\"]\n",
    "\n",
    "\n",
    "for i, input_variants in enumerate(prompt_datas):\n",
    "    for j, config_variants in enumerate(input_variants):\n",
    "        print(f\"Prompt {i+1} Variant {j+1}\")\n",
    "        print(config_variants)\n",
    "    print(\"\\n\")"
   ]
  },
  {
   "cell_type": "markdown",
   "metadata": {},
   "source": [
    "# Hook 1m3"
   ]
  },
  {
   "cell_type": "markdown",
   "metadata": {},
   "source": [
    "# Chat v1@"
   ]
  }
 ],
 "metadata": {
  "kernelspec": {
   "display_name": "env",
   "language": "python",
   "name": "python3"
  },
  "language_info": {
   "codemirror_mode": {
    "name": "ipython",
    "version": 3
   },
   "file_extension": ".py",
   "mimetype": "text/x-python",
   "name": "python",
   "nbconvert_exporter": "python",
   "pygments_lexer": "ipython3",
   "version": "3.11.3"
  }
 },
 "nbformat": 4,
 "nbformat_minor": 2
}
