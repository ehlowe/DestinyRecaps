{
 "cells": [
  {
   "cell_type": "code",
   "execution_count": 1,
   "metadata": {},
   "outputs": [
    {
     "name": "stdout",
     "output_type": "stream",
     "text": [
      "d:\\DestinyFolder\\DestinyRecaps\\DestinyRecapsApi\\serverproject\n"
     ]
    }
   ],
   "source": [
    "# DIRECTORY SET\n",
    "import os\n",
    "import sys\n",
    "import traceback\n",
    "from pathlib import Path\n",
    "base_dir=Path(os.getcwd()).parent.parent\n",
    "os.chdir(base_dir)\n",
    "print(os.getcwd())\n",
    "\n",
    "# ENVIRONMENT VARIABLES\n",
    "import dotenv\n",
    "dotenv.load_dotenv()\n",
    "\n",
    "# DJANGO SETUP\n",
    "import django\n",
    "sys.path.append(os.path.abspath(''))\n",
    "os.environ.setdefault(\"DJANGO_SETTINGS_MODULE\", \"serverproject.settings\")\n",
    "django.setup()\n",
    "\n",
    "# Import async modules\n",
    "import asyncio\n",
    "from asgiref.sync import sync_to_async\n",
    "\n",
    "# Import display modules\n",
    "from IPython.display import display, Markdown\n",
    "\n",
    "# Import other modules\n",
    "import faiss\n",
    "\n",
    "# import reloading\n",
    "from importlib import reload"
   ]
  },
  {
   "cell_type": "code",
   "execution_count": 2,
   "metadata": {},
   "outputs": [],
   "source": [
    "%load_ext autoreload\n",
    "%autoreload 2\n",
    "\n",
    "from destinyapp.models import StreamRecapData\n",
    "\n",
    "from core import services\n",
    "from core import utils\n",
    "from core import controller"
   ]
  },
  {
   "cell_type": "code",
   "execution_count": null,
   "metadata": {},
   "outputs": [],
   "source": [
    "video_id=\"OqVH_MTBQ6k\"\n",
    "stream_recap_data=await utils.get_recap_data(video_id)"
   ]
  },
  {
   "cell_type": "code",
   "execution_count": null,
   "metadata": {},
   "outputs": [],
   "source": [
    "emb_resp=await services.vector_db_and_text_chunks.AllRecapsVectorDB.fetch_embedding(\"test njhbnjbhgvbnjhugvbnjuhji9876y78987ytghjkjnbhj\")"
   ]
  },
  {
   "cell_type": "code",
   "execution_count": 9,
   "metadata": {},
   "outputs": [
    {
     "name": "stdout",
     "output_type": "stream",
     "text": [
      "Total Cost of Embeddings for ALL bot db: 0.0036088\n",
      "Finished generating embeddings\n",
      "Finished making vector db\n",
      "Saved master_all vector db to: destinyapp/working_folder/vectordbs/master_all.index\n"
     ]
    }
   ],
   "source": [
    "await services.vector_db_and_text_chunks.AllRecapsVectorDB.write_master_all()"
   ]
  },
  {
   "cell_type": "code",
   "execution_count": 31,
   "metadata": {},
   "outputs": [],
   "source": [
    "query=\"Gaza Malnutrition\"\n",
    "query=\"Destiny malnutrition Gaza Palestine discussion\"\n",
    "query=\"Physics\"\n",
    "query=\"Destiny's discussions on physics and its relation to current events or societal issues\"\n",
    "query=\"insights on physics and related topics\"\n",
    "query=\"Abortion\"# ipFFnbGufE4, 29ixeHeiLZI, CXFDaEbl9UI\n",
    "query=\"malnutrition in palastine\" #sorta XMvRNgZ81Wo, \n",
    "query=\"star wars\"\n",
    "# query=\"classification of banana bread\" # IpXU3qNsAUk\n",
    "# query=\"penis size research\" #\n",
    "alL_relevant_recaps=await services.all_search(query, 15)"
   ]
  },
  {
   "cell_type": "code",
   "execution_count": 32,
   "metadata": {},
   "outputs": [
    {
     "data": {
      "text/plain": [
       "[{'recap': \"Streaming tech wizardry, Rust strategies, debate prep, and pop culture musings - a peek into Destiny's multifaceted world\\nHere's a comprehensive summary of the collection of summaries, organized into main topics and smaller details:\\n\\n<h2>Main Topics</h2>\\n\\n<h3>1. Technical Setup and Troubleshooting</h3>\\n<ul>\\n  <li><strong>Audio Configuration:</strong> Extensive efforts to set up multiple audio channels, route different audio sources, and adjust settings in OBS and Total Mix FX software.</li>\\n  <li><strong>Video Setup:</strong> Adjusting camera angles, lighting, ISO settings, and resolving issues with NDI and HDMI outputs.</li>\\n  <li><strong>Streaming Software:</strong> Configuring OBS, Stream Deck, and various plugins for optimal streaming performance.</li>\\n  <li><strong>Hardware Issues:</strong> Troubleshooting problems with microphones, capture cards, and other equipment.</li>\\n</ul>\\n\\n<h3>2. Gaming Content</h3>\\n<ul>\\n  <li><strong>Rust Gameplay:</strong> Discussions about strategies, community toxicity, and the addictive nature of the game.</li>\\n  <li><strong>Streaming Setup:</strong> Preparing for game streams and content creation.</li>\\n</ul>\\n\\n<h3>3. Debate Preparation</h3>\\n<ul>\\n  <li><strong>Political Debates:</strong> Brief mentions of preparing for debates, possibly involving Trump and Biden.</li>\\n  <li><strong>Jordan Peterson:</strong> Mention of a potential debate with Jordan Peterson.</li>\\n</ul>\\n\\n<h3>4. Pop Culture and Entertainment</h3>\\n<ul>\\n  <li><strong>Movie/TV Discussions:</strong> Comments on upcoming Star Wars content (Andor) and Gladiator 2.</li>\\n  <li><strong>YouTube Content:</strong> Watching and discussing various YouTube videos during setup.</li>\\n</ul>\\n\\n<h2>Smaller Details and Brief Mentions</h2>\\n\\n<ul>\\n  <li><strong>Pet Interactions:</strong> Discussions about Destiny's cat and its behavior.</li>\\n  <li><strong>Financial Topics:</strong> Brief mentions of stock market, options trading, and gold investments.</li>\\n  <li><strong>Jokes and Banter:</strong> Various off-color jokes and casual interactions with others.</li>\\n  <li><strong>Personal Growth:</strong> Brief discussion on maturity and decision-making.</li>\\n  <li><strong>House Painting Issues:</strong> Frustration with contractors painting incorrectly.</li>\\n  <li><strong>Environmental Concerns:</strong> Mention of toxic paint and unnecessary waste.</li>\\n  <li><strong>Networking Equipment:</strong> Brief discussion about fiber optics for a large building project.</li>\\n  <li><strong>Alcohol:</strong> Mentions of ordering and receiving alcoholic beverages.</li>\\n  <li><strong>Random Topics:</strong> Brief mentions of cheetahs, Red Bull, Mormon missionaries, and internet personalities.</li>\\n</ul>\\n\\n<p>Overall Sentiment: The transcripts primarily reflect a focus on technical setup and troubleshooting, with Destiny often expressing frustration but showing persistence in resolving issues. The tone is generally casual and sometimes humorous, with occasional moments of serious discussion on various topics. Destiny demonstrates technical knowledge but also shows a willingness to learn and improve his setup.</p>\\n\\nDISCLAIMER: This is all AI generated and there are frequent errors.\",\n",
       "  'video_id': 'ys64pMzpDUs'},\n",
       " {'recap': \"Supreme Court expands presidential immunity: Implications for Trump, 2024 election, and democracy's future\\nHere's a comprehensive summary of the main topics and smaller details discussed in the collection of summaries:\\n\\n<h2>Main Topics</h2>\\n\\n<h3>1. Supreme Court Ruling on Presidential Immunity</h3>\\n<ul>\\n<li>Discussion of recent Supreme Court decision expanding presidential immunity from criminal prosecution</li>\\n<li>Breakdown of three categories of presidential actions: core powers (absolute immunity), official acts (presumptive immunity), and unofficial acts (no immunity)</li>\\n<li>Criticism of Chief Justice Roberts' opinion and reasoning</li>\\n<li>Analysis of dissenting opinions, particularly from Justices Sotomayor and Jackson</li>\\n<li>Concerns about implications for presidential accountability and balance of power</li>\\n</ul>\\n\\n<h3>2. Political Commentary and Analysis</h3>\\n<ul>\\n<li>Critique of various commentators' interpretations of the Supreme Court ruling</li>\\n<li>Discussion of Democratic and Republican responses to the decision</li>\\n<li>Analysis of potential impacts on Trump's legal cases and the 2024 election</li>\\n<li>Debate about the nature of democracy and how to address perceived threats</li>\\n</ul>\\n\\n<h3>3. Presidential Powers and Democracy</h3>\\n<ul>\\n<li>Exploration of the limits of presidential power and potential for abuse</li>\\n<li>Discussion of checks and balances in the U.S. government system</li>\\n<li>Debate about using authoritarian measures to protect democracy</li>\\n<li>Analysis of voter behavior and public understanding of government structures</li>\\n</ul>\\n\\n<h2>Smaller Details and Briefly Covered Topics</h2>\\n\\n<ul>\\n<li>Destiny's personal anecdotes (e.g., buying a saxophone, car preferences)</li>\\n<li>Brief discussions on international relations and deterrence</li>\\n<li>Mentions of Destiny's streaming platform and future content plans</li>\\n<li>Commentary on media influence and changing public opinions</li>\\n<li>Brief tangents on topics like weightlifting and scheduling</li>\\n<li>Word association game played by Destiny</li>\\n<li>Discussion of Swedish fermented fish dish</li>\\n<li>Mention of website redesign for Destiny's platform</li>\\n<li>Brief discussion about Porsche logos and using AI for asking questions</li>\\n<li>References to historical events and pop culture (e.g., Star Wars, Lord of the Rings)</li>\\n<li>Brief mentions of economic uncertainty and gold investments</li>\\n<li>Discussion of self-defense products (possibly sponsored content)</li>\\n</ul>\\n\\nDISCLAIMER: This is all AI generated and there are frequent errors.\",\n",
       "  'video_id': 'AGmRpyc7cuQ'},\n",
       " {'recap': 'Media bias, Trump-Hitler comparisons, weightlifting tips, Destiny\\'s political stance, knowledge vs. conviction graph, and eclectic topics from House MD to space debris\\n<h1>Main Topics</h1>\\n\\n<h2>1. Political Discourse and Media Bias</h2>\\n<ul>\\n  <li>Criticism of media double standards in condemning violence</li>\\n  <li>Discussion of Piers Morgan\\'s perceived bias and interview style</li>\\n  <li>Analysis of Trump\\'s actions related to the 2020 election</li>\\n  <li>Debate strategies for discussing election fraud claims with Trump supporters</li>\\n  <li>Comparisons between Trump and Hitler, and the rhetoric surrounding such comparisons</li>\\n</ul>\\n\\n<h2>2. Weightlifting and Fitness</h2>\\n<ul>\\n  <li>Detailed discussion on bench pressing techniques and achievements</li>\\n  <li>Exploration of various exercises for improving bench press performance</li>\\n  <li>Injury prevention and recovery in weightlifting</li>\\n</ul>\\n\\n<h2>3. Destiny\\'s Political Positioning</h2>\\n<ul>\\n  <li>Explanation of Destiny\\'s perceived stance in the political landscape</li>\\n  <li>Discussion on how Destiny\\'s views are often misunderstood or misrepresented</li>\\n  <li>Criticism of both far-left and far-right political rhetoric</li>\\n</ul>\\n\\n<h2>4. Knowledge and Conviction in Political Opinions</h2>\\n<ul>\\n  <li>Introduction of a graph illustrating the relationship between knowledge and conviction</li>\\n  <li>Criticism of passive information gathering and its impact on political opinions</li>\\n  <li>Discussion on the challenges of moving people\\'s opinions responsibly</li>\\n</ul>\\n\\n<h1>Smaller Details/Brief Topics</h1>\\n\\n<ul>\\n  <li><strong>House MD:</strong> Brief comments about finishing a video on the TV show</li>\\n  <li><strong>Anti-Trump Video Plans:</strong> Destiny\\'s intention to create a comprehensive argument against Trump</li>\\n  <li><strong>Assassination Interview:</strong> Controversy over Destiny\\'s refusal to condemn an attempted assassination</li>\\n  <li><strong>Mueller Investigation:</strong> Brief discussion on \"Russiagate\" and its legitimacy</li>\\n  <li><strong>Social Media Platforms:</strong> Criticism of Twitter for allowing targeted harassment</li>\\n  <li><strong>Vegan Diet:</strong> Discussion on vegan protein sources and alternatives</li>\\n  <li><strong>Elon Musk and AI:</strong> Speculation about a possible AI demonstration on Twitter</li>\\n  <li><strong>Space Debris:</strong> Brief mention of deorbiting space debris using explosives</li>\\n  <li><strong>World War I Research:</strong> Potential future topic for Destiny</li>\\n  <li><strong>PKA Podcast:</strong> Explanation for declining to appear due to time commitment</li>\\n  <li><strong>Jon Stewart:</strong> Reference to his takedown of Jim Cramer on The Daily Show</li>\\n  <li><strong>Boogie2988 Controversy:</strong> Discussion about alleged fake cancer diagnosis</li>\\n</ul>\\n\\nDISCLAIMER: This is all AI generated and there are frequent errors.',\n",
       "  'video_id': 'liWLMaYIQ30'},\n",
       " {'recap': 'Israel-Palestine conflict deep dive, US Middle East policy revelations, media narratives dissected, and firsthand observations from the region\\nHere\\'s a comprehensive summary of the main topics and smaller details discussed in the collection of summaries:\\n\\nMain Topics:\\n\\n1. Israel-Palestine Conflict:\\n   - Historical context of the conflict, including the 1948 Arab-Israeli War and the Nakba\\n   - Discussion of Israel\\'s occupation of the West Bank and Gaza since 1967\\n   - Debates about Israel\\'s democratic status and treatment of Palestinians\\n   - Analysis of the 1947 UN Partition Plan and subsequent wars\\n   - Israel\\'s 2005 disengagement from Gaza and its consequences\\n   - Hamas and its role in the conflict\\n   - Recent events, including the October 7th Hamas attack on Israel\\n   - Debates about the proportionality of Israel\\'s military responses\\n\\n2. US Foreign Policy in the Middle East:\\n   - Discussion of US involvement in Syria and Iraq\\n   - Debates about US weapons ending up with ISIS\\n   - Analysis of John Kerry\\'s leaked audio about ISIS and Assad\\n\\n3. Media and Public Discourse:\\n   - Criticism of oversimplified narratives and conspiracy theories\\n   - Debates about antisemitism and criticism of Israel\\n   - Discussion of personal stories and their use in political narratives\\n\\n4. Destiny\\'s Travel Experiences:\\n   - Recounting of his trip to Israel and the West Bank\\n   - Observations about life in Palestinian areas and Israeli settlements\\n\\nSmaller Details:\\n\\n1. Technical issues with streaming setup and audio equipment\\n2. Brief mentions of various political figures (e.g., Netanyahu, Sharon)\\n3. Discussions about fashion and personal grooming\\n4. Commentary on other content creators and online drama\\n5. Mentions of upcoming events and commitments\\n6. Brief discussions about tax deductions for charitable work\\n7. References to specific YouTube videos and social media posts\\n8. Discussions about language complexity and definitions (e.g., defining \"woman\")\\n9. Brief mentions of topics like abortion and trans issues\\n10. Commentary on internet culture and the prevalence of certain types of content\\n11. Discussions about animal welfare and observations from markets in Israel/Palestine\\n12. Brief mentions of historical events like Operation Northwoods and the USS Liberty incident\\n13. References to specific books and academic theories about Middle Eastern culture\\n14. Discussions about the evolution of online communication platforms\\n15. Brief mentions of personal health and fitness routines\\n16. Commentary on various conspiracy theories related to the Israel-Palestine conflict\\n17. Brief discussions about US territories like Puerto Rico and St. Thomas\\n\\nDISCLAIMER: This is all AI generated and there are frequent errors.',\n",
       "  'video_id': 'CXFDaEbl9UI'},\n",
       " {'recap': 'Boogie2988\\'s crypto and health controversies, YouTube copyright abuse, MLK\\'s Birmingham letter analysis, Supreme Court cases\\nHere\\'s a summary of the main topics and smaller details from the provided transcripts, formatted with HTML for readability:\\n\\n<h2>Main Topics</h2>\\n\\n<h3>1. Boogie2988\\'s Cryptocurrency Controversy</h3>\\n<ul>\\n  <li>Boogie promoted a cryptocurrency/meme coin, receiving $10,000 for the promotion</li>\\n  <li>Claims he warned viewers not to invest, framing it as a joke</li>\\n  <li>Offered 2% ownership of coins, creating potential conflict of interest</li>\\n  <li>Destiny criticizes Boogie\\'s involvement and communication style</li>\\n</ul>\\n\\n<h3>2. YouTube Copyright Strike System Abuse</h3>\\n<ul>\\n  <li>Discussion of creators abusing copyright strikes to silence criticism</li>\\n  <li>False copyright strike against \"One Giant Onion\" initially blamed on Sniperwolf</li>\\n  <li>Revealed to be fraudulent, filed by an impersonator</li>\\n  <li>Calls for YouTube to improve their strike system</li>\\n</ul>\\n\\n<h3>3. Boogie2988\\'s Health Claims</h3>\\n<ul>\\n  <li>Boogie announces diagnosis of polycythemia vera (rare blood cancer)</li>\\n  <li>Destiny expresses strong skepticism, believes it\\'s secondary polycythemia</li>\\n  <li>Discussion of potential causes: obesity, sleep apnea, testosterone therapy</li>\\n  <li>Destiny accuses Boogie of lying about cancer diagnosis</li>\\n</ul>\\n\\n<h3>4. Martin Luther King Jr.\\'s \"Letter from Birmingham Jail\"</h3>\\n<ul>\\n  <li>Destiny reads and analyzes portions of the letter</li>\\n  <li>Discusses concepts of just vs. unjust laws</li>\\n  <li>Examines MLK\\'s criticism of white moderates and the church</li>\\n  <li>Compares MLK\\'s approach to modern discourse and protest tactics</li>\\n</ul>\\n\\n<h3>5. Supreme Court Cases and Legal Analysis</h3>\\n<ul>\\n  <li>Discussion of Brown v. Board of Education decision</li>\\n  <li>Analysis of the 14th Amendment and its interpretation</li>\\n  <li>Examination of Chevron deference doctrine and potential overturning</li>\\n</ul>\\n\\n<h2>Smaller Details and Brief Topics</h2>\\n\\n<ul>\\n  <li><strong>Leonardo DiCaprio\\'s acting roles:</strong> Discussion of similar character types across movies</li>\\n  <li><strong>Clothing care and laundry habits:</strong> Brief mention of wool socks and ironing</li>\\n  <li><strong>Media literacy and consumption:</strong> Challenges in maintaining nuanced views with increased content</li>\\n  <li><strong>Streaming vs. traditional media:</strong> Comparisons of content creation and audience engagement</li>\\n  <li><strong>Gladiator 2 trailer and historical accuracy in films:</strong> Brief discussion on historical basis of movies</li>\\n  <li><strong>Destiny\\'s streaming setup:</strong> Mention of multiple computers/monitors for content creation</li>\\n  <li><strong>Biden\\'s debate performance:</strong> Brief comment on stuttering and media narratives</li>\\n  <li><strong>Save the Vote Act:</strong> Discussion on voter registration and citizenship requirements</li>\\n  <li><strong>Welfare reform:</strong> Brief mention of TANF restrictions</li>\\n  <li><strong>STD testing:</strong> Destiny\\'s experience with regular testing</li>\\n  <li><strong>Nikki Haley and RNC:</strong> Brief news update about releasing delegates</li>\\n  <li><strong>Destiny\\'s Twitch ban:</strong> Mentioned in contrast to other streamers getting unbanned</li>\\n  <li><strong>Nick Mercs\\' ban:</strong> Brief mention for using a slur</li>\\n  <li><strong>Willie Mac show about Dr Disrespect and Slasher:</strong> Brief mention of new content</li>\\n</ul>\\n\\nDISCLAIMER: This is all AI generated and there are frequent errors.',\n",
       "  'video_id': 'Krhk1FmL7b0'},\n",
       " {'recap': \"Israel-Palestine solutions, Middle Eastern politics, US foreign policy critiques, economic system debates, pseudoscience debunking\\nHere's a comprehensive summary of the main topics and smaller details covered in the collection of summaries:\\n\\nMain Topics:\\n\\n1. Israel-Palestine Conflict:\\n- Discussions on the complexity of the conflict, including historical context, current issues, and potential solutions\\n- Debates on the two-state solution, settlements, and the status of Jerusalem\\n- Analysis of Palestinian leadership, including criticisms of Yasser Arafat and Mahmoud Abbas\\n- Exploration of Israeli politics and public opinion regarding the conflict\\n\\n2. Middle Eastern Politics and Culture:\\n- Detailed discussions on the sociological structure of Middle Eastern societies, particularly clan-based systems\\n- Analysis of Arab nationalism, Islamism, and the failure of pan-Arabism\\n- Examination of various Middle Eastern countries, including Egypt, Saudi Arabia, Jordan, and Syria\\n- Debates on the stability and governance of Middle Eastern states\\n\\n3. US Foreign Policy and International Relations:\\n- Critiques of US interventionism and discussions on imperialism\\n- Debates on the role of international financial institutions like the IMF and World Bank\\n- Analysis of China's Belt and Road Initiative compared to Western practices\\n\\n4. Economic Systems:\\n- Debates on capitalism vs. communism/socialism\\n- Discussions on the efficiency and morality of different economic systems\\n- Analysis of resource distribution and famines under different systems\\n\\n5. Scientific and Pseudoscientific Claims:\\n- Critiques of Terrence Howard's mathematical theories\\n- Discussions on quantum mechanics, the periodic table, and basic physics concepts\\n- Debates on the spread of misinformation through popular media platforms\\n\\nSmaller Details:\\n\\n1. Destiny's streaming career and content creation strategies\\n2. Discussions on various YouTube personalities and online debates\\n3. Analysis of debate techniques and the importance of fact-checking\\n4. Brief mentions of pop culture topics like movies, TV shows, and anime\\n5. Conversations about food, particularly Middle Eastern cuisine\\n6. Discussions on religious practices, including Jewish customs and Islamic concepts\\n7. Brief mentions of technical topics like computer storage and file management\\n8. Reflections on interview techniques and preparation\\n9. Debates on the use of language and translation in international contexts\\n10. Discussions on genetic issues related to marriage practices in some Middle Eastern countries\\n11. Brief mentions of historical events like World War II and the Cold War\\n12. Conversations about the importance of understanding different languages and cultures in diplomacy\\n13. Discussions on the role of religious authorities in Muslim countries\\n14. Brief mentions of specific political figures and their impacts on various conflicts\\n15. Reflections on the quality of academic discourse on Middle Eastern issues in Western countries\\n\\nDISCLAIMER: This is all AI generated and there are frequent errors.\",\n",
       "  'video_id': 'ZBcQEnCDgDg'}]"
      ]
     },
     "execution_count": 32,
     "metadata": {},
     "output_type": "execute_result"
    }
   ],
   "source": [
    "alL_relevant_recaps"
   ]
  },
  {
   "cell_type": "code",
   "execution_count": 18,
   "metadata": {},
   "outputs": [
    {
     "name": "stdout",
     "output_type": "stream",
     "text": [
      "-1\n",
      "-1\n",
      "-1\n"
     ]
    }
   ],
   "source": [
    "in_id=\n",
    "print(alL_relevant_recaps[in_id][\"recap\"].lower().find(\"malnutrition\"))\n",
    "print(alL_relevant_recaps[in_id][\"recap\"].lower().find(\"starvation\"))\n",
    "print(alL_relevant_recaps[in_id][\"recap\"].lower().find(\"starv\"))"
   ]
  },
  {
   "cell_type": "code",
   "execution_count": null,
   "metadata": {},
   "outputs": [],
   "source": [
    "print(alL_relevant_recaps[1][\"recap\"])"
   ]
  },
  {
   "cell_type": "code",
   "execution_count": null,
   "metadata": {},
   "outputs": [],
   "source": [
    "len(alL_relevant_recaps)"
   ]
  },
  {
   "cell_type": "code",
   "execution_count": null,
   "metadata": {},
   "outputs": [],
   "source": [
    "services.chatbot.StreamBot.allbot_response"
   ]
  },
  {
   "cell_type": "code",
   "execution_count": null,
   "metadata": {},
   "outputs": [],
   "source": [
    "# get a bit of information from all the streams\n",
    "all_recaps=await utils.get_all_recaps_fast()"
   ]
  },
  {
   "cell_type": "code",
   "execution_count": null,
   "metadata": {},
   "outputs": [],
   "source": [
    "recap_abbreviated_info=[]\n",
    "recap_abbreviated_info_str=\"\"\n",
    "for recap in all_recaps:\n",
    "    try:\n",
    "        summary=recap['recap'].split('\\n')[0][:120]\n",
    "        date=recap[\"video_characteristics\"][\"title\"].split(\"ate~\")[-1].strip()\n",
    "        recap_abbreviated_info.append({'video_id':recap['video_id'],'summary':summary, \"date\":date})\n",
    "\n",
    "        recap_abbreviated_info_str+=f\"Video ID: {recap['video_id']} - {date} - {summary}\\n\"\n",
    "    except:\n",
    "        pass\n",
    "print(len(recap_abbreviated_info_str))\n"
   ]
  },
  {
   "cell_type": "code",
   "execution_count": null,
   "metadata": {},
   "outputs": [],
   "source": [
    "print(recap_abbreviated_info_str)"
   ]
  },
  {
   "cell_type": "code",
   "execution_count": null,
   "metadata": {},
   "outputs": [],
   "source": [
    "len(all_recaps[0]['recap'])"
   ]
  }
 ],
 "metadata": {
  "kernelspec": {
   "display_name": "env",
   "language": "python",
   "name": "python3"
  },
  "language_info": {
   "codemirror_mode": {
    "name": "ipython",
    "version": 3
   },
   "file_extension": ".py",
   "mimetype": "text/x-python",
   "name": "python",
   "nbconvert_exporter": "python",
   "pygments_lexer": "ipython3",
   "version": "3.11.3"
  }
 },
 "nbformat": 4,
 "nbformat_minor": 2
}
