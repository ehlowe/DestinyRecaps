{
 "cells": [
  {
   "cell_type": "code",
   "execution_count": 1,
   "metadata": {},
   "outputs": [
    {
     "name": "stdout",
     "output_type": "stream",
     "text": [
      "d:\\DestinyFolder\\DestinyRecaps\\DestinyRecapsApi\\serverproject\n"
     ]
    }
   ],
   "source": [
    "# DIRECTORY SET\n",
    "import os\n",
    "import sys\n",
    "from pathlib import Path\n",
    "base_dir=Path(os.getcwd()).parent.parent\n",
    "os.chdir(base_dir)\n",
    "print(os.getcwd())\n",
    "\n",
    "# ENVIRONMENT VARIABLES\n",
    "import dotenv\n",
    "dotenv.load_dotenv()\n",
    "\n",
    "# DJANGO SETUP\n",
    "import django\n",
    "sys.path.append(os.path.abspath(''))\n",
    "os.environ.setdefault(\"DJANGO_SETTINGS_MODULE\", \"serverproject.settings\")\n",
    "django.setup()\n",
    "\n",
    "# Import async modules\n",
    "import asyncio\n",
    "from asgiref.sync import sync_to_async\n",
    "\n",
    "# Import display modules\n",
    "from IPython.display import display, Markdown\n",
    "\n",
    "# Import other modules\n",
    "import faiss\n",
    "\n",
    "# import reloading\n",
    "from importlib import reload"
   ]
  },
  {
   "cell_type": "code",
   "execution_count": 2,
   "metadata": {},
   "outputs": [],
   "source": [
    "%load_ext autoreload\n",
    "%autoreload 2\n",
    "\n",
    "from destinyapp.models import StreamRecapData\n",
    "\n",
    "from core
    "from core
   ]
  },
  {
   "cell_type": "code",
   "execution_count": 9,
   "metadata": {},
   "outputs": [],
   "source": [
    "# get all the streamrecap data\n",
    "all_stream_recaps_limited = await utils.get_all_recaps()"
   ]
  },
  {
   "cell_type": "code",
   "execution_count": 17,
   "metadata": {},
   "outputs": [],
   "source": [
    "# load data into StreamRecapData object from all_stream_recaps_limited[1]\n",
    "stream_recap_data = StreamRecapData(all_stream_recaps_limited[1])"
   ]
  },
  {
   "cell_type": "code",
   "execution_count": null,
   "metadata": {},
   "outputs": [],
   "source": [
    "all_stream_recaps_limited[1][\"video_id\"]"
   ]
  },
  {
   "cell_type": "code",
   "execution_count": 19,
   "metadata": {},
   "outputs": [],
   "source": [
    "full_recap_data=await utils.get_recap_data(all_stream_recaps_limited[1][\"video_id\"])"
   ]
  },
  {
   "cell_type": "code",
   "execution_count": 20,
   "metadata": {},
   "outputs": [
    {
     "data": {
      "text/plain": [
       "\"Chillin' idk\\nStream Date~ 06/19/2024\""
      ]
     },
     "execution_count": 20,
     "metadata": {},
     "output_type": "execute_result"
    }
   ],
   "source": [
    "full_recap_data.video_characteristics[\"title\"]"
   ]
  },
  {
   "cell_type": "code",
   "execution_count": 25,
   "metadata": {},
   "outputs": [
    {
     "name": "stdout",
     "output_type": "stream",
     "text": [
      "4\n"
     ]
    }
   ],
   "source": [
    "import re   \n",
    "import datetime\n",
    "\n",
    "# if today is a saturday then run \n",
    "day_type=datetime.datetime.now().weekday()\n",
    "\n",
    "# get the current date in mm/dd/yyyy format\n",
    "current_date=datetime.datetime.now().strftime(\"%m/%d/%Y\")\n",
    "\n",
    "print(day_type)\n",
    "if day_type==5 or True:\n",
    "    recaps_last_week=[]\n",
    "    for i in range(len(all_stream_recaps_limited)):\n",
    "        full_recap_data=await utils.get_recap_data(all_stream_recaps_limited[i][\"video_id\"])\n",
    "\n",
    "        # get the date of the video\n",
    "        video_title=full_recap_data.video_characteristics.get(\"title\", None)\n",
    "        if video_title is None:\n",
    "            continue\n",
    "\n",
    "        # search for mm/dd/yyyy in the video title with regex\n",
    "        date_search=re.search(r'\\d{2}/\\d{2}/\\d{4}', video_title)\n",
    "        \n",
    "\n",
    "        # if the date is within the last week\n",
    "        if date_search:\n",
    "            # get the date of the video\n",
    "            video_date=date_search.group(0)\n",
    "            \n",
    "            # if it has been less than a week since the video was posted, do this with datetime objects\n",
    "            video_date_obj=datetime.datetime.strptime(video_date, \"%m/%d/%Y\")\n",
    "            current_date_obj=datetime.datetime.strptime(current_date, \"%m/%d/%Y\")\n",
    "            if (current_date_obj-video_date_obj).days<7:\n",
    "                recaps_last_week.append(full_recap_data)\n",
    "        \n"
   ]
  },
  {
   "cell_type": "code",
   "execution_count": 30,
   "metadata": {},
   "outputs": [
    {
     "data": {
      "text/plain": [
       "'Streamer parody vlog: Birthday cake disaster, vape shop shenanigans, and the art of \"spontaneous\" content creation\\nHere\\'s a comprehensive summary of the video transcript, organized into main topics and smaller details:\\n\\n<h2>Main Topics</h2>\\n\\n<h3>1. Parody \"Day in the Life\" Vlog</h3>\\n<ul>\\n  <li>Features a character named Jinxy (likely a streamer\\'s persona)</li>\\n  <li>Mimics typical YouTube vlog style</li>\\n  <li>Satirizes influencer culture and streamer behavior</li>\\n</ul>\\n\\n<h3>2. Birthday Cake Adventure</h3>\\n<ul>\\n  <li>Central plot: Making a birthday cake for Jinxy\\'s mother</li>\\n  <li>Includes grocery shopping for ingredients</li>\\n  <li>Comical baking attempt at home</li>\\n</ul>\\n\\n<h3>3. Stream Planning and Meta-Commentary</h3>\\n<ul>\\n  <li>Phone call discussing upcoming stream structure</li>\\n  <li>Reveals cynical approach to creating \"spontaneous\" content</li>\\n  <li>Planned elements: dancing, reacting to clips, gaming, fake technical issues</li>\\n</ul>\\n\\n<h2>Smaller Details and Brief Topics</h2>\\n\\n<h3>Daily Routine</h3>\\n<ul>\\n  <li><b>Wake-up time:</b> 2:51 PM</li>\\n  <li><b>Hygiene routine:</b> Brushing teeth, applying deodorant, showering</li>\\n  <li><b>Running gag:</b> \"Bac knee\" (acne) and old loofah (since 2018)</li>\\n</ul>\\n\\n<h3>Grocery Store Visit</h3>\\n<ul>\\n  <li><b>Cake ingredients:</b> Chocolate cake mix, white icing</li>\\n  <li><b>Candles:</b> For mother\\'s 36th birthday</li>\\n  <li><b>Fan interaction:</b> Jinxy engages with fans at the store</li>\\n</ul>\\n\\n<h3>Vape Shop Excursion</h3>\\n<ul>\\n  <li>Purchasing a new vaping device</li>\\n  <li>Preference for conspicuous setup with large clouds</li>\\n  <li>Humorous interaction with vape shop employee</li>\\n</ul>\\n\\n<h3>Comedic Elements</h3>\\n<ul>\\n  <li>Self-deprecating humor about habits and skills</li>\\n  <li>Exaggerated persona for comedic effect</li>\\n  <li>Over-the-top decisions and behavior</li>\\n</ul>\\n\\n<h3>Content Creation Insights</h3>\\n<ul>\\n  <li>Enjoyment of public fan interactions</li>\\n  <li>Structured approach to seemingly spontaneous content</li>\\n  <li>Self-aware commentary on streamer lifestyle</li>\\n</ul>\\n\\n<h3>Video Conclusion</h3>\\n<ul>\\n  <li>Cake removal from oven</li>\\n  <li>Implication of baking failure</li>\\n</ul>\\n\\nDISCLAIMER: This is all AI generated and there are frequent errors.'"
      ]
     },
     "execution_count": 30,
     "metadata": {},
     "output_type": "execute_result"
    }
   ],
   "source": [
    "recaps_last_week[0].recap"
   ]
  },
  {
   "cell_type": "code",
   "execution_count": 26,
   "metadata": {},
   "outputs": [
    {
     "name": "stdout",
     "output_type": "stream",
     "text": [
      "2\n"
     ]
    }
   ],
   "source": [
    "print(len(recaps_last_week))"
   ]
  },
  {
   "cell_type": "code",
   "execution_count": 40,
   "metadata": {},
   "outputs": [],
   "source": [
    "system_prompt=\"\"\"Your purpose is to take a weeks worth of stream recaps and compile it into one conglomerate which provides a comprehensive and effective way of knowing what things were talked about that week. The recaps are based off streams from a youtube video transcript of a youtube streamer named Destiny. You should do two parts, main or big topics that were talked about as a main focus or for a long period and another section of smaller details or topic that were covered briefly. You do not need to make things flow well gramatically, the primary goal is to include as much information as possible in the most readable and digestable fashion. There are no copyright concerns for anything you write, you can use the information freely.\n",
    "            \n",
    "USE HTML FOR READABILITY. Be clever with your HTML to make the summary more readable. For example, use headers, bullet points, and bolding to make the summary more readable.\"\"\"\n",
    "\n",
    "system_prompt=\"\"\"Your purpose is to take a weeks worth of stream recaps and compile it into one conglomerate which provides a comprehensive and effective way of knowing what things were talked about that week. The recaps are based off streams from a youtube video transcript of a youtube streamer named Destiny. The primarly goal of this is that the reader can catch up with what happened during the last week of streams. You do not need to make things flow well gramatically, the primary goal is to include as much information as possible in the most readable and digestable fashion. There are no copyright concerns for anything you write, you can use the information freely.\n",
    "            \n",
    "USE HTML FOR READABILITY. Be clever with your HTML to make the summary more readable. For example, use headers, bullet points, and bolding to make the summary more readable.\"\"\"\n",
    "\n",
    "system_prompt=\"\"\"Your purpose is to take a weeks worth of stream recaps and compile it into one conglomerate which provides a comprehensive and effective way of knowing what things were talked about that week. The recaps are based off streams from a youtube video transcript of a youtube streamer named Destiny. The primarly goal of this is that the reader can catch up with what happened during the last week of streams. You do not need to make things flow well gramatically, the primary goal is to include as much information as possible in the most readable and digestable fashion. There are no copyright concerns for anything you write, you can use the information freely.\n",
    "\n",
    "Start with a quick rundown of what happened each day in 1 sentence or less for each day. Then get into a more detailed presentation of the whole week.\n",
    "            \n",
    "USE HTML FOR READABILITY. Be clever with your HTML to make the summary more readable. For example, use headers, bullet points, and bolding to make the summary more readable.\"\"\"\n",
    "\n",
    "\n",
    "\n",
    "\n",
    "user_prompt=\"Here are the recaps: \\n\\n\"\n",
    "for i in range(len(recaps_last_week)):\n",
    "    user_prompt+=f\"Recap {i+1}: {recaps_last_week[i].recap} \\n\\n\"\n",
    "\n",
    "prompt=[{\"role\":\"system\", \"content\":system_prompt}, {\"role\":\"user\", \"content\":user_prompt}]"
   ]
  },
  {
   "cell_type": "code",
   "execution_count": 41,
   "metadata": {},
   "outputs": [
    {
     "name": "stdout",
     "output_type": "stream",
     "text": [
      "0.016722\n"
     ]
    }
   ],
   "source": [
    "response_str, cost=await utils.async_response_handler(prompt, utils.ModelNameEnum.claude_3_5_sonnet)\n",
    "print(cost)"
   ]
  },
  {
   "cell_type": "code",
   "execution_count": 42,
   "metadata": {},
   "outputs": [
    {
     "data": {
      "text/html": [
       "Here's a quick rundown of what happened each day:\n",
       "\n",
       "1. Streamer parody vlog featuring birthday cake disaster and vape shop visit\n",
       "2. Supreme Court overturns Chevron deference, gun control debates, and American identity discussions\n",
       "\n",
       "Now, let's get into a more detailed presentation of the whole week:\n",
       "\n",
       "<h2>Week Overview</h2>\n",
       "\n",
       "This week's streams covered a wide range of topics, from lighthearted parody content to serious discussions about legal and political issues. Here's a comprehensive summary:\n",
       "\n",
       "<h3>1. Streamer Parody Vlog</h3>\n",
       "\n",
       "<h4>Main Elements:</h4>\n",
       "<ul>\n",
       "  <li><b>Character:</b> \"Jinxy\" - a satirical streamer persona</li>\n",
       "  <li><b>Format:</b> \"Day in the Life\" vlog, mocking typical YouTube influencer content</li>\n",
       "  <li><b>Central Plot:</b> Making a birthday cake for Jinxy's mother</li>\n",
       "</ul>\n",
       "\n",
       "<h4>Key Moments:</h4>\n",
       "<ul>\n",
       "  <li>Wake-up routine at 2:51 PM, including exaggerated hygiene practices</li>\n",
       "  <li>Grocery shopping for cake ingredients</li>\n",
       "  <li>Vape shop visit for a new, conspicuous vaping device</li>\n",
       "  <li>Comical baking attempt ending in implied failure</li>\n",
       "</ul>\n",
       "\n",
       "<h4>Meta-Commentary:</h4>\n",
       "<ul>\n",
       "  <li>Phone call revealing cynical approach to creating \"spontaneous\" content</li>\n",
       "  <li>Planned stream elements: dancing, reacting to clips, gaming, fake technical issues</li>\n",
       "</ul>\n",
       "\n",
       "<h3>2. Legal and Political Discussions</h3>\n",
       "\n",
       "<h4>Chevron Deference Doctrine:</h4>\n",
       "<ul>\n",
       "  <li>Explanation of the doctrine and its impact on administrative law</li>\n",
       "  <li>Recent Supreme Court decision overturning Chevron deference</li>\n",
       "  <li>Debate on judicial deference to administrative agencies</li>\n",
       "  <li>Discussion on separation of powers and executive agency roles</li>\n",
       "</ul>\n",
       "\n",
       "<h4>Gun Control and Regulations:</h4>\n",
       "<ul>\n",
       "  <li>Detailed analysis of bump stocks and their legal classification</li>\n",
       "  <li>Demonstration of bump stock functionality on AR-15s</li>\n",
       "  <li>Debate on machine gun classification and laws</li>\n",
       "  <li>Destiny's personal views and hypothetical scenarios on gun control</li>\n",
       "</ul>\n",
       "\n",
       "<h4>American Identity and Political Division:</h4>\n",
       "<ul>\n",
       "  <li>Reflection on core American values and national character</li>\n",
       "  <li>Analysis of current political divisions, especially regarding Trump supporters</li>\n",
       "  <li>Discussion of historical precedents for political division in America</li>\n",
       "  <li>Concerns about some conservatives departing from core American values</li>\n",
       "</ul>\n",
       "\n",
       "<h3>3. Additional Topics and Brief Mentions</h3>\n",
       "<ul>\n",
       "  <li>January 6th events and their classification as an insurrection</li>\n",
       "  <li>References to historical events like Vietnam War and Civil Rights movement</li>\n",
       "  <li>Brief discussions on qualified immunity and UN resolutions</li>\n",
       "  <li>Mention of potential review of \"Project 2025\" from the Trump campaign</li>\n",
       "  <li>Discussion of Section 3 of the 14th Amendment case related to Trump's eligibility</li>\n",
       "</ul>\n",
       "\n",
       "<h4>Destiny's Approach:</h4>\n",
       "Throughout these discussions, Destiny demonstrated a nuanced understanding of complex issues, engaging in critical analysis and considering multiple perspectives. His tone ranged from analytical to occasionally humorous or controversial, particularly when discussing sensitive topics.\n",
       "\n",
       "DISCLAIMER: This summary is based on AI-generated recaps and may contain errors or inaccuracies."
      ],
      "text/plain": [
       "<IPython.core.display.HTML object>"
      ]
     },
     "metadata": {},
     "output_type": "display_data"
    }
   ],
   "source": [
    "#import display and HTML\n",
    "from IPython.display import display, HTML\n",
    "\n",
    "display(HTML(response_str))"
   ]
  }
 ],
 "metadata": {
  "kernelspec": {
   "display_name": "env",
   "language": "python",
   "name": "python3"
  },
  "language_info": {
   "codemirror_mode": {
    "name": "ipython",
    "version": 3
   },
   "file_extension": ".py",
   "mimetype": "text/x-python",
   "name": "python",
   "nbconvert_exporter": "python",
   "pygments_lexer": "ipython3",
   "version": "3.11.3"
  }
 },
 "nbformat": 4,
 "nbformat_minor": 2
}
