{
 "cells": [
  {
   "cell_type": "code",
   "execution_count": null,
   "metadata": {},
   "outputs": [],
   "source": [
    "import json\n",
    "import matplotlib.pyplot as plt\n",
    "from matplotlib.patches import Rectangle, Ellipse\n",
    "import numpy as np\n",
    "\n",
    "# Load the data\n",
    "with open('plot_data.json', 'r') as f:\n",
    "    plot_data = json.load(f)\n",
    "\n",
    "# Set up the figure and axis\n",
    "fig, ax = plt.subplots(figsize=(10, 10))\n",
    "ax.set_xlim(0, 1)\n",
    "ax.set_ylim(0, 1)\n",
    "\n",
    "# Set background color\n",
    "bg_color = f\"#{plot_data['plot_parameters']['background_color']:06x}\"\n",
    "fig.patch.set_facecolor(bg_color)\n",
    "ax.set_facecolor(bg_color)\n",
    "\n",
    "# Draw segments (bars)\n",
    "bar_height = plot_data['plot_parameters']['bar_height_setting']\n",
    "for segment in plot_data['segments']:\n",
    "    rect = Rectangle((segment['x'] - segment['width']/2, 0.8),\n",
    "                     segment['width'], bar_height,\n",
    "                     facecolor=segment['color'])\n",
    "    ax.add_patch(rect)\n",
    "\n",
    "# Draw abstractions (ellipses) and connection lines\n",
    "for category, abstraction in plot_data['abstractions'].items():\n",
    "    if abstraction and all(k in abstraction for k in ('x', 'y', 'size', 'color')):\n",
    "        # Draw ellipse\n",
    "        ellipse = Ellipse((abstraction['x'], abstraction['y']),\n",
    "                          0.04 + abstraction['size']/0.9,\n",
    "                          0.04 + abstraction['size'],\n",
    "                          facecolor=abstraction['color'])\n",
    "        ax.add_patch(ellipse)\n",
    "        \n",
    "        # Add text\n",
    "        ax.text(abstraction['x'], abstraction['y'], category,\n",
    "                ha='center', va='center',\n",
    "                wrap=True, fontsize=8*abstraction['size'])\n",
    "        \n",
    "        # Draw connection lines\n",
    "        for segment in plot_data['segments']:\n",
    "            if segment['category'] == category:\n",
    "                ax.plot([segment['x'], abstraction['x']],\n",
    "                        [0.802, abstraction['y']],\n",
    "                        color=segment['color'],\n",
    "                        linewidth=2*segment['width'])\n",
    "\n",
    "# Remove axes\n",
    "ax.axis('off')\n",
    "\n",
    "# Save the figure\n",
    "plt.savefig('data_visualization.png', dpi=300, bbox_inches='tight')\n",
    "plt.close()\n",
    "\n",
    "print(\"Visualization saved as 'data_visualization.png'\")"
   ]
  },
  {
   "cell_type": "code",
   "execution_count": 7,
   "metadata": {},
   "outputs": [],
   "source": [
    "from selenium import webdriver\n",
    "from selenium.webdriver.chrome.service import Service\n",
    "from webdriver_manager.chrome import ChromeDriverManager\n",
    "from selenium.webdriver.common.by import By\n",
    "from selenium.webdriver.chrome.options import Options\n",
    "import time\n",
    "import os\n",
    "import asyncio"
   ]
  },
  {
   "cell_type": "code",
   "execution_count": 10,
   "metadata": {},
   "outputs": [
    {
     "name": "stdout",
     "output_type": "stream",
     "text": [
      "Driver closed\n"
     ]
    }
   ],
   "source": [
    "options = Options()\n",
    "options.add_argument('--headless')\n",
    "options.add_argument('--disable-gpu')\n",
    "options.add_argument('--no-sandbox')\n",
    "\n",
    "# Create a Service instance with ChromeDriverManager\n",
    "service = Service(ChromeDriverManager().install())\n",
    "if \"THIRD_PARTY_NOTICES\" in service.path:\n",
    "    service = Service(service.path.replace(\"THIRD_PARTY_NOTICES.chromedriver\", \"chromedriver.exe\"))\n",
    "\n",
    "# Initialize the Chrome WebDriver with the specified service and options\n",
    "driver = webdriver.Chrome(service=service, options=options)\n",
    "\n",
    "driver.implicitly_wait(10)\n",
    "\n",
    "try:\n",
    "    # Go to the page\n",
    "    # driver.get(\"https://vyneer.me/vods/\")\n",
    "\n",
    "    driver.get(\"http://localhost:5173/details?video_id=OqVH_MTBQ6k\")\n",
    "\n",
    "    await asyncio.sleep(5)\n",
    "\n",
    "    # Now the page is fully loaded, including content loaded via JavaScript \n",
    "    html_content = driver.page_source\n",
    "\n",
    "\n",
    "\n",
    "    # Get the image\n",
    "    svg_element = driver.find_element(By.CSS_SELECTOR, \"svg\")\n",
    "\n",
    "    svg_element.screenshot(\"recap_image.png\")\n",
    "\n",
    "\n",
    "\n",
    "\n",
    "\n",
    "\n",
    "    # Close the browser\n",
    "    driver.quit()\n",
    "    print(\"Driver closed\")\n",
    "\n",
    "except Exception as e:\n",
    "    driver.quit()\n",
    "    print(\"Driver closed\")"
   ]
  },
  {
   "cell_type": "code",
   "execution_count": null,
   "metadata": {},
   "outputs": [],
   "source": [
    "# Initialize the Chrome WebDriver with the specified service and options\n",
    "driver = webdriver.Chrome(service=service, options=options)\n",
    "\n",
    "driver.implicitly_wait(10)\n",
    "\n",
    "# Go to the page\n",
    "# driver.get(\"https://vyneer.me/vods/\")\n",
    "\n",
    "driver.get(\"http://localhost:5173/details?video_id=OqVH_MTBQ6k\")\n",
    "\n",
    "await asyncio.sleep(5)\n",
    "\n",
    "# Now the page is fully loaded, including content loaded via JavaScript \n",
    "html_content = driver.page_source\n",
    "\n",
    "\n",
    "\n",
    "# Get the image\n",
    "svg_element = driver.find_element(By.CSS_SELECTOR, \"svg\")\n",
    "\n",
    "# svg_element.screenshot(\"recap_image.png\")"
   ]
  },
  {
   "cell_type": "code",
   "execution_count": null,
   "metadata": {},
   "outputs": [],
   "source": [
    "# # Locate the SVG element\n",
    "# svg_element = driver.find_element(By.CSS_SELECTOR, \"svg\")\n",
    "\n",
    "# # Get the bounding box of the SVG element\n",
    "# location = svg_element.location\n",
    "# size = svg_element.size\n",
    "# left = location['x']\n",
    "# top = location['y']\n",
    "# width = size['width']\n",
    "# height = size['height']\n",
    "\n",
    "# # Capture a full-page screenshot\n",
    "# driver.save_screenshot(\"full_page.png\")\n",
    "\n",
    "# # Open the full-page screenshot and crop it to the SVG element\n",
    "# from PIL import Image\n",
    "\n",
    "# full_page_screenshot = Image.open(\"full_page.png\")\n",
    "# svg_screenshot = full_page_screenshot.crop((left, top, left + width, top + height))\n",
    "# svg_screenshot.save(\"svg_image.png\")"
   ]
  },
  {
   "cell_type": "code",
   "execution_count": 11,
   "metadata": {},
   "outputs": [],
   "source": [
    "from svgutils.transform import fromstring"
   ]
  },
  {
   "cell_type": "code",
   "execution_count": 13,
   "metadata": {},
   "outputs": [
    {
     "ename": "AttributeError",
     "evalue": "'bytes' object has no attribute 'encode'",
     "output_type": "error",
     "traceback": [
      "\u001b[1;31m---------------------------------------------------------------------------\u001b[0m",
      "\u001b[1;31mAttributeError\u001b[0m                            Traceback (most recent call last)",
      "Cell \u001b[1;32mIn[13], line 26\u001b[0m\n\u001b[0;32m     23\u001b[0m     file\u001b[38;5;241m.\u001b[39mwrite(svg_markup)\n\u001b[0;32m     25\u001b[0m \u001b[38;5;66;03m# Convert SVG to PNG\u001b[39;00m\n\u001b[1;32m---> 26\u001b[0m svg_data \u001b[38;5;241m=\u001b[39m \u001b[43mfromstring\u001b[49m\u001b[43m(\u001b[49m\u001b[43msvg_markup\u001b[49m\u001b[38;5;241;43m.\u001b[39;49m\u001b[43mencode\u001b[49m\u001b[43m(\u001b[49m\u001b[38;5;124;43m'\u001b[39;49m\u001b[38;5;124;43mutf-8\u001b[39;49m\u001b[38;5;124;43m'\u001b[39;49m\u001b[43m)\u001b[49m\u001b[43m)\u001b[49m\n\u001b[0;32m     27\u001b[0m svg_data\u001b[38;5;241m.\u001b[39msaveas(\u001b[38;5;124m\"\u001b[39m\u001b[38;5;124mimage.png\u001b[39m\u001b[38;5;124m\"\u001b[39m)\n",
      "File \u001b[1;32md:\\DestinyFolder\\env\\Lib\\site-packages\\svgutils\\transform.py:375\u001b[0m, in \u001b[0;36mfromstring\u001b[1;34m(text)\u001b[0m\n\u001b[0;32m    361\u001b[0m \u001b[38;5;250m\u001b[39m\u001b[38;5;124;03m\"\"\"Create a SVG figure from a string.\u001b[39;00m\n\u001b[0;32m    362\u001b[0m \n\u001b[0;32m    363\u001b[0m \u001b[38;5;124;03mParameters\u001b[39;00m\n\u001b[1;32m   (...)\u001b[0m\n\u001b[0;32m    372\u001b[0m \u001b[38;5;124;03m    content.\u001b[39;00m\n\u001b[0;32m    373\u001b[0m \u001b[38;5;124;03m\"\"\"\u001b[39;00m\n\u001b[0;32m    374\u001b[0m fig \u001b[38;5;241m=\u001b[39m SVGFigure()\n\u001b[1;32m--> 375\u001b[0m svg \u001b[38;5;241m=\u001b[39m etree\u001b[38;5;241m.\u001b[39mfromstring(\u001b[43mtext\u001b[49m\u001b[38;5;241;43m.\u001b[39;49m\u001b[43mencode\u001b[49m(), parser\u001b[38;5;241m=\u001b[39metree\u001b[38;5;241m.\u001b[39mXMLParser(huge_tree\u001b[38;5;241m=\u001b[39m\u001b[38;5;28;01mTrue\u001b[39;00m))\n\u001b[0;32m    377\u001b[0m fig\u001b[38;5;241m.\u001b[39mroot \u001b[38;5;241m=\u001b[39m svg\n\u001b[0;32m    379\u001b[0m \u001b[38;5;28;01mreturn\u001b[39;00m fig\n",
      "\u001b[1;31mAttributeError\u001b[0m: 'bytes' object has no attribute 'encode'"
     ]
    }
   ],
   "source": [
    "driver = webdriver.Chrome(service=service, options=options)\n",
    "\n",
    "driver.implicitly_wait(10)\n",
    "\n",
    "# Go to the page\n",
    "# driver.get(\"https://vyneer.me/vods/\")\n",
    "\n",
    "driver.get(\"http://localhost:5173/details?video_id=OqVH_MTBQ6k\")\n",
    "\n",
    "await asyncio.sleep(5)\n",
    "\n",
    "# Now the page is fully loaded, including content loaded via JavaScript \n",
    "html_content = driver.page_source\n"
   ]
  },
  {
   "cell_type": "code",
   "execution_count": 14,
   "metadata": {},
   "outputs": [
    {
     "ename": "AttributeError",
     "evalue": "'bytes' object has no attribute 'encode'",
     "output_type": "error",
     "traceback": [
      "\u001b[1;31m---------------------------------------------------------------------------\u001b[0m",
      "\u001b[1;31mAttributeError\u001b[0m                            Traceback (most recent call last)",
      "Cell \u001b[1;32mIn[14], line 12\u001b[0m\n\u001b[0;32m      9\u001b[0m     file\u001b[38;5;241m.\u001b[39mwrite(svg_markup)\n\u001b[0;32m     11\u001b[0m \u001b[38;5;66;03m# Convert SVG to PNG\u001b[39;00m\n\u001b[1;32m---> 12\u001b[0m svg_data \u001b[38;5;241m=\u001b[39m \u001b[43mfromstring\u001b[49m\u001b[43m(\u001b[49m\u001b[43msvg_markup\u001b[49m\u001b[38;5;241;43m.\u001b[39;49m\u001b[43mencode\u001b[49m\u001b[43m(\u001b[49m\u001b[38;5;124;43m'\u001b[39;49m\u001b[38;5;124;43mutf-8\u001b[39;49m\u001b[38;5;124;43m'\u001b[39;49m\u001b[43m)\u001b[49m\u001b[43m)\u001b[49m\n\u001b[0;32m     13\u001b[0m svg_data\u001b[38;5;241m.\u001b[39msaveas(\u001b[38;5;124m\"\u001b[39m\u001b[38;5;124mimage.png\u001b[39m\u001b[38;5;124m\"\u001b[39m)\n",
      "File \u001b[1;32md:\\DestinyFolder\\env\\Lib\\site-packages\\svgutils\\transform.py:375\u001b[0m, in \u001b[0;36mfromstring\u001b[1;34m(text)\u001b[0m\n\u001b[0;32m    361\u001b[0m \u001b[38;5;250m\u001b[39m\u001b[38;5;124;03m\"\"\"Create a SVG figure from a string.\u001b[39;00m\n\u001b[0;32m    362\u001b[0m \n\u001b[0;32m    363\u001b[0m \u001b[38;5;124;03mParameters\u001b[39;00m\n\u001b[1;32m   (...)\u001b[0m\n\u001b[0;32m    372\u001b[0m \u001b[38;5;124;03m    content.\u001b[39;00m\n\u001b[0;32m    373\u001b[0m \u001b[38;5;124;03m\"\"\"\u001b[39;00m\n\u001b[0;32m    374\u001b[0m fig \u001b[38;5;241m=\u001b[39m SVGFigure()\n\u001b[1;32m--> 375\u001b[0m svg \u001b[38;5;241m=\u001b[39m etree\u001b[38;5;241m.\u001b[39mfromstring(\u001b[43mtext\u001b[49m\u001b[38;5;241;43m.\u001b[39;49m\u001b[43mencode\u001b[49m(), parser\u001b[38;5;241m=\u001b[39metree\u001b[38;5;241m.\u001b[39mXMLParser(huge_tree\u001b[38;5;241m=\u001b[39m\u001b[38;5;28;01mTrue\u001b[39;00m))\n\u001b[0;32m    377\u001b[0m fig\u001b[38;5;241m.\u001b[39mroot \u001b[38;5;241m=\u001b[39m svg\n\u001b[0;32m    379\u001b[0m \u001b[38;5;28;01mreturn\u001b[39;00m fig\n",
      "\u001b[1;31mAttributeError\u001b[0m: 'bytes' object has no attribute 'encode'"
     ]
    }
   ],
   "source": [
    "# Locate the SVG element\n",
    "svg_element = driver.find_element(By.CSS_SELECTOR, \"svg\")\n",
    "\n",
    "# Extract the SVG markup\n",
    "svg_markup = svg_element.get_attribute('outerHTML')\n",
    "\n",
    "# Save the SVG markup to a file\n",
    "with open(\"image.svg\", \"w\") as file:\n",
    "    file.write(svg_markup)\n",
    "\n",
    "# Convert SVG to PNG\n",
    "svg_data = fromstring(svg_markup.encode('utf-8'))\n",
    "svg_data.saveas(\"image.png\")"
   ]
  },
  {
   "cell_type": "code",
   "execution_count": 15,
   "metadata": {},
   "outputs": [
    {
     "ename": "OSError",
     "evalue": "no library called \"cairo-2\" was found\nno library called \"cairo\" was found\nno library called \"libcairo-2\" was found\ncannot load library 'libcairo.so.2': error 0x7e.  Additionally, ctypes.util.find_library() did not manage to locate a library called 'libcairo.so.2'\ncannot load library 'libcairo.2.dylib': error 0x7e.  Additionally, ctypes.util.find_library() did not manage to locate a library called 'libcairo.2.dylib'\ncannot load library 'libcairo-2.dll': error 0x7e.  Additionally, ctypes.util.find_library() did not manage to locate a library called 'libcairo-2.dll'",
     "output_type": "error",
     "traceback": [
      "\u001b[1;31m---------------------------------------------------------------------------\u001b[0m",
      "\u001b[1;31mOSError\u001b[0m                                   Traceback (most recent call last)",
      "Cell \u001b[1;32mIn[15], line 1\u001b[0m\n\u001b[1;32m----> 1\u001b[0m \u001b[38;5;28;01mimport\u001b[39;00m \u001b[38;5;21;01mcairosvg\u001b[39;00m\n",
      "File \u001b[1;32md:\\DestinyFolder\\env\\Lib\\site-packages\\cairosvg\\__init__.py:26\u001b[0m\n\u001b[0;32m     22\u001b[0m VERSION \u001b[38;5;241m=\u001b[39m __version__ \u001b[38;5;241m=\u001b[39m (ROOT \u001b[38;5;241m/\u001b[39m \u001b[38;5;124m'\u001b[39m\u001b[38;5;124mVERSION\u001b[39m\u001b[38;5;124m'\u001b[39m)\u001b[38;5;241m.\u001b[39mread_text()\u001b[38;5;241m.\u001b[39mstrip()\n\u001b[0;32m     25\u001b[0m \u001b[38;5;66;03m# VERSION is used in the \"url\" module imported by \"surface\"\u001b[39;00m\n\u001b[1;32m---> 26\u001b[0m \u001b[38;5;28;01mfrom\u001b[39;00m \u001b[38;5;21;01m.\u001b[39;00m \u001b[38;5;28;01mimport\u001b[39;00m surface  \u001b[38;5;66;03m# noqa isort:skip\u001b[39;00m\n\u001b[0;32m     29\u001b[0m SURFACES \u001b[38;5;241m=\u001b[39m {\n\u001b[0;32m     30\u001b[0m     \u001b[38;5;124m'\u001b[39m\u001b[38;5;124mPDF\u001b[39m\u001b[38;5;124m'\u001b[39m: surface\u001b[38;5;241m.\u001b[39mPDFSurface,\n\u001b[0;32m     31\u001b[0m     \u001b[38;5;124m'\u001b[39m\u001b[38;5;124mPNG\u001b[39m\u001b[38;5;124m'\u001b[39m: surface\u001b[38;5;241m.\u001b[39mPNGSurface,\n\u001b[1;32m   (...)\u001b[0m\n\u001b[0;32m     34\u001b[0m     \u001b[38;5;124m'\u001b[39m\u001b[38;5;124mSVG\u001b[39m\u001b[38;5;124m'\u001b[39m: surface\u001b[38;5;241m.\u001b[39mSVGSurface,\n\u001b[0;32m     35\u001b[0m }\n\u001b[0;32m     38\u001b[0m \u001b[38;5;28;01mdef\u001b[39;00m \u001b[38;5;21msvg2svg\u001b[39m(bytestring\u001b[38;5;241m=\u001b[39m\u001b[38;5;28;01mNone\u001b[39;00m, \u001b[38;5;241m*\u001b[39m, file_obj\u001b[38;5;241m=\u001b[39m\u001b[38;5;28;01mNone\u001b[39;00m, url\u001b[38;5;241m=\u001b[39m\u001b[38;5;28;01mNone\u001b[39;00m, dpi\u001b[38;5;241m=\u001b[39m\u001b[38;5;241m96\u001b[39m,\n\u001b[0;32m     39\u001b[0m             parent_width\u001b[38;5;241m=\u001b[39m\u001b[38;5;28;01mNone\u001b[39;00m, parent_height\u001b[38;5;241m=\u001b[39m\u001b[38;5;28;01mNone\u001b[39;00m, scale\u001b[38;5;241m=\u001b[39m\u001b[38;5;241m1\u001b[39m, unsafe\u001b[38;5;241m=\u001b[39m\u001b[38;5;28;01mFalse\u001b[39;00m,\n\u001b[0;32m     40\u001b[0m             background_color\u001b[38;5;241m=\u001b[39m\u001b[38;5;28;01mNone\u001b[39;00m, negate_colors\u001b[38;5;241m=\u001b[39m\u001b[38;5;28;01mFalse\u001b[39;00m, invert_images\u001b[38;5;241m=\u001b[39m\u001b[38;5;28;01mFalse\u001b[39;00m,\n\u001b[0;32m     41\u001b[0m             write_to\u001b[38;5;241m=\u001b[39m\u001b[38;5;28;01mNone\u001b[39;00m, output_width\u001b[38;5;241m=\u001b[39m\u001b[38;5;28;01mNone\u001b[39;00m, output_height\u001b[38;5;241m=\u001b[39m\u001b[38;5;28;01mNone\u001b[39;00m):\n",
      "File \u001b[1;32md:\\DestinyFolder\\env\\Lib\\site-packages\\cairosvg\\surface.py:9\u001b[0m\n\u001b[0;32m      6\u001b[0m \u001b[38;5;28;01mimport\u001b[39;00m \u001b[38;5;21;01mcopy\u001b[39;00m\n\u001b[0;32m      7\u001b[0m \u001b[38;5;28;01mimport\u001b[39;00m \u001b[38;5;21;01mio\u001b[39;00m\n\u001b[1;32m----> 9\u001b[0m \u001b[38;5;28;01mimport\u001b[39;00m \u001b[38;5;21;01mcairocffi\u001b[39;00m \u001b[38;5;28;01mas\u001b[39;00m \u001b[38;5;21;01mcairo\u001b[39;00m\n\u001b[0;32m     11\u001b[0m \u001b[38;5;28;01mfrom\u001b[39;00m \u001b[38;5;21;01m.\u001b[39;00m\u001b[38;5;21;01mcolors\u001b[39;00m \u001b[38;5;28;01mimport\u001b[39;00m color, negate_color\n\u001b[0;32m     12\u001b[0m \u001b[38;5;28;01mfrom\u001b[39;00m \u001b[38;5;21;01m.\u001b[39;00m\u001b[38;5;21;01mdefs\u001b[39;00m \u001b[38;5;28;01mimport\u001b[39;00m (\n\u001b[0;32m     13\u001b[0m     apply_filter_after_painting, apply_filter_before_painting, clip_path,\n\u001b[0;32m     14\u001b[0m     filter_, gradient_or_pattern, linear_gradient, marker, mask, paint_mask,\n\u001b[0;32m     15\u001b[0m     parse_all_defs, pattern, prepare_filter, radial_gradient, use)\n",
      "File \u001b[1;32md:\\DestinyFolder\\env\\Lib\\site-packages\\cairocffi\\__init__.py:60\u001b[0m\n\u001b[0;32m     55\u001b[0m     error_message \u001b[38;5;241m=\u001b[39m \u001b[38;5;124m'\u001b[39m\u001b[38;5;130;01m\\n\u001b[39;00m\u001b[38;5;124m'\u001b[39m\u001b[38;5;241m.\u001b[39mjoin(  \u001b[38;5;66;03m# pragma: no cover\u001b[39;00m\n\u001b[0;32m     56\u001b[0m         \u001b[38;5;28mstr\u001b[39m(exception) \u001b[38;5;28;01mfor\u001b[39;00m exception \u001b[38;5;129;01min\u001b[39;00m exceptions)\n\u001b[0;32m     57\u001b[0m     \u001b[38;5;28;01mraise\u001b[39;00m \u001b[38;5;167;01mOSError\u001b[39;00m(error_message)  \u001b[38;5;66;03m# pragma: no cover\u001b[39;00m\n\u001b[1;32m---> 60\u001b[0m cairo \u001b[38;5;241m=\u001b[39m \u001b[43mdlopen\u001b[49m\u001b[43m(\u001b[49m\n\u001b[0;32m     61\u001b[0m \u001b[43m    \u001b[49m\u001b[43mffi\u001b[49m\u001b[43m,\u001b[49m\u001b[43m \u001b[49m\u001b[43m(\u001b[49m\u001b[38;5;124;43m'\u001b[39;49m\u001b[38;5;124;43mcairo-2\u001b[39;49m\u001b[38;5;124;43m'\u001b[39;49m\u001b[43m,\u001b[49m\u001b[43m \u001b[49m\u001b[38;5;124;43m'\u001b[39;49m\u001b[38;5;124;43mcairo\u001b[39;49m\u001b[38;5;124;43m'\u001b[39;49m\u001b[43m,\u001b[49m\u001b[43m \u001b[49m\u001b[38;5;124;43m'\u001b[39;49m\u001b[38;5;124;43mlibcairo-2\u001b[39;49m\u001b[38;5;124;43m'\u001b[39;49m\u001b[43m)\u001b[49m\u001b[43m,\u001b[49m\n\u001b[0;32m     62\u001b[0m \u001b[43m    \u001b[49m\u001b[43m(\u001b[49m\u001b[38;5;124;43m'\u001b[39;49m\u001b[38;5;124;43mlibcairo.so.2\u001b[39;49m\u001b[38;5;124;43m'\u001b[39;49m\u001b[43m,\u001b[49m\u001b[43m \u001b[49m\u001b[38;5;124;43m'\u001b[39;49m\u001b[38;5;124;43mlibcairo.2.dylib\u001b[39;49m\u001b[38;5;124;43m'\u001b[39;49m\u001b[43m,\u001b[49m\u001b[43m \u001b[49m\u001b[38;5;124;43m'\u001b[39;49m\u001b[38;5;124;43mlibcairo-2.dll\u001b[39;49m\u001b[38;5;124;43m'\u001b[39;49m\u001b[43m)\u001b[49m\u001b[43m)\u001b[49m\n\u001b[0;32m     65\u001b[0m \u001b[38;5;28;01mclass\u001b[39;00m \u001b[38;5;21;01m_keepref\u001b[39;00m(\u001b[38;5;28mobject\u001b[39m):  \u001b[38;5;66;03m# noqa: N801\u001b[39;00m\n\u001b[0;32m     66\u001b[0m \u001b[38;5;250m    \u001b[39m\u001b[38;5;124;03m\"\"\"Function wrapper that keeps a reference to another object.\"\"\"\u001b[39;00m\n",
      "File \u001b[1;32md:\\DestinyFolder\\env\\Lib\\site-packages\\cairocffi\\__init__.py:57\u001b[0m, in \u001b[0;36mdlopen\u001b[1;34m(ffi, library_names, filenames)\u001b[0m\n\u001b[0;32m     53\u001b[0m         exceptions\u001b[38;5;241m.\u001b[39mappend(exception)\n\u001b[0;32m     55\u001b[0m error_message \u001b[38;5;241m=\u001b[39m \u001b[38;5;124m'\u001b[39m\u001b[38;5;130;01m\\n\u001b[39;00m\u001b[38;5;124m'\u001b[39m\u001b[38;5;241m.\u001b[39mjoin(  \u001b[38;5;66;03m# pragma: no cover\u001b[39;00m\n\u001b[0;32m     56\u001b[0m     \u001b[38;5;28mstr\u001b[39m(exception) \u001b[38;5;28;01mfor\u001b[39;00m exception \u001b[38;5;129;01min\u001b[39;00m exceptions)\n\u001b[1;32m---> 57\u001b[0m \u001b[38;5;28;01mraise\u001b[39;00m \u001b[38;5;167;01mOSError\u001b[39;00m(error_message)\n",
      "\u001b[1;31mOSError\u001b[0m: no library called \"cairo-2\" was found\nno library called \"cairo\" was found\nno library called \"libcairo-2\" was found\ncannot load library 'libcairo.so.2': error 0x7e.  Additionally, ctypes.util.find_library() did not manage to locate a library called 'libcairo.so.2'\ncannot load library 'libcairo.2.dylib': error 0x7e.  Additionally, ctypes.util.find_library() did not manage to locate a library called 'libcairo.2.dylib'\ncannot load library 'libcairo-2.dll': error 0x7e.  Additionally, ctypes.util.find_library() did not manage to locate a library called 'libcairo-2.dll'"
     ]
    }
   ],
   "source": [
    "import cairosvg"
   ]
  },
  {
   "cell_type": "code",
   "execution_count": 22,
   "metadata": {},
   "outputs": [],
   "source": [
    "import asyncio\n",
    "import aiohttp\n",
    "from selenium import webdriver\n",
    "from selenium.webdriver.common.by import By\n",
    "from selenium.webdriver.support.ui import WebDriverWait\n",
    "from selenium.webdriver.support import expected_conditions as EC\n",
    "from selenium.webdriver.chrome.service import Service\n",
    "from webdriver_manager.chrome import ChromeDriverManager\n",
    "from PIL import Image\n",
    "import io\n",
    "import os\n",
    "\n",
    "async def convert_svg_to_png(svg_path, png_path, width=800, height=600):\n",
    "    if not os.path.exists(svg_path):\n",
    "        raise FileNotFoundError(f\"SVG file not found: {svg_path}\")\n",
    "\n",
    "    abs_svg_path = os.path.abspath(svg_path)\n",
    "    svg_url = f\"file://{abs_svg_path}\"\n",
    "\n",
    "    options = webdriver.ChromeOptions()\n",
    "    options.add_argument('--headless')\n",
    "    options.add_argument('--no-sandbox')\n",
    "    options.add_argument('--disable-dev-shm-usage')\n",
    "    options.add_argument(f'--window-size={width},{height}')\n",
    "\n",
    "    service = Service(ChromeDriverManager().install())\n",
    "    driver = webdriver.Chrome(service=service, options=options)\n",
    "\n",
    "    try:\n",
    "        driver.get(svg_url)\n",
    "\n",
    "        # Use asyncio.to_thread for potentially blocking Selenium operations\n",
    "        await asyncio.to_thread(WebDriverWait(driver, 10).until,\n",
    "            EC.presence_of_element_located((By.TAG_NAME, \"svg\"))\n",
    "        )\n",
    "\n",
    "        svg = await asyncio.to_thread(driver.find_element, By.TAG_NAME, \"svg\")\n",
    "        svg_width = await asyncio.to_thread(svg.get_attribute, \"width\")\n",
    "        svg_height = await asyncio.to_thread(svg.get_attribute, \"height\")\n",
    "\n",
    "        if not svg_width or not svg_height:\n",
    "            svg_width = await asyncio.to_thread(driver.execute_script, \"return document.documentElement.clientWidth;\")\n",
    "            svg_height = await asyncio.to_thread(driver.execute_script, \"return document.documentElement.clientHeight;\")\n",
    "\n",
    "        await asyncio.to_thread(driver.set_window_size, int(svg_width), int(svg_height))\n",
    "\n",
    "        png = await asyncio.to_thread(driver.get_screenshot_as_png)\n",
    "\n",
    "        img = Image.open(io.BytesIO(png))\n",
    "        \n",
    "        img.save(png_path, \"PNG\")\n",
    "\n",
    "        print(f\"PNG saved to {png_path}\")\n",
    "\n",
    "    finally:\n",
    "        await asyncio.to_thread(driver.quit)"
   ]
  },
  {
   "cell_type": "code",
   "execution_count": 23,
   "metadata": {},
   "outputs": [
    {
     "name": "stdout",
     "output_type": "stream",
     "text": [
      "PNG saved to D:\\DestinyFolder\\DestinyRecaps\\DestinyRecapsApi\\serverproject\\Notebooks\\Prod_Controllers\\image.png\n"
     ]
    }
   ],
   "source": [
    "await convert_svg_to_png(r\"D:\\DestinyFolder\\DestinyRecaps\\DestinyRecapsApi\\serverproject\\Notebooks\\Prod_Controllers\\image.svg\", r\"D:\\DestinyFolder\\DestinyRecaps\\DestinyRecapsApi\\serverproject\\Notebooks\\Prod_Controllers\\image.png\")"
   ]
  }
 ],
 "metadata": {
  "kernelspec": {
   "display_name": "env",
   "language": "python",
   "name": "python3"
  },
  "language_info": {
   "codemirror_mode": {
    "name": "ipython",
    "version": 3
   },
   "file_extension": ".py",
   "mimetype": "text/x-python",
   "name": "python",
   "nbconvert_exporter": "python",
   "pygments_lexer": "ipython3",
   "version": "3.11.3"
  }
 },
 "nbformat": 4,
 "nbformat_minor": 2
}
