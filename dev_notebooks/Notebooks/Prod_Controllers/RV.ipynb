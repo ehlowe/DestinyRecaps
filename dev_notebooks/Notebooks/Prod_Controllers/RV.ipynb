{
 "cells": [
  {
   "cell_type": "code",
   "execution_count": null,
   "metadata": {},
   "outputs": [],
   "source": [
    "# DIRECTORY SET\n",
    "import os\n",
    "import sys\n",
    "import traceback\n",
    "from pathlib import Path\n",
    "base_dir=Path(os.getcwd()).parent.parent\n",
    "os.chdir(base_dir)\n",
    "print(os.getcwd())\n",
    "\n",
    "# ENVIRONMENT VARIABLES\n",
    "import dotenv\n",
    "dotenv.load_dotenv()\n",
    "\n",
    "# DJANGO SETUP\n",
    "import django\n",
    "sys.path.append(os.path.abspath(''))\n",
    "os.environ.setdefault(\"DJANGO_SETTINGS_MODULE\", \"serverproject.settings\")\n",
    "django.setup()\n",
    "\n",
    "# Import async modules\n",
    "import asyncio\n",
    "from asgiref.sync import sync_to_async\n",
    "\n",
    "# Import display modules\n",
    "from IPython.display import display, Markdown\n",
    "\n",
    "# Import other modules\n",
    "import faiss\n",
    "\n",
    "# import reloading\n",
    "from importlib import reload\n",
    "\n",
    "# Enable autoreload\n",
    "%load_ext autoreload\n",
    "%autoreload 2\n",
    "\n",
    "# Import custom modules\n",
    "from destinyapp.models import StreamRecapData\n",
    "\n",
    "from core import services\n",
    "from core import utils\n",
    "from core import controller"
   ]
  },
  {
   "cell_type": "code",
   "execution_count": null,
   "metadata": {},
   "outputs": [],
   "source": [
    "# Input parameter\n",
    "video_id=\"OqVH_MTBQ6k\""
   ]
  },
  {
   "cell_type": "markdown",
   "metadata": {},
   "source": [
    "# Discord Message Testing"
   ]
  },
  {
   "cell_type": "code",
   "execution_count": null,
   "metadata": {},
   "outputs": [],
   "source": [
    "discord_recaps_to_send=await services.discord.DiscordMessageHandler.compile_discord_messages([video_id])"
   ]
  },
  {
   "cell_type": "code",
   "execution_count": null,
   "metadata": {},
   "outputs": [],
   "source": [
    "await services.discord.DiscordMessageHandler.send_discord_recaps(discord_recaps_to_send)"
   ]
  },
  {
   "cell_type": "code",
   "execution_count": null,
   "metadata": {},
   "outputs": [],
   "source": [
    "async def generate_plot(video_id):\n",
    "    stream_recap_data=await utils.get_recap_data(video_id)\n",
    "\n",
    "    text_chunks_no_overlap = await create_text_chunks(stream_recap_data.transcript, 0)\n",
    "\n",
    "    chunk_batches = await generate_text_chunk_batches(text_chunks_no_overlap)\n",
    "\n",
    "    topic_annotations_str = await annotate_major_minor_topics(stream_recap_data.recap)\n",
    "\n",
    "    major_topics, minor_topics = process_topic_annotations_str(topic_annotations_str)\n",
    "\n",
    "    responses, annotated_results=await annotate_all_batches(chunk_batches, topic_annotations_str)\n",
    "    \n",
    "    segments, category_locations, color_dict = await create_segments(stream_recap_data.linked_transcript, annotated_results, major_topics, stream_recap_data.transcript)\n",
    "\n",
    "    clickable_areas=await create_and_save_plot(video_id, segments, category_locations, color_dict)\n",
    "\n",
    "    clickable_areas, base64_plot_image = clickable_and_plot_image_finalization(video_id, clickable_areas)\n",
    "\n",
    "    return base64_plot_image, clickable_areas, annotated_results"
   ]
  },
  {
   "cell_type": "markdown",
   "metadata": {},
   "source": [
    "# Plot data generation"
   ]
  },
  {
   "cell_type": "markdown",
   "metadata": {},
   "source": [
    "### Get data"
   ]
  },
  {
   "cell_type": "code",
   "execution_count": null,
   "metadata": {},
   "outputs": [],
   "source": [
    "stream_recap_data=await utils.get_recap_data(video_id)"
   ]
  },
  {
   "cell_type": "markdown",
   "metadata": {},
   "source": [
    "### Make raw data chunks to process"
   ]
  },
  {
   "cell_type": "code",
   "execution_count": null,
   "metadata": {},
   "outputs": [],
   "source": [
    "text_chunks_no_overlap = await services.RV.create_text_chunks(stream_recap_data.transcript, 0)"
   ]
  },
  {
   "cell_type": "markdown",
   "metadata": {},
   "source": [
    "### Batch chunks together so the llm can process them in chunks"
   ]
  },
  {
   "cell_type": "code",
   "execution_count": null,
   "metadata": {},
   "outputs": [],
   "source": [
    "chunk_batches = await services.RV.generate_text_chunk_batches(text_chunks_no_overlap)"
   ]
  },
  {
   "cell_type": "markdown",
   "metadata": {},
   "source": [
    "### Get the topic annotations for the recap"
   ]
  },
  {
   "cell_type": "code",
   "execution_count": null,
   "metadata": {},
   "outputs": [],
   "source": [
    "topic_annotations_str = await services.RV.annotate_major_minor_topics(stream_recap_data.recap)\n",
    "major_topics, minor_topics = services.RV.process_topic_annotations_str(topic_annotations_str)"
   ]
  },
  {
   "cell_type": "markdown",
   "metadata": {},
   "source": [
    "#### Annotate the batches according to the topic annotations gathered"
   ]
  },
  {
   "cell_type": "code",
   "execution_count": null,
   "metadata": {},
   "outputs": [],
   "source": [
    "responses, annotated_results=await services.RV.annotate_all_batches(chunk_batches, topic_annotations_str)"
   ]
  },
  {
   "cell_type": "code",
   "execution_count": null,
   "metadata": {},
   "outputs": [],
   "source": [
    "# save annotated results to json\n",
    "import json\n",
    "data_to_save={\"annotated_results\":annotated_results, \"major_topics\":major_topics, \"minor_topics\":minor_topics}\n",
    "with open(f\"testing_visualization_data_gen.json\", \"w\") as f:\n",
    "    json.dump(data_to_save, f)"
   ]
  },
  {
   "cell_type": "markdown",
   "metadata": {},
   "source": [
    "# Process generated data"
   ]
  },
  {
   "cell_type": "markdown",
   "metadata": {},
   "source": [
    "### Put the annotated results into a data structure that will eventually be saved"
   ]
  },
  {
   "cell_type": "code",
   "execution_count": null,
   "metadata": {},
   "outputs": [],
   "source": [
    "# load data from testing_visualization_annotation_results.json\n",
    "import json\n",
    "with open(f\"testing_visualization_data_gen.json\", \"r\") as f:\n",
    "    data_gen=json.load(f)\n",
    "\n",
    "annotated_results=data_gen[\"annotated_results\"]\n",
    "major_topics=data_gen[\"major_topics\"]\n",
    "minor_topics=data_gen[\"minor_topics\"]\n",
    "\n",
    "stream_recap_data=await utils.get_recap_data(video_id)"
   ]
  },
  {
   "cell_type": "code",
   "execution_count": null,
   "metadata": {},
   "outputs": [],
   "source": [
    "plot_segments, category_locations, color_dict = await services.RV.create_segments(stream_recap_data.linked_transcript, annotated_results, major_topics, stream_recap_data.transcript)"
   ]
  },
  {
   "cell_type": "markdown",
   "metadata": {},
   "source": [
    "# PLOT"
   ]
  },
  {
   "cell_type": "markdown",
   "metadata": {},
   "source": [
    "### Initialize Plot\n",
    "\n",
    "dictionary of PlotCategoryObject s\n",
    "PlotCategoryObject:\n",
    "    segments\n",
    "    abstractions"
   ]
  },
  {
   "cell_type": "code",
   "execution_count": null,
   "metadata": {},
   "outputs": [],
   "source": [
    "plot_obj=services.RV.PlotObject()"
   ]
  },
  {
   "cell_type": "code",
   "execution_count": null,
   "metadata": {},
   "outputs": [],
   "source": [
    "plot_obj.segments[0]"
   ]
  },
  {
   "cell_type": "code",
   "execution_count": null,
   "metadata": {},
   "outputs": [],
   "source": [
    "test_obj.Segment(\"test\",1,2,3)"
   ]
  },
  {
   "cell_type": "code",
   "execution_count": null,
   "metadata": {},
   "outputs": [],
   "source": [
    "test_obj.segments.append(test_obj.Segment(\"test\",1,2,3))"
   ]
  },
  {
   "cell_type": "code",
   "execution_count": null,
   "metadata": {},
   "outputs": [],
   "source": [
    "test_obj.segments[0]."
   ]
  },
  {
   "cell_type": "code",
   "execution_count": null,
   "metadata": {},
   "outputs": [],
   "source": [
    "# Create the plot with a specific gray background\n",
    "background_color=96\n",
    "fig, ax = plt.subplots(figsize=(12, 10))\n",
    "hex_background_color = '#%02x%02x%02x' % (int(background_color), int(background_color), int(background_color))\n",
    "fig.patch.set_facecolor(hex_background_color)  # Set figure background to [96, 96, 96]\n",
    "ax.set_facecolor(hex_background_color)  # Set axes background to [96, 96, 96]\n",
    "target_plot_width=10"
   ]
  },
  {
   "cell_type": "code",
   "execution_count": null,
   "metadata": {},
   "outputs": [],
   "source": [
    "for i, segment in enumerate(segments):\n",
    "    ax.add_patch(plt.Rectangle((current_x, 0), segment['width'], bar_height, \n",
    "                            facecolor=segment['color'], edgecolor='white'))\n",
    "    category_info[segment['category']]['total_width'] += segment['width']\n",
    "    category_info[segment['category']]['segments'].append((current_x, segment['width']))\n",
    "    category_info[segment['category']]['color'] = segment['color']\n",
    "    \n",
    "    # Add clickable areas\n",
    "    # this but a float and not a string f\"{int((current_x+clickable_area_x_offset)*10)},{int((10-bar_height-clickable_area_y_offset)*10)},{int((current_x+segment['width']-clickable_area_x_offset)*10)},{int(10*(10-clickable_area_y_offset))}\"}\n",
    "\n",
    "    coord_list=[(current_x)*10, (10-(bar_height*clickable_y_height_multiplier)-clickable_area_y_offset)*10, (current_x+segment['width'])*10, 10*(10-clickable_area_y_offset)]\n",
    "\n",
    "    # clickable_area={\"alt\":href, \"title\":href, \"href\":href, \"coords\": f\"{int((current_x+clickable_area_x_offset)*10)},{int((10-bar_height-clickable_area_y_offset)*10)},{int((current_x+segment['width']-clickable_area_x_offset)*10)},{int(10*(10-clickable_area_y_offset))}\"}\n",
    "    href=href_base+str(int(segment[\"start\"]))\n",
    "\n",
    "    clickable_area={\"alt\":href, \"title\":href, \"href\":href, \"coords\": coord_list}\n",
    "\n",
    "    clickable_areas.append(clickable_area)\n",
    "\n",
    "    current_x += segment['width']\n",
    "\n",
    "total_width = current_x"
   ]
  },
  {
   "cell_type": "code",
   "execution_count": null,
   "metadata": {},
   "outputs": [],
   "source": [
    "async def create_and_save_plot(video_id, segments, category_locations, color_dict):\n",
    "    # Create the plot with a specific gray background\n",
    "    fig, ax = plt.subplots(figsize=(12, 10))\n",
    "\n",
    "    # convert [background_color, background_color, background_color] to hex value\n",
    "    hex_background_color = '#%02x%02x%02x' % (int(background_color), int(background_color), int(background_color))\n",
    "\n",
    "    fig.patch.set_facecolor(hex_background_color)  # Set figure background to [96, 96, 96]\n",
    "    ax.set_facecolor(hex_background_color)  # Set axes background to [96, 96, 96]\n",
    "    target_plot_width=10\n",
    "\n",
    "\n",
    "    # Plot BAR \n",
    "    current_x = 0\n",
    "    category_info = defaultdict(lambda: {\"total_width\": 0, \"segments\": []})\n",
    "\n",
    "    bar_height = 1.5\n",
    "    bar_height = 1.0\n",
    "\n",
    "    clickable_area_x_offset=0.085\n",
    "    clickable_area_y_offset=0.1\n",
    "    clickable_y_height_multiplier=1.22\n",
    "    clickable_areas=[]\n",
    "    href_base=\"https://youtu.be/\"+video_id+\"?t=\"\n",
    "\n",
    "\n",
    "    for i, segment in enumerate(segments):\n",
    "        ax.add_patch(plt.Rectangle((current_x, 0), segment['width'], bar_height, \n",
    "                                facecolor=segment['color'], edgecolor='white'))\n",
    "        category_info[segment['category']]['total_width'] += segment['width']\n",
    "        category_info[segment['category']]['segments'].append((current_x, segment['width']))\n",
    "        category_info[segment['category']]['color'] = segment['color']\n",
    "        \n",
    "        # Add clickable areas\n",
    "        # this but a float and not a string f\"{int((current_x+clickable_area_x_offset)*10)},{int((10-bar_height-clickable_area_y_offset)*10)},{int((current_x+segment['width']-clickable_area_x_offset)*10)},{int(10*(10-clickable_area_y_offset))}\"}\n",
    "\n",
    "        coord_list=[(current_x)*10, (10-(bar_height*clickable_y_height_multiplier)-clickable_area_y_offset)*10, (current_x+segment['width'])*10, 10*(10-clickable_area_y_offset)]\n",
    "\n",
    "        # clickable_area={\"alt\":href, \"title\":href, \"href\":href, \"coords\": f\"{int((current_x+clickable_area_x_offset)*10)},{int((10-bar_height-clickable_area_y_offset)*10)},{int((current_x+segment['width']-clickable_area_x_offset)*10)},{int(10*(10-clickable_area_y_offset))}\"}\n",
    "        href=href_base+str(int(segment[\"start\"]))\n",
    "\n",
    "        clickable_area={\"alt\":href, \"title\":href, \"href\":href, \"coords\": coord_list}\n",
    "\n",
    "        clickable_areas.append(clickable_area)\n",
    "\n",
    "        current_x += segment['width']\n",
    "\n",
    "    total_width = current_x\n",
    "    print(\"Total width:\", total_width)\n",
    "\n",
    "\n",
    "\n",
    "\n",
    "\n",
    "\n",
    "\n",
    "    # sort category items by the same order as the category_locations\n",
    "    category_info=dict(sorted(category_info.items(), key=lambda item: category_locations[item[0]]))\n",
    "\n",
    "\n",
    "    # Calculate Circle Padding\n",
    "    circle_zone_size=9\n",
    "    circle_y = 3.5\n",
    "    circle_y = 2.78\n",
    "    circle_size_variable = 0.15\n",
    "    circle_size_variable = 0.13\n",
    "    circle_base_size_variable=0.3\n",
    "    circle_base_size_variable=0.41\n",
    "\n",
    "    current_x=(target_plot_width-circle_zone_size)/2\n",
    "    circle_x_locations={}\n",
    "    total_circles_width=0\n",
    "    def get_circle_width(total_width):\n",
    "        return (((np.sqrt(total_width) * circle_size_variable)*2)+circle_base_size_variable)\n",
    "\n",
    "    for category, info in category_info.items():\n",
    "        if category == 'non categorized':\n",
    "            pass\n",
    "        else:\n",
    "            circle_width=get_circle_width(info['total_width'])\n",
    "            circle_x_locations[category]=circle_width\n",
    "            total_circles_width+=circle_width\n",
    "    number_of_circles=len(circle_x_locations)\n",
    "    between_circle_padding=(circle_zone_size-total_circles_width)/(number_of_circles+1.15)\n",
    "\n",
    "\n",
    "\n",
    "    alterating_bool=False\n",
    "    vertical_offset_value=0.5\n",
    "    vertical_offset_value=0.65\n",
    "    circle_centers = []\n",
    "    for category, info in category_info.items():\n",
    "        if category == 'non categorized':\n",
    "            continue\n",
    "\n",
    "        circle_applied_size=get_circle_width(info['total_width'])\n",
    "\n",
    "        # Calculate x position for the circle (center of all segments of this category)\n",
    "        circle_x = current_x + circle_applied_size\n",
    "        if alterating_bool:\n",
    "            alterating_bool=False\n",
    "            vertical_offset=-vertical_offset_value\n",
    "        else:\n",
    "            vertical_offset=vertical_offset_value\n",
    "            alterating_bool=True\n",
    "\n",
    "        # Store circle center, color, and size for later use\n",
    "        circle_size = np.sqrt(info['total_width']) * circle_size_variable\n",
    "        circle_applied_y=circle_y+vertical_offset\n",
    "        circle_centers.append((circle_x, circle_applied_y, info['color'], circle_size))\n",
    "        \n",
    "        # DRAW LINES\n",
    "        for segment_start, segment_width in info['segments']:\n",
    "            segment_center = segment_start + segment_width / 2\n",
    "            ax.plot([segment_center, circle_x], [bar_height, circle_applied_y], \n",
    "                    color=info['color'], linewidth=1)  \n",
    "            \n",
    "        # PLOT CIRCLES\n",
    "        circle = plt.Circle((circle_x, circle_applied_y), circle_applied_size, \n",
    "                            facecolor=info[\"color\"], edgecolor='white', zorder=10)\n",
    "        ax.add_artist(circle)\n",
    "\n",
    "        # PLOT CIRCLE LABELS, set width to circle size and wrap\n",
    "        text_wrap=textwrap.fill(category, width=12)\n",
    "        bubble_font_size_text=14\n",
    "        if info[\"color\"]==\"yellow\":\n",
    "            # make it bold and have a white border\n",
    "            ax.text(circle_x, circle_applied_y, text_wrap, ha='center', va='center', color='black', fontsize=bubble_font_size_text, zorder=11, fontweight='bold')#, bbox=dict(facecolor='yellow', edgecolor='black', boxstyle='round,pad=0.2'))\n",
    "        else:\n",
    "            ax.text(circle_x, circle_applied_y, text_wrap, ha='center', va='center', color='white', fontsize=bubble_font_size_text, zorder=11, fontweight='bold')\n",
    "\n",
    "        # current_x += (info['total_width']*circle_mutlipler)+0.1\n",
    "        current_x +=between_circle_padding+circle_applied_size\n",
    "        print(\"Circle current x:\", current_x)\n",
    "\n",
    "\n",
    "\n",
    "    # Add central white circle\n",
    "    central_y = 6\n",
    "    central_y = 5\n",
    "    central_circle = plt.Circle((total_width/2, central_y), 0.25, \n",
    "                                facecolor='white', edgecolor='black', zorder=12)\n",
    "    ax.add_artist(central_circle)\n",
    "\n",
    "    # Connect category circles to central circle with colored lines\n",
    "    for circle_x, circle_y, color, circle_size in circle_centers:\n",
    "        ax.plot([circle_x, total_width/2], [circle_y, central_y], \n",
    "                color=color, linewidth=3, linestyle='-', alpha=0.7, zorder=9)  # Increased linewidth\n",
    "\n",
    "    # Add white line extending upward from central circle\n",
    "    top_y = 100  # Adjust this value to change the length of the line\n",
    "    ax.plot([total_width/2, total_width/2], [central_y, top_y], \n",
    "            color='white', linewidth=3, solid_capstyle='round')  # Added white line\n",
    "\n",
    "    # Customize the plot\n",
    "    ax.set_xlim(0, total_width)\n",
    "    ax.set_ylim(0, 8)\n",
    "    ax.set_aspect('equal', adjustable='box')\n",
    "    ax.axis('off')\n",
    "\n",
    "    # # Add a Legend\n",
    "    # legend_handles = [plt.Rectangle((0, 0), 1, 1, color=color) for color in color_dict.values()]\n",
    "    # legend_labels = list(color_dict.keys())\n",
    "    # ax.legend(legend_handles, legend_labels, loc='upper left', frameon=False)\n",
    "    # # increase legend font size\n",
    "    # plt.setp(ax.get_legend().get_texts(), fontsize='21')\n",
    "    # plt.tight_layout()\n",
    "\n",
    "    # save plot\n",
    "    global images_folder\n",
    "    if not os.path.isdir(images_folder):\n",
    "        os.makedirs(images_folder)\n",
    "    plt.savefig(images_folder+video_id+'_plot.png', dpi=300, bbox_inches='tight')\n",
    "\n",
    "    return clickable_areas"
   ]
  }
 ],
 "metadata": {
  "kernelspec": {
   "display_name": "env",
   "language": "python",
   "name": "python3"
  },
  "language_info": {
   "codemirror_mode": {
    "name": "ipython",
    "version": 3
   },
   "file_extension": ".py",
   "mimetype": "text/x-python",
   "name": "python",
   "nbconvert_exporter": "python",
   "pygments_lexer": "ipython3",
   "version": "3.11.3"
  }
 },
 "nbformat": 4,
 "nbformat_minor": 2
}
