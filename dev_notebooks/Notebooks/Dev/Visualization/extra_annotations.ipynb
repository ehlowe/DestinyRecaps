{
 "cells": [
  {
   "cell_type": "code",
   "execution_count": 1,
   "metadata": {},
   "outputs": [
    {
     "name": "stdout",
     "output_type": "stream",
     "text": [
      "d:\\DestinyFolder\\DestinyRecaps\\DestinyRecapsApi\\serverproject\n"
     ]
    }
   ],
   "source": [
    "# DIRECTORY SET\n",
    "import os\n",
    "import sys\n",
    "import traceback\n",
    "from pathlib import Path\n",
    "base_dir=Path(os.getcwd()).parent.parent.parent\n",
    "os.chdir(base_dir)\n",
    "print(os.getcwd())\n",
    "\n",
    "# ENVIRONMENT VARIABLES\n",
    "import dotenv\n",
    "dotenv.load_dotenv()\n",
    "\n",
    "# DJANGO SETUP\n",
    "import django\n",
    "sys.path.append(os.path.abspath(''))\n",
    "os.environ.setdefault(\"DJANGO_SETTINGS_MODULE\", \"serverproject.settings\")\n",
    "django.setup()\n",
    "\n",
    "# Import async modules\n",
    "import asyncio\n",
    "from asgiref.sync import sync_to_async\n",
    "\n",
    "# Import display modules\n",
    "from IPython.display import display, Markdown\n",
    "\n",
    "# Import other modules\n",
    "import faiss\n",
    "\n",
    "# import reloading\n",
    "from importlib import reload\n",
    "\n",
    "# Enable autoreload\n",
    "%load_ext autoreload\n",
    "%autoreload 2\n",
    "\n",
    "# Import custom modules\n",
    "from destinyapp.models import StreamRecapData\n",
    "\n",
    "from core import services\n",
    "from core import utils\n",
    "from core import controller"
   ]
  },
  {
   "cell_type": "code",
   "execution_count": 2,
   "metadata": {},
   "outputs": [],
   "source": [
    "video_id=\"OqVH_MTBQ6k\""
   ]
  },
  {
   "cell_type": "code",
   "execution_count": 6,
   "metadata": {},
   "outputs": [
    {
     "name": "stdout",
     "output_type": "stream",
     "text": [
      "{'text': 'looks', 'start': 186935, 'end': 187351, 'confidence': 0.96389, 'speaker': 'A', 'channel': None}\n",
      "48\n",
      "4668\n",
      "Destiny starts\n",
      "Finished diarization cutoff\n"
     ]
    }
   ],
   "source": [
    "stream_recap_data=await utils.get_recap_data(video_id)\n",
    "\n",
    "transcript, linked_transcript=await services.process_raw_transcript(stream_recap_data.raw_transcript_data, video_id)\n",
    "stream_recap_data.transcript=transcript\n",
    "stream_recap_data.linked_transcript=linked_transcript\n",
    "\n",
    "await sync_to_async(stream_recap_data.save)()"
   ]
  },
  {
   "cell_type": "code",
   "execution_count": 7,
   "metadata": {},
   "outputs": [
    {
     "name": "stdout",
     "output_type": "stream",
     "text": [
      "Cost:  0.007353\n",
      "Cost:  0.0023335\n",
      "Cost:  0.0024312500000000003\n",
      "Cost:  0.00247275\n",
      "Cost:  0.00172625\n",
      "Cost:  0.00271075\n",
      "Cost:  0.0027155\n",
      "Cost:  0.00268825\n",
      "Cost:  0.0028465\n",
      "Cost:  0.0026525\n",
      "Cost:  0.00290175\n",
      "Cost:  0.0028795\n",
      "Cost:  0.00257375\n",
      "Cost:  0.002435\n",
      "Cost:  0.00278025\n",
      "Results:  20\n",
      "Results:  20\n",
      "Results:  20\n",
      "Results:  20\n",
      "Results:  20\n",
      "Results:  20\n",
      "Results:  20\n",
      "Results:  20\n",
      "Results:  20\n",
      "Results:  20\n",
      "Results:  20\n",
      "Results:  20\n",
      "Results:  20\n",
      "Results:  13\n"
     ]
    }
   ],
   "source": [
    "stream_recap_data=await utils.get_recap_data(video_id)\n",
    "\n",
    "annotated_results, major_topics, minor_topics, cost = await services.stream_plot.generate_data(stream_recap_data)"
   ]
  },
  {
   "cell_type": "code",
   "execution_count": 8,
   "metadata": {},
   "outputs": [],
   "source": [
    "plot_object, annotated_results, plot_segments, category_locations = await services.stream_plot.process_data(stream_recap_data, annotated_results, major_topics, minor_topics, video_id)"
   ]
  },
  {
   "cell_type": "code",
   "execution_count": 30,
   "metadata": {},
   "outputs": [
    {
     "name": "stdout",
     "output_type": "stream",
     "text": [
      "Counters:  [105, 68]\n"
     ]
    }
   ],
   "source": [
    "plot_object, cost=await services.stream_plot.annotate_extra(video_id, stream_recap_data, plot_object)      "
   ]
  },
  {
   "cell_type": "code",
   "execution_count": null,
   "metadata": {},
   "outputs": [],
   "source": []
  },
  {
   "cell_type": "code",
   "execution_count": 31,
   "metadata": {},
   "outputs": [],
   "source": [
    "from dataclasses import dataclass, asdict, is_dataclass\n",
    "stream_recap_data.plot_object=asdict(plot_object)\n",
    "await sync_to_async(stream_recap_data.save)()"
   ]
  },
  {
   "cell_type": "code",
   "execution_count": 23,
   "metadata": {},
   "outputs": [],
   "source": [
    "context_offset=500\n",
    "\n",
    "tasks=[]\n",
    "for i in range(len(plot_object.segments)):\n",
    "    task_text=None\n",
    "    if plot_object.segments[i].texts!=[]:\n",
    "        start_index=stream_recap_data.transcript.find(plot_object.segments[i].texts[0])\n",
    "        contextualized_start_index=start_index-context_offset\n",
    "        if (contextualized_start_index)<0:\n",
    "            contextualized_start_index=0\n",
    "        task_text=stream_recap_data.transcript[contextualized_start_index:start_index+len(plot_object.segments[i].texts[0])]\n",
    "    tasks.append(services.stream_plot.extra_annotations.annotate_start(stream_recap_data, plot_object.segments[i].category, contextualized_start_index, task_text))\n",
    "# start_counts_and_costs=await asyncio.gather(*tasks)\n"
   ]
  },
  {
   "cell_type": "code",
   "execution_count": 24,
   "metadata": {},
   "outputs": [],
   "source": [
    "test_index=69\n",
    "real_start_character_index, cost, response=await tasks[test_index]"
   ]
  },
  {
   "cell_type": "code",
   "execution_count": 22,
   "metadata": {},
   "outputs": [
    {
     "data": {
      "text/plain": [
       "-1"
      ]
     },
     "execution_count": 22,
     "metadata": {},
     "output_type": "execute_result"
    }
   ],
   "source": [
    "real_start_character_index"
   ]
  },
  {
   "cell_type": "code",
   "execution_count": null,
   "metadata": {},
   "outputs": [],
   "source": [
    "stream_recap_data.transcript[160971:]"
   ]
  },
  {
   "cell_type": "code",
   "execution_count": 25,
   "metadata": {},
   "outputs": [
    {
     "data": {
      "text/plain": [
       "'\"he said he took a bullet for.\"'"
      ]
     },
     "execution_count": 25,
     "metadata": {},
     "output_type": "execute_result"
    }
   ],
   "source": [
    "response"
   ]
  },
  {
   "cell_type": "code",
   "execution_count": 27,
   "metadata": {},
   "outputs": [
    {
     "data": {
      "text/plain": [
       "\"Trump's Actions and Republican Party\""
      ]
     },
     "execution_count": 27,
     "metadata": {},
     "output_type": "execute_result"
    }
   ],
   "source": [
    "plot_object.segments[test_index].category"
   ]
  },
  {
   "cell_type": "code",
   "execution_count": 26,
   "metadata": {},
   "outputs": [
    {
     "data": {
      "text/plain": [
       "\"dude behind him that got fucking killed. It's unhinged. \\n\\nC: But does it matter to you? \\n\\nDestiny: Does this? It does matter to me, yeah. Cause it's weird when people say God protected Donald Trump that day and it's like, bro, what about the dude behind him? \\n\\nB: The GOTy killed were leaving out a critical part of the claim that Donald Trump took a bullet because he actually said this at a rally. I think yesterday I saw a brief clip. He said he took a bullet for. \\n\\nDestiny: Democracy'S a direct quote. Apparently God can only shield one person. Say wor at a time. \\n\\nC: You're in enough trouble. \\n\\nDestiny: I will take a trouble. I don't give a fuck. Okay? I will do care. I'll take it all to him. Bolden the liberals around me to be brave. Okay, you see these Laura loomer tweets? You see these unhinged fucking statementerv are making? Yeah. Tell me, where is all the, where's all the conviction for the people calling those people? Fuck that bullshit. I have. \\n\\nC: When they go low, we go, sto\""
      ]
     },
     "execution_count": 26,
     "metadata": {},
     "output_type": "execute_result"
    }
   ],
   "source": [
    "plot_object.segments[test_index].texts[0]"
   ]
  },
  {
   "cell_type": "code",
   "execution_count": null,
   "metadata": {},
   "outputs": [],
   "source": [
    "task_text=None\n",
    "if plot_object.segments[test_index].texts!=[]:\n",
    "    start_index=stream_recap_data.transcript.find(plot_object.segments[test_index].texts[0])\n",
    "    contextualized_start_index=start_index-context_offset\n",
    "    if (contextualized_start_index)<0:\n",
    "        contextualized_start_index=0\n",
    "    task_text=stream_recap_data.transcript[contextualized_start_index:start_index+len(plot_object.segments[test_index].texts[0])]"
   ]
  },
  {
   "cell_type": "code",
   "execution_count": null,
   "metadata": {},
   "outputs": [],
   "source": [
    "print(task_text)"
   ]
  },
  {
   "cell_type": "code",
   "execution_count": null,
   "metadata": {},
   "outputs": [],
   "source": [
    "# conver the character indexes to start times\n",
    "from bs4 import BeautifulSoup\n",
    "soup = BeautifulSoup(stream_recap_data.linked_transcript, 'html.parser')\n",
    "soup_list=soup.find_all('a')\n",
    "\n",
    "# Setup list for getting the time at each character count\n",
    "transcript_soup_character_counter=[]\n",
    "character_count_total=0\n",
    "temp_time=0\n",
    "for link in soup_list:\n",
    "    link_text = link.get_text()\n",
    "    character_count_total+=len(link_text)\n",
    "\n",
    "    if link.get('href') is not None:\n",
    "        temp_time=int(link['href'].split(\"t=\")[-1].split(\"s\")[0])\n",
    "\n",
    "    transcript_soup_character_counter.append([character_count_total, temp_time])"
   ]
  },
  {
   "cell_type": "code",
   "execution_count": null,
   "metadata": {},
   "outputs": [],
   "source": [
    "def find_nearest_time_at_character_count(transcript_soup_character_counter, character_count):\n",
    "    # middle sort the list to get to the closest character count quickly\n",
    "    l=0\n",
    "    r=len(transcript_soup_character_counter)-1\n",
    "\n",
    "    while l<r:\n",
    "        m=(l+r)//2\n",
    "        if transcript_soup_character_counter[m][0]<character_count:\n",
    "            l=m+1\n",
    "        else:\n",
    "            r=m\n",
    "\n",
    "    if l==0:\n",
    "        return transcript_soup_character_counter[l][1]\n",
    "    else:\n",
    "        if abs(transcript_soup_character_counter[l][0]-character_count)<abs(transcript_soup_character_counter[l-1][0]-character_count):\n",
    "            return transcript_soup_character_counter[l][1]\n",
    "        else:\n",
    "            return transcript_soup_character_counter[l-1][1]"
   ]
  },
  {
   "cell_type": "code",
   "execution_count": null,
   "metadata": {},
   "outputs": [],
   "source": [
    "time=find_nearest_time_at_character_count(transcript_soup_character_counter, real_start_character_index)"
   ]
  },
  {
   "cell_type": "code",
   "execution_count": null,
   "metadata": {},
   "outputs": [],
   "source": [
    "time"
   ]
  },
  {
   "cell_type": "code",
   "execution_count": null,
   "metadata": {},
   "outputs": [],
   "source": [
    "print(stream_recap_data.transcript)#[160971:])"
   ]
  }
 ],
 "metadata": {
  "kernelspec": {
   "display_name": "env",
   "language": "python",
   "name": "python3"
  },
  "language_info": {
   "codemirror_mode": {
    "name": "ipython",
    "version": 3
   },
   "file_extension": ".py",
   "mimetype": "text/x-python",
   "name": "python",
   "nbconvert_exporter": "python",
   "pygments_lexer": "ipython3",
   "version": "3.11.3"
  }
 },
 "nbformat": 4,
 "nbformat_minor": 2
}
